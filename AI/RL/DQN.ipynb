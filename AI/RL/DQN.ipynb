{
  "nbformat": 4,
  "nbformat_minor": 0,
  "metadata": {
    "colab": {
      "name": "DQN.ipynb",
      "provenance": [],
      "collapsed_sections": [],
      "toc_visible": true,
      "authorship_tag": "ABX9TyNIfhcwcGkMUIJWBk/TyKos",
      "include_colab_link": true
    },
    "kernelspec": {
      "name": "python3",
      "display_name": "Python 3"
    },
    "language_info": {
      "name": "python"
    },
    "accelerator": "GPU",
    "gpuClass": "standard"
  },
  "cells": [
    {
      "cell_type": "markdown",
      "metadata": {
        "id": "view-in-github",
        "colab_type": "text"
      },
      "source": [
        "<a href=\"https://colab.research.google.com/github/hsh6449/TIL/blob/main/AI/RL/DQN.ipynb\" target=\"_parent\"><img src=\"https://colab.research.google.com/assets/colab-badge.svg\" alt=\"Open In Colab\"/></a>"
      ]
    },
    {
      "cell_type": "markdown",
      "source": [
        "# DQN Reproduce\n",
        "\n",
        "## 0. load library"
      ],
      "metadata": {
        "id": "N_nFj6S-Q-sL"
      }
    },
    {
      "cell_type": "markdown",
      "source": [
        "reference\n",
        "- https://colab.research.google.com/drive/18LdlDDT87eb8cCTHZsXyS9ksQPzL3i6H#scrollTo=bYDe8axLdI1E (RL Environment setting 1)\n",
        "- https://tutorials.pytorch.kr/intermediate/reinforcement_q_learning.html (Main code)\n",
        "-https://engineering-ladder.tistory.com/61 (RL Environment setting 2)"
      ],
      "metadata": {
        "id": "tV9Tmwytxt6Y"
      }
    },
    {
      "cell_type": "code",
      "source": [
        "!pip install gym\n",
        "!apt-get install python-opengl -y\n",
        "!apt install xvfb -y\n",
        "!pip install piglet"
      ],
      "metadata": {
        "colab": {
          "base_uri": "https://localhost:8080/"
        },
        "id": "9Vi-ZT5rpf6v",
        "outputId": "c29debe3-c33b-4002-d500-dedda7ffea0d"
      },
      "execution_count": 1,
      "outputs": [
        {
          "output_type": "stream",
          "name": "stdout",
          "text": [
            "Looking in indexes: https://pypi.org/simple, https://us-python.pkg.dev/colab-wheels/public/simple/\n",
            "Requirement already satisfied: gym in /usr/local/lib/python3.7/dist-packages (0.17.3)\n",
            "Requirement already satisfied: pyglet<=1.5.0,>=1.4.0 in /usr/local/lib/python3.7/dist-packages (from gym) (1.5.0)\n",
            "Requirement already satisfied: cloudpickle<1.7.0,>=1.2.0 in /usr/local/lib/python3.7/dist-packages (from gym) (1.3.0)\n",
            "Requirement already satisfied: numpy>=1.10.4 in /usr/local/lib/python3.7/dist-packages (from gym) (1.21.6)\n",
            "Requirement already satisfied: scipy in /usr/local/lib/python3.7/dist-packages (from gym) (1.4.1)\n",
            "Requirement already satisfied: future in /usr/local/lib/python3.7/dist-packages (from pyglet<=1.5.0,>=1.4.0->gym) (0.16.0)\n",
            "Reading package lists... Done\n",
            "Building dependency tree       \n",
            "Reading state information... Done\n",
            "python-opengl is already the newest version (3.1.0+dfsg-1).\n",
            "The following package was automatically installed and is no longer required:\n",
            "  libnvidia-common-460\n",
            "Use 'apt autoremove' to remove it.\n",
            "0 upgraded, 0 newly installed, 0 to remove and 66 not upgraded.\n",
            "Reading package lists... Done\n",
            "Building dependency tree       \n",
            "Reading state information... Done\n",
            "xvfb is already the newest version (2:1.19.6-1ubuntu4.10).\n",
            "The following package was automatically installed and is no longer required:\n",
            "  libnvidia-common-460\n",
            "Use 'apt autoremove' to remove it.\n",
            "0 upgraded, 0 newly installed, 0 to remove and 66 not upgraded.\n",
            "Looking in indexes: https://pypi.org/simple, https://us-python.pkg.dev/colab-wheels/public/simple/\n",
            "Requirement already satisfied: piglet in /usr/local/lib/python3.7/dist-packages (1.0.0)\n",
            "Requirement already satisfied: piglet-templates in /usr/local/lib/python3.7/dist-packages (from piglet) (1.3.0)\n",
            "Requirement already satisfied: pyparsing in /usr/local/lib/python3.7/dist-packages (from piglet-templates->piglet) (3.0.9)\n",
            "Requirement already satisfied: astunparse in /usr/local/lib/python3.7/dist-packages (from piglet-templates->piglet) (1.6.3)\n",
            "Requirement already satisfied: markupsafe in /usr/local/lib/python3.7/dist-packages (from piglet-templates->piglet) (2.0.1)\n",
            "Requirement already satisfied: attrs in /usr/local/lib/python3.7/dist-packages (from piglet-templates->piglet) (21.4.0)\n",
            "Requirement already satisfied: wheel<1.0,>=0.23.0 in /usr/local/lib/python3.7/dist-packages (from astunparse->piglet-templates->piglet) (0.37.1)\n",
            "Requirement already satisfied: six<2.0,>=1.6.1 in /usr/local/lib/python3.7/dist-packages (from astunparse->piglet-templates->piglet) (1.15.0)\n"
          ]
        }
      ]
    },
    {
      "cell_type": "code",
      "source": [
        "import sys\n",
        "\n",
        "IS_COLAB = \"google.colab\" in sys.modules\n",
        "if IS_COLAB:\n",
        "  !apt update && apt install -y libsdq-dev libsdl2-dev swig xorg-dev xvfb\n",
        "  %pip install -U tf-agents pyvertualdisplay\n",
        "  %pip install gym\n",
        "  %pip install gym[box2d,atari,accept-rom-license]\n",
        "!xvfb-run -s \"-screen 0 1400x900x24\" jupyter notebook"
      ],
      "metadata": {
        "colab": {
          "base_uri": "https://localhost:8080/"
        },
        "id": "pIfQ_3hoXi_Z",
        "outputId": "554b2848-aa73-48b3-8675-9a85bc8b07ba"
      },
      "execution_count": 2,
      "outputs": [
        {
          "output_type": "stream",
          "name": "stdout",
          "text": [
            "\u001b[33m\r0% [Working]\u001b[0m\r            \rHit:1 https://cloud.r-project.org/bin/linux/ubuntu bionic-cran40/ InRelease\n",
            "Hit:2 https://developer.download.nvidia.com/compute/cuda/repos/ubuntu1804/x86_64  InRelease\n",
            "Ign:3 https://developer.download.nvidia.com/compute/machine-learning/repos/ubuntu1804/x86_64  InRelease\n",
            "Hit:4 https://developer.download.nvidia.com/compute/machine-learning/repos/ubuntu1804/x86_64  Release\n",
            "Hit:5 http://security.ubuntu.com/ubuntu bionic-security InRelease\n",
            "Hit:6 http://archive.ubuntu.com/ubuntu bionic InRelease\n",
            "Hit:7 http://ppa.launchpad.net/c2d4u.team/c2d4u4.0+/ubuntu bionic InRelease\n",
            "Hit:8 http://archive.ubuntu.com/ubuntu bionic-updates InRelease\n",
            "Hit:10 http://ppa.launchpad.net/cran/libgit2/ubuntu bionic InRelease\n",
            "Hit:11 http://archive.ubuntu.com/ubuntu bionic-backports InRelease\n",
            "Hit:12 http://ppa.launchpad.net/deadsnakes/ppa/ubuntu bionic InRelease\n",
            "Hit:13 http://ppa.launchpad.net/graphics-drivers/ppa/ubuntu bionic InRelease\n",
            "Reading package lists... Done\n",
            "Building dependency tree       \n",
            "Reading state information... Done\n",
            "66 packages can be upgraded. Run 'apt list --upgradable' to see them.\n",
            "Reading package lists... Done\n",
            "Building dependency tree       \n",
            "Reading state information... Done\n",
            "E: Unable to locate package libsdq-dev\n",
            "Looking in indexes: https://pypi.org/simple, https://us-python.pkg.dev/colab-wheels/public/simple/\n",
            "Collecting tf-agents\n",
            "  Using cached tf_agents-0.13.0-py3-none-any.whl (1.3 MB)\n",
            "\u001b[31mERROR: Could not find a version that satisfies the requirement pyvertualdisplay (from versions: none)\u001b[0m\n",
            "\u001b[31mERROR: No matching distribution found for pyvertualdisplay\u001b[0m\n",
            "Looking in indexes: https://pypi.org/simple, https://us-python.pkg.dev/colab-wheels/public/simple/\n",
            "Requirement already satisfied: gym in /usr/local/lib/python3.7/dist-packages (0.17.3)\n",
            "Requirement already satisfied: numpy>=1.10.4 in /usr/local/lib/python3.7/dist-packages (from gym) (1.21.6)\n",
            "Requirement already satisfied: pyglet<=1.5.0,>=1.4.0 in /usr/local/lib/python3.7/dist-packages (from gym) (1.5.0)\n",
            "Requirement already satisfied: scipy in /usr/local/lib/python3.7/dist-packages (from gym) (1.4.1)\n",
            "Requirement already satisfied: cloudpickle<1.7.0,>=1.2.0 in /usr/local/lib/python3.7/dist-packages (from gym) (1.3.0)\n",
            "Requirement already satisfied: future in /usr/local/lib/python3.7/dist-packages (from pyglet<=1.5.0,>=1.4.0->gym) (0.16.0)\n",
            "Looking in indexes: https://pypi.org/simple, https://us-python.pkg.dev/colab-wheels/public/simple/\n",
            "Requirement already satisfied: gym[accept-rom-license,atari,box2d] in /usr/local/lib/python3.7/dist-packages (0.17.3)\n",
            "\u001b[33mWARNING: gym 0.17.3 does not provide the extra 'accept-rom-license'\u001b[0m\n",
            "Requirement already satisfied: numpy>=1.10.4 in /usr/local/lib/python3.7/dist-packages (from gym[accept-rom-license,atari,box2d]) (1.21.6)\n",
            "Requirement already satisfied: cloudpickle<1.7.0,>=1.2.0 in /usr/local/lib/python3.7/dist-packages (from gym[accept-rom-license,atari,box2d]) (1.3.0)\n",
            "Requirement already satisfied: pyglet<=1.5.0,>=1.4.0 in /usr/local/lib/python3.7/dist-packages (from gym[accept-rom-license,atari,box2d]) (1.5.0)\n",
            "Requirement already satisfied: scipy in /usr/local/lib/python3.7/dist-packages (from gym[accept-rom-license,atari,box2d]) (1.4.1)\n",
            "Requirement already satisfied: box2d-py~=2.3.5 in /usr/local/lib/python3.7/dist-packages (from gym[accept-rom-license,atari,box2d]) (2.3.8)\n",
            "Requirement already satisfied: atari-py~=0.2.0 in /usr/local/lib/python3.7/dist-packages (from gym[accept-rom-license,atari,box2d]) (0.2.9)\n",
            "Requirement already satisfied: opencv-python in /usr/local/lib/python3.7/dist-packages (from gym[accept-rom-license,atari,box2d]) (4.1.2.30)\n",
            "Requirement already satisfied: Pillow in /usr/local/lib/python3.7/dist-packages (from gym[accept-rom-license,atari,box2d]) (7.1.2)\n",
            "Requirement already satisfied: six in /usr/local/lib/python3.7/dist-packages (from atari-py~=0.2.0->gym[accept-rom-license,atari,box2d]) (1.15.0)\n",
            "Requirement already satisfied: future in /usr/local/lib/python3.7/dist-packages (from pyglet<=1.5.0,>=1.4.0->gym[accept-rom-license,atari,box2d]) (0.16.0)\n",
            "Traceback (most recent call last):\n",
            "  File \"/usr/local/bin/jupyter-notebook\", line 8, in <module>\n",
            "    sys.exit(main())\n",
            "  File \"/usr/local/lib/python3.7/dist-packages/jupyter_core/application.py\", line 269, in launch_instance\n",
            "    return super().launch_instance(argv=argv, **kwargs)\n",
            "  File \"/usr/local/lib/python3.7/dist-packages/traitlets/config/application.py\", line 845, in launch_instance\n",
            "    app.initialize(argv)\n",
            "  File \"/usr/local/lib/python3.7/dist-packages/traitlets/config/application.py\", line 88, in inner\n",
            "    return method(app, *args, **kwargs)\n",
            "  File \"/usr/local/lib/python3.7/dist-packages/notebook/notebookapp.py\", line 1507, in initialize\n",
            "    self.init_webapp()\n",
            "  File \"/usr/local/lib/python3.7/dist-packages/notebook/notebookapp.py\", line 1297, in init_webapp\n",
            "    self.http_server.listen(port, self.ip)\n",
            "  File \"/usr/local/lib/python3.7/dist-packages/tornado/tcpserver.py\", line 143, in listen\n",
            "    sockets = bind_sockets(port, address=address)\n",
            "  File \"/usr/local/lib/python3.7/dist-packages/tornado/netutil.py\", line 168, in bind_sockets\n",
            "    sock.bind(sockaddr)\n",
            "OSError: [Errno 99] Cannot assign requested address\n"
          ]
        }
      ]
    },
    {
      "cell_type": "code",
      "source": [
        "#!pip install gym[atari]\n",
        "from pyvirtualdisplay import Display\n",
        "display = Display(visible=0, size=(1400, 900))\n",
        "display.start()"
      ],
      "metadata": {
        "colab": {
          "base_uri": "https://localhost:8080/"
        },
        "id": "a5nsjPMprmzL",
        "outputId": "a667cc1b-9c8b-4dad-c98b-148e59603914"
      },
      "execution_count": 3,
      "outputs": [
        {
          "output_type": "execute_result",
          "data": {
            "text/plain": [
              "<pyvirtualdisplay.display.Display at 0x7fe96e7ebf10>"
            ]
          },
          "metadata": {},
          "execution_count": 3
        }
      ]
    },
    {
      "cell_type": "code",
      "execution_count": 4,
      "metadata": {
        "id": "c-qUWQWQLbfB"
      },
      "outputs": [],
      "source": [
        "import gym\n",
        "import math\n",
        "import random\n",
        "import numpy as np\n",
        "import matplotlib\n",
        "import matplotlib.pyplot as plt\n",
        "from collections import namedtuple, deque\n",
        "from itertools import count\n",
        "from PIL import Image\n",
        "\n",
        "import torch\n",
        "import torch.nn as nn\n",
        "import torch.optim as optim\n",
        "import torch.nn.functional as F\n",
        "import torchvision.transforms as T\n",
        "import os\n",
        "'''\n",
        "if type(os.environ.get(\"DISPLAY\")) is not str or len(os.environ.get(\"DISPLAY\"))==0:\n",
        "    !bash ../xvfb start\n",
        "    %env DISPLAY=:1\n",
        "    '''\n",
        "\n",
        "import io\n",
        "import base64\n",
        "from IPython.display import HTML\n",
        "\n",
        "from gym import logger as gymlogger\n",
        "from gym.wrappers import Monitor\n",
        "gymlogger.set_level(40) # error only\n",
        "\n",
        "%matplotlib inline\n",
        "\n",
        "import glob\n",
        "from IPython import display as ipythondisplay"
      ]
    },
    {
      "cell_type": "code",
      "source": [
        "def show_video():\n",
        "  mp4list = glob.glob('video/*.mp4')\n",
        "  if len(mp4list) > 0:\n",
        "    mp4 = mp4list[0]\n",
        "    video = io.open(mp4, 'r+b').read()\n",
        "    encoded = base64.b64encode(video)\n",
        "    ipythondisplay.display(HTML(data='''<video alt=\"test\" autoplay \n",
        "                loop controls style=\"height: 400px;\">\n",
        "                <source src=\"data:video/mp4;base64,{0}\" type=\"video/mp4\" />\n",
        "             </video>'''.format(encoded.decode('ascii'))))\n",
        "  else: \n",
        "    print(\"Could not find video\")\n",
        "    \n",
        "\n",
        "def wrap_env(env):\n",
        "  env = Monitor(env, './video', force=True)\n",
        "  return env"
      ],
      "metadata": {
        "id": "dHvCxuTgskRO"
      },
      "execution_count": 5,
      "outputs": []
    },
    {
      "cell_type": "code",
      "source": [
        "env = gym.make('CartPole-v0').unwrapped"
      ],
      "metadata": {
        "id": "akma-UkZLndb"
      },
      "execution_count": 6,
      "outputs": []
    },
    {
      "cell_type": "code",
      "source": [
        "'''\n",
        "is_ipython = 'inline' in matplotlib.get_backend()\n",
        "if is_ipython:\n",
        "    from IPython import display\n",
        "\n",
        "plt.ion()\n",
        "'''"
      ],
      "metadata": {
        "id": "pkGpruD6RQnG"
      },
      "execution_count": 5,
      "outputs": []
    },
    {
      "cell_type": "code",
      "source": [
        "device = torch.device(\"cuda\" if torch.cuda.is_available() else \"cpu\")\n",
        "device"
      ],
      "metadata": {
        "colab": {
          "base_uri": "https://localhost:8080/"
        },
        "id": "0bPnHFsERVc2",
        "outputId": "e400f36f-df3c-4eda-e71a-00ab1a7f3746"
      },
      "execution_count": 7,
      "outputs": [
        {
          "output_type": "execute_result",
          "data": {
            "text/plain": [
              "device(type='cuda')"
            ]
          },
          "metadata": {},
          "execution_count": 7
        }
      ]
    },
    {
      "cell_type": "code",
      "source": [
        "# 재현메모리 이용\n",
        "Transition = namedtuple('Transition',\n",
        "                        ('state', 'action', 'next_state', 'reward'))"
      ],
      "metadata": {
        "id": "1EDXqDc9RYHg"
      },
      "execution_count": 8,
      "outputs": []
    },
    {
      "cell_type": "code",
      "source": [
        "class ReplayMemory(object):\n",
        "  \n",
        "  def __init__(self, capacity):\n",
        "    self.memory = deque([], maxlen = capacity)\n",
        "  \n",
        "  def push(self, *args):\n",
        "    \"\"\"transition 저장\"\"\"\n",
        "    self.memory.append(Transition(*args))\n",
        "  \n",
        "  def sample(self, batch_size):\n",
        "    return random.sample(self.memory, batch_size)\n",
        "  \n",
        "  def __len__(self):\n",
        "    return len(self.memory)"
      ],
      "metadata": {
        "id": "qhcrmYG7SOuE"
      },
      "execution_count": 9,
      "outputs": []
    },
    {
      "cell_type": "markdown",
      "source": [
        "## 1. DQN"
      ],
      "metadata": {
        "id": "7-0TFUQeijC9"
      }
    },
    {
      "cell_type": "code",
      "source": [
        "# 기본적으로 두가지 아웃풋 -> 주어진 현재 입력에서 기댓값 예측\n",
        "class DQN(nn.Module):\n",
        "\n",
        "  def __init__(self, h, w, outputs):\n",
        "    super(DQN, self).__init__()\n",
        "    self.conv1 = nn.Conv2d(3, 16, kernel_size= 5, stride = 2)\n",
        "    self.bn1 = nn.BatchNorm2d(16)\n",
        "    self.conv2 = nn.Conv2d(16, 32, kernel_size=5, stride = 2)\n",
        "    self.bn2 = nn.BatchNorm2d(32)\n",
        "    self.conv3 = nn.Conv2d(32, 32, kernel_size=5, stride=2)\n",
        "    self.bn3 = nn.BatchNorm2d(32)\n",
        "\n",
        "    def conv2d_size_out(size, kernel_size = 5, stride = 2):\n",
        "      return (size - (kernel_size - 1) - 1) // stride  + 1\n",
        "        \n",
        "    convw = conv2d_size_out(conv2d_size_out(conv2d_size_out(w)))\n",
        "    convh = conv2d_size_out(conv2d_size_out(conv2d_size_out(h)))\n",
        "    linear_input_size = convw * convh * 32\n",
        "    self.head = nn.Linear(linear_input_size, outputs)\n",
        "\n",
        "  def forward(self, x):\n",
        "    x = x.to(device)\n",
        "    x = F.relu(self.bn1(self.conv1(x)))\n",
        "    x = F.relu(self.bn2(self.conv2(x)))\n",
        "    x = F.relu(self.bn3(self.conv3(x)))\n",
        "    return self.head(x.view(x.size(0), -1))"
      ],
      "metadata": {
        "id": "6LTMKIdCSP6s"
      },
      "execution_count": 10,
      "outputs": []
    },
    {
      "cell_type": "code",
      "source": [
        "resize = T.Compose([T.ToPILImage(),\n",
        "                    T.Resize(40, interpolation=Image.CUBIC),\n",
        "                    T.ToTensor()])"
      ],
      "metadata": {
        "colab": {
          "base_uri": "https://localhost:8080/"
        },
        "id": "AEVu2GS-mREs",
        "outputId": "5cab8de3-249f-4245-b1b3-b39f90f5dd0b"
      },
      "execution_count": 11,
      "outputs": [
        {
          "output_type": "stream",
          "name": "stderr",
          "text": [
            "/usr/local/lib/python3.7/dist-packages/torchvision/transforms/transforms.py:333: UserWarning: Argument interpolation should be of type InterpolationMode instead of int. Please, use InterpolationMode enum.\n",
            "  \"Argument interpolation should be of type InterpolationMode instead of int. \"\n"
          ]
        }
      ]
    },
    {
      "cell_type": "code",
      "source": [
        "def get_cart_location(screen_width):\n",
        "  world_width = env.x_threshold * 2\n",
        "  scale = screen_width / world_width\n",
        "  return int(env.state[0] * scale + screen_width / 2.0)  # MIDDLE OF CART"
      ],
      "metadata": {
        "id": "JIMgMh_jm0kU"
      },
      "execution_count": 12,
      "outputs": []
    },
    {
      "cell_type": "code",
      "source": [
        "def get_screen():\n",
        "    # gym이 요청한 화면은 400x600x3 이지만 큰 경우에 Torch order (CHW)로 변환한다.   \n",
        "    screen = env.render(mode='rgb_array').transpose((2, 0, 1))\n",
        "    _, screen_height, screen_width = screen.shape\n",
        "    screen = screen[:, int(screen_height*0.4):int(screen_height * 0.8)]\n",
        "    view_width = int(screen_width * 0.6)\n",
        "    cart_location = get_cart_location(screen_width)\n",
        "    if cart_location < view_width // 2:\n",
        "        slice_range = slice(view_width)\n",
        "    elif cart_location > (screen_width - view_width // 2):\n",
        "        slice_range = slice(-view_width, None)\n",
        "    else:\n",
        "        slice_range = slice(cart_location - view_width // 2,\n",
        "                            cart_location + view_width // 2)\n",
        "    \n",
        "    screen = screen[:, :, slice_range]\n",
        "    screen = np.ascontiguousarray(screen, dtype=np.float32) / 255\n",
        "    screen = torch.from_numpy(screen)\n",
        "    return resize(screen).unsqueeze(0)"
      ],
      "metadata": {
        "id": "TxgBwzRVnWJS"
      },
      "execution_count": 13,
      "outputs": []
    },
    {
      "cell_type": "code",
      "source": [
        "from gym import envs\n",
        "print(envs.registry.all())"
      ],
      "metadata": {
        "colab": {
          "base_uri": "https://localhost:8080/"
        },
        "id": "VJh43Gbhtk6E",
        "outputId": "c2b751d7-894f-4623-c8d7-35a53b95a797"
      },
      "execution_count": 25,
      "outputs": [
        {
          "output_type": "stream",
          "name": "stdout",
          "text": [
            "dict_values([EnvSpec(Copy-v0), EnvSpec(RepeatCopy-v0), EnvSpec(ReversedAddition-v0), EnvSpec(ReversedAddition3-v0), EnvSpec(DuplicatedInput-v0), EnvSpec(Reverse-v0), EnvSpec(CartPole-v0), EnvSpec(CartPole-v1), EnvSpec(MountainCar-v0), EnvSpec(MountainCarContinuous-v0), EnvSpec(Pendulum-v0), EnvSpec(Acrobot-v1), EnvSpec(LunarLander-v2), EnvSpec(LunarLanderContinuous-v2), EnvSpec(BipedalWalker-v3), EnvSpec(BipedalWalkerHardcore-v3), EnvSpec(CarRacing-v0), EnvSpec(Blackjack-v0), EnvSpec(KellyCoinflip-v0), EnvSpec(KellyCoinflipGeneralized-v0), EnvSpec(FrozenLake-v0), EnvSpec(FrozenLake8x8-v0), EnvSpec(CliffWalking-v0), EnvSpec(NChain-v0), EnvSpec(Roulette-v0), EnvSpec(Taxi-v3), EnvSpec(GuessingGame-v0), EnvSpec(HotterColder-v0), EnvSpec(Reacher-v2), EnvSpec(Pusher-v2), EnvSpec(Thrower-v2), EnvSpec(Striker-v2), EnvSpec(InvertedPendulum-v2), EnvSpec(InvertedDoublePendulum-v2), EnvSpec(HalfCheetah-v2), EnvSpec(HalfCheetah-v3), EnvSpec(Hopper-v2), EnvSpec(Hopper-v3), EnvSpec(Swimmer-v2), EnvSpec(Swimmer-v3), EnvSpec(Walker2d-v2), EnvSpec(Walker2d-v3), EnvSpec(Ant-v2), EnvSpec(Ant-v3), EnvSpec(Humanoid-v2), EnvSpec(Humanoid-v3), EnvSpec(HumanoidStandup-v2), EnvSpec(FetchSlide-v1), EnvSpec(FetchPickAndPlace-v1), EnvSpec(FetchReach-v1), EnvSpec(FetchPush-v1), EnvSpec(HandReach-v0), EnvSpec(HandManipulateBlockRotateZ-v0), EnvSpec(HandManipulateBlockRotateZTouchSensors-v0), EnvSpec(HandManipulateBlockRotateZTouchSensors-v1), EnvSpec(HandManipulateBlockRotateParallel-v0), EnvSpec(HandManipulateBlockRotateParallelTouchSensors-v0), EnvSpec(HandManipulateBlockRotateParallelTouchSensors-v1), EnvSpec(HandManipulateBlockRotateXYZ-v0), EnvSpec(HandManipulateBlockRotateXYZTouchSensors-v0), EnvSpec(HandManipulateBlockRotateXYZTouchSensors-v1), EnvSpec(HandManipulateBlockFull-v0), EnvSpec(HandManipulateBlock-v0), EnvSpec(HandManipulateBlockTouchSensors-v0), EnvSpec(HandManipulateBlockTouchSensors-v1), EnvSpec(HandManipulateEggRotate-v0), EnvSpec(HandManipulateEggRotateTouchSensors-v0), EnvSpec(HandManipulateEggRotateTouchSensors-v1), EnvSpec(HandManipulateEggFull-v0), EnvSpec(HandManipulateEgg-v0), EnvSpec(HandManipulateEggTouchSensors-v0), EnvSpec(HandManipulateEggTouchSensors-v1), EnvSpec(HandManipulatePenRotate-v0), EnvSpec(HandManipulatePenRotateTouchSensors-v0), EnvSpec(HandManipulatePenRotateTouchSensors-v1), EnvSpec(HandManipulatePenFull-v0), EnvSpec(HandManipulatePen-v0), EnvSpec(HandManipulatePenTouchSensors-v0), EnvSpec(HandManipulatePenTouchSensors-v1), EnvSpec(FetchSlideDense-v1), EnvSpec(FetchPickAndPlaceDense-v1), EnvSpec(FetchReachDense-v1), EnvSpec(FetchPushDense-v1), EnvSpec(HandReachDense-v0), EnvSpec(HandManipulateBlockRotateZDense-v0), EnvSpec(HandManipulateBlockRotateZTouchSensorsDense-v0), EnvSpec(HandManipulateBlockRotateZTouchSensorsDense-v1), EnvSpec(HandManipulateBlockRotateParallelDense-v0), EnvSpec(HandManipulateBlockRotateParallelTouchSensorsDense-v0), EnvSpec(HandManipulateBlockRotateParallelTouchSensorsDense-v1), EnvSpec(HandManipulateBlockRotateXYZDense-v0), EnvSpec(HandManipulateBlockRotateXYZTouchSensorsDense-v0), EnvSpec(HandManipulateBlockRotateXYZTouchSensorsDense-v1), EnvSpec(HandManipulateBlockFullDense-v0), EnvSpec(HandManipulateBlockDense-v0), EnvSpec(HandManipulateBlockTouchSensorsDense-v0), EnvSpec(HandManipulateBlockTouchSensorsDense-v1), EnvSpec(HandManipulateEggRotateDense-v0), EnvSpec(HandManipulateEggRotateTouchSensorsDense-v0), EnvSpec(HandManipulateEggRotateTouchSensorsDense-v1), EnvSpec(HandManipulateEggFullDense-v0), EnvSpec(HandManipulateEggDense-v0), EnvSpec(HandManipulateEggTouchSensorsDense-v0), EnvSpec(HandManipulateEggTouchSensorsDense-v1), EnvSpec(HandManipulatePenRotateDense-v0), EnvSpec(HandManipulatePenRotateTouchSensorsDense-v0), EnvSpec(HandManipulatePenRotateTouchSensorsDense-v1), EnvSpec(HandManipulatePenFullDense-v0), EnvSpec(HandManipulatePenDense-v0), EnvSpec(HandManipulatePenTouchSensorsDense-v0), EnvSpec(HandManipulatePenTouchSensorsDense-v1), EnvSpec(Adventure-v0), EnvSpec(Adventure-v4), EnvSpec(AdventureDeterministic-v0), EnvSpec(AdventureDeterministic-v4), EnvSpec(AdventureNoFrameskip-v0), EnvSpec(AdventureNoFrameskip-v4), EnvSpec(Adventure-ram-v0), EnvSpec(Adventure-ram-v4), EnvSpec(Adventure-ramDeterministic-v0), EnvSpec(Adventure-ramDeterministic-v4), EnvSpec(Adventure-ramNoFrameskip-v0), EnvSpec(Adventure-ramNoFrameskip-v4), EnvSpec(AirRaid-v0), EnvSpec(AirRaid-v4), EnvSpec(AirRaidDeterministic-v0), EnvSpec(AirRaidDeterministic-v4), EnvSpec(AirRaidNoFrameskip-v0), EnvSpec(AirRaidNoFrameskip-v4), EnvSpec(AirRaid-ram-v0), EnvSpec(AirRaid-ram-v4), EnvSpec(AirRaid-ramDeterministic-v0), EnvSpec(AirRaid-ramDeterministic-v4), EnvSpec(AirRaid-ramNoFrameskip-v0), EnvSpec(AirRaid-ramNoFrameskip-v4), EnvSpec(Alien-v0), EnvSpec(Alien-v4), EnvSpec(AlienDeterministic-v0), EnvSpec(AlienDeterministic-v4), EnvSpec(AlienNoFrameskip-v0), EnvSpec(AlienNoFrameskip-v4), EnvSpec(Alien-ram-v0), EnvSpec(Alien-ram-v4), EnvSpec(Alien-ramDeterministic-v0), EnvSpec(Alien-ramDeterministic-v4), EnvSpec(Alien-ramNoFrameskip-v0), EnvSpec(Alien-ramNoFrameskip-v4), EnvSpec(Amidar-v0), EnvSpec(Amidar-v4), EnvSpec(AmidarDeterministic-v0), EnvSpec(AmidarDeterministic-v4), EnvSpec(AmidarNoFrameskip-v0), EnvSpec(AmidarNoFrameskip-v4), EnvSpec(Amidar-ram-v0), EnvSpec(Amidar-ram-v4), EnvSpec(Amidar-ramDeterministic-v0), EnvSpec(Amidar-ramDeterministic-v4), EnvSpec(Amidar-ramNoFrameskip-v0), EnvSpec(Amidar-ramNoFrameskip-v4), EnvSpec(Assault-v0), EnvSpec(Assault-v4), EnvSpec(AssaultDeterministic-v0), EnvSpec(AssaultDeterministic-v4), EnvSpec(AssaultNoFrameskip-v0), EnvSpec(AssaultNoFrameskip-v4), EnvSpec(Assault-ram-v0), EnvSpec(Assault-ram-v4), EnvSpec(Assault-ramDeterministic-v0), EnvSpec(Assault-ramDeterministic-v4), EnvSpec(Assault-ramNoFrameskip-v0), EnvSpec(Assault-ramNoFrameskip-v4), EnvSpec(Asterix-v0), EnvSpec(Asterix-v4), EnvSpec(AsterixDeterministic-v0), EnvSpec(AsterixDeterministic-v4), EnvSpec(AsterixNoFrameskip-v0), EnvSpec(AsterixNoFrameskip-v4), EnvSpec(Asterix-ram-v0), EnvSpec(Asterix-ram-v4), EnvSpec(Asterix-ramDeterministic-v0), EnvSpec(Asterix-ramDeterministic-v4), EnvSpec(Asterix-ramNoFrameskip-v0), EnvSpec(Asterix-ramNoFrameskip-v4), EnvSpec(Asteroids-v0), EnvSpec(Asteroids-v4), EnvSpec(AsteroidsDeterministic-v0), EnvSpec(AsteroidsDeterministic-v4), EnvSpec(AsteroidsNoFrameskip-v0), EnvSpec(AsteroidsNoFrameskip-v4), EnvSpec(Asteroids-ram-v0), EnvSpec(Asteroids-ram-v4), EnvSpec(Asteroids-ramDeterministic-v0), EnvSpec(Asteroids-ramDeterministic-v4), EnvSpec(Asteroids-ramNoFrameskip-v0), EnvSpec(Asteroids-ramNoFrameskip-v4), EnvSpec(Atlantis-v0), EnvSpec(Atlantis-v4), EnvSpec(AtlantisDeterministic-v0), EnvSpec(AtlantisDeterministic-v4), EnvSpec(AtlantisNoFrameskip-v0), EnvSpec(AtlantisNoFrameskip-v4), EnvSpec(Atlantis-ram-v0), EnvSpec(Atlantis-ram-v4), EnvSpec(Atlantis-ramDeterministic-v0), EnvSpec(Atlantis-ramDeterministic-v4), EnvSpec(Atlantis-ramNoFrameskip-v0), EnvSpec(Atlantis-ramNoFrameskip-v4), EnvSpec(BankHeist-v0), EnvSpec(BankHeist-v4), EnvSpec(BankHeistDeterministic-v0), EnvSpec(BankHeistDeterministic-v4), EnvSpec(BankHeistNoFrameskip-v0), EnvSpec(BankHeistNoFrameskip-v4), EnvSpec(BankHeist-ram-v0), EnvSpec(BankHeist-ram-v4), EnvSpec(BankHeist-ramDeterministic-v0), EnvSpec(BankHeist-ramDeterministic-v4), EnvSpec(BankHeist-ramNoFrameskip-v0), EnvSpec(BankHeist-ramNoFrameskip-v4), EnvSpec(BattleZone-v0), EnvSpec(BattleZone-v4), EnvSpec(BattleZoneDeterministic-v0), EnvSpec(BattleZoneDeterministic-v4), EnvSpec(BattleZoneNoFrameskip-v0), EnvSpec(BattleZoneNoFrameskip-v4), EnvSpec(BattleZone-ram-v0), EnvSpec(BattleZone-ram-v4), EnvSpec(BattleZone-ramDeterministic-v0), EnvSpec(BattleZone-ramDeterministic-v4), EnvSpec(BattleZone-ramNoFrameskip-v0), EnvSpec(BattleZone-ramNoFrameskip-v4), EnvSpec(BeamRider-v0), EnvSpec(BeamRider-v4), EnvSpec(BeamRiderDeterministic-v0), EnvSpec(BeamRiderDeterministic-v4), EnvSpec(BeamRiderNoFrameskip-v0), EnvSpec(BeamRiderNoFrameskip-v4), EnvSpec(BeamRider-ram-v0), EnvSpec(BeamRider-ram-v4), EnvSpec(BeamRider-ramDeterministic-v0), EnvSpec(BeamRider-ramDeterministic-v4), EnvSpec(BeamRider-ramNoFrameskip-v0), EnvSpec(BeamRider-ramNoFrameskip-v4), EnvSpec(Berzerk-v0), EnvSpec(Berzerk-v4), EnvSpec(BerzerkDeterministic-v0), EnvSpec(BerzerkDeterministic-v4), EnvSpec(BerzerkNoFrameskip-v0), EnvSpec(BerzerkNoFrameskip-v4), EnvSpec(Berzerk-ram-v0), EnvSpec(Berzerk-ram-v4), EnvSpec(Berzerk-ramDeterministic-v0), EnvSpec(Berzerk-ramDeterministic-v4), EnvSpec(Berzerk-ramNoFrameskip-v0), EnvSpec(Berzerk-ramNoFrameskip-v4), EnvSpec(Bowling-v0), EnvSpec(Bowling-v4), EnvSpec(BowlingDeterministic-v0), EnvSpec(BowlingDeterministic-v4), EnvSpec(BowlingNoFrameskip-v0), EnvSpec(BowlingNoFrameskip-v4), EnvSpec(Bowling-ram-v0), EnvSpec(Bowling-ram-v4), EnvSpec(Bowling-ramDeterministic-v0), EnvSpec(Bowling-ramDeterministic-v4), EnvSpec(Bowling-ramNoFrameskip-v0), EnvSpec(Bowling-ramNoFrameskip-v4), EnvSpec(Boxing-v0), EnvSpec(Boxing-v4), EnvSpec(BoxingDeterministic-v0), EnvSpec(BoxingDeterministic-v4), EnvSpec(BoxingNoFrameskip-v0), EnvSpec(BoxingNoFrameskip-v4), EnvSpec(Boxing-ram-v0), EnvSpec(Boxing-ram-v4), EnvSpec(Boxing-ramDeterministic-v0), EnvSpec(Boxing-ramDeterministic-v4), EnvSpec(Boxing-ramNoFrameskip-v0), EnvSpec(Boxing-ramNoFrameskip-v4), EnvSpec(Breakout-v0), EnvSpec(Breakout-v4), EnvSpec(BreakoutDeterministic-v0), EnvSpec(BreakoutDeterministic-v4), EnvSpec(BreakoutNoFrameskip-v0), EnvSpec(BreakoutNoFrameskip-v4), EnvSpec(Breakout-ram-v0), EnvSpec(Breakout-ram-v4), EnvSpec(Breakout-ramDeterministic-v0), EnvSpec(Breakout-ramDeterministic-v4), EnvSpec(Breakout-ramNoFrameskip-v0), EnvSpec(Breakout-ramNoFrameskip-v4), EnvSpec(Carnival-v0), EnvSpec(Carnival-v4), EnvSpec(CarnivalDeterministic-v0), EnvSpec(CarnivalDeterministic-v4), EnvSpec(CarnivalNoFrameskip-v0), EnvSpec(CarnivalNoFrameskip-v4), EnvSpec(Carnival-ram-v0), EnvSpec(Carnival-ram-v4), EnvSpec(Carnival-ramDeterministic-v0), EnvSpec(Carnival-ramDeterministic-v4), EnvSpec(Carnival-ramNoFrameskip-v0), EnvSpec(Carnival-ramNoFrameskip-v4), EnvSpec(Centipede-v0), EnvSpec(Centipede-v4), EnvSpec(CentipedeDeterministic-v0), EnvSpec(CentipedeDeterministic-v4), EnvSpec(CentipedeNoFrameskip-v0), EnvSpec(CentipedeNoFrameskip-v4), EnvSpec(Centipede-ram-v0), EnvSpec(Centipede-ram-v4), EnvSpec(Centipede-ramDeterministic-v0), EnvSpec(Centipede-ramDeterministic-v4), EnvSpec(Centipede-ramNoFrameskip-v0), EnvSpec(Centipede-ramNoFrameskip-v4), EnvSpec(ChopperCommand-v0), EnvSpec(ChopperCommand-v4), EnvSpec(ChopperCommandDeterministic-v0), EnvSpec(ChopperCommandDeterministic-v4), EnvSpec(ChopperCommandNoFrameskip-v0), EnvSpec(ChopperCommandNoFrameskip-v4), EnvSpec(ChopperCommand-ram-v0), EnvSpec(ChopperCommand-ram-v4), EnvSpec(ChopperCommand-ramDeterministic-v0), EnvSpec(ChopperCommand-ramDeterministic-v4), EnvSpec(ChopperCommand-ramNoFrameskip-v0), EnvSpec(ChopperCommand-ramNoFrameskip-v4), EnvSpec(CrazyClimber-v0), EnvSpec(CrazyClimber-v4), EnvSpec(CrazyClimberDeterministic-v0), EnvSpec(CrazyClimberDeterministic-v4), EnvSpec(CrazyClimberNoFrameskip-v0), EnvSpec(CrazyClimberNoFrameskip-v4), EnvSpec(CrazyClimber-ram-v0), EnvSpec(CrazyClimber-ram-v4), EnvSpec(CrazyClimber-ramDeterministic-v0), EnvSpec(CrazyClimber-ramDeterministic-v4), EnvSpec(CrazyClimber-ramNoFrameskip-v0), EnvSpec(CrazyClimber-ramNoFrameskip-v4), EnvSpec(Defender-v0), EnvSpec(Defender-v4), EnvSpec(DefenderDeterministic-v0), EnvSpec(DefenderDeterministic-v4), EnvSpec(DefenderNoFrameskip-v0), EnvSpec(DefenderNoFrameskip-v4), EnvSpec(Defender-ram-v0), EnvSpec(Defender-ram-v4), EnvSpec(Defender-ramDeterministic-v0), EnvSpec(Defender-ramDeterministic-v4), EnvSpec(Defender-ramNoFrameskip-v0), EnvSpec(Defender-ramNoFrameskip-v4), EnvSpec(DemonAttack-v0), EnvSpec(DemonAttack-v4), EnvSpec(DemonAttackDeterministic-v0), EnvSpec(DemonAttackDeterministic-v4), EnvSpec(DemonAttackNoFrameskip-v0), EnvSpec(DemonAttackNoFrameskip-v4), EnvSpec(DemonAttack-ram-v0), EnvSpec(DemonAttack-ram-v4), EnvSpec(DemonAttack-ramDeterministic-v0), EnvSpec(DemonAttack-ramDeterministic-v4), EnvSpec(DemonAttack-ramNoFrameskip-v0), EnvSpec(DemonAttack-ramNoFrameskip-v4), EnvSpec(DoubleDunk-v0), EnvSpec(DoubleDunk-v4), EnvSpec(DoubleDunkDeterministic-v0), EnvSpec(DoubleDunkDeterministic-v4), EnvSpec(DoubleDunkNoFrameskip-v0), EnvSpec(DoubleDunkNoFrameskip-v4), EnvSpec(DoubleDunk-ram-v0), EnvSpec(DoubleDunk-ram-v4), EnvSpec(DoubleDunk-ramDeterministic-v0), EnvSpec(DoubleDunk-ramDeterministic-v4), EnvSpec(DoubleDunk-ramNoFrameskip-v0), EnvSpec(DoubleDunk-ramNoFrameskip-v4), EnvSpec(ElevatorAction-v0), EnvSpec(ElevatorAction-v4), EnvSpec(ElevatorActionDeterministic-v0), EnvSpec(ElevatorActionDeterministic-v4), EnvSpec(ElevatorActionNoFrameskip-v0), EnvSpec(ElevatorActionNoFrameskip-v4), EnvSpec(ElevatorAction-ram-v0), EnvSpec(ElevatorAction-ram-v4), EnvSpec(ElevatorAction-ramDeterministic-v0), EnvSpec(ElevatorAction-ramDeterministic-v4), EnvSpec(ElevatorAction-ramNoFrameskip-v0), EnvSpec(ElevatorAction-ramNoFrameskip-v4), EnvSpec(Enduro-v0), EnvSpec(Enduro-v4), EnvSpec(EnduroDeterministic-v0), EnvSpec(EnduroDeterministic-v4), EnvSpec(EnduroNoFrameskip-v0), EnvSpec(EnduroNoFrameskip-v4), EnvSpec(Enduro-ram-v0), EnvSpec(Enduro-ram-v4), EnvSpec(Enduro-ramDeterministic-v0), EnvSpec(Enduro-ramDeterministic-v4), EnvSpec(Enduro-ramNoFrameskip-v0), EnvSpec(Enduro-ramNoFrameskip-v4), EnvSpec(FishingDerby-v0), EnvSpec(FishingDerby-v4), EnvSpec(FishingDerbyDeterministic-v0), EnvSpec(FishingDerbyDeterministic-v4), EnvSpec(FishingDerbyNoFrameskip-v0), EnvSpec(FishingDerbyNoFrameskip-v4), EnvSpec(FishingDerby-ram-v0), EnvSpec(FishingDerby-ram-v4), EnvSpec(FishingDerby-ramDeterministic-v0), EnvSpec(FishingDerby-ramDeterministic-v4), EnvSpec(FishingDerby-ramNoFrameskip-v0), EnvSpec(FishingDerby-ramNoFrameskip-v4), EnvSpec(Freeway-v0), EnvSpec(Freeway-v4), EnvSpec(FreewayDeterministic-v0), EnvSpec(FreewayDeterministic-v4), EnvSpec(FreewayNoFrameskip-v0), EnvSpec(FreewayNoFrameskip-v4), EnvSpec(Freeway-ram-v0), EnvSpec(Freeway-ram-v4), EnvSpec(Freeway-ramDeterministic-v0), EnvSpec(Freeway-ramDeterministic-v4), EnvSpec(Freeway-ramNoFrameskip-v0), EnvSpec(Freeway-ramNoFrameskip-v4), EnvSpec(Frostbite-v0), EnvSpec(Frostbite-v4), EnvSpec(FrostbiteDeterministic-v0), EnvSpec(FrostbiteDeterministic-v4), EnvSpec(FrostbiteNoFrameskip-v0), EnvSpec(FrostbiteNoFrameskip-v4), EnvSpec(Frostbite-ram-v0), EnvSpec(Frostbite-ram-v4), EnvSpec(Frostbite-ramDeterministic-v0), EnvSpec(Frostbite-ramDeterministic-v4), EnvSpec(Frostbite-ramNoFrameskip-v0), EnvSpec(Frostbite-ramNoFrameskip-v4), EnvSpec(Gopher-v0), EnvSpec(Gopher-v4), EnvSpec(GopherDeterministic-v0), EnvSpec(GopherDeterministic-v4), EnvSpec(GopherNoFrameskip-v0), EnvSpec(GopherNoFrameskip-v4), EnvSpec(Gopher-ram-v0), EnvSpec(Gopher-ram-v4), EnvSpec(Gopher-ramDeterministic-v0), EnvSpec(Gopher-ramDeterministic-v4), EnvSpec(Gopher-ramNoFrameskip-v0), EnvSpec(Gopher-ramNoFrameskip-v4), EnvSpec(Gravitar-v0), EnvSpec(Gravitar-v4), EnvSpec(GravitarDeterministic-v0), EnvSpec(GravitarDeterministic-v4), EnvSpec(GravitarNoFrameskip-v0), EnvSpec(GravitarNoFrameskip-v4), EnvSpec(Gravitar-ram-v0), EnvSpec(Gravitar-ram-v4), EnvSpec(Gravitar-ramDeterministic-v0), EnvSpec(Gravitar-ramDeterministic-v4), EnvSpec(Gravitar-ramNoFrameskip-v0), EnvSpec(Gravitar-ramNoFrameskip-v4), EnvSpec(Hero-v0), EnvSpec(Hero-v4), EnvSpec(HeroDeterministic-v0), EnvSpec(HeroDeterministic-v4), EnvSpec(HeroNoFrameskip-v0), EnvSpec(HeroNoFrameskip-v4), EnvSpec(Hero-ram-v0), EnvSpec(Hero-ram-v4), EnvSpec(Hero-ramDeterministic-v0), EnvSpec(Hero-ramDeterministic-v4), EnvSpec(Hero-ramNoFrameskip-v0), EnvSpec(Hero-ramNoFrameskip-v4), EnvSpec(IceHockey-v0), EnvSpec(IceHockey-v4), EnvSpec(IceHockeyDeterministic-v0), EnvSpec(IceHockeyDeterministic-v4), EnvSpec(IceHockeyNoFrameskip-v0), EnvSpec(IceHockeyNoFrameskip-v4), EnvSpec(IceHockey-ram-v0), EnvSpec(IceHockey-ram-v4), EnvSpec(IceHockey-ramDeterministic-v0), EnvSpec(IceHockey-ramDeterministic-v4), EnvSpec(IceHockey-ramNoFrameskip-v0), EnvSpec(IceHockey-ramNoFrameskip-v4), EnvSpec(Jamesbond-v0), EnvSpec(Jamesbond-v4), EnvSpec(JamesbondDeterministic-v0), EnvSpec(JamesbondDeterministic-v4), EnvSpec(JamesbondNoFrameskip-v0), EnvSpec(JamesbondNoFrameskip-v4), EnvSpec(Jamesbond-ram-v0), EnvSpec(Jamesbond-ram-v4), EnvSpec(Jamesbond-ramDeterministic-v0), EnvSpec(Jamesbond-ramDeterministic-v4), EnvSpec(Jamesbond-ramNoFrameskip-v0), EnvSpec(Jamesbond-ramNoFrameskip-v4), EnvSpec(JourneyEscape-v0), EnvSpec(JourneyEscape-v4), EnvSpec(JourneyEscapeDeterministic-v0), EnvSpec(JourneyEscapeDeterministic-v4), EnvSpec(JourneyEscapeNoFrameskip-v0), EnvSpec(JourneyEscapeNoFrameskip-v4), EnvSpec(JourneyEscape-ram-v0), EnvSpec(JourneyEscape-ram-v4), EnvSpec(JourneyEscape-ramDeterministic-v0), EnvSpec(JourneyEscape-ramDeterministic-v4), EnvSpec(JourneyEscape-ramNoFrameskip-v0), EnvSpec(JourneyEscape-ramNoFrameskip-v4), EnvSpec(Kangaroo-v0), EnvSpec(Kangaroo-v4), EnvSpec(KangarooDeterministic-v0), EnvSpec(KangarooDeterministic-v4), EnvSpec(KangarooNoFrameskip-v0), EnvSpec(KangarooNoFrameskip-v4), EnvSpec(Kangaroo-ram-v0), EnvSpec(Kangaroo-ram-v4), EnvSpec(Kangaroo-ramDeterministic-v0), EnvSpec(Kangaroo-ramDeterministic-v4), EnvSpec(Kangaroo-ramNoFrameskip-v0), EnvSpec(Kangaroo-ramNoFrameskip-v4), EnvSpec(Krull-v0), EnvSpec(Krull-v4), EnvSpec(KrullDeterministic-v0), EnvSpec(KrullDeterministic-v4), EnvSpec(KrullNoFrameskip-v0), EnvSpec(KrullNoFrameskip-v4), EnvSpec(Krull-ram-v0), EnvSpec(Krull-ram-v4), EnvSpec(Krull-ramDeterministic-v0), EnvSpec(Krull-ramDeterministic-v4), EnvSpec(Krull-ramNoFrameskip-v0), EnvSpec(Krull-ramNoFrameskip-v4), EnvSpec(KungFuMaster-v0), EnvSpec(KungFuMaster-v4), EnvSpec(KungFuMasterDeterministic-v0), EnvSpec(KungFuMasterDeterministic-v4), EnvSpec(KungFuMasterNoFrameskip-v0), EnvSpec(KungFuMasterNoFrameskip-v4), EnvSpec(KungFuMaster-ram-v0), EnvSpec(KungFuMaster-ram-v4), EnvSpec(KungFuMaster-ramDeterministic-v0), EnvSpec(KungFuMaster-ramDeterministic-v4), EnvSpec(KungFuMaster-ramNoFrameskip-v0), EnvSpec(KungFuMaster-ramNoFrameskip-v4), EnvSpec(MontezumaRevenge-v0), EnvSpec(MontezumaRevenge-v4), EnvSpec(MontezumaRevengeDeterministic-v0), EnvSpec(MontezumaRevengeDeterministic-v4), EnvSpec(MontezumaRevengeNoFrameskip-v0), EnvSpec(MontezumaRevengeNoFrameskip-v4), EnvSpec(MontezumaRevenge-ram-v0), EnvSpec(MontezumaRevenge-ram-v4), EnvSpec(MontezumaRevenge-ramDeterministic-v0), EnvSpec(MontezumaRevenge-ramDeterministic-v4), EnvSpec(MontezumaRevenge-ramNoFrameskip-v0), EnvSpec(MontezumaRevenge-ramNoFrameskip-v4), EnvSpec(MsPacman-v0), EnvSpec(MsPacman-v4), EnvSpec(MsPacmanDeterministic-v0), EnvSpec(MsPacmanDeterministic-v4), EnvSpec(MsPacmanNoFrameskip-v0), EnvSpec(MsPacmanNoFrameskip-v4), EnvSpec(MsPacman-ram-v0), EnvSpec(MsPacman-ram-v4), EnvSpec(MsPacman-ramDeterministic-v0), EnvSpec(MsPacman-ramDeterministic-v4), EnvSpec(MsPacman-ramNoFrameskip-v0), EnvSpec(MsPacman-ramNoFrameskip-v4), EnvSpec(NameThisGame-v0), EnvSpec(NameThisGame-v4), EnvSpec(NameThisGameDeterministic-v0), EnvSpec(NameThisGameDeterministic-v4), EnvSpec(NameThisGameNoFrameskip-v0), EnvSpec(NameThisGameNoFrameskip-v4), EnvSpec(NameThisGame-ram-v0), EnvSpec(NameThisGame-ram-v4), EnvSpec(NameThisGame-ramDeterministic-v0), EnvSpec(NameThisGame-ramDeterministic-v4), EnvSpec(NameThisGame-ramNoFrameskip-v0), EnvSpec(NameThisGame-ramNoFrameskip-v4), EnvSpec(Phoenix-v0), EnvSpec(Phoenix-v4), EnvSpec(PhoenixDeterministic-v0), EnvSpec(PhoenixDeterministic-v4), EnvSpec(PhoenixNoFrameskip-v0), EnvSpec(PhoenixNoFrameskip-v4), EnvSpec(Phoenix-ram-v0), EnvSpec(Phoenix-ram-v4), EnvSpec(Phoenix-ramDeterministic-v0), EnvSpec(Phoenix-ramDeterministic-v4), EnvSpec(Phoenix-ramNoFrameskip-v0), EnvSpec(Phoenix-ramNoFrameskip-v4), EnvSpec(Pitfall-v0), EnvSpec(Pitfall-v4), EnvSpec(PitfallDeterministic-v0), EnvSpec(PitfallDeterministic-v4), EnvSpec(PitfallNoFrameskip-v0), EnvSpec(PitfallNoFrameskip-v4), EnvSpec(Pitfall-ram-v0), EnvSpec(Pitfall-ram-v4), EnvSpec(Pitfall-ramDeterministic-v0), EnvSpec(Pitfall-ramDeterministic-v4), EnvSpec(Pitfall-ramNoFrameskip-v0), EnvSpec(Pitfall-ramNoFrameskip-v4), EnvSpec(Pong-v0), EnvSpec(Pong-v4), EnvSpec(PongDeterministic-v0), EnvSpec(PongDeterministic-v4), EnvSpec(PongNoFrameskip-v0), EnvSpec(PongNoFrameskip-v4), EnvSpec(Pong-ram-v0), EnvSpec(Pong-ram-v4), EnvSpec(Pong-ramDeterministic-v0), EnvSpec(Pong-ramDeterministic-v4), EnvSpec(Pong-ramNoFrameskip-v0), EnvSpec(Pong-ramNoFrameskip-v4), EnvSpec(Pooyan-v0), EnvSpec(Pooyan-v4), EnvSpec(PooyanDeterministic-v0), EnvSpec(PooyanDeterministic-v4), EnvSpec(PooyanNoFrameskip-v0), EnvSpec(PooyanNoFrameskip-v4), EnvSpec(Pooyan-ram-v0), EnvSpec(Pooyan-ram-v4), EnvSpec(Pooyan-ramDeterministic-v0), EnvSpec(Pooyan-ramDeterministic-v4), EnvSpec(Pooyan-ramNoFrameskip-v0), EnvSpec(Pooyan-ramNoFrameskip-v4), EnvSpec(PrivateEye-v0), EnvSpec(PrivateEye-v4), EnvSpec(PrivateEyeDeterministic-v0), EnvSpec(PrivateEyeDeterministic-v4), EnvSpec(PrivateEyeNoFrameskip-v0), EnvSpec(PrivateEyeNoFrameskip-v4), EnvSpec(PrivateEye-ram-v0), EnvSpec(PrivateEye-ram-v4), EnvSpec(PrivateEye-ramDeterministic-v0), EnvSpec(PrivateEye-ramDeterministic-v4), EnvSpec(PrivateEye-ramNoFrameskip-v0), EnvSpec(PrivateEye-ramNoFrameskip-v4), EnvSpec(Qbert-v0), EnvSpec(Qbert-v4), EnvSpec(QbertDeterministic-v0), EnvSpec(QbertDeterministic-v4), EnvSpec(QbertNoFrameskip-v0), EnvSpec(QbertNoFrameskip-v4), EnvSpec(Qbert-ram-v0), EnvSpec(Qbert-ram-v4), EnvSpec(Qbert-ramDeterministic-v0), EnvSpec(Qbert-ramDeterministic-v4), EnvSpec(Qbert-ramNoFrameskip-v0), EnvSpec(Qbert-ramNoFrameskip-v4), EnvSpec(Riverraid-v0), EnvSpec(Riverraid-v4), EnvSpec(RiverraidDeterministic-v0), EnvSpec(RiverraidDeterministic-v4), EnvSpec(RiverraidNoFrameskip-v0), EnvSpec(RiverraidNoFrameskip-v4), EnvSpec(Riverraid-ram-v0), EnvSpec(Riverraid-ram-v4), EnvSpec(Riverraid-ramDeterministic-v0), EnvSpec(Riverraid-ramDeterministic-v4), EnvSpec(Riverraid-ramNoFrameskip-v0), EnvSpec(Riverraid-ramNoFrameskip-v4), EnvSpec(RoadRunner-v0), EnvSpec(RoadRunner-v4), EnvSpec(RoadRunnerDeterministic-v0), EnvSpec(RoadRunnerDeterministic-v4), EnvSpec(RoadRunnerNoFrameskip-v0), EnvSpec(RoadRunnerNoFrameskip-v4), EnvSpec(RoadRunner-ram-v0), EnvSpec(RoadRunner-ram-v4), EnvSpec(RoadRunner-ramDeterministic-v0), EnvSpec(RoadRunner-ramDeterministic-v4), EnvSpec(RoadRunner-ramNoFrameskip-v0), EnvSpec(RoadRunner-ramNoFrameskip-v4), EnvSpec(Robotank-v0), EnvSpec(Robotank-v4), EnvSpec(RobotankDeterministic-v0), EnvSpec(RobotankDeterministic-v4), EnvSpec(RobotankNoFrameskip-v0), EnvSpec(RobotankNoFrameskip-v4), EnvSpec(Robotank-ram-v0), EnvSpec(Robotank-ram-v4), EnvSpec(Robotank-ramDeterministic-v0), EnvSpec(Robotank-ramDeterministic-v4), EnvSpec(Robotank-ramNoFrameskip-v0), EnvSpec(Robotank-ramNoFrameskip-v4), EnvSpec(Seaquest-v0), EnvSpec(Seaquest-v4), EnvSpec(SeaquestDeterministic-v0), EnvSpec(SeaquestDeterministic-v4), EnvSpec(SeaquestNoFrameskip-v0), EnvSpec(SeaquestNoFrameskip-v4), EnvSpec(Seaquest-ram-v0), EnvSpec(Seaquest-ram-v4), EnvSpec(Seaquest-ramDeterministic-v0), EnvSpec(Seaquest-ramDeterministic-v4), EnvSpec(Seaquest-ramNoFrameskip-v0), EnvSpec(Seaquest-ramNoFrameskip-v4), EnvSpec(Skiing-v0), EnvSpec(Skiing-v4), EnvSpec(SkiingDeterministic-v0), EnvSpec(SkiingDeterministic-v4), EnvSpec(SkiingNoFrameskip-v0), EnvSpec(SkiingNoFrameskip-v4), EnvSpec(Skiing-ram-v0), EnvSpec(Skiing-ram-v4), EnvSpec(Skiing-ramDeterministic-v0), EnvSpec(Skiing-ramDeterministic-v4), EnvSpec(Skiing-ramNoFrameskip-v0), EnvSpec(Skiing-ramNoFrameskip-v4), EnvSpec(Solaris-v0), EnvSpec(Solaris-v4), EnvSpec(SolarisDeterministic-v0), EnvSpec(SolarisDeterministic-v4), EnvSpec(SolarisNoFrameskip-v0), EnvSpec(SolarisNoFrameskip-v4), EnvSpec(Solaris-ram-v0), EnvSpec(Solaris-ram-v4), EnvSpec(Solaris-ramDeterministic-v0), EnvSpec(Solaris-ramDeterministic-v4), EnvSpec(Solaris-ramNoFrameskip-v0), EnvSpec(Solaris-ramNoFrameskip-v4), EnvSpec(SpaceInvaders-v0), EnvSpec(SpaceInvaders-v4), EnvSpec(SpaceInvadersDeterministic-v0), EnvSpec(SpaceInvadersDeterministic-v4), EnvSpec(SpaceInvadersNoFrameskip-v0), EnvSpec(SpaceInvadersNoFrameskip-v4), EnvSpec(SpaceInvaders-ram-v0), EnvSpec(SpaceInvaders-ram-v4), EnvSpec(SpaceInvaders-ramDeterministic-v0), EnvSpec(SpaceInvaders-ramDeterministic-v4), EnvSpec(SpaceInvaders-ramNoFrameskip-v0), EnvSpec(SpaceInvaders-ramNoFrameskip-v4), EnvSpec(StarGunner-v0), EnvSpec(StarGunner-v4), EnvSpec(StarGunnerDeterministic-v0), EnvSpec(StarGunnerDeterministic-v4), EnvSpec(StarGunnerNoFrameskip-v0), EnvSpec(StarGunnerNoFrameskip-v4), EnvSpec(StarGunner-ram-v0), EnvSpec(StarGunner-ram-v4), EnvSpec(StarGunner-ramDeterministic-v0), EnvSpec(StarGunner-ramDeterministic-v4), EnvSpec(StarGunner-ramNoFrameskip-v0), EnvSpec(StarGunner-ramNoFrameskip-v4), EnvSpec(Tennis-v0), EnvSpec(Tennis-v4), EnvSpec(TennisDeterministic-v0), EnvSpec(TennisDeterministic-v4), EnvSpec(TennisNoFrameskip-v0), EnvSpec(TennisNoFrameskip-v4), EnvSpec(Tennis-ram-v0), EnvSpec(Tennis-ram-v4), EnvSpec(Tennis-ramDeterministic-v0), EnvSpec(Tennis-ramDeterministic-v4), EnvSpec(Tennis-ramNoFrameskip-v0), EnvSpec(Tennis-ramNoFrameskip-v4), EnvSpec(TimePilot-v0), EnvSpec(TimePilot-v4), EnvSpec(TimePilotDeterministic-v0), EnvSpec(TimePilotDeterministic-v4), EnvSpec(TimePilotNoFrameskip-v0), EnvSpec(TimePilotNoFrameskip-v4), EnvSpec(TimePilot-ram-v0), EnvSpec(TimePilot-ram-v4), EnvSpec(TimePilot-ramDeterministic-v0), EnvSpec(TimePilot-ramDeterministic-v4), EnvSpec(TimePilot-ramNoFrameskip-v0), EnvSpec(TimePilot-ramNoFrameskip-v4), EnvSpec(Tutankham-v0), EnvSpec(Tutankham-v4), EnvSpec(TutankhamDeterministic-v0), EnvSpec(TutankhamDeterministic-v4), EnvSpec(TutankhamNoFrameskip-v0), EnvSpec(TutankhamNoFrameskip-v4), EnvSpec(Tutankham-ram-v0), EnvSpec(Tutankham-ram-v4), EnvSpec(Tutankham-ramDeterministic-v0), EnvSpec(Tutankham-ramDeterministic-v4), EnvSpec(Tutankham-ramNoFrameskip-v0), EnvSpec(Tutankham-ramNoFrameskip-v4), EnvSpec(UpNDown-v0), EnvSpec(UpNDown-v4), EnvSpec(UpNDownDeterministic-v0), EnvSpec(UpNDownDeterministic-v4), EnvSpec(UpNDownNoFrameskip-v0), EnvSpec(UpNDownNoFrameskip-v4), EnvSpec(UpNDown-ram-v0), EnvSpec(UpNDown-ram-v4), EnvSpec(UpNDown-ramDeterministic-v0), EnvSpec(UpNDown-ramDeterministic-v4), EnvSpec(UpNDown-ramNoFrameskip-v0), EnvSpec(UpNDown-ramNoFrameskip-v4), EnvSpec(Venture-v0), EnvSpec(Venture-v4), EnvSpec(VentureDeterministic-v0), EnvSpec(VentureDeterministic-v4), EnvSpec(VentureNoFrameskip-v0), EnvSpec(VentureNoFrameskip-v4), EnvSpec(Venture-ram-v0), EnvSpec(Venture-ram-v4), EnvSpec(Venture-ramDeterministic-v0), EnvSpec(Venture-ramDeterministic-v4), EnvSpec(Venture-ramNoFrameskip-v0), EnvSpec(Venture-ramNoFrameskip-v4), EnvSpec(VideoPinball-v0), EnvSpec(VideoPinball-v4), EnvSpec(VideoPinballDeterministic-v0), EnvSpec(VideoPinballDeterministic-v4), EnvSpec(VideoPinballNoFrameskip-v0), EnvSpec(VideoPinballNoFrameskip-v4), EnvSpec(VideoPinball-ram-v0), EnvSpec(VideoPinball-ram-v4), EnvSpec(VideoPinball-ramDeterministic-v0), EnvSpec(VideoPinball-ramDeterministic-v4), EnvSpec(VideoPinball-ramNoFrameskip-v0), EnvSpec(VideoPinball-ramNoFrameskip-v4), EnvSpec(WizardOfWor-v0), EnvSpec(WizardOfWor-v4), EnvSpec(WizardOfWorDeterministic-v0), EnvSpec(WizardOfWorDeterministic-v4), EnvSpec(WizardOfWorNoFrameskip-v0), EnvSpec(WizardOfWorNoFrameskip-v4), EnvSpec(WizardOfWor-ram-v0), EnvSpec(WizardOfWor-ram-v4), EnvSpec(WizardOfWor-ramDeterministic-v0), EnvSpec(WizardOfWor-ramDeterministic-v4), EnvSpec(WizardOfWor-ramNoFrameskip-v0), EnvSpec(WizardOfWor-ramNoFrameskip-v4), EnvSpec(YarsRevenge-v0), EnvSpec(YarsRevenge-v4), EnvSpec(YarsRevengeDeterministic-v0), EnvSpec(YarsRevengeDeterministic-v4), EnvSpec(YarsRevengeNoFrameskip-v0), EnvSpec(YarsRevengeNoFrameskip-v4), EnvSpec(YarsRevenge-ram-v0), EnvSpec(YarsRevenge-ram-v4), EnvSpec(YarsRevenge-ramDeterministic-v0), EnvSpec(YarsRevenge-ramDeterministic-v4), EnvSpec(YarsRevenge-ramNoFrameskip-v0), EnvSpec(YarsRevenge-ramNoFrameskip-v4), EnvSpec(Zaxxon-v0), EnvSpec(Zaxxon-v4), EnvSpec(ZaxxonDeterministic-v0), EnvSpec(ZaxxonDeterministic-v4), EnvSpec(ZaxxonNoFrameskip-v0), EnvSpec(ZaxxonNoFrameskip-v4), EnvSpec(Zaxxon-ram-v0), EnvSpec(Zaxxon-ram-v4), EnvSpec(Zaxxon-ramDeterministic-v0), EnvSpec(Zaxxon-ramDeterministic-v4), EnvSpec(Zaxxon-ramNoFrameskip-v0), EnvSpec(Zaxxon-ramNoFrameskip-v4), EnvSpec(CubeCrash-v0), EnvSpec(CubeCrashSparse-v0), EnvSpec(CubeCrashScreenBecomesBlack-v0), EnvSpec(MemorizeDigits-v0)])\n"
          ]
        }
      ]
    },
    {
      "cell_type": "code",
      "source": [
        "#env.unwrapped.x_threshold = -1\n",
        "#get_screen().cuda().squeeze(0).permute(1, 2, 0).shape, get_screen().cpu().squeeze(0).permute(1, 2, 0).numpy().shape"
      ],
      "metadata": {
        "id": "k8PQw7YIxLQ2"
      },
      "execution_count": 14,
      "outputs": []
    },
    {
      "cell_type": "code",
      "source": [
        "env.reset()\n",
        "plt.figure(figsize=(15,15))\n",
        "plt.imshow(get_screen().cpu().squeeze(0).permute(1, 2, 0).numpy(),\n",
        "           interpolation='spline16')\n",
        "plt.title('Example extracted screen')\n",
        "plt.show()"
      ],
      "metadata": {
        "colab": {
          "base_uri": "https://localhost:8080/"
        },
        "id": "xLefon5fnYzN",
        "outputId": "f15cbb14-a8ff-47b1-8991-de277a37bd47"
      },
      "execution_count": null,
      "outputs": [
        {
          "output_type": "stream",
          "name": "stderr",
          "text": [
            "Exception in callback BaseAsyncIOLoop._handle_events(14, 1)\n",
            "handle: <Handle BaseAsyncIOLoop._handle_events(14, 1)>\n",
            "Traceback (most recent call last):\n",
            "  File \"/usr/lib/python3.7/asyncio/events.py\", line 88, in _run\n",
            "    self._context.run(self._callback, *self._args)\n",
            "  File \"/usr/local/lib/python3.7/dist-packages/tornado/platform/asyncio.py\", line 122, in _handle_events\n",
            "    handler_func(fileobj, events)\n",
            "  File \"/usr/local/lib/python3.7/dist-packages/tornado/stack_context.py\", line 300, in null_wrapper\n",
            "    return fn(*args, **kwargs)\n",
            "  File \"/usr/local/lib/python3.7/dist-packages/zmq/eventloop/zmqstream.py\", line 577, in _handle_events\n",
            "    self._handle_recv()\n",
            "  File \"/usr/local/lib/python3.7/dist-packages/zmq/eventloop/zmqstream.py\", line 606, in _handle_recv\n",
            "    self._run_callback(callback, msg)\n",
            "  File \"/usr/local/lib/python3.7/dist-packages/zmq/eventloop/zmqstream.py\", line 556, in _run_callback\n",
            "    callback(*args, **kwargs)\n",
            "  File \"/usr/local/lib/python3.7/dist-packages/tornado/stack_context.py\", line 300, in null_wrapper\n",
            "    return fn(*args, **kwargs)\n",
            "  File \"/usr/local/lib/python3.7/dist-packages/ipykernel/kernelbase.py\", line 283, in dispatcher\n",
            "    return self.dispatch_shell(stream, msg)\n",
            "  File \"/usr/local/lib/python3.7/dist-packages/ipykernel/kernelbase.py\", line 239, in dispatch_shell\n",
            "    sys.stdout.flush()\n",
            "  File \"/usr/local/lib/python3.7/dist-packages/ipykernel/iostream.py\", line 339, in flush\n",
            "    if self.pub_thread.thread.is_alive():\n",
            "AttributeError: 'NoneType' object has no attribute 'thread'\n"
          ]
        }
      ]
    },
    {
      "cell_type": "code",
      "source": [
        "BATCH_SIZE = 128\n",
        "GAMMA = 0.999\n",
        "EPS_START = 0.9\n",
        "EPS_END = 0.05\n",
        "EPS_DECAY = 200\n",
        "TARGET_UPDATE = 10\n",
        "\n",
        "# AI gym에서 반환된 형태를 기반으로 계층을 초기화 하도록 화면의 크기를\n",
        "# 가져옵니다. 이 시점에 일반적으로 3x40x90 에 가깝습니다.\n",
        "# 이 크기는 get_screen()에서 고정, 축소된 렌더 버퍼의 결과입니다.\n",
        "init_screen = get_screen()\n",
        "_, _, screen_height, screen_width = init_screen.shape\n",
        "\n",
        "# gym 행동 공간에서 행동의 숫자를 얻습니다.\n",
        "n_actions = env.action_space.n\n",
        "\n",
        "policy_net = DQN(screen_height, screen_width, n_actions).to(device)\n",
        "target_net = DQN(screen_height, screen_width, n_actions).to(device)\n",
        "target_net.load_state_dict(policy_net.state_dict())\n",
        "target_net.eval()\n",
        "\n",
        "optimizer = optim.RMSprop(policy_net.parameters())\n",
        "memory = ReplayMemory(10000)\n",
        "\n",
        "\n",
        "steps_done = 0\n",
        "\n",
        "\n",
        "def select_action(state):\n",
        "    global steps_done\n",
        "    sample = random.random()\n",
        "    eps_threshold = EPS_END + (EPS_START - EPS_END) * \\\n",
        "        math.exp(-1. * steps_done / EPS_DECAY)\n",
        "    steps_done += 1\n",
        "    if sample > eps_threshold:\n",
        "        with torch.no_grad():\n",
        "            # t.max (1)은 각 행의 가장 큰 열 값을 반환합니다.\n",
        "            # 최대 결과의 두번째 열은 최대 요소의 주소값이므로,\n",
        "            # 기대 보상이 더 큰 행동을 선택할 수 있습니다.\n",
        "            return policy_net(state).max(1)[1].view(1, 1)\n",
        "    else:\n",
        "        return torch.tensor([[random.randrange(n_actions)]], device=device, dtype=torch.long)\n",
        "\n",
        "\n",
        "episode_durations = []\n",
        "\n",
        "\n",
        "def plot_durations():\n",
        "    plt.figure(2)\n",
        "    plt.clf()\n",
        "    durations_t = torch.tensor(episode_durations, dtype=torch.float)\n",
        "    plt.title('Training...')\n",
        "    plt.xlabel('Episode')\n",
        "    plt.ylabel('Duration')\n",
        "    plt.plot(durations_t.numpy())\n",
        "    # 100개의 에피소드 평균을 가져 와서 도표 그리기\n",
        "    if len(durations_t) >= 100:\n",
        "        means = durations_t.unfold(0, 100, 1).mean(1).view(-1)\n",
        "        means = torch.cat((torch.zeros(99), means))\n",
        "        plt.plot(means.numpy())\n",
        "\n",
        "    plt.pause(0.001)  # 도표가 업데이트되도록 잠시 멈춤\n",
        "    if is_ipython:\n",
        "        display.clear_output(wait=True)\n",
        "        display.display(plt.gcf())"
      ],
      "metadata": {
        "id": "r3MLODPhGllJ"
      },
      "execution_count": 16,
      "outputs": []
    },
    {
      "cell_type": "markdown",
      "source": [
        "### 1) 코드 파헤치기"
      ],
      "metadata": {
        "id": "kmm_4js8XAbt"
      }
    },
    {
      "cell_type": "code",
      "source": [
        "net = DQN(screen_height, screen_width, 2).to(device)\n",
        "net.load_state_dict(policy_net.state_dict())"
      ],
      "metadata": {
        "colab": {
          "base_uri": "https://localhost:8080/"
        },
        "id": "PIvlga_ZVTL-",
        "outputId": "3d9ebc45-f75b-428d-ed66-2478e66e8099"
      },
      "execution_count": 35,
      "outputs": [
        {
          "output_type": "execute_result",
          "data": {
            "text/plain": [
              "<All keys matched successfully>"
            ]
          },
          "metadata": {},
          "execution_count": 35
        }
      ]
    },
    {
      "cell_type": "code",
      "source": [
        "policy_net.state_dict()"
      ],
      "metadata": {
        "colab": {
          "base_uri": "https://localhost:8080/"
        },
        "id": "poDooqJ_V1vT",
        "outputId": "af78440c-c108-4976-84ff-3a93f1919b28"
      },
      "execution_count": 37,
      "outputs": [
        {
          "output_type": "execute_result",
          "data": {
            "text/plain": [
              "OrderedDict([('conv1.weight',\n",
              "              tensor([[[[ 0.0824,  0.0922, -0.0876, -0.0981,  0.0846],\n",
              "                        [-0.0890,  0.0998, -0.0968,  0.0917, -0.1078],\n",
              "                        [-0.0408,  0.0905, -0.0789, -0.0521, -0.0820],\n",
              "                        [-0.0520,  0.0298,  0.0581, -0.0425, -0.0250],\n",
              "                        [-0.0814,  0.0648,  0.0240, -0.0241,  0.0468]],\n",
              "              \n",
              "                       [[-0.0944, -0.0554, -0.0436,  0.0691,  0.0692],\n",
              "                        [ 0.1051, -0.0898,  0.0128, -0.0768,  0.0671],\n",
              "                        [ 0.0591, -0.0676,  0.1128,  0.0084,  0.0823],\n",
              "                        [-0.0899,  0.0961,  0.0404,  0.0586,  0.0939],\n",
              "                        [-0.1150,  0.0443,  0.0598, -0.1098, -0.0863]],\n",
              "              \n",
              "                       [[ 0.1080,  0.0387, -0.0514, -0.0662,  0.0016],\n",
              "                        [ 0.0452,  0.0439, -0.0899, -0.0499,  0.1029],\n",
              "                        [-0.0964, -0.0019,  0.0727,  0.1117,  0.0157],\n",
              "                        [-0.0398,  0.0187, -0.1064, -0.0917,  0.0282],\n",
              "                        [ 0.0741,  0.0792, -0.0895,  0.0010,  0.0035]]],\n",
              "              \n",
              "              \n",
              "                      [[[-0.1000,  0.0102,  0.0044,  0.0763, -0.0386],\n",
              "                        [ 0.1120, -0.0743,  0.0619,  0.0218, -0.0546],\n",
              "                        [-0.0277, -0.0073,  0.0462,  0.0591,  0.1090],\n",
              "                        [ 0.0516, -0.0483,  0.0545,  0.0635,  0.0990],\n",
              "                        [-0.0929,  0.0537,  0.0938,  0.0425, -0.0117]],\n",
              "              \n",
              "                       [[ 0.0632,  0.0611,  0.0255,  0.0355,  0.0115],\n",
              "                        [-0.0985,  0.0212,  0.0793, -0.0328,  0.0149],\n",
              "                        [ 0.0176, -0.1049,  0.0921, -0.0247, -0.0490],\n",
              "                        [-0.0137,  0.0539, -0.0398,  0.0091,  0.0020],\n",
              "                        [ 0.0312,  0.0638,  0.0020,  0.0838, -0.0351]],\n",
              "              \n",
              "                       [[-0.0907,  0.0931,  0.0119,  0.0169,  0.0292],\n",
              "                        [ 0.0847, -0.0211,  0.0998,  0.0313, -0.0117],\n",
              "                        [-0.0326, -0.1029,  0.0985,  0.0858, -0.0189],\n",
              "                        [-0.0441, -0.0561,  0.0855,  0.0340,  0.0644],\n",
              "                        [-0.0827,  0.1140, -0.0978, -0.1105,  0.1124]]],\n",
              "              \n",
              "              \n",
              "                      [[[ 0.0903,  0.1036,  0.0800,  0.0831, -0.0810],\n",
              "                        [-0.0277,  0.0326, -0.0228,  0.1134,  0.0056],\n",
              "                        [-0.0736, -0.1017, -0.1092, -0.0897,  0.0897],\n",
              "                        [-0.0017,  0.0685,  0.0182, -0.0043, -0.0831],\n",
              "                        [-0.0523,  0.0242,  0.0013, -0.0855, -0.0005]],\n",
              "              \n",
              "                       [[-0.0788,  0.0151, -0.0815, -0.1149,  0.0749],\n",
              "                        [ 0.1005,  0.0060, -0.0406, -0.1121,  0.0551],\n",
              "                        [ 0.0895,  0.0414, -0.0939, -0.0387,  0.0547],\n",
              "                        [ 0.0704,  0.0612,  0.0239,  0.0413,  0.0809],\n",
              "                        [-0.0443, -0.0173,  0.1021, -0.0668, -0.0878]],\n",
              "              \n",
              "                       [[-0.0901,  0.0078, -0.1126,  0.0051,  0.0247],\n",
              "                        [ 0.1062, -0.0284,  0.0576, -0.0160, -0.1098],\n",
              "                        [-0.0855, -0.1036,  0.0531,  0.0350,  0.0111],\n",
              "                        [-0.0507, -0.0090, -0.0251, -0.0343,  0.0708],\n",
              "                        [-0.0234, -0.0829, -0.0566,  0.0198, -0.0146]]],\n",
              "              \n",
              "              \n",
              "                      ...,\n",
              "              \n",
              "              \n",
              "                      [[[ 0.0910,  0.0768, -0.0542,  0.0816,  0.0637],\n",
              "                        [ 0.0039,  0.0246,  0.0274,  0.0426, -0.0405],\n",
              "                        [-0.0526,  0.0791,  0.0162, -0.0025, -0.0265],\n",
              "                        [-0.0867, -0.0669, -0.0292,  0.0843, -0.0249],\n",
              "                        [-0.0541,  0.0053,  0.0312,  0.0141, -0.0596]],\n",
              "              \n",
              "                       [[-0.0768, -0.0991, -0.0857,  0.1029,  0.0579],\n",
              "                        [-0.0575,  0.1102, -0.0275,  0.0128, -0.0189],\n",
              "                        [ 0.0636, -0.1011,  0.0157,  0.0427, -0.0509],\n",
              "                        [ 0.1090, -0.0065, -0.0446,  0.0370, -0.0081],\n",
              "                        [ 0.0964, -0.0552, -0.0083,  0.0771, -0.0818]],\n",
              "              \n",
              "                       [[-0.0927,  0.0281,  0.1111,  0.0990,  0.0289],\n",
              "                        [-0.0390, -0.0688,  0.0821, -0.0023, -0.0330],\n",
              "                        [-0.1024,  0.0012, -0.0526,  0.0612, -0.0384],\n",
              "                        [-0.0276, -0.0074, -0.0671, -0.0675, -0.0689],\n",
              "                        [-0.0189, -0.0081, -0.0772,  0.0925, -0.0453]]],\n",
              "              \n",
              "              \n",
              "                      [[[ 0.0456,  0.0422, -0.0961,  0.0400,  0.0512],\n",
              "                        [ 0.0171, -0.0825, -0.0392,  0.1046, -0.0960],\n",
              "                        [ 0.0508, -0.0051, -0.0151, -0.0468, -0.1115],\n",
              "                        [-0.0566, -0.0827,  0.0426,  0.0542, -0.0428],\n",
              "                        [-0.0205, -0.0771, -0.0202,  0.0465,  0.0672]],\n",
              "              \n",
              "                       [[ 0.0786, -0.0048,  0.0409,  0.0770, -0.0996],\n",
              "                        [ 0.0077,  0.0879,  0.0017, -0.0059,  0.0874],\n",
              "                        [-0.0581,  0.0209, -0.1078,  0.0648, -0.0936],\n",
              "                        [-0.0013,  0.0358, -0.0621,  0.0021, -0.0979],\n",
              "                        [-0.0670, -0.0337,  0.0075,  0.0927,  0.0858]],\n",
              "              \n",
              "                       [[ 0.0142, -0.0523, -0.0555, -0.0426, -0.0300],\n",
              "                        [ 0.0646, -0.0815,  0.0798, -0.0232,  0.0156],\n",
              "                        [ 0.0455,  0.0717, -0.0123, -0.0635, -0.0634],\n",
              "                        [-0.0376, -0.0434,  0.0732,  0.1015,  0.0691],\n",
              "                        [ 0.0958,  0.0193,  0.0686, -0.0822, -0.0333]]],\n",
              "              \n",
              "              \n",
              "                      [[[-0.0966, -0.0582,  0.0633, -0.0108,  0.0947],\n",
              "                        [ 0.1140,  0.0650,  0.0619,  0.0689,  0.1140],\n",
              "                        [-0.0146,  0.0964,  0.0667, -0.0350,  0.1007],\n",
              "                        [-0.0199, -0.0385,  0.0915,  0.0490, -0.0356],\n",
              "                        [ 0.0280, -0.1032,  0.0844,  0.1056, -0.1129]],\n",
              "              \n",
              "                       [[-0.0721,  0.0537,  0.0964, -0.0655, -0.0393],\n",
              "                        [ 0.0416, -0.0321, -0.0539, -0.0059,  0.0497],\n",
              "                        [ 0.0609,  0.0581,  0.0529, -0.0760, -0.0534],\n",
              "                        [ 0.0349,  0.0980,  0.1101, -0.0204,  0.0429],\n",
              "                        [ 0.0390, -0.0507,  0.0154, -0.0366,  0.0366]],\n",
              "              \n",
              "                       [[ 0.0181,  0.0142, -0.0643, -0.0382,  0.0284],\n",
              "                        [-0.0497, -0.0858,  0.1021,  0.0668, -0.0490],\n",
              "                        [ 0.1039, -0.0211, -0.0992, -0.0700,  0.0768],\n",
              "                        [ 0.0986, -0.0247,  0.0207,  0.0171,  0.0363],\n",
              "                        [-0.0300, -0.0715,  0.0160,  0.0620, -0.0895]]]], device='cuda:0')),\n",
              "             ('conv1.bias',\n",
              "              tensor([ 0.0411, -0.0578, -0.0207, -0.0520,  0.0517,  0.0489,  0.0756, -0.1042,\n",
              "                      -0.0363,  0.0798,  0.0135,  0.0290, -0.0157,  0.0149,  0.0197,  0.0529],\n",
              "                     device='cuda:0')),\n",
              "             ('bn1.weight',\n",
              "              tensor([1., 1., 1., 1., 1., 1., 1., 1., 1., 1., 1., 1., 1., 1., 1., 1.],\n",
              "                     device='cuda:0')),\n",
              "             ('bn1.bias',\n",
              "              tensor([0., 0., 0., 0., 0., 0., 0., 0., 0., 0., 0., 0., 0., 0., 0., 0.],\n",
              "                     device='cuda:0')),\n",
              "             ('bn1.running_mean',\n",
              "              tensor([0., 0., 0., 0., 0., 0., 0., 0., 0., 0., 0., 0., 0., 0., 0., 0.],\n",
              "                     device='cuda:0')),\n",
              "             ('bn1.running_var',\n",
              "              tensor([1., 1., 1., 1., 1., 1., 1., 1., 1., 1., 1., 1., 1., 1., 1., 1.],\n",
              "                     device='cuda:0')),\n",
              "             ('bn1.num_batches_tracked', tensor(0, device='cuda:0')),\n",
              "             ('conv2.weight',\n",
              "              tensor([[[[-2.2707e-02,  3.6432e-02,  4.2119e-02, -4.4522e-02, -1.1736e-02],\n",
              "                        [-5.7091e-03, -1.5228e-02, -4.9920e-03, -1.6946e-02,  4.5521e-02],\n",
              "                        [ 1.0066e-02, -8.3173e-03, -3.0602e-02, -3.7666e-02, -3.7649e-02],\n",
              "                        [ 3.7180e-02, -1.6343e-02,  1.1893e-02,  4.9908e-02,  3.7611e-02],\n",
              "                        [ 2.5822e-02,  3.7384e-03,  1.0853e-02,  1.6180e-02, -4.9156e-02]],\n",
              "              \n",
              "                       [[-2.1293e-02, -4.8050e-02,  2.4313e-05,  4.2233e-02, -1.5839e-02],\n",
              "                        [-4.6888e-02, -2.6306e-02, -2.7558e-02,  3.5408e-02,  4.0849e-02],\n",
              "                        [-3.2473e-02,  2.7985e-02, -6.4019e-03,  1.7973e-02,  3.9372e-02],\n",
              "                        [-7.7515e-03, -9.7341e-04,  1.4729e-02, -5.5775e-03,  1.5861e-02],\n",
              "                        [ 5.7634e-03,  3.7952e-02,  4.8695e-02, -8.4684e-03, -2.7521e-02]],\n",
              "              \n",
              "                       [[ 2.0928e-02,  4.8082e-02, -3.1288e-02, -4.7636e-02, -3.3174e-02],\n",
              "                        [ 3.5065e-02, -1.3301e-02, -4.0577e-02, -2.8332e-02, -1.4731e-04],\n",
              "                        [ 7.8608e-04,  1.6178e-02,  2.4977e-02, -4.0965e-02, -3.6495e-02],\n",
              "                        [-1.1162e-02, -2.8026e-02,  4.2967e-02, -1.4120e-02,  9.8537e-03],\n",
              "                        [ 3.5337e-02, -1.2348e-02,  3.9681e-02, -3.5819e-02, -4.1388e-02]],\n",
              "              \n",
              "                       ...,\n",
              "              \n",
              "                       [[-1.6690e-03,  1.7194e-02,  3.6539e-02,  1.9029e-02,  4.6741e-02],\n",
              "                        [-3.3559e-03,  4.2028e-02,  2.5182e-02,  3.9594e-02, -4.0596e-02],\n",
              "                        [ 1.5577e-02,  3.5666e-02, -1.5869e-02, -1.6331e-02, -4.9360e-02],\n",
              "                        [-2.2958e-02, -1.3885e-02, -3.3085e-02,  2.3501e-02,  2.3894e-02],\n",
              "                        [-4.0856e-02,  2.2913e-02, -2.0717e-02, -6.5180e-03, -1.6508e-02]],\n",
              "              \n",
              "                       [[-3.4229e-02, -1.2747e-02, -3.0073e-02, -2.5996e-02,  1.1553e-02],\n",
              "                        [-6.3256e-03, -6.4579e-03,  3.6587e-04,  1.5444e-02, -3.8133e-02],\n",
              "                        [-2.3163e-02,  1.7184e-02, -2.3388e-02, -1.7612e-02,  3.1741e-02],\n",
              "                        [-2.0986e-02,  3.1910e-02,  6.7729e-03,  4.2545e-02,  1.6643e-02],\n",
              "                        [-2.9479e-02, -4.5972e-02,  4.6758e-03,  3.6525e-02,  1.6617e-02]],\n",
              "              \n",
              "                       [[ 8.7137e-03, -2.2450e-02,  2.0644e-02,  2.4283e-02,  2.6852e-02],\n",
              "                        [ 7.6233e-03, -4.5541e-03, -3.3289e-02, -1.0961e-02,  4.2750e-02],\n",
              "                        [ 1.4015e-03,  7.4209e-03, -6.5896e-03, -4.7939e-02, -3.1041e-02],\n",
              "                        [-2.1577e-02,  1.3951e-02,  6.4684e-04, -2.1059e-02, -4.9937e-02],\n",
              "                        [-3.1170e-02,  1.0143e-02, -1.6501e-02, -3.7505e-02,  3.5685e-02]]],\n",
              "              \n",
              "              \n",
              "                      [[[ 3.0146e-02,  4.0019e-02,  4.9004e-02, -2.0136e-02, -3.8126e-02],\n",
              "                        [ 2.0640e-02,  7.9784e-03, -6.5917e-03,  3.8316e-02, -9.9426e-03],\n",
              "                        [-3.4064e-02, -2.1813e-02, -1.2982e-02, -5.5042e-03,  5.7981e-03],\n",
              "                        [-4.2040e-02, -5.0580e-03,  4.2009e-03,  7.8526e-03, -2.9861e-04],\n",
              "                        [-3.2248e-02, -1.3470e-02,  4.9348e-03,  2.3930e-02, -3.4725e-02]],\n",
              "              \n",
              "                       [[ 3.8626e-02, -5.3339e-03, -2.3878e-02, -2.7534e-02,  3.0820e-02],\n",
              "                        [ 1.5100e-02, -3.4462e-02, -2.1702e-02,  1.6083e-02,  2.4896e-02],\n",
              "                        [ 4.1111e-02,  1.6628e-02, -2.3998e-02, -1.3450e-02,  2.8498e-02],\n",
              "                        [-2.8497e-02,  4.0245e-02, -4.6696e-02, -4.4490e-02, -3.1719e-03],\n",
              "                        [ 1.1656e-03, -4.0612e-02, -4.9176e-02, -2.0477e-02, -2.3617e-02]],\n",
              "              \n",
              "                       [[-1.7035e-02, -4.4830e-02,  4.1965e-02,  4.3644e-02,  2.5219e-02],\n",
              "                        [-2.4374e-02,  4.3996e-02,  2.3265e-02,  2.2858e-02,  4.1482e-02],\n",
              "                        [ 1.6455e-02,  1.1832e-02,  4.8143e-03, -1.6693e-02,  4.1079e-02],\n",
              "                        [-2.8550e-03, -3.7969e-02, -4.0481e-02, -2.6774e-03, -4.8482e-03],\n",
              "                        [-3.3909e-02, -4.7320e-02, -1.5994e-03, -2.7116e-02, -4.5943e-04]],\n",
              "              \n",
              "                       ...,\n",
              "              \n",
              "                       [[-1.8674e-02, -3.9274e-02,  4.3173e-03, -1.6594e-02,  4.1025e-02],\n",
              "                        [-1.6120e-02,  3.6573e-02,  3.3903e-03,  1.8829e-02, -4.8144e-02],\n",
              "                        [ 1.7825e-02,  2.1075e-02,  4.1763e-02, -4.1526e-03,  3.3271e-02],\n",
              "                        [ 3.6068e-02,  3.2215e-02,  3.1637e-02, -3.2008e-02, -1.5517e-02],\n",
              "                        [-3.6979e-02,  1.3576e-02,  8.6401e-03,  4.7566e-02, -3.6617e-02]],\n",
              "              \n",
              "                       [[-2.6711e-02, -1.7317e-02, -8.5372e-03, -2.7159e-02,  3.3054e-02],\n",
              "                        [-2.3835e-02, -2.4107e-02, -4.3491e-02, -4.1186e-03, -3.0120e-02],\n",
              "                        [-1.2738e-02,  1.7161e-02, -4.0986e-02, -1.0748e-02,  2.2301e-02],\n",
              "                        [ 4.7353e-02, -8.1747e-04,  4.8526e-02, -4.9971e-02, -3.6928e-02],\n",
              "                        [ 2.6629e-02, -1.2624e-02,  4.1707e-02, -4.9190e-02,  2.4313e-02]],\n",
              "              \n",
              "                       [[-1.4218e-02,  3.4115e-03,  8.2865e-03,  2.1284e-02,  2.1494e-02],\n",
              "                        [ 2.8853e-02, -3.9973e-02,  4.2460e-02, -3.5072e-02, -2.6613e-02],\n",
              "                        [ 3.5575e-02,  2.8151e-03,  4.9400e-02, -4.2795e-02, -3.3820e-02],\n",
              "                        [-3.1591e-03, -1.6947e-02,  2.3807e-02, -4.1703e-02, -3.6900e-02],\n",
              "                        [-2.8636e-02,  3.7856e-02, -4.9240e-02,  1.0610e-02, -7.3374e-03]]],\n",
              "              \n",
              "              \n",
              "                      [[[ 2.8060e-02,  3.0573e-02,  4.4270e-02,  3.9903e-02, -2.8615e-02],\n",
              "                        [-3.0217e-02,  1.5261e-02, -3.0803e-02, -1.0191e-02, -3.9968e-02],\n",
              "                        [-2.5154e-03,  6.0878e-03,  3.7696e-02, -1.1922e-02,  4.4967e-02],\n",
              "                        [ 3.8553e-02, -1.5975e-02,  4.5832e-02, -2.0551e-02,  4.7615e-02],\n",
              "                        [ 9.3529e-04, -2.5734e-02,  1.3465e-02,  3.6399e-02,  4.4204e-02]],\n",
              "              \n",
              "                       [[ 1.0878e-02, -4.6017e-02, -1.5691e-02,  7.6713e-03,  4.2436e-02],\n",
              "                        [-6.8244e-04,  3.8801e-02, -3.4284e-02, -4.7344e-02,  2.1895e-02],\n",
              "                        [ 4.1630e-02, -9.1422e-03, -8.6530e-03,  9.8966e-03, -3.2236e-02],\n",
              "                        [-1.7263e-02,  3.6354e-02,  1.0825e-02,  3.7096e-02,  2.3778e-02],\n",
              "                        [ 2.8042e-02, -3.6309e-02, -1.7771e-02, -1.5907e-02, -4.8951e-02]],\n",
              "              \n",
              "                       [[ 3.3704e-02,  3.4706e-02, -2.5457e-02, -1.7744e-02,  3.6044e-02],\n",
              "                        [-1.8161e-02,  3.8570e-02, -1.9234e-03, -1.3915e-02, -1.3942e-02],\n",
              "                        [ 4.5074e-02,  3.4929e-02,  2.1246e-02,  4.9044e-03,  4.3435e-02],\n",
              "                        [ 4.8350e-02, -4.3244e-02,  3.2092e-02, -3.9763e-02,  7.5163e-03],\n",
              "                        [ 3.3928e-03,  4.6439e-03, -2.8321e-02, -3.2784e-02,  3.0151e-02]],\n",
              "              \n",
              "                       ...,\n",
              "              \n",
              "                       [[-4.9510e-02, -3.4949e-02,  4.9524e-02, -2.2464e-02, -2.3861e-02],\n",
              "                        [-4.3439e-02, -4.9418e-02, -3.7211e-02, -1.4033e-02, -3.2202e-02],\n",
              "                        [-3.3839e-02,  1.0456e-02, -2.4186e-02,  2.8227e-02,  3.2902e-02],\n",
              "                        [ 3.8076e-02, -1.8234e-03, -1.7528e-02,  2.1582e-02, -1.3112e-02],\n",
              "                        [ 1.2827e-02,  2.7312e-02, -7.8752e-03,  3.6382e-02,  2.8026e-02]],\n",
              "              \n",
              "                       [[ 3.2516e-02, -4.1191e-02, -1.5029e-03, -1.6948e-02,  1.8561e-02],\n",
              "                        [ 3.7250e-02,  3.2154e-02,  2.3817e-02,  5.8575e-03,  3.5901e-02],\n",
              "                        [-3.3951e-02, -1.4577e-02, -3.5279e-02,  4.5393e-02,  9.1506e-03],\n",
              "                        [-3.8505e-03,  3.6519e-02,  2.4071e-02,  3.6786e-02, -4.5015e-02],\n",
              "                        [-4.8711e-02, -4.6121e-02, -6.5719e-03, -4.3590e-02,  3.6220e-02]],\n",
              "              \n",
              "                       [[-4.4453e-02,  1.3625e-02, -2.1889e-02,  6.0174e-03, -4.2448e-02],\n",
              "                        [-4.1439e-02, -2.3807e-03,  4.6466e-02,  3.6566e-03,  4.8720e-04],\n",
              "                        [ 4.0119e-02, -1.7877e-02, -1.3957e-02, -1.8544e-02,  1.8396e-02],\n",
              "                        [-5.2604e-03,  5.3260e-03,  4.7362e-02,  7.5454e-03,  1.5556e-02],\n",
              "                        [-1.5439e-02,  3.0649e-02, -1.2241e-02, -3.7125e-02,  2.0490e-03]]],\n",
              "              \n",
              "              \n",
              "                      ...,\n",
              "              \n",
              "              \n",
              "                      [[[ 1.4160e-02,  1.2492e-02,  3.3530e-02,  3.9597e-02,  3.1161e-02],\n",
              "                        [-3.2689e-02,  2.0593e-02,  4.2333e-02, -2.9321e-02, -6.2270e-03],\n",
              "                        [ 2.5801e-02, -3.8231e-02,  3.3171e-02, -4.9264e-03, -4.9824e-02],\n",
              "                        [ 1.5671e-02,  2.2164e-02,  4.1318e-02,  1.1412e-02,  1.2123e-02],\n",
              "                        [ 2.4626e-02,  3.8762e-02,  3.6354e-02,  5.5841e-03, -1.0136e-02]],\n",
              "              \n",
              "                       [[ 1.0529e-02, -3.5136e-02,  1.2841e-02, -4.8083e-02,  4.8011e-03],\n",
              "                        [ 7.3437e-03, -1.9748e-02,  7.1822e-03,  2.6701e-02, -3.5681e-02],\n",
              "                        [-4.1836e-02,  4.5134e-03,  2.9566e-02, -1.2239e-02,  6.3774e-03],\n",
              "                        [ 2.4494e-03, -8.6200e-05,  3.2358e-02, -2.6424e-02,  2.4163e-03],\n",
              "                        [ 3.5604e-02,  3.4097e-02,  2.9735e-02, -2.0262e-02, -2.5810e-02]],\n",
              "              \n",
              "                       [[ 3.7662e-02, -3.7140e-02,  4.3266e-02,  2.2814e-02,  3.7632e-02],\n",
              "                        [ 2.9800e-02,  5.1994e-03, -3.5226e-02, -1.3086e-02,  4.9720e-02],\n",
              "                        [-3.0551e-02, -4.8766e-02,  3.7032e-02, -1.8648e-02, -8.3934e-03],\n",
              "                        [ 7.9411e-03,  1.4492e-02, -1.7284e-02,  2.6009e-02, -3.7570e-02],\n",
              "                        [-2.7876e-02, -1.5277e-02, -2.8674e-02, -3.4226e-02,  4.8460e-02]],\n",
              "              \n",
              "                       ...,\n",
              "              \n",
              "                       [[ 4.3321e-02,  4.4874e-02,  9.9348e-04,  4.5031e-02, -2.4142e-02],\n",
              "                        [-8.7955e-03, -3.0706e-02,  1.4627e-02,  1.6876e-03, -4.4181e-02],\n",
              "                        [-4.1764e-02,  1.7026e-02,  4.3329e-02, -1.9500e-02,  3.8306e-02],\n",
              "                        [-1.0344e-02,  3.5081e-02, -4.3149e-02, -9.2390e-03,  4.2479e-02],\n",
              "                        [ 1.9934e-02,  4.0267e-02, -1.2423e-03,  1.8475e-02,  2.6001e-03]],\n",
              "              \n",
              "                       [[ 2.7692e-04,  4.0878e-02, -2.4011e-03,  1.8693e-02,  1.0438e-02],\n",
              "                        [ 7.0885e-03,  2.1132e-03, -1.6302e-03, -1.4028e-02, -4.3659e-02],\n",
              "                        [ 2.2651e-02,  4.3196e-02, -8.8483e-03,  2.1551e-02,  2.7512e-03],\n",
              "                        [-3.6121e-02,  2.7938e-02, -4.1768e-02,  2.6871e-02,  4.3904e-02],\n",
              "                        [-2.4230e-02, -4.7861e-04, -6.0733e-03,  3.2266e-02, -4.2640e-02]],\n",
              "              \n",
              "                       [[-1.8825e-02, -6.9725e-03,  3.5833e-02, -1.5985e-02,  2.5380e-02],\n",
              "                        [ 1.7842e-02,  4.8004e-02, -5.5180e-03,  2.9867e-02, -2.6112e-02],\n",
              "                        [-3.9457e-02,  3.8840e-02, -1.1849e-02, -4.8513e-02, -4.6880e-02],\n",
              "                        [-8.3115e-03, -2.0517e-02, -7.2838e-03,  7.8855e-03,  1.9451e-02],\n",
              "                        [ 2.4225e-02, -2.9994e-02, -1.9612e-02,  1.3969e-02,  4.0513e-02]]],\n",
              "              \n",
              "              \n",
              "                      [[[ 7.7207e-03,  2.0888e-02,  4.5166e-02, -4.7077e-02,  8.6889e-03],\n",
              "                        [-4.0450e-02,  2.2199e-02, -3.4390e-02,  3.0601e-03, -4.6373e-02],\n",
              "                        [-1.3290e-02,  1.8053e-02, -4.7585e-02,  4.7478e-02, -3.0150e-02],\n",
              "                        [-3.1809e-02,  1.2462e-02,  1.6576e-02, -2.9413e-02,  2.5350e-02],\n",
              "                        [ 3.2353e-02, -2.5888e-02, -4.9137e-02, -3.2343e-02, -1.4943e-02]],\n",
              "              \n",
              "                       [[ 3.5556e-02, -1.4796e-02,  2.9334e-03,  1.6609e-02,  1.0002e-02],\n",
              "                        [-4.4163e-02,  4.8982e-02, -9.2813e-04, -3.0392e-02, -1.9299e-02],\n",
              "                        [ 3.2014e-03,  7.6432e-04, -3.3204e-02, -4.5940e-02,  3.9497e-02],\n",
              "                        [-5.3304e-03,  4.8304e-02, -4.7936e-03,  2.8590e-02,  2.6842e-02],\n",
              "                        [ 1.3513e-03,  3.2148e-02, -4.5259e-02, -3.2163e-02,  5.0161e-03]],\n",
              "              \n",
              "                       [[ 1.3971e-02, -2.2468e-03,  3.2066e-02, -4.0756e-02, -2.1019e-02],\n",
              "                        [ 1.3700e-02, -7.8936e-03, -3.4538e-02, -4.2147e-02, -2.0320e-02],\n",
              "                        [-2.8311e-02,  1.2176e-02, -4.3406e-02, -1.0416e-03,  4.8426e-02],\n",
              "                        [ 1.1776e-02, -4.1438e-02,  9.9802e-04, -3.1496e-02, -4.4328e-02],\n",
              "                        [ 2.6898e-02,  1.2458e-02,  4.1314e-02,  7.7267e-03, -3.1631e-02]],\n",
              "              \n",
              "                       ...,\n",
              "              \n",
              "                       [[-1.7170e-02, -1.2724e-02,  3.2449e-02, -2.4794e-02, -4.8497e-02],\n",
              "                        [ 4.7055e-03,  4.1608e-02, -4.1510e-02,  7.2026e-03, -3.1478e-03],\n",
              "                        [ 4.2211e-02, -3.8125e-02, -2.1509e-02, -1.4916e-02,  8.5341e-03],\n",
              "                        [ 2.6590e-02, -2.4166e-02, -4.1248e-02, -2.3909e-02,  2.0066e-02],\n",
              "                        [-1.1443e-02, -6.8846e-03, -1.9640e-02, -3.1740e-02, -3.6106e-02]],\n",
              "              \n",
              "                       [[ 3.0567e-02,  9.6020e-03,  7.7632e-03,  3.2288e-02,  1.4488e-02],\n",
              "                        [-4.6349e-02, -2.6550e-02,  3.8316e-02, -1.2093e-02,  3.0983e-02],\n",
              "                        [ 1.6283e-02, -5.9024e-03,  1.7698e-03,  1.2911e-03,  5.9121e-03],\n",
              "                        [-2.4552e-02,  4.2242e-02,  4.1111e-02,  2.3565e-02, -1.3672e-02],\n",
              "                        [ 4.9616e-02,  2.9793e-02,  1.0023e-02,  5.1674e-03, -2.8193e-02]],\n",
              "              \n",
              "                       [[ 2.8328e-02,  4.5736e-02, -4.8674e-02, -9.8853e-03, -1.9688e-02],\n",
              "                        [ 4.2149e-02, -3.1258e-02, -1.4637e-02, -4.4135e-02, -1.7577e-02],\n",
              "                        [ 3.4630e-02, -1.4067e-02, -3.4929e-02,  4.5435e-02, -7.7020e-03],\n",
              "                        [ 3.4341e-02, -3.8038e-02,  1.6123e-03, -2.1841e-02,  6.6602e-03],\n",
              "                        [-2.3536e-03, -1.8796e-02, -1.4930e-02, -4.1879e-02,  4.3128e-02]]],\n",
              "              \n",
              "              \n",
              "                      [[[ 1.8354e-02, -1.6451e-02, -2.3984e-02, -2.0123e-02, -4.7163e-02],\n",
              "                        [ 3.2071e-03, -4.7481e-02,  2.6205e-02,  2.1514e-02, -4.7005e-02],\n",
              "                        [-1.0277e-02, -2.0596e-02,  5.9189e-03, -3.7442e-02, -4.9556e-02],\n",
              "                        [-2.0513e-02, -9.9312e-03, -3.0535e-02, -1.5597e-02, -4.4240e-02],\n",
              "                        [-9.1108e-03,  4.5742e-02, -8.4490e-03, -2.4558e-02,  4.5988e-02]],\n",
              "              \n",
              "                       [[ 4.2441e-02,  5.1194e-03,  4.6897e-02,  1.8329e-02,  2.2612e-02],\n",
              "                        [ 1.9562e-02,  4.8133e-02,  3.7652e-02,  4.6212e-02,  1.1589e-02],\n",
              "                        [-4.3610e-03, -1.3533e-02, -3.8919e-02, -2.1024e-02,  4.0984e-02],\n",
              "                        [-4.8779e-02, -3.3269e-02,  1.6777e-02, -4.8700e-02, -2.8941e-02],\n",
              "                        [-4.0049e-02,  1.5147e-02,  2.8819e-02,  4.4486e-02,  2.5532e-02]],\n",
              "              \n",
              "                       [[ 4.8081e-02,  2.6241e-02, -2.4261e-02, -3.9390e-02, -3.2199e-02],\n",
              "                        [ 1.1633e-02, -3.9079e-02,  1.1180e-02,  2.7717e-02, -4.9418e-02],\n",
              "                        [ 4.2713e-02,  4.1972e-02,  4.8021e-02, -6.8180e-04,  3.7032e-02],\n",
              "                        [ 1.5913e-02, -1.0903e-02,  3.9434e-02,  3.3747e-02,  3.9282e-02],\n",
              "                        [ 2.3927e-02,  2.6137e-02,  4.7066e-02, -2.1694e-02, -2.5583e-02]],\n",
              "              \n",
              "                       ...,\n",
              "              \n",
              "                       [[ 4.3894e-02,  3.8548e-02, -4.7927e-03, -4.5431e-04,  4.2258e-02],\n",
              "                        [ 2.5599e-03, -1.2114e-02,  7.2583e-03,  4.3749e-02,  2.7062e-02],\n",
              "                        [ 4.8654e-02,  4.1381e-02,  3.3418e-02, -9.5063e-03,  2.7569e-02],\n",
              "                        [ 5.6417e-03, -3.0827e-02, -4.7870e-02,  2.2467e-02, -1.4283e-03],\n",
              "                        [ 4.6025e-02, -1.7844e-02,  3.0632e-02, -4.8947e-02,  1.9059e-02]],\n",
              "              \n",
              "                       [[-1.8318e-04,  2.7729e-02,  4.1769e-02,  2.5318e-02, -2.2496e-03],\n",
              "                        [ 3.3254e-02, -3.7618e-02, -4.5028e-02, -2.1853e-02,  2.3803e-02],\n",
              "                        [ 3.4106e-02,  1.3690e-02,  6.7179e-04,  4.3154e-02, -4.3650e-02],\n",
              "                        [ 2.9965e-03,  2.9572e-02,  1.3482e-02, -6.4457e-03, -4.0253e-02],\n",
              "                        [ 3.6542e-02,  3.8181e-02,  2.8194e-02, -4.2273e-02,  4.9248e-02]],\n",
              "              \n",
              "                       [[ 1.5718e-02, -4.3731e-02,  4.6012e-02,  1.6331e-02, -4.5435e-02],\n",
              "                        [ 2.2666e-02,  3.3020e-02,  2.7688e-02, -3.4988e-02, -1.5296e-02],\n",
              "                        [-2.5027e-02,  3.5166e-02, -4.4158e-02,  1.1587e-02, -1.9054e-02],\n",
              "                        [-4.6439e-03,  1.6637e-03, -5.6968e-03,  3.7103e-02,  3.1085e-02],\n",
              "                        [-2.0138e-04, -4.0093e-02,  4.3887e-02,  1.8623e-02, -4.4142e-02]]]],\n",
              "                     device='cuda:0')),\n",
              "             ('conv2.bias',\n",
              "              tensor([ 0.0453,  0.0223, -0.0314, -0.0430,  0.0290,  0.0133,  0.0273,  0.0026,\n",
              "                      -0.0293,  0.0360, -0.0346, -0.0292,  0.0364, -0.0155, -0.0083, -0.0298,\n",
              "                      -0.0139, -0.0118, -0.0340, -0.0332,  0.0279, -0.0336,  0.0395, -0.0201,\n",
              "                      -0.0184,  0.0286, -0.0492,  0.0403, -0.0304, -0.0091,  0.0303,  0.0357],\n",
              "                     device='cuda:0')),\n",
              "             ('bn2.weight',\n",
              "              tensor([1., 1., 1., 1., 1., 1., 1., 1., 1., 1., 1., 1., 1., 1., 1., 1., 1., 1.,\n",
              "                      1., 1., 1., 1., 1., 1., 1., 1., 1., 1., 1., 1., 1., 1.],\n",
              "                     device='cuda:0')),\n",
              "             ('bn2.bias',\n",
              "              tensor([0., 0., 0., 0., 0., 0., 0., 0., 0., 0., 0., 0., 0., 0., 0., 0., 0., 0., 0., 0., 0., 0., 0., 0.,\n",
              "                      0., 0., 0., 0., 0., 0., 0., 0.], device='cuda:0')),\n",
              "             ('bn2.running_mean',\n",
              "              tensor([0., 0., 0., 0., 0., 0., 0., 0., 0., 0., 0., 0., 0., 0., 0., 0., 0., 0., 0., 0., 0., 0., 0., 0.,\n",
              "                      0., 0., 0., 0., 0., 0., 0., 0.], device='cuda:0')),\n",
              "             ('bn2.running_var',\n",
              "              tensor([1., 1., 1., 1., 1., 1., 1., 1., 1., 1., 1., 1., 1., 1., 1., 1., 1., 1.,\n",
              "                      1., 1., 1., 1., 1., 1., 1., 1., 1., 1., 1., 1., 1., 1.],\n",
              "                     device='cuda:0')),\n",
              "             ('bn2.num_batches_tracked', tensor(0, device='cuda:0')),\n",
              "             ('conv3.weight',\n",
              "              tensor([[[[ 4.0512e-03,  2.9627e-02, -2.6410e-03,  1.8504e-02,  2.7455e-02],\n",
              "                        [ 2.3038e-02,  3.0289e-02,  3.4396e-02, -3.0858e-02, -2.9779e-03],\n",
              "                        [-2.0647e-02, -1.2933e-03, -2.5358e-02,  2.4911e-02,  2.2140e-02],\n",
              "                        [-3.0979e-02, -1.1404e-02, -1.8846e-03, -3.0572e-02,  2.8365e-02],\n",
              "                        [ 4.0426e-04, -1.9117e-02,  2.9662e-02, -7.4269e-03,  1.4735e-02]],\n",
              "              \n",
              "                       [[ 1.3734e-03, -4.1367e-04, -2.5219e-03, -1.2481e-02, -2.1735e-02],\n",
              "                        [ 5.0716e-03,  1.1310e-02,  1.7374e-02,  3.2704e-02, -3.3699e-02],\n",
              "                        [-2.8285e-03,  3.4085e-02, -6.6242e-05,  3.0762e-02, -1.5001e-04],\n",
              "                        [ 5.2584e-03, -2.5990e-02,  7.9706e-03,  8.4223e-03,  1.2462e-02],\n",
              "                        [-3.1502e-02,  3.2375e-02,  1.7683e-02, -2.9253e-02,  2.9693e-02]],\n",
              "              \n",
              "                       [[ 4.3383e-03, -7.1520e-03, -2.9856e-02,  5.9595e-03, -2.0806e-02],\n",
              "                        [-2.8758e-02, -9.5817e-05,  6.7830e-03,  1.7016e-02,  4.7343e-03],\n",
              "                        [ 3.0272e-02,  2.7535e-02,  1.4478e-02, -3.2964e-02, -2.9017e-02],\n",
              "                        [ 1.2680e-03,  2.9256e-02,  1.3027e-02,  2.1515e-03, -3.3328e-02],\n",
              "                        [ 1.4199e-02,  1.6855e-02, -2.7289e-02,  3.8140e-03,  3.1491e-02]],\n",
              "              \n",
              "                       ...,\n",
              "              \n",
              "                       [[ 3.2524e-02, -2.8321e-03, -1.0669e-02, -1.3843e-02, -1.9085e-02],\n",
              "                        [ 2.8619e-02, -9.4432e-03,  2.8939e-02,  1.2378e-02, -5.5047e-03],\n",
              "                        [ 2.7018e-03,  3.7999e-03,  2.2040e-02,  2.5234e-02,  2.9224e-02],\n",
              "                        [ 3.1814e-02, -2.3714e-02, -3.1933e-02, -2.0107e-02,  2.7734e-02],\n",
              "                        [ 1.7415e-02, -3.3859e-02,  2.3464e-02,  2.8947e-02, -3.4020e-02]],\n",
              "              \n",
              "                       [[ 5.1347e-03,  4.8194e-03, -2.1822e-02, -2.1039e-02,  1.1512e-02],\n",
              "                        [ 1.4291e-02, -1.2791e-02, -3.4244e-02,  1.7284e-02, -1.5789e-02],\n",
              "                        [-2.4203e-03, -6.0084e-04, -3.2283e-02,  2.0775e-02,  2.7688e-02],\n",
              "                        [ 1.3936e-02, -6.1497e-03,  9.9889e-04,  2.2854e-02, -3.1279e-02],\n",
              "                        [-2.1279e-02,  1.8180e-02, -2.8661e-02,  1.8597e-02,  1.4497e-03]],\n",
              "              \n",
              "                       [[-3.2814e-02, -2.3807e-02, -3.3467e-02, -1.5950e-02,  2.9131e-02],\n",
              "                        [-1.3060e-02,  1.0185e-02,  1.0303e-02, -1.0756e-02, -3.3758e-02],\n",
              "                        [-1.4103e-02, -1.1959e-02, -2.7380e-02, -3.2036e-03,  9.0753e-04],\n",
              "                        [-8.1281e-04, -1.3540e-02, -1.8461e-02,  3.2642e-02,  1.7236e-02],\n",
              "                        [ 2.7657e-04, -2.3039e-02,  3.2246e-02, -6.3842e-03,  1.9006e-03]]],\n",
              "              \n",
              "              \n",
              "                      [[[ 1.7476e-02,  2.7089e-02,  3.4731e-02,  2.4709e-02,  3.0979e-02],\n",
              "                        [ 1.0949e-02,  1.4137e-02,  2.9864e-03, -3.4513e-03, -9.4585e-03],\n",
              "                        [ 1.2832e-02, -2.6942e-04, -2.7200e-02, -2.5665e-02,  2.3453e-02],\n",
              "                        [-1.7185e-02, -3.0883e-02,  4.4074e-03, -1.5250e-02, -6.4059e-03],\n",
              "                        [ 5.2134e-03, -7.1060e-03, -5.5931e-03, -2.5277e-02,  2.3616e-03]],\n",
              "              \n",
              "                       [[-1.7285e-02,  3.2285e-02,  2.7016e-02,  1.0826e-02, -2.8998e-02],\n",
              "                        [ 9.0714e-03, -3.5217e-02,  2.2780e-02, -2.8185e-03,  7.6317e-03],\n",
              "                        [ 3.2794e-02,  1.3966e-02, -5.4405e-03, -1.9323e-04,  1.2396e-02],\n",
              "                        [ 2.1131e-02,  3.2565e-02,  2.8554e-02, -2.6090e-02,  3.4212e-02],\n",
              "                        [ 2.8794e-02,  1.7748e-02,  6.1693e-03,  3.2576e-03, -5.3524e-03]],\n",
              "              \n",
              "                       [[-2.9620e-02, -4.5795e-03, -2.8918e-02, -8.2751e-03, -2.8620e-02],\n",
              "                        [ 7.7659e-03,  1.0611e-02, -2.1694e-03,  1.8914e-02, -7.4838e-03],\n",
              "                        [ 6.8632e-03, -5.2306e-03, -2.9883e-02,  4.8475e-03, -3.2281e-02],\n",
              "                        [ 2.6403e-02, -9.5434e-04, -2.5800e-02,  3.3617e-02, -3.4319e-02],\n",
              "                        [-3.0748e-02,  1.9389e-03, -1.2733e-02,  2.1800e-02, -1.6489e-02]],\n",
              "              \n",
              "                       ...,\n",
              "              \n",
              "                       [[ 1.3183e-02,  2.7662e-02, -1.7759e-02, -8.9605e-03, -9.9630e-03],\n",
              "                        [-1.1422e-02,  1.8726e-02,  2.5589e-02,  2.7407e-02,  1.2313e-03],\n",
              "                        [ 1.7809e-02,  3.3239e-02, -1.8068e-02,  5.5902e-03, -2.5341e-02],\n",
              "                        [ 1.0815e-03, -3.4480e-02,  1.5579e-02,  1.0689e-02,  9.4548e-03],\n",
              "                        [ 2.3486e-02, -1.0999e-02, -2.5924e-02,  5.6894e-04, -3.5157e-02]],\n",
              "              \n",
              "                       [[-1.1311e-02, -1.6696e-02,  2.8123e-02,  8.0871e-03,  8.9499e-03],\n",
              "                        [ 1.7248e-03, -2.1418e-02, -2.5596e-02, -3.9737e-03,  1.4743e-02],\n",
              "                        [ 2.5730e-02, -8.0565e-03,  3.9273e-03, -3.2431e-02,  2.0140e-03],\n",
              "                        [-1.6867e-02,  8.9492e-03,  1.6415e-02, -2.8430e-02, -1.9860e-02],\n",
              "                        [-2.7535e-02,  1.6870e-02, -4.9643e-03,  2.9555e-02, -6.4817e-04]],\n",
              "              \n",
              "                       [[ 4.8465e-04, -1.4608e-02, -2.6485e-02, -1.3782e-03, -2.3089e-02],\n",
              "                        [ 3.0927e-02, -2.7794e-02, -2.7203e-02, -7.1122e-03,  1.0573e-02],\n",
              "                        [ 1.6971e-02,  3.1680e-02,  3.3545e-03,  2.8308e-03,  2.4872e-02],\n",
              "                        [-5.6384e-03,  1.2292e-02, -1.5250e-02, -3.4156e-02,  5.1302e-03],\n",
              "                        [-2.9106e-02,  8.0394e-03, -2.1104e-02, -3.0459e-02, -1.8550e-02]]],\n",
              "              \n",
              "              \n",
              "                      [[[-9.5440e-03,  9.7215e-03, -6.1740e-03,  2.7780e-02,  1.3768e-02],\n",
              "                        [ 1.6742e-02, -4.5109e-03,  2.1970e-02, -2.1635e-02, -1.5847e-02],\n",
              "                        [ 1.3535e-02,  1.1123e-02, -1.0587e-03, -2.4022e-02, -8.7691e-03],\n",
              "                        [ 2.7822e-02,  2.9500e-02, -4.5723e-03,  4.9371e-03, -2.0135e-02],\n",
              "                        [-2.9883e-02,  2.7531e-02, -1.5287e-02,  3.1382e-03,  3.3063e-02]],\n",
              "              \n",
              "                       [[ 2.2317e-02,  3.1567e-02,  2.3911e-02,  2.1780e-02,  1.0301e-02],\n",
              "                        [ 3.0883e-03, -2.9145e-02, -3.2869e-02,  1.1391e-02,  2.6795e-02],\n",
              "                        [-8.5921e-03,  8.5076e-03,  1.7780e-02,  1.7157e-02,  1.3030e-02],\n",
              "                        [-2.3481e-02,  2.0106e-02, -2.5465e-02,  2.7405e-02,  2.9604e-02],\n",
              "                        [-2.0561e-02,  1.2649e-02,  7.1166e-03, -4.5082e-03,  1.0044e-02]],\n",
              "              \n",
              "                       [[ 5.0744e-03, -9.9405e-03, -2.2748e-02, -3.1707e-02, -1.1902e-02],\n",
              "                        [ 1.7727e-02, -2.5728e-02,  9.0157e-03, -1.5547e-02,  3.1424e-02],\n",
              "                        [-1.1723e-02,  2.6809e-02, -2.1554e-02, -2.4514e-02,  2.6784e-02],\n",
              "                        [ 3.3336e-02,  3.0377e-02,  3.1415e-02,  1.3160e-02,  7.7992e-03],\n",
              "                        [ 3.4397e-02, -7.5459e-03,  3.0312e-03, -8.4451e-03,  1.8115e-02]],\n",
              "              \n",
              "                       ...,\n",
              "              \n",
              "                       [[ 8.1811e-03,  2.9267e-02,  1.9069e-02,  2.5108e-02,  2.2549e-02],\n",
              "                        [-2.3350e-02, -2.6918e-02,  2.2785e-02,  2.3302e-02,  1.8315e-02],\n",
              "                        [ 2.9783e-02,  2.0367e-02, -2.7005e-02, -1.3284e-02, -2.4916e-02],\n",
              "                        [ 1.2554e-02,  3.3181e-03,  1.4828e-02, -1.9387e-03, -2.5695e-02],\n",
              "                        [ 1.2554e-02, -1.9664e-02, -2.3524e-02, -5.3099e-03,  3.0715e-02]],\n",
              "              \n",
              "                       [[-3.1097e-02,  5.7981e-03,  3.3676e-02, -6.1056e-03, -2.0916e-02],\n",
              "                        [ 3.1817e-02,  1.4254e-02, -2.1620e-02,  1.2611e-04,  5.6943e-03],\n",
              "                        [ 1.5507e-02, -2.7608e-02,  8.9191e-03, -6.9351e-03, -2.4807e-02],\n",
              "                        [ 2.3478e-02, -2.0408e-02, -1.7306e-02, -2.8779e-02, -2.2106e-02],\n",
              "                        [-3.1215e-02,  3.4063e-02, -3.4901e-02,  8.9951e-03,  7.2946e-03]],\n",
              "              \n",
              "                       [[-2.4215e-02, -3.1382e-02, -1.8816e-02,  4.3237e-04, -1.6285e-02],\n",
              "                        [-1.3157e-02,  7.2341e-03, -1.6613e-02,  2.9061e-02,  3.1210e-02],\n",
              "                        [ 1.9649e-02,  2.6436e-02,  2.6709e-02,  2.6366e-02,  7.8587e-03],\n",
              "                        [-2.3987e-02, -2.5851e-02,  5.1674e-03, -9.4718e-03, -2.4586e-02],\n",
              "                        [ 7.7642e-03,  5.1490e-03,  2.0310e-02,  1.0744e-02,  2.4074e-02]]],\n",
              "              \n",
              "              \n",
              "                      ...,\n",
              "              \n",
              "              \n",
              "                      [[[ 1.3667e-02, -1.7368e-02, -3.0084e-02,  2.6738e-02,  1.7463e-02],\n",
              "                        [ 5.0098e-03, -3.2697e-03,  1.3356e-02, -2.1218e-02,  3.0574e-02],\n",
              "                        [ 4.8658e-03, -1.9905e-02, -5.6529e-03,  1.0932e-02,  1.8365e-02],\n",
              "                        [ 8.9372e-05, -7.8357e-03, -2.6052e-02, -3.3136e-02, -3.0576e-02],\n",
              "                        [-2.5088e-02,  1.1742e-03, -2.7298e-02,  2.2683e-02,  2.5230e-02]],\n",
              "              \n",
              "                       [[ 8.3478e-04,  8.2273e-03, -3.2675e-02, -2.1288e-02, -3.5012e-02],\n",
              "                        [ 9.5606e-03,  8.4358e-03,  2.9915e-02, -3.3988e-02,  1.0645e-02],\n",
              "                        [-2.9134e-02, -1.3391e-02,  3.5348e-03,  3.0658e-02,  1.9144e-02],\n",
              "                        [-8.5944e-03, -2.6645e-02, -3.1002e-02,  3.0102e-02, -2.3501e-02],\n",
              "                        [ 2.9003e-02, -3.0687e-02,  1.6943e-02, -7.2363e-03, -1.4414e-02]],\n",
              "              \n",
              "                       [[-2.0625e-02, -7.7209e-03,  3.3666e-02,  1.9549e-02,  2.2853e-02],\n",
              "                        [ 1.3204e-02, -2.5075e-02, -2.2182e-03,  9.3948e-03,  2.3414e-02],\n",
              "                        [-1.1306e-02, -2.6455e-02,  3.5274e-02, -3.3214e-02,  2.1443e-02],\n",
              "                        [-3.3787e-02,  2.6720e-02, -2.3329e-02,  2.9238e-02,  2.5288e-02],\n",
              "                        [ 2.7143e-02, -2.1758e-02,  1.4278e-02,  1.6230e-02, -2.2293e-02]],\n",
              "              \n",
              "                       ...,\n",
              "              \n",
              "                       [[-1.5952e-02,  2.7922e-02, -1.3754e-02, -7.7566e-03,  2.7551e-02],\n",
              "                        [-1.4167e-03,  1.0847e-02,  1.4873e-02, -1.2692e-02, -3.1849e-02],\n",
              "                        [-2.1048e-02,  9.0407e-03,  1.7476e-02, -2.4461e-02, -2.3060e-02],\n",
              "                        [ 2.0061e-02, -2.1483e-02, -3.1402e-02,  6.7549e-03,  2.9243e-02],\n",
              "                        [ 3.2225e-03, -1.4020e-02,  1.2059e-02, -1.1421e-02, -3.5348e-02]],\n",
              "              \n",
              "                       [[-1.1714e-02, -7.7866e-03,  2.4740e-02, -2.3938e-02, -2.4294e-02],\n",
              "                        [-2.4098e-02, -8.3707e-03,  7.5301e-03, -2.9981e-02, -2.0552e-02],\n",
              "                        [-2.9411e-02, -1.4762e-02,  3.1554e-02,  2.6376e-02, -3.1938e-02],\n",
              "                        [-3.2061e-02, -5.8407e-03, -1.6890e-02,  1.7456e-02, -2.8832e-02],\n",
              "                        [ 2.9380e-02, -1.7245e-02, -1.1220e-03, -1.0926e-03, -1.4845e-02]],\n",
              "              \n",
              "                       [[-2.4614e-02,  2.5937e-02, -2.8070e-02, -1.7050e-02,  1.8082e-02],\n",
              "                        [ 1.5760e-02,  1.8509e-02, -1.8382e-02, -3.3936e-02,  3.2817e-02],\n",
              "                        [-2.4535e-02, -3.5050e-02, -1.6194e-02, -1.6520e-02,  2.6471e-02],\n",
              "                        [ 2.7602e-02, -9.9676e-03,  3.0863e-02,  1.7710e-02, -3.4092e-02],\n",
              "                        [ 2.7230e-02, -3.4372e-02,  4.5146e-03, -2.2911e-02, -8.4237e-03]]],\n",
              "              \n",
              "              \n",
              "                      [[[-2.5540e-02,  3.2962e-02, -2.4288e-02,  2.1742e-02,  3.7748e-03],\n",
              "                        [ 2.0369e-02, -1.1087e-02,  2.5804e-02, -2.4732e-03,  4.5768e-04],\n",
              "                        [-1.1854e-02, -6.8665e-03,  2.2557e-02, -2.9954e-02,  2.2392e-02],\n",
              "                        [ 2.6722e-02,  3.2693e-02,  1.4633e-02, -5.5807e-03,  1.6356e-02],\n",
              "                        [ 4.3692e-03,  1.7079e-03,  1.3718e-02, -1.6394e-02, -2.7897e-02]],\n",
              "              \n",
              "                       [[ 1.1046e-02, -1.9511e-02,  1.0287e-02,  2.8909e-02,  3.1167e-02],\n",
              "                        [ 2.8969e-02,  8.3621e-03, -2.2513e-02,  1.5254e-02, -1.3763e-02],\n",
              "                        [ 5.6840e-03,  6.3471e-03, -1.4136e-02,  2.8846e-02,  2.2596e-02],\n",
              "                        [-4.8351e-03,  3.2497e-02, -1.1678e-02,  6.8744e-03,  3.0937e-02],\n",
              "                        [-2.5208e-02,  1.9007e-02,  1.5011e-02, -1.5648e-02,  2.5618e-02]],\n",
              "              \n",
              "                       [[ 2.6240e-02,  2.0273e-02,  2.0453e-02, -2.4482e-02,  7.0302e-03],\n",
              "                        [ 2.2783e-02, -1.4002e-02,  6.2909e-03,  2.7425e-02, -3.2739e-02],\n",
              "                        [ 8.7165e-03,  1.0527e-02, -1.1566e-02, -6.3580e-03,  1.7913e-02],\n",
              "                        [ 2.3770e-02,  1.2494e-02,  1.0341e-02,  2.6072e-02, -1.9520e-02],\n",
              "                        [ 3.1822e-02, -6.4247e-03, -2.4906e-02, -1.7745e-02,  3.1249e-02]],\n",
              "              \n",
              "                       ...,\n",
              "              \n",
              "                       [[-9.8787e-03,  1.2302e-02,  2.0972e-02, -1.1257e-02, -2.5010e-02],\n",
              "                        [-2.2681e-02,  3.1662e-02, -5.2211e-03,  1.8757e-02, -2.9089e-02],\n",
              "                        [ 2.6359e-02, -5.2086e-03, -1.0814e-02, -9.9595e-03,  3.3342e-02],\n",
              "                        [-2.6032e-02,  3.3595e-02, -2.2250e-02, -1.6123e-02, -8.5787e-03],\n",
              "                        [ 3.4314e-02, -2.0626e-02, -2.1214e-02, -3.7198e-03,  2.2639e-02]],\n",
              "              \n",
              "                       [[ 1.1482e-03, -9.0907e-03,  8.7200e-03,  1.4852e-02,  2.6274e-02],\n",
              "                        [ 1.6611e-02, -7.9765e-03,  2.4375e-02,  1.0885e-02,  3.2097e-02],\n",
              "                        [ 1.3380e-02,  4.1914e-03,  2.7476e-02, -1.3889e-02, -3.3944e-02],\n",
              "                        [-1.0290e-02,  1.2597e-02, -6.6345e-03, -3.1885e-02,  3.2452e-02],\n",
              "                        [-6.5365e-03,  2.2627e-03,  9.3217e-03, -2.1802e-02, -2.2690e-02]],\n",
              "              \n",
              "                       [[ 7.4909e-03, -1.3896e-02,  5.5537e-03, -3.0011e-03,  1.8475e-02],\n",
              "                        [-2.5532e-02,  2.4213e-02,  2.2615e-02, -2.1057e-02, -1.6050e-02],\n",
              "                        [ 1.9767e-03,  1.2195e-02,  1.2814e-02, -2.4567e-02, -3.1937e-02],\n",
              "                        [ 1.9698e-03, -1.5624e-02,  4.4730e-03,  2.5286e-02,  4.6645e-03],\n",
              "                        [ 3.4472e-02, -2.4452e-02, -1.0809e-02, -9.1759e-03, -1.3603e-02]]],\n",
              "              \n",
              "              \n",
              "                      [[[-3.3589e-02,  3.1627e-02, -2.4355e-02,  1.7713e-02, -1.6013e-02],\n",
              "                        [ 3.4749e-02,  1.2617e-03, -1.9482e-02,  1.8507e-02, -1.5284e-02],\n",
              "                        [ 2.8860e-02,  2.3043e-02, -7.7603e-03,  1.7396e-02, -2.2885e-02],\n",
              "                        [ 1.4094e-02, -2.7964e-02, -2.9797e-02,  2.8473e-02, -2.7890e-02],\n",
              "                        [-1.0457e-02,  7.2011e-04, -1.6464e-02, -4.8133e-03,  2.4202e-02]],\n",
              "              \n",
              "                       [[-2.0095e-03, -1.3987e-02, -7.0762e-03,  1.9298e-02, -2.9285e-02],\n",
              "                        [ 6.4558e-03, -1.1677e-02,  2.8389e-02, -2.9840e-02,  9.2658e-03],\n",
              "                        [-4.0561e-03,  5.9955e-04,  3.5082e-02,  2.0924e-02, -2.5948e-02],\n",
              "                        [-3.5173e-03, -1.6968e-02, -5.0486e-03, -2.9713e-02, -1.9717e-02],\n",
              "                        [-2.2574e-02, -2.4540e-02,  3.4771e-02, -2.7567e-02, -2.8195e-02]],\n",
              "              \n",
              "                       [[-4.7500e-03, -2.4559e-02, -1.4444e-02,  2.8589e-02,  2.1542e-02],\n",
              "                        [-3.1840e-02,  2.7411e-02, -2.2423e-02, -2.0506e-02, -2.5122e-02],\n",
              "                        [ 1.3437e-02, -5.7284e-03,  1.2827e-02, -9.3320e-03,  2.6620e-02],\n",
              "                        [ 3.1355e-02,  2.1280e-02, -8.6862e-03, -1.4764e-02, -3.4671e-02],\n",
              "                        [ 1.5032e-02,  5.9010e-03, -1.5560e-02,  2.7848e-02,  1.4715e-02]],\n",
              "              \n",
              "                       ...,\n",
              "              \n",
              "                       [[-6.7655e-03, -1.7476e-02,  3.3259e-02,  3.0714e-03, -1.6032e-02],\n",
              "                        [ 2.5998e-02, -1.1773e-02, -3.0552e-03,  2.8196e-02,  7.1384e-03],\n",
              "                        [ 2.9006e-02, -8.3891e-03, -2.6572e-02, -3.6228e-03,  1.0964e-02],\n",
              "                        [-3.2787e-02, -2.9975e-02, -2.9505e-02, -1.2246e-02, -2.9783e-02],\n",
              "                        [ 1.7735e-02,  3.0524e-02, -2.0494e-02, -3.2299e-02, -2.7573e-02]],\n",
              "              \n",
              "                       [[-8.6236e-04, -7.4177e-03,  1.8515e-02,  2.9783e-02,  1.0094e-02],\n",
              "                        [ 1.0054e-02,  2.6731e-02,  1.4160e-02, -7.8691e-03,  5.9831e-03],\n",
              "                        [ 6.1063e-03, -3.2219e-02, -2.8536e-02,  7.0107e-03, -2.7824e-02],\n",
              "                        [ 1.4384e-03,  2.7344e-02, -5.1393e-03, -2.0760e-03, -1.1009e-02],\n",
              "                        [ 1.7205e-02, -3.3413e-02,  3.7061e-03,  3.2867e-02,  1.0996e-03]],\n",
              "              \n",
              "                       [[ 3.0687e-02, -2.4908e-02,  1.6578e-02, -6.6268e-03, -1.0891e-02],\n",
              "                        [ 2.1270e-03,  2.6868e-02,  3.0979e-02,  3.9886e-03,  2.9323e-02],\n",
              "                        [-2.1506e-02, -1.6782e-02, -1.6819e-02,  3.0712e-02,  2.6751e-02],\n",
              "                        [-6.4213e-03,  1.5276e-02,  1.7263e-02, -1.8201e-03,  1.2262e-02],\n",
              "                        [-2.7816e-02,  2.9925e-02,  1.1437e-02, -3.0935e-02, -1.2976e-02]]]],\n",
              "                     device='cuda:0')),\n",
              "             ('conv3.bias',\n",
              "              tensor([-0.0071, -0.0238,  0.0236,  0.0129, -0.0053, -0.0158, -0.0082,  0.0195,\n",
              "                      -0.0339,  0.0321,  0.0251,  0.0333, -0.0197, -0.0266, -0.0060, -0.0005,\n",
              "                      -0.0008,  0.0154,  0.0313, -0.0134, -0.0115,  0.0006, -0.0344,  0.0095,\n",
              "                       0.0110,  0.0083, -0.0279, -0.0139,  0.0195, -0.0143, -0.0264,  0.0173],\n",
              "                     device='cuda:0')),\n",
              "             ('bn3.weight',\n",
              "              tensor([1., 1., 1., 1., 1., 1., 1., 1., 1., 1., 1., 1., 1., 1., 1., 1., 1., 1.,\n",
              "                      1., 1., 1., 1., 1., 1., 1., 1., 1., 1., 1., 1., 1., 1.],\n",
              "                     device='cuda:0')),\n",
              "             ('bn3.bias',\n",
              "              tensor([0., 0., 0., 0., 0., 0., 0., 0., 0., 0., 0., 0., 0., 0., 0., 0., 0., 0., 0., 0., 0., 0., 0., 0.,\n",
              "                      0., 0., 0., 0., 0., 0., 0., 0.], device='cuda:0')),\n",
              "             ('bn3.running_mean',\n",
              "              tensor([0., 0., 0., 0., 0., 0., 0., 0., 0., 0., 0., 0., 0., 0., 0., 0., 0., 0., 0., 0., 0., 0., 0., 0.,\n",
              "                      0., 0., 0., 0., 0., 0., 0., 0.], device='cuda:0')),\n",
              "             ('bn3.running_var',\n",
              "              tensor([1., 1., 1., 1., 1., 1., 1., 1., 1., 1., 1., 1., 1., 1., 1., 1., 1., 1.,\n",
              "                      1., 1., 1., 1., 1., 1., 1., 1., 1., 1., 1., 1., 1., 1.],\n",
              "                     device='cuda:0')),\n",
              "             ('bn3.num_batches_tracked', tensor(0, device='cuda:0')),\n",
              "             ('head.weight',\n",
              "              tensor([[ 0.0198,  0.0273, -0.0004,  ...,  0.0229, -0.0061, -0.0404],\n",
              "                      [-0.0025,  0.0176, -0.0004,  ...,  0.0220,  0.0157, -0.0160]],\n",
              "                     device='cuda:0')),\n",
              "             ('head.bias', tensor([ 0.0200, -0.0066], device='cuda:0'))])"
            ]
          },
          "metadata": {},
          "execution_count": 37
        }
      ]
    },
    {
      "cell_type": "code",
      "source": [
        "get_screen().shape"
      ],
      "metadata": {
        "colab": {
          "base_uri": "https://localhost:8080/"
        },
        "id": "Fq_jQAzlT_17",
        "outputId": "21188df7-cf5c-4c92-cf8f-af6006106ec9"
      },
      "execution_count": 23,
      "outputs": [
        {
          "output_type": "execute_result",
          "data": {
            "text/plain": [
              "torch.Size([1, 3, 40, 90])"
            ]
          },
          "metadata": {},
          "execution_count": 23
        }
      ]
    },
    {
      "cell_type": "code",
      "source": [
        "env.action_space.shape"
      ],
      "metadata": {
        "colab": {
          "base_uri": "https://localhost:8080/"
        },
        "id": "5dG34DgtUegl",
        "outputId": "a27454ff-c75b-42ab-eeb5-7fef56941a09"
      },
      "execution_count": 28,
      "outputs": [
        {
          "output_type": "execute_result",
          "data": {
            "text/plain": [
              "()"
            ]
          },
          "metadata": {},
          "execution_count": 28
        }
      ]
    },
    {
      "cell_type": "code",
      "source": [
        "target_net"
      ],
      "metadata": {
        "colab": {
          "base_uri": "https://localhost:8080/"
        },
        "id": "-rqxsTkFU9xm",
        "outputId": "e15f64d8-89d0-4c03-8455-2d967a68690f"
      },
      "execution_count": 32,
      "outputs": [
        {
          "output_type": "execute_result",
          "data": {
            "text/plain": [
              "DQN(\n",
              "  (conv1): Conv2d(3, 16, kernel_size=(5, 5), stride=(2, 2))\n",
              "  (bn1): BatchNorm2d(16, eps=1e-05, momentum=0.1, affine=True, track_running_stats=True)\n",
              "  (conv2): Conv2d(16, 32, kernel_size=(5, 5), stride=(2, 2))\n",
              "  (bn2): BatchNorm2d(32, eps=1e-05, momentum=0.1, affine=True, track_running_stats=True)\n",
              "  (conv3): Conv2d(32, 32, kernel_size=(5, 5), stride=(2, 2))\n",
              "  (bn3): BatchNorm2d(32, eps=1e-05, momentum=0.1, affine=True, track_running_stats=True)\n",
              "  (head): Linear(in_features=512, out_features=2, bias=True)\n",
              ")"
            ]
          },
          "metadata": {},
          "execution_count": 32
        }
      ]
    },
    {
      "cell_type": "code",
      "source": [
        "net.state_dict().items() #!= policy_net.state_dict()[0])"
      ],
      "metadata": {
        "id": "Wr9s0ZeMWIMx"
      },
      "execution_count": null,
      "outputs": []
    },
    {
      "cell_type": "code",
      "source": [
        "net.eval()"
      ],
      "metadata": {
        "colab": {
          "base_uri": "https://localhost:8080/"
        },
        "id": "5f1iKvasW1es",
        "outputId": "5954e7b9-cf1b-499f-ce30-33d6e73acc18"
      },
      "execution_count": 47,
      "outputs": [
        {
          "output_type": "execute_result",
          "data": {
            "text/plain": [
              "DQN(\n",
              "  (conv1): Conv2d(3, 16, kernel_size=(5, 5), stride=(2, 2))\n",
              "  (bn1): BatchNorm2d(16, eps=1e-05, momentum=0.1, affine=True, track_running_stats=True)\n",
              "  (conv2): Conv2d(16, 32, kernel_size=(5, 5), stride=(2, 2))\n",
              "  (bn2): BatchNorm2d(32, eps=1e-05, momentum=0.1, affine=True, track_running_stats=True)\n",
              "  (conv3): Conv2d(32, 32, kernel_size=(5, 5), stride=(2, 2))\n",
              "  (bn3): BatchNorm2d(32, eps=1e-05, momentum=0.1, affine=True, track_running_stats=True)\n",
              "  (head): Linear(in_features=512, out_features=2, bias=True)\n",
              ")"
            ]
          },
          "metadata": {},
          "execution_count": 47
        }
      ]
    },
    {
      "cell_type": "code",
      "source": [
        "net.parameters"
      ],
      "metadata": {
        "colab": {
          "base_uri": "https://localhost:8080/"
        },
        "id": "R57sV9uCXNCN",
        "outputId": "d7dab07b-3cce-4e6e-f373-363697babcc6"
      },
      "execution_count": 52,
      "outputs": [
        {
          "output_type": "execute_result",
          "data": {
            "text/plain": [
              "<bound method Module.parameters of DQN(\n",
              "  (conv1): Conv2d(3, 16, kernel_size=(5, 5), stride=(2, 2))\n",
              "  (bn1): BatchNorm2d(16, eps=1e-05, momentum=0.1, affine=True, track_running_stats=True)\n",
              "  (conv2): Conv2d(16, 32, kernel_size=(5, 5), stride=(2, 2))\n",
              "  (bn2): BatchNorm2d(32, eps=1e-05, momentum=0.1, affine=True, track_running_stats=True)\n",
              "  (conv3): Conv2d(32, 32, kernel_size=(5, 5), stride=(2, 2))\n",
              "  (bn3): BatchNorm2d(32, eps=1e-05, momentum=0.1, affine=True, track_running_stats=True)\n",
              "  (head): Linear(in_features=512, out_features=2, bias=True)\n",
              ")>"
            ]
          },
          "metadata": {},
          "execution_count": 52
        }
      ]
    },
    {
      "cell_type": "code",
      "source": [
        "EPS_END + (EPS_START - EPS_END) * math.exp(-1. * steps_done / EPS_DECAY)"
      ],
      "metadata": {
        "colab": {
          "base_uri": "https://localhost:8080/"
        },
        "id": "iG5AOTc5XNEX",
        "outputId": "b52d74c6-4a12-4d93-c723-b8cf3e14347a"
      },
      "execution_count": 57,
      "outputs": [
        {
          "output_type": "execute_result",
          "data": {
            "text/plain": [
              "0.9"
            ]
          },
          "metadata": {},
          "execution_count": 57
        }
      ]
    },
    {
      "cell_type": "code",
      "source": [
        "EPS_END +(EPS_START - EPS_END)"
      ],
      "metadata": {
        "colab": {
          "base_uri": "https://localhost:8080/"
        },
        "id": "N5Bmq9_RzATK",
        "outputId": "6d16a467-29f2-4235-b553-e53b4fd2903d"
      },
      "execution_count": 56,
      "outputs": [
        {
          "output_type": "execute_result",
          "data": {
            "text/plain": [
              "0.9"
            ]
          },
          "metadata": {},
          "execution_count": 56
        }
      ]
    },
    {
      "cell_type": "markdown",
      "source": [
        "## Training"
      ],
      "metadata": {
        "id": "ckFUE2pWXHyU"
      }
    },
    {
      "cell_type": "code",
      "source": [
        "def optimize_model():\n",
        "    if len(memory) < BATCH_SIZE:\n",
        "        return\n",
        "    transitions = memory.sample(BATCH_SIZE)\n",
        "    # Transpose the batch (see https://stackoverflow.com/a/19343/3343043 for\n",
        "    # detailed explanation). 이것은 batch-array의 Transitions을 Transition의 batch-arrays로\n",
        "    # 전환합니다.\n",
        "    batch = Transition(*zip(*transitions))\n",
        "\n",
        "    # 최종이 아닌 상태의 마스크를 계산하고 배치 요소를 연결합니다\n",
        "    # (최종 상태는 시뮬레이션이 종료 된 이후의 상태)\n",
        "    non_final_mask = torch.tensor(tuple(map(lambda s: s is not None,\n",
        "                                          batch.next_state)), device=device, dtype=torch.bool)\n",
        "    non_final_next_states = torch.cat([s for s in batch.next_state\n",
        "                                                if s is not None])\n",
        "    state_batch = torch.cat(batch.state)\n",
        "    action_batch = torch.cat(batch.action)\n",
        "    reward_batch = torch.cat(batch.reward)\n",
        "\n",
        "    # Q(s_t, a) 계산 - 모델이 Q(s_t)를 계산하고, 취한 행동의 열을 선택합니다.\n",
        "    # 이들은 policy_net에 따라 각 배치 상태에 대해 선택된 행동입니다.\n",
        "    state_action_values = policy_net(state_batch).gather(1, action_batch)\n",
        "\n",
        "    # 모든 다음 상태를 위한 V(s_{t+1}) 계산\n",
        "    # non_final_next_states의 행동들에 대한 기대값은 \"이전\" target_net을 기반으로 계산됩니다.\n",
        "    # max(1)[0]으로 최고의 보상을 선택하십시오.\n",
        "    # 이것은 마스크를 기반으로 병합되어 기대 상태 값을 갖거나 상태가 최종인 경우 0을 갖습니다.\n",
        "    next_state_values = torch.zeros(BATCH_SIZE, device=device)\n",
        "    next_state_values[non_final_mask] = target_net(non_final_next_states).max(1)[0].detach()\n",
        "    # 기대 Q 값 계산\n",
        "    expected_state_action_values = (next_state_values * GAMMA) + reward_batch\n",
        "\n",
        "    # Huber 손실 계산\n",
        "    criterion = nn.SmoothL1Loss()\n",
        "    loss = criterion(state_action_values, expected_state_action_values.unsqueeze(1))\n",
        "\n",
        "    # 모델 최적화\n",
        "    optimizer.zero_grad()\n",
        "    loss.backward()\n",
        "    for param in policy_net.parameters():\n",
        "        param.grad.data.clamp_(-1, 1)\n",
        "    optimizer.step()"
      ],
      "metadata": {
        "id": "M12Zl36MGlqs"
      },
      "execution_count": 17,
      "outputs": []
    },
    {
      "cell_type": "markdown",
      "source": [
        "### 2) 코드 파헤치기 "
      ],
      "metadata": {
        "id": "VXrTn1qW0-t0"
      }
    },
    {
      "cell_type": "code",
      "source": [
        "temp_memory = ReplayMemory(4000)"
      ],
      "metadata": {
        "id": "M4EDlGBi0VIR"
      },
      "execution_count": 67,
      "outputs": []
    },
    {
      "cell_type": "code",
      "source": [
        "temp_memory.sample(BATCH_SIZE)"
      ],
      "metadata": {
        "colab": {
          "base_uri": "https://localhost:8080/",
          "height": 313
        },
        "id": "1PkCr9TC1bnF",
        "outputId": "9690aec6-ed7f-44fd-8760-3b1c758c51fd"
      },
      "execution_count": 72,
      "outputs": [
        {
          "output_type": "error",
          "ename": "ValueError",
          "evalue": "ignored",
          "traceback": [
            "\u001b[0;31m---------------------------------------------------------------------------\u001b[0m",
            "\u001b[0;31mValueError\u001b[0m                                Traceback (most recent call last)",
            "\u001b[0;32m<ipython-input-72-838bd52e6815>\u001b[0m in \u001b[0;36m<module>\u001b[0;34m()\u001b[0m\n\u001b[0;32m----> 1\u001b[0;31m \u001b[0mtemp_memory\u001b[0m\u001b[0;34m.\u001b[0m\u001b[0msample\u001b[0m\u001b[0;34m(\u001b[0m\u001b[0mBATCH_SIZE\u001b[0m\u001b[0;34m)\u001b[0m\u001b[0;34m\u001b[0m\u001b[0;34m\u001b[0m\u001b[0m\n\u001b[0m",
            "\u001b[0;32m<ipython-input-11-9040c6762b46>\u001b[0m in \u001b[0;36msample\u001b[0;34m(self, batch_size)\u001b[0m\n\u001b[1;32m      9\u001b[0m \u001b[0;34m\u001b[0m\u001b[0m\n\u001b[1;32m     10\u001b[0m   \u001b[0;32mdef\u001b[0m \u001b[0msample\u001b[0m\u001b[0;34m(\u001b[0m\u001b[0mself\u001b[0m\u001b[0;34m,\u001b[0m \u001b[0mbatch_size\u001b[0m\u001b[0;34m)\u001b[0m\u001b[0;34m:\u001b[0m\u001b[0;34m\u001b[0m\u001b[0;34m\u001b[0m\u001b[0m\n\u001b[0;32m---> 11\u001b[0;31m     \u001b[0;32mreturn\u001b[0m \u001b[0mrandom\u001b[0m\u001b[0;34m.\u001b[0m\u001b[0msample\u001b[0m\u001b[0;34m(\u001b[0m\u001b[0mself\u001b[0m\u001b[0;34m.\u001b[0m\u001b[0mmemory\u001b[0m\u001b[0;34m,\u001b[0m \u001b[0mbatch_size\u001b[0m\u001b[0;34m)\u001b[0m\u001b[0;34m\u001b[0m\u001b[0;34m\u001b[0m\u001b[0m\n\u001b[0m\u001b[1;32m     12\u001b[0m \u001b[0;34m\u001b[0m\u001b[0m\n\u001b[1;32m     13\u001b[0m   \u001b[0;32mdef\u001b[0m \u001b[0m__len__\u001b[0m\u001b[0;34m(\u001b[0m\u001b[0mself\u001b[0m\u001b[0;34m)\u001b[0m\u001b[0;34m:\u001b[0m\u001b[0;34m\u001b[0m\u001b[0;34m\u001b[0m\u001b[0m\n",
            "\u001b[0;32m/usr/lib/python3.7/random.py\u001b[0m in \u001b[0;36msample\u001b[0;34m(self, population, k)\u001b[0m\n\u001b[1;32m    319\u001b[0m         \u001b[0mn\u001b[0m \u001b[0;34m=\u001b[0m \u001b[0mlen\u001b[0m\u001b[0;34m(\u001b[0m\u001b[0mpopulation\u001b[0m\u001b[0;34m)\u001b[0m\u001b[0;34m\u001b[0m\u001b[0;34m\u001b[0m\u001b[0m\n\u001b[1;32m    320\u001b[0m         \u001b[0;32mif\u001b[0m \u001b[0;32mnot\u001b[0m \u001b[0;36m0\u001b[0m \u001b[0;34m<=\u001b[0m \u001b[0mk\u001b[0m \u001b[0;34m<=\u001b[0m \u001b[0mn\u001b[0m\u001b[0;34m:\u001b[0m\u001b[0;34m\u001b[0m\u001b[0;34m\u001b[0m\u001b[0m\n\u001b[0;32m--> 321\u001b[0;31m             \u001b[0;32mraise\u001b[0m \u001b[0mValueError\u001b[0m\u001b[0;34m(\u001b[0m\u001b[0;34m\"Sample larger than population or is negative\"\u001b[0m\u001b[0;34m)\u001b[0m\u001b[0;34m\u001b[0m\u001b[0;34m\u001b[0m\u001b[0m\n\u001b[0m\u001b[1;32m    322\u001b[0m         \u001b[0mresult\u001b[0m \u001b[0;34m=\u001b[0m \u001b[0;34m[\u001b[0m\u001b[0;32mNone\u001b[0m\u001b[0;34m]\u001b[0m \u001b[0;34m*\u001b[0m \u001b[0mk\u001b[0m\u001b[0;34m\u001b[0m\u001b[0;34m\u001b[0m\u001b[0m\n\u001b[1;32m    323\u001b[0m         \u001b[0msetsize\u001b[0m \u001b[0;34m=\u001b[0m \u001b[0;36m21\u001b[0m        \u001b[0;31m# size of a small set minus size of an empty list\u001b[0m\u001b[0;34m\u001b[0m\u001b[0;34m\u001b[0m\u001b[0m\n",
            "\u001b[0;31mValueError\u001b[0m: Sample larger than population or is negative"
          ]
        }
      ]
    },
    {
      "cell_type": "code",
      "source": [
        "Transition(*zip(*transitions))"
      ],
      "metadata": {
        "colab": {
          "base_uri": "https://localhost:8080/",
          "height": 167
        },
        "id": "j3QqQolo1bpb",
        "outputId": "34a7a0f3-e9c1-4212-d53e-1439cc6d2b11"
      },
      "execution_count": 71,
      "outputs": [
        {
          "output_type": "error",
          "ename": "NameError",
          "evalue": "ignored",
          "traceback": [
            "\u001b[0;31m---------------------------------------------------------------------------\u001b[0m",
            "\u001b[0;31mNameError\u001b[0m                                 Traceback (most recent call last)",
            "\u001b[0;32m<ipython-input-71-f70f8be77015>\u001b[0m in \u001b[0;36m<module>\u001b[0;34m()\u001b[0m\n\u001b[0;32m----> 1\u001b[0;31m \u001b[0mTransition\u001b[0m\u001b[0;34m(\u001b[0m\u001b[0;34m*\u001b[0m\u001b[0mzip\u001b[0m\u001b[0;34m(\u001b[0m\u001b[0;34m*\u001b[0m\u001b[0mtransitions\u001b[0m\u001b[0;34m)\u001b[0m\u001b[0;34m)\u001b[0m\u001b[0;34m\u001b[0m\u001b[0;34m\u001b[0m\u001b[0m\n\u001b[0m",
            "\u001b[0;31mNameError\u001b[0m: name 'transitions' is not defined"
          ]
        }
      ]
    },
    {
      "cell_type": "code",
      "source": [
        ""
      ],
      "metadata": {
        "id": "PzZF1TfC1bsC"
      },
      "execution_count": null,
      "outputs": []
    },
    {
      "cell_type": "code",
      "source": [
        ""
      ],
      "metadata": {
        "id": "7hWxkfee1buN"
      },
      "execution_count": null,
      "outputs": []
    },
    {
      "cell_type": "markdown",
      "source": [
        "## 학습"
      ],
      "metadata": {
        "id": "AT3ORG0Z1DcB"
      }
    },
    {
      "cell_type": "code",
      "source": [
        "num_episodes = 50\n",
        "for i_episode in range(num_episodes):\n",
        "    # 환경과 상태 초기화\n",
        "    env.reset()\n",
        "    last_screen = get_screen()\n",
        "    current_screen = get_screen()\n",
        "    state = current_screen - last_screen\n",
        "    for t in count():\n",
        "        # 행동 선택과 수행\n",
        "        action = select_action(state)\n",
        "        print(action)\n",
        "        _, reward, done, _ = env.step(action.item())\n",
        "        reward = torch.tensor([reward], device=device)\n",
        "\n",
        "        # 새로운 상태 관찰\n",
        "        last_screen = current_screen\n",
        "        current_screen = get_screen()\n",
        "        print(current_screen)\n",
        "        if not done:\n",
        "            next_state = current_screen - last_screen\n",
        "        else:\n",
        "            next_state = None\n",
        "\n",
        "        # 메모리에 변이 저장\n",
        "        memory.push(state, action, next_state, reward)\n",
        "\n",
        "        # 다음 상태로 이동\n",
        "        state = next_state\n",
        "\n",
        "        # (정책 네트워크에서) 최적화 한단계 수행\n",
        "        optimize_model()\n",
        "        if done:\n",
        "            episode_durations.append(t + 1)\n",
        "            plot_durations()\n",
        "            break\n",
        "    # 목표 네트워크 업데이트, 모든 웨이트와 바이어스 복사\n",
        "    if i_episode % TARGET_UPDATE == 0:\n",
        "        target_net.load_state_dict(policy_net.state_dict())\n",
        "\n",
        "print('Complete')\n",
        "env.render()\n",
        "env.close()\n",
        "plt.ioff()\n",
        "plt.show()"
      ],
      "metadata": {
        "colab": {
          "base_uri": "https://localhost:8080/",
          "height": 69
        },
        "id": "RCMk8wD4Gls8",
        "outputId": "f0b51b7f-4553-4d3e-93ed-21091405305f"
      },
      "execution_count": 37,
      "outputs": [
        {
          "output_type": "display_data",
          "data": {
            "text/plain": [
              "<Figure size 432x288 with 0 Axes>"
            ]
          },
          "metadata": {}
        },
        {
          "output_type": "stream",
          "name": "stdout",
          "text": [
            "Complete\n"
          ]
        },
        {
          "output_type": "display_data",
          "data": {
            "text/plain": [
              "<Figure size 432x288 with 0 Axes>"
            ]
          },
          "metadata": {}
        }
      ]
    },
    {
      "cell_type": "code",
      "source": [
        "env.step(1)"
      ],
      "metadata": {
        "colab": {
          "base_uri": "https://localhost:8080/"
        },
        "id": "rRuPEtTFGl0P",
        "outputId": "379e3ca7-b31c-432c-b517-847fdd0388e5"
      },
      "execution_count": 36,
      "outputs": [
        {
          "output_type": "execute_result",
          "data": {
            "text/plain": [
              "(array([ 0.13818151,  0.7907343 , -0.23729845, -1.46290434]), 0.0, True, {})"
            ]
          },
          "metadata": {},
          "execution_count": 36
        }
      ]
    },
    {
      "cell_type": "code",
      "source": [
        "get_screen()[0,2,1]"
      ],
      "metadata": {
        "colab": {
          "base_uri": "https://localhost:8080/"
        },
        "id": "A1QL3DJMVe6f",
        "outputId": "65bdd6fd-25d9-4ebe-e77d-923bf0fe11a9"
      },
      "execution_count": 49,
      "outputs": [
        {
          "output_type": "execute_result",
          "data": {
            "text/plain": [
              "tensor([1., 1., 1., 1., 1., 1., 1., 1., 1., 1., 1., 1., 1., 1., 1., 1., 1., 1.,\n",
              "        1., 1., 1., 1., 1., 1., 1., 1., 1., 1., 1., 1., 1., 1., 1., 1., 1., 1.,\n",
              "        1., 1., 1., 1., 1., 1., 1., 1., 1., 1., 1., 1., 1., 1., 1., 1., 1., 1.,\n",
              "        1., 1., 1., 1., 1., 1., 1., 1., 1., 1., 1., 1., 1., 1., 1., 1., 1., 1.,\n",
              "        1., 1., 1., 1., 1., 1., 1., 1., 1., 1., 1., 1., 1., 1., 1., 1., 1., 1.])"
            ]
          },
          "metadata": {},
          "execution_count": 49
        }
      ]
    },
    {
      "cell_type": "markdown",
      "source": [
        "## *Gym이랑 친해져 보자..!"
      ],
      "metadata": {
        "id": "vz04qsMjc5qj"
      }
    },
    {
      "cell_type": "code",
      "source": [
        "env = gym.make('SpaceInvaders-v0')\n",
        "env.reset()\n",
        "plt.figure(figsize=(15,15))\n",
        "plt.imshow(env.render('rgb_array'))"
      ],
      "metadata": {
        "colab": {
          "base_uri": "https://localhost:8080/",
          "height": 882
        },
        "id": "yAqfXm-tnvoA",
        "outputId": "7481e456-68eb-4264-f6f2-55a87854a1d8"
      },
      "execution_count": 27,
      "outputs": [
        {
          "output_type": "execute_result",
          "data": {
            "text/plain": [
              "<matplotlib.image.AxesImage at 0x7fd502a513d0>"
            ]
          },
          "metadata": {},
          "execution_count": 27
        },
        {
          "output_type": "display_data",
          "data": {
            "text/plain": [
              "<Figure size 1080x1080 with 1 Axes>"
            ],
            "image/png": "[encoded data removed]"
          },
          "metadata": {
            "needs_background": "light"
          }
        }
      ]
    },
    {
      "cell_type": "code",
      "source": [
        "env = gym.make('Copy-v0')\n",
        "env.reset()\n",
        "#plt.imshow(env.render())\n",
        "env.render()"
      ],
      "metadata": {
        "colab": {
          "base_uri": "https://localhost:8080/"
        },
        "id": "wKHLd5Aet46p",
        "outputId": "eae68b17-e301-4f90-ff57-f2000ab5f33a"
      },
      "execution_count": 30,
      "outputs": [
        {
          "output_type": "stream",
          "name": "stdout",
          "text": [
            "Total length of input instance: 3, step: 0\n",
            "==========================================\n",
            "Observation Tape    :   \u001b[42mA\u001b[0mAE  \n",
            "Output Tape         :   \n",
            "Targets             :   AAE  \n",
            "\n",
            "\n",
            "\n",
            "\n",
            "\n",
            "\n"
          ]
        }
      ]
    },
    {
      "cell_type": "code",
      "source": [
        "env = gym.make(\"FrozenLake-v0\")\n",
        "observation = env.reset()\n",
        "observation"
      ],
      "metadata": {
        "colab": {
          "base_uri": "https://localhost:8080/"
        },
        "id": "zS1P3VCKcJWQ",
        "outputId": "7397b4eb-1f7d-4140-9b21-98e65086c2e9"
      },
      "execution_count": 15,
      "outputs": [
        {
          "output_type": "execute_result",
          "data": {
            "text/plain": [
              "0"
            ]
          },
          "metadata": {},
          "execution_count": 15
        }
      ]
    },
    {
      "cell_type": "code",
      "source": [
        "for _ in range(100):\n",
        "  env.render()\n",
        "  action = env.action_space.sample()\n",
        "  observation, reward, done, info = env.step(action)"
      ],
      "metadata": {
        "colab": {
          "base_uri": "https://localhost:8080/"
        },
        "id": "-p4glqY70M9C",
        "outputId": "a704acc8-665b-4939-c93a-72a53778ff30"
      },
      "execution_count": 16,
      "outputs": [
        {
          "output_type": "stream",
          "name": "stdout",
          "text": [
            "\n",
            "\u001b[41mS\u001b[0mFFF\n",
            "FHFH\n",
            "FFFH\n",
            "HFFG\n",
            "  (Up)\n",
            "\u001b[41mS\u001b[0mFFF\n",
            "FHFH\n",
            "FFFH\n",
            "HFFG\n",
            "  (Left)\n",
            "\u001b[41mS\u001b[0mFFF\n",
            "FHFH\n",
            "FFFH\n",
            "HFFG\n",
            "  (Left)\n",
            "SFFF\n",
            "\u001b[41mF\u001b[0mHFH\n",
            "FFFH\n",
            "HFFG\n",
            "  (Left)\n",
            "\u001b[41mS\u001b[0mFFF\n",
            "FHFH\n",
            "FFFH\n",
            "HFFG\n",
            "  (Left)\n",
            "\u001b[41mS\u001b[0mFFF\n",
            "FHFH\n",
            "FFFH\n",
            "HFFG\n",
            "  (Down)\n",
            "SFFF\n",
            "\u001b[41mF\u001b[0mHFH\n",
            "FFFH\n",
            "HFFG\n",
            "  (Up)\n",
            "\u001b[41mS\u001b[0mFFF\n",
            "FHFH\n",
            "FFFH\n",
            "HFFG\n",
            "  (Up)\n",
            "\u001b[41mS\u001b[0mFFF\n",
            "FHFH\n",
            "FFFH\n",
            "HFFG\n",
            "  (Right)\n",
            "\u001b[41mS\u001b[0mFFF\n",
            "FHFH\n",
            "FFFH\n",
            "HFFG\n",
            "  (Right)\n",
            "SFFF\n",
            "\u001b[41mF\u001b[0mHFH\n",
            "FFFH\n",
            "HFFG\n",
            "  (Left)\n",
            "\u001b[41mS\u001b[0mFFF\n",
            "FHFH\n",
            "FFFH\n",
            "HFFG\n",
            "  (Down)\n",
            "SFFF\n",
            "\u001b[41mF\u001b[0mHFH\n",
            "FFFH\n",
            "HFFG\n",
            "  (Down)\n",
            "SFFF\n",
            "F\u001b[41mH\u001b[0mFH\n",
            "FFFH\n",
            "HFFG\n",
            "  (Up)\n",
            "SFFF\n",
            "F\u001b[41mH\u001b[0mFH\n",
            "FFFH\n",
            "HFFG\n",
            "  (Left)\n",
            "SFFF\n",
            "F\u001b[41mH\u001b[0mFH\n",
            "FFFH\n",
            "HFFG\n",
            "  (Left)\n",
            "SFFF\n",
            "F\u001b[41mH\u001b[0mFH\n",
            "FFFH\n",
            "HFFG\n",
            "  (Left)\n",
            "SFFF\n",
            "F\u001b[41mH\u001b[0mFH\n",
            "FFFH\n",
            "HFFG\n",
            "  (Up)\n",
            "SFFF\n",
            "F\u001b[41mH\u001b[0mFH\n",
            "FFFH\n",
            "HFFG\n",
            "  (Left)\n",
            "SFFF\n",
            "F\u001b[41mH\u001b[0mFH\n",
            "FFFH\n",
            "HFFG\n",
            "  (Right)\n",
            "SFFF\n",
            "F\u001b[41mH\u001b[0mFH\n",
            "FFFH\n",
            "HFFG\n",
            "  (Up)\n",
            "SFFF\n",
            "F\u001b[41mH\u001b[0mFH\n",
            "FFFH\n",
            "HFFG\n",
            "  (Down)\n",
            "SFFF\n",
            "F\u001b[41mH\u001b[0mFH\n",
            "FFFH\n",
            "HFFG\n",
            "  (Right)\n",
            "SFFF\n",
            "F\u001b[41mH\u001b[0mFH\n",
            "FFFH\n",
            "HFFG\n",
            "  (Left)\n",
            "SFFF\n",
            "F\u001b[41mH\u001b[0mFH\n",
            "FFFH\n",
            "HFFG\n",
            "  (Up)\n",
            "SFFF\n",
            "F\u001b[41mH\u001b[0mFH\n",
            "FFFH\n",
            "HFFG\n",
            "  (Down)\n",
            "SFFF\n",
            "F\u001b[41mH\u001b[0mFH\n",
            "FFFH\n",
            "HFFG\n",
            "  (Right)\n",
            "SFFF\n",
            "F\u001b[41mH\u001b[0mFH\n",
            "FFFH\n",
            "HFFG\n",
            "  (Left)\n",
            "SFFF\n",
            "F\u001b[41mH\u001b[0mFH\n",
            "FFFH\n",
            "HFFG\n",
            "  (Up)\n",
            "SFFF\n",
            "F\u001b[41mH\u001b[0mFH\n",
            "FFFH\n",
            "HFFG\n",
            "  (Down)\n",
            "SFFF\n",
            "F\u001b[41mH\u001b[0mFH\n",
            "FFFH\n",
            "HFFG\n",
            "  (Up)\n",
            "SFFF\n",
            "F\u001b[41mH\u001b[0mFH\n",
            "FFFH\n",
            "HFFG\n",
            "  (Right)\n",
            "SFFF\n",
            "F\u001b[41mH\u001b[0mFH\n",
            "FFFH\n",
            "HFFG\n",
            "  (Up)\n",
            "SFFF\n",
            "F\u001b[41mH\u001b[0mFH\n",
            "FFFH\n",
            "HFFG\n",
            "  (Left)\n",
            "SFFF\n",
            "F\u001b[41mH\u001b[0mFH\n",
            "FFFH\n",
            "HFFG\n",
            "  (Down)\n",
            "SFFF\n",
            "F\u001b[41mH\u001b[0mFH\n",
            "FFFH\n",
            "HFFG\n",
            "  (Left)\n",
            "SFFF\n",
            "F\u001b[41mH\u001b[0mFH\n",
            "FFFH\n",
            "HFFG\n",
            "  (Right)\n",
            "SFFF\n",
            "F\u001b[41mH\u001b[0mFH\n",
            "FFFH\n",
            "HFFG\n",
            "  (Down)\n",
            "SFFF\n",
            "F\u001b[41mH\u001b[0mFH\n",
            "FFFH\n",
            "HFFG\n",
            "  (Down)\n",
            "SFFF\n",
            "F\u001b[41mH\u001b[0mFH\n",
            "FFFH\n",
            "HFFG\n",
            "  (Left)\n",
            "SFFF\n",
            "F\u001b[41mH\u001b[0mFH\n",
            "FFFH\n",
            "HFFG\n",
            "  (Right)\n",
            "SFFF\n",
            "F\u001b[41mH\u001b[0mFH\n",
            "FFFH\n",
            "HFFG\n",
            "  (Up)\n",
            "SFFF\n",
            "F\u001b[41mH\u001b[0mFH\n",
            "FFFH\n",
            "HFFG\n",
            "  (Up)\n",
            "SFFF\n",
            "F\u001b[41mH\u001b[0mFH\n",
            "FFFH\n",
            "HFFG\n",
            "  (Up)\n",
            "SFFF\n",
            "F\u001b[41mH\u001b[0mFH\n",
            "FFFH\n",
            "HFFG\n",
            "  (Up)\n",
            "SFFF\n",
            "F\u001b[41mH\u001b[0mFH\n",
            "FFFH\n",
            "HFFG\n",
            "  (Down)\n",
            "SFFF\n",
            "F\u001b[41mH\u001b[0mFH\n",
            "FFFH\n",
            "HFFG\n",
            "  (Down)\n",
            "SFFF\n",
            "F\u001b[41mH\u001b[0mFH\n",
            "FFFH\n",
            "HFFG\n",
            "  (Down)\n",
            "SFFF\n",
            "F\u001b[41mH\u001b[0mFH\n",
            "FFFH\n",
            "HFFG\n",
            "  (Up)\n",
            "SFFF\n",
            "F\u001b[41mH\u001b[0mFH\n",
            "FFFH\n",
            "HFFG\n",
            "  (Right)\n",
            "SFFF\n",
            "F\u001b[41mH\u001b[0mFH\n",
            "FFFH\n",
            "HFFG\n",
            "  (Up)\n",
            "SFFF\n",
            "F\u001b[41mH\u001b[0mFH\n",
            "FFFH\n",
            "HFFG\n",
            "  (Down)\n",
            "SFFF\n",
            "F\u001b[41mH\u001b[0mFH\n",
            "FFFH\n",
            "HFFG\n",
            "  (Down)\n",
            "SFFF\n",
            "F\u001b[41mH\u001b[0mFH\n",
            "FFFH\n",
            "HFFG\n",
            "  (Right)\n",
            "SFFF\n",
            "F\u001b[41mH\u001b[0mFH\n",
            "FFFH\n",
            "HFFG\n",
            "  (Down)\n",
            "SFFF\n",
            "F\u001b[41mH\u001b[0mFH\n",
            "FFFH\n",
            "HFFG\n",
            "  (Down)\n",
            "SFFF\n",
            "F\u001b[41mH\u001b[0mFH\n",
            "FFFH\n",
            "HFFG\n",
            "  (Down)\n",
            "SFFF\n",
            "F\u001b[41mH\u001b[0mFH\n",
            "FFFH\n",
            "HFFG\n",
            "  (Up)\n",
            "SFFF\n",
            "F\u001b[41mH\u001b[0mFH\n",
            "FFFH\n",
            "HFFG\n",
            "  (Down)\n",
            "SFFF\n",
            "F\u001b[41mH\u001b[0mFH\n",
            "FFFH\n",
            "HFFG\n",
            "  (Down)\n",
            "SFFF\n",
            "F\u001b[41mH\u001b[0mFH\n",
            "FFFH\n",
            "HFFG\n",
            "  (Left)\n",
            "SFFF\n",
            "F\u001b[41mH\u001b[0mFH\n",
            "FFFH\n",
            "HFFG\n",
            "  (Up)\n",
            "SFFF\n",
            "F\u001b[41mH\u001b[0mFH\n",
            "FFFH\n",
            "HFFG\n",
            "  (Left)\n",
            "SFFF\n",
            "F\u001b[41mH\u001b[0mFH\n",
            "FFFH\n",
            "HFFG\n",
            "  (Down)\n",
            "SFFF\n",
            "F\u001b[41mH\u001b[0mFH\n",
            "FFFH\n",
            "HFFG\n",
            "  (Right)\n",
            "SFFF\n",
            "F\u001b[41mH\u001b[0mFH\n",
            "FFFH\n",
            "HFFG\n",
            "  (Down)\n",
            "SFFF\n",
            "F\u001b[41mH\u001b[0mFH\n",
            "FFFH\n",
            "HFFG\n",
            "  (Left)\n",
            "SFFF\n",
            "F\u001b[41mH\u001b[0mFH\n",
            "FFFH\n",
            "HFFG\n",
            "  (Up)\n",
            "SFFF\n",
            "F\u001b[41mH\u001b[0mFH\n",
            "FFFH\n",
            "HFFG\n",
            "  (Left)\n",
            "SFFF\n",
            "F\u001b[41mH\u001b[0mFH\n",
            "FFFH\n",
            "HFFG\n",
            "  (Right)\n",
            "SFFF\n",
            "F\u001b[41mH\u001b[0mFH\n",
            "FFFH\n",
            "HFFG\n",
            "  (Left)\n",
            "SFFF\n",
            "F\u001b[41mH\u001b[0mFH\n",
            "FFFH\n",
            "HFFG\n",
            "  (Left)\n",
            "SFFF\n",
            "F\u001b[41mH\u001b[0mFH\n",
            "FFFH\n",
            "HFFG\n",
            "  (Up)\n",
            "SFFF\n",
            "F\u001b[41mH\u001b[0mFH\n",
            "FFFH\n",
            "HFFG\n",
            "  (Up)\n",
            "SFFF\n",
            "F\u001b[41mH\u001b[0mFH\n",
            "FFFH\n",
            "HFFG\n",
            "  (Right)\n",
            "SFFF\n",
            "F\u001b[41mH\u001b[0mFH\n",
            "FFFH\n",
            "HFFG\n",
            "  (Up)\n",
            "SFFF\n",
            "F\u001b[41mH\u001b[0mFH\n",
            "FFFH\n",
            "HFFG\n",
            "  (Up)\n",
            "SFFF\n",
            "F\u001b[41mH\u001b[0mFH\n",
            "FFFH\n",
            "HFFG\n",
            "  (Up)\n",
            "SFFF\n",
            "F\u001b[41mH\u001b[0mFH\n",
            "FFFH\n",
            "HFFG\n",
            "  (Left)\n",
            "SFFF\n",
            "F\u001b[41mH\u001b[0mFH\n",
            "FFFH\n",
            "HFFG\n",
            "  (Right)\n",
            "SFFF\n",
            "F\u001b[41mH\u001b[0mFH\n",
            "FFFH\n",
            "HFFG\n",
            "  (Up)\n",
            "SFFF\n",
            "F\u001b[41mH\u001b[0mFH\n",
            "FFFH\n",
            "HFFG\n",
            "  (Right)\n",
            "SFFF\n",
            "F\u001b[41mH\u001b[0mFH\n",
            "FFFH\n",
            "HFFG\n",
            "  (Down)\n",
            "SFFF\n",
            "F\u001b[41mH\u001b[0mFH\n",
            "FFFH\n",
            "HFFG\n",
            "  (Up)\n",
            "SFFF\n",
            "F\u001b[41mH\u001b[0mFH\n",
            "FFFH\n",
            "HFFG\n",
            "  (Down)\n",
            "SFFF\n",
            "F\u001b[41mH\u001b[0mFH\n",
            "FFFH\n",
            "HFFG\n",
            "  (Left)\n",
            "SFFF\n",
            "F\u001b[41mH\u001b[0mFH\n",
            "FFFH\n",
            "HFFG\n",
            "  (Down)\n",
            "SFFF\n",
            "F\u001b[41mH\u001b[0mFH\n",
            "FFFH\n",
            "HFFG\n",
            "  (Down)\n",
            "SFFF\n",
            "F\u001b[41mH\u001b[0mFH\n",
            "FFFH\n",
            "HFFG\n",
            "  (Down)\n",
            "SFFF\n",
            "F\u001b[41mH\u001b[0mFH\n",
            "FFFH\n",
            "HFFG\n",
            "  (Left)\n",
            "SFFF\n",
            "F\u001b[41mH\u001b[0mFH\n",
            "FFFH\n",
            "HFFG\n",
            "  (Right)\n",
            "SFFF\n",
            "F\u001b[41mH\u001b[0mFH\n",
            "FFFH\n",
            "HFFG\n",
            "  (Right)\n",
            "SFFF\n",
            "F\u001b[41mH\u001b[0mFH\n",
            "FFFH\n",
            "HFFG\n",
            "  (Right)\n",
            "SFFF\n",
            "F\u001b[41mH\u001b[0mFH\n",
            "FFFH\n",
            "HFFG\n",
            "  (Down)\n",
            "SFFF\n",
            "F\u001b[41mH\u001b[0mFH\n",
            "FFFH\n",
            "HFFG\n",
            "  (Right)\n",
            "SFFF\n",
            "F\u001b[41mH\u001b[0mFH\n",
            "FFFH\n",
            "HFFG\n",
            "  (Right)\n",
            "SFFF\n",
            "F\u001b[41mH\u001b[0mFH\n",
            "FFFH\n",
            "HFFG\n",
            "  (Left)\n",
            "SFFF\n",
            "F\u001b[41mH\u001b[0mFH\n",
            "FFFH\n",
            "HFFG\n",
            "  (Right)\n",
            "SFFF\n",
            "F\u001b[41mH\u001b[0mFH\n",
            "FFFH\n",
            "HFFG\n",
            "  (Down)\n",
            "SFFF\n",
            "F\u001b[41mH\u001b[0mFH\n",
            "FFFH\n",
            "HFFG\n"
          ]
        }
      ]
    },
    {
      "cell_type": "code",
      "source": [
        "# unwrapped한것과 안한것의 차이는?\n",
        "env = gym.make('CartPole-v0').unwrapped\n",
        "env2 = gym.make('CartPole-v0')"
      ],
      "metadata": {
        "id": "vYx7drwwb__X"
      },
      "execution_count": 20,
      "outputs": []
    },
    {
      "cell_type": "code",
      "source": [
        "env2"
      ],
      "metadata": {
        "colab": {
          "base_uri": "https://localhost:8080/"
        },
        "id": "iYhIMwlZcbAP",
        "outputId": "55f4ea3b-9c96-465a-90a2-d7cb96d8dfd5"
      },
      "execution_count": 21,
      "outputs": [
        {
          "output_type": "execute_result",
          "data": {
            "text/plain": [
              "<TimeLimit<CartPoleEnv<CartPole-v0>>>"
            ]
          },
          "metadata": {},
          "execution_count": 21
        }
      ]
    },
    {
      "cell_type": "code",
      "source": [
        "env"
      ],
      "metadata": {
        "colab": {
          "base_uri": "https://localhost:8080/"
        },
        "id": "EBFxt7y4csx_",
        "outputId": "44556f06-3784-4d0e-e39f-d05fa3e2da87"
      },
      "execution_count": 22,
      "outputs": [
        {
          "output_type": "execute_result",
          "data": {
            "text/plain": [
              "<gym.envs.classic_control.cartpole.CartPoleEnv at 0x7fe891bbc9d0>"
            ]
          },
          "metadata": {},
          "execution_count": 22
        }
      ]
    },
    {
      "cell_type": "code",
      "source": [
        "env3 = gym.make('FrozenLake-v0').unwrapped"
      ],
      "metadata": {
        "id": "DvGZLbNOct0-"
      },
      "execution_count": 23,
      "outputs": []
    },
    {
      "cell_type": "code",
      "source": [
        "env3"
      ],
      "metadata": {
        "colab": {
          "base_uri": "https://localhost:8080/"
        },
        "id": "1xf2DigJczzm",
        "outputId": "aeb09d08-cf00-4235-e4b2-f53b65cad866"
      },
      "execution_count": 24,
      "outputs": [
        {
          "output_type": "execute_result",
          "data": {
            "text/plain": [
              "<gym.envs.toy_text.frozen_lake.FrozenLakeEnv at 0x7fe891ba87d0>"
            ]
          },
          "metadata": {},
          "execution_count": 24
        }
      ]
    },
    {
      "cell_type": "code",
      "source": [
        "observation = env.reset()\n",
        "for _ in range(100):\n",
        "  env.render()\n",
        "  action = env.action_space.sample()\n",
        "  observation, reward, done, info = env.step(action)"
      ],
      "metadata": {
        "id": "GEwhkXZsc0g2"
      },
      "execution_count": 25,
      "outputs": []
    },
    {
      "cell_type": "code",
      "source": [
        "env.step(1) #(observation, reward, done, info)"
      ],
      "metadata": {
        "colab": {
          "base_uri": "https://localhost:8080/"
        },
        "id": "c_lbktw_dKr3",
        "outputId": "88b26099-9702-45af-f3c6-345e86c9ad07"
      },
      "execution_count": 29,
      "outputs": [
        {
          "output_type": "execute_result",
          "data": {
            "text/plain": [
              "(array([ 2.01397114, -0.13940001, -7.82332334, -5.18138904]), 0.0, True, {})"
            ]
          },
          "metadata": {},
          "execution_count": 29
        }
      ]
    },
    {
      "cell_type": "code",
      "source": [
        ""
      ],
      "metadata": {
        "id": "lOIPO_bFdNiw"
      },
      "execution_count": null,
      "outputs": []
    }
  ]
}