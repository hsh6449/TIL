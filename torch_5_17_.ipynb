{
  "nbformat": 4,
  "nbformat_minor": 0,
  "metadata": {
    "colab": {
      "name": "torch 5.17 .ipynb",
      "provenance": [],
      "collapsed_sections": [],
      "toc_visible": true,
      "authorship_tag": "ABX9TyPvu9lV6njs/VCcLHj7aUjS",
      "include_colab_link": true
    },
    "kernelspec": {
      "name": "python3",
      "display_name": "Python 3"
    },
    "language_info": {
      "name": "python"
    }
  },
  "cells": [
    {
      "cell_type": "markdown",
      "metadata": {
        "id": "view-in-github",
        "colab_type": "text"
      },
      "source": [
        "<a href=\"https://colab.research.google.com/github/hsh6449/TIL/blob/main/torch_5_17_.ipynb\" target=\"_parent\"><img src=\"https://colab.research.google.com/assets/colab-badge.svg\" alt=\"Open In Colab\"/></a>"
      ]
    },
    {
      "cell_type": "markdown",
      "source": [
        "# wikidocs `\"파이썬으로 시작하는 딥러닝 입문\"`\n",
        "## 5.17 Study"
      ],
      "metadata": {
        "id": "rVM8cUGFtmVz"
      }
    },
    {
      "cell_type": "markdown",
      "source": [
        "### #0 기본개념\n",
        "\n",
        "`-` tensor : 1차원 벡터가 3차원으로 구성된 것, 2차원은 행렬(matrix)\n",
        "1. 2D Tensor : (batch size, dimension) # batch size는 한번에 처리할 데이터의 개수\n",
        "2. 3D Tensor(이미지) : (batch size, width, height) \n",
        "3. 3D Tensor(text) : (batch size, length, dim)"
      ],
      "metadata": {
        "id": "ZbXEDCMVt17c"
      }
    },
    {
      "cell_type": "code",
      "execution_count": 3,
      "metadata": {
        "id": "nx3Ri1ucsipx"
      },
      "outputs": [],
      "source": [
        "import torch\n",
        "import numpy as np"
      ]
    },
    {
      "cell_type": "markdown",
      "source": [
        "`-` numpy로 tensor 만들기"
      ],
      "metadata": {
        "id": "yOQkQP39wDnb"
      }
    },
    {
      "cell_type": "code",
      "source": [
        "#1차원 벡터\n",
        "\n",
        "t = np.array([0.0, 1.0, 2.0, 3.0, 4.0, 5.0, 6.0])\n",
        "t"
      ],
      "metadata": {
        "colab": {
          "base_uri": "https://localhost:8080/"
        },
        "id": "3zzPiS3nsq8Q",
        "outputId": "96c26810-44dc-469d-9299-80a95d023482"
      },
      "execution_count": 6,
      "outputs": [
        {
          "output_type": "execute_result",
          "data": {
            "text/plain": [
              "array([0., 1., 2., 3., 4., 5., 6.])"
            ]
          },
          "metadata": {},
          "execution_count": 6
        }
      ]
    },
    {
      "cell_type": "code",
      "source": [
        "print('Rank of t: ', t.ndim)\n",
        "print('Shape of t: ', t.shape)"
      ],
      "metadata": {
        "colab": {
          "base_uri": "https://localhost:8080/"
        },
        "id": "AVM_YMYmwVTo",
        "outputId": "3559bbfd-ff11-41a2-f1b6-79e1f1496095"
      },
      "execution_count": 7,
      "outputs": [
        {
          "output_type": "stream",
          "name": "stdout",
          "text": [
            "Rank of t:  1\n",
            "Shape of t:  (7,)\n"
          ]
        }
      ]
    },
    {
      "cell_type": "code",
      "source": [
        "# 2차원 행렬\n",
        "\n",
        "m = np.array([[0.0, 1.0, 2.0],[3.0, 4.0, 5.0]])\n",
        "m"
      ],
      "metadata": {
        "colab": {
          "base_uri": "https://localhost:8080/"
        },
        "id": "Z2K1GC_gwbe-",
        "outputId": "c33db291-2b9e-4cfd-e2b2-a224093c4fce"
      },
      "execution_count": 9,
      "outputs": [
        {
          "output_type": "execute_result",
          "data": {
            "text/plain": [
              "array([[0., 1., 2.],\n",
              "       [3., 4., 5.]])"
            ]
          },
          "metadata": {},
          "execution_count": 9
        }
      ]
    },
    {
      "cell_type": "code",
      "source": [
        "print('Rank of m: ', m.ndim)\n",
        "print('Shape of m: ', m.shape)"
      ],
      "metadata": {
        "colab": {
          "base_uri": "https://localhost:8080/"
        },
        "id": "LRLQdaQmwzu1",
        "outputId": "87b10a30-1d1c-421a-e95a-ebe453b2e679"
      },
      "execution_count": 10,
      "outputs": [
        {
          "output_type": "stream",
          "name": "stdout",
          "text": [
            "Rank of m:  2\n",
            "Shape of m:  (2, 3)\n"
          ]
        }
      ]
    },
    {
      "cell_type": "markdown",
      "source": [
        "`-` torch로 tensor 만들기"
      ],
      "metadata": {
        "id": "YkGcqVY8xHwD"
      }
    },
    {
      "cell_type": "code",
      "source": [
        "#1차원 벡터\n",
        "\n",
        "t = torch.FloatTensor([0.0, 1.0, 2.0, 3.0, 4.0, 5.0, 6.0])\n",
        "t"
      ],
      "metadata": {
        "colab": {
          "base_uri": "https://localhost:8080/"
        },
        "id": "qoOHs9m-w8TX",
        "outputId": "dedd0562-3517-44f3-cbfc-825abd90670f"
      },
      "execution_count": 11,
      "outputs": [
        {
          "output_type": "execute_result",
          "data": {
            "text/plain": [
              "tensor([0., 1., 2., 3., 4., 5., 6.])"
            ]
          },
          "metadata": {},
          "execution_count": 11
        }
      ]
    },
    {
      "cell_type": "code",
      "source": [
        "print(t.dim())  # rank\n",
        "print(t.shape)  # shape\n",
        "print(t.size()) # shape"
      ],
      "metadata": {
        "colab": {
          "base_uri": "https://localhost:8080/"
        },
        "id": "N_h01lBKxVrm",
        "outputId": "8a08d3ba-813b-425d-8a17-e64c1fb59060"
      },
      "execution_count": 13,
      "outputs": [
        {
          "output_type": "stream",
          "name": "stdout",
          "text": [
            "1\n",
            "torch.Size([7])\n",
            "torch.Size([7])\n"
          ]
        }
      ]
    },
    {
      "cell_type": "code",
      "source": [
        "t[0:3]"
      ],
      "metadata": {
        "colab": {
          "base_uri": "https://localhost:8080/"
        },
        "id": "51RuXiX4xYUG",
        "outputId": "6159664a-0ca7-44a3-b87a-ff12bb4f8276"
      },
      "execution_count": 15,
      "outputs": [
        {
          "output_type": "execute_result",
          "data": {
            "text/plain": [
              "tensor([0., 1., 2.])"
            ]
          },
          "metadata": {},
          "execution_count": 15
        }
      ]
    },
    {
      "cell_type": "code",
      "source": [
        "# 2차원 행렬\n",
        "\n",
        "m = torch.FloatTensor([[0.0, 1.0, 2.0],[3.0, 4.0, 5.0]])\n",
        "m"
      ],
      "metadata": {
        "colab": {
          "base_uri": "https://localhost:8080/"
        },
        "id": "slHlaX_qxdYp",
        "outputId": "b1a9b39b-1de0-40b6-d7f2-0256007b0ab2"
      },
      "execution_count": 17,
      "outputs": [
        {
          "output_type": "execute_result",
          "data": {
            "text/plain": [
              "tensor([[0., 1., 2.],\n",
              "        [3., 4., 5.]])"
            ]
          },
          "metadata": {},
          "execution_count": 17
        }
      ]
    },
    {
      "cell_type": "code",
      "source": [
        "print('Rank of m: ', m.ndim)\n",
        "print('Shape of m: ', m.shape)"
      ],
      "metadata": {
        "colab": {
          "base_uri": "https://localhost:8080/"
        },
        "id": "bZgSSeMr2Vgr",
        "outputId": "a0e85773-dea8-491b-885c-48b47e4937dd"
      },
      "execution_count": 18,
      "outputs": [
        {
          "output_type": "stream",
          "name": "stdout",
          "text": [
            "Rank of m:  2\n",
            "Shape of m:  torch.Size([2, 3])\n"
          ]
        }
      ]
    },
    {
      "cell_type": "code",
      "source": [
        "m[:,1]"
      ],
      "metadata": {
        "colab": {
          "base_uri": "https://localhost:8080/"
        },
        "id": "XxGGuBS25S5y",
        "outputId": "66c16c77-0c3b-4752-f0ad-afbd53a18faf"
      },
      "execution_count": 19,
      "outputs": [
        {
          "output_type": "execute_result",
          "data": {
            "text/plain": [
              "tensor([1., 4.])"
            ]
          },
          "metadata": {},
          "execution_count": 19
        }
      ]
    },
    {
      "cell_type": "code",
      "source": [
        "m[:,:-1]"
      ],
      "metadata": {
        "colab": {
          "base_uri": "https://localhost:8080/"
        },
        "id": "_WSpoJ6a5W1t",
        "outputId": "c3d21296-7b1d-4b79-9fd7-d7bbb3a60887"
      },
      "execution_count": 20,
      "outputs": [
        {
          "output_type": "execute_result",
          "data": {
            "text/plain": [
              "tensor([[0., 1.],\n",
              "        [3., 4.]])"
            ]
          },
          "metadata": {},
          "execution_count": 20
        }
      ]
    },
    {
      "cell_type": "markdown",
      "source": [
        "`-` tensor 연산"
      ],
      "metadata": {
        "id": "j-EZ53PvAgE_"
      }
    },
    {
      "cell_type": "code",
      "source": [
        "t1 = torch.FloatTensor([0.0, 1.0, 2.0, 3.0, 4.0, 5.0, 6.0])\n",
        "t2 = torch.FloatTensor([0.0, 1.0, 2.0, 3.0, 4.0, 5.0, 6.0])"
      ],
      "metadata": {
        "id": "mYq-9TtG5ebJ"
      },
      "execution_count": 21,
      "outputs": []
    },
    {
      "cell_type": "code",
      "source": [
        "t1 + t2"
      ],
      "metadata": {
        "colab": {
          "base_uri": "https://localhost:8080/"
        },
        "id": "qjnjaJizAnAk",
        "outputId": "358d65f3-6140-4e82-83d4-03a45a0be062"
      },
      "execution_count": 22,
      "outputs": [
        {
          "output_type": "execute_result",
          "data": {
            "text/plain": [
              "tensor([ 0.,  2.,  4.,  6.,  8., 10., 12.])"
            ]
          },
          "metadata": {},
          "execution_count": 22
        }
      ]
    },
    {
      "cell_type": "code",
      "source": [
        "t1 + 3 # 브로드캐스팅(자동으로 차원을 맞춰주는 기능)"
      ],
      "metadata": {
        "colab": {
          "base_uri": "https://localhost:8080/"
        },
        "id": "n4NhF2N2AoaK",
        "outputId": "eac050b4-7be2-4a8e-caee-ed71261c5664"
      },
      "execution_count": 23,
      "outputs": [
        {
          "output_type": "execute_result",
          "data": {
            "text/plain": [
              "tensor([3., 4., 5., 6., 7., 8., 9.])"
            ]
          },
          "metadata": {},
          "execution_count": 23
        }
      ]
    },
    {
      "cell_type": "code",
      "source": [
        "# 2 x 1 Vector + 1 x 2 Vector, 브로드캐스팅 2\n",
        "m1 = torch.FloatTensor([[1, 2]])\n",
        "m2 = torch.FloatTensor([[3], [4]])\n",
        "print(m1 + m2)"
      ],
      "metadata": {
        "colab": {
          "base_uri": "https://localhost:8080/"
        },
        "id": "Ytou-nuQAuEQ",
        "outputId": "5b51817a-8dbc-4fe7-e501-e96e4ddda358"
      },
      "execution_count": 24,
      "outputs": [
        {
          "output_type": "stream",
          "name": "stdout",
          "text": [
            "tensor([[4., 5.],\n",
            "        [5., 6.]])\n"
          ]
        }
      ]
    },
    {
      "cell_type": "code",
      "source": [
        "#곱셈은 matmul()\n",
        "\n",
        "m1 = torch.FloatTensor([[1, 2], [3, 4]])\n",
        "m2 = torch.FloatTensor([[1], [2]])\n",
        "print('Shape of Matrix 1: ', m1.shape) # 2 x 2\n",
        "print('Shape of Matrix 2: ', m2.shape) # 2 x 1\n",
        "print(m1.matmul(m2)) "
      ],
      "metadata": {
        "colab": {
          "base_uri": "https://localhost:8080/"
        },
        "id": "CxLMsx5LA0YU",
        "outputId": "91d14896-ab93-479c-c258-da970ee3ef49"
      },
      "execution_count": 28,
      "outputs": [
        {
          "output_type": "stream",
          "name": "stdout",
          "text": [
            "Shape of Matrix 1:  torch.Size([2, 2])\n",
            "Shape of Matrix 2:  torch.Size([2, 1])\n",
            "tensor([[ 5.],\n",
            "        [11.]])\n"
          ]
        }
      ]
    },
    {
      "cell_type": "code",
      "source": [
        "m1.mean() # 평균"
      ],
      "metadata": {
        "colab": {
          "base_uri": "https://localhost:8080/"
        },
        "id": "FIMXYYfsBG9O",
        "outputId": "bc6ca15f-3944-4132-807e-c752cbfdf847"
      },
      "execution_count": 29,
      "outputs": [
        {
          "output_type": "execute_result",
          "data": {
            "text/plain": [
              "tensor(2.5000)"
            ]
          },
          "metadata": {},
          "execution_count": 29
        }
      ]
    },
    {
      "cell_type": "code",
      "source": [
        "m1.mean(dim=1)"
      ],
      "metadata": {
        "colab": {
          "base_uri": "https://localhost:8080/"
        },
        "id": "86CcdBHABddb",
        "outputId": "55ea84a5-f9a9-4ee8-d993-a354b184f0c7"
      },
      "execution_count": 32,
      "outputs": [
        {
          "output_type": "execute_result",
          "data": {
            "text/plain": [
              "tensor([1.5000, 3.5000])"
            ]
          },
          "metadata": {},
          "execution_count": 32
        }
      ]
    },
    {
      "cell_type": "code",
      "source": [
        "print(m1.sum()) # 단순히 원소 전체의 덧셈을 수행\n",
        "print(m1.sum(dim=0)) # 행을 제거\n",
        "print(m1.sum(dim=1)) # 열을 제거\n",
        "print(m1.sum(dim=-1)) # 열을 제거"
      ],
      "metadata": {
        "colab": {
          "base_uri": "https://localhost:8080/"
        },
        "id": "Znz-DGDCBfVv",
        "outputId": "e1b77854-e5f4-46c3-9b83-7f4b7088f02a"
      },
      "execution_count": 34,
      "outputs": [
        {
          "output_type": "stream",
          "name": "stdout",
          "text": [
            "tensor(10.)\n",
            "tensor([4., 6.])\n",
            "tensor([3., 7.])\n",
            "tensor([3., 7.])\n"
          ]
        }
      ]
    },
    {
      "cell_type": "code",
      "source": [
        "m1.max(), m1.max(dim=1)"
      ],
      "metadata": {
        "colab": {
          "base_uri": "https://localhost:8080/"
        },
        "id": "WDBX6qpHB0-E",
        "outputId": "fd42c084-2b3d-4128-e6b7-45adbea8a8ab"
      },
      "execution_count": 36,
      "outputs": [
        {
          "output_type": "execute_result",
          "data": {
            "text/plain": [
              "(tensor(4.),\n",
              " torch.return_types.max(values=tensor([2., 4.]), indices=tensor([1, 1])))"
            ]
          },
          "metadata": {},
          "execution_count": 36
        }
      ]
    },
    {
      "cell_type": "markdown",
      "source": [
        "`-` ******* view : 원소의 수 유지하면서 tensor 크기 변경"
      ],
      "metadata": {
        "id": "-vikrmmCCMwC"
      }
    },
    {
      "cell_type": "code",
      "source": [
        "t = np.array([[[0, 1, 2],\n",
        "               [3, 4, 5]],\n",
        "              [[6, 7, 8],\n",
        "               [9, 10, 11]]])\n",
        "ft = torch.FloatTensor(t)"
      ],
      "metadata": {
        "id": "-ZSEbST0B8PH"
      },
      "execution_count": 37,
      "outputs": []
    },
    {
      "cell_type": "code",
      "source": [
        "print(ft.shape)"
      ],
      "metadata": {
        "colab": {
          "base_uri": "https://localhost:8080/"
        },
        "id": "w8S40HKjCa-3",
        "outputId": "4bd9d9d4-e554-45e0-eac2-2d0a9e4b279c"
      },
      "execution_count": 38,
      "outputs": [
        {
          "output_type": "stream",
          "name": "stdout",
          "text": [
            "torch.Size([2, 2, 3])\n"
          ]
        }
      ]
    },
    {
      "cell_type": "code",
      "source": [
        "ft.view(-1,3).shape"
      ],
      "metadata": {
        "colab": {
          "base_uri": "https://localhost:8080/"
        },
        "id": "r21svd85Cc9E",
        "outputId": "56cb85e8-e314-49b8-b3aa-9e5e88bcbd38"
      },
      "execution_count": 42,
      "outputs": [
        {
          "output_type": "execute_result",
          "data": {
            "text/plain": [
              "torch.Size([4, 3])"
            ]
          },
          "metadata": {},
          "execution_count": 42
        }
      ]
    },
    {
      "cell_type": "code",
      "source": [
        "ft.view(2,6)"
      ],
      "metadata": {
        "colab": {
          "base_uri": "https://localhost:8080/"
        },
        "id": "tCqB8fXKCjaM",
        "outputId": "e8997c92-4ee0-42ad-be8e-faeed64abcc0"
      },
      "execution_count": 44,
      "outputs": [
        {
          "output_type": "execute_result",
          "data": {
            "text/plain": [
              "tensor([[ 0.,  1.,  2.,  3.,  4.,  5.],\n",
              "        [ 6.,  7.,  8.,  9., 10., 11.]])"
            ]
          },
          "metadata": {},
          "execution_count": 44
        }
      ]
    },
    {
      "cell_type": "code",
      "source": [
        "ft.view(1,12)"
      ],
      "metadata": {
        "colab": {
          "base_uri": "https://localhost:8080/"
        },
        "id": "_elFHkWFCu8N",
        "outputId": "a674929a-7c31-46ee-9b0f-bab77cd6ce7b"
      },
      "execution_count": 46,
      "outputs": [
        {
          "output_type": "execute_result",
          "data": {
            "text/plain": [
              "tensor([[ 0.,  1.,  2.,  3.,  4.,  5.,  6.,  7.,  8.,  9., 10., 11.]])"
            ]
          },
          "metadata": {},
          "execution_count": 46
        }
      ]
    },
    {
      "cell_type": "code",
      "source": [
        "ft.view(2,2,1,3)"
      ],
      "metadata": {
        "colab": {
          "base_uri": "https://localhost:8080/"
        },
        "id": "VpbKkzhyC25B",
        "outputId": "a14e9900-a8c4-4968-9e09-65aacb6ac9cc"
      },
      "execution_count": 49,
      "outputs": [
        {
          "output_type": "execute_result",
          "data": {
            "text/plain": [
              "tensor([[[[ 0.,  1.,  2.]],\n",
              "\n",
              "         [[ 3.,  4.,  5.]]],\n",
              "\n",
              "\n",
              "        [[[ 6.,  7.,  8.]],\n",
              "\n",
              "         [[ 9., 10., 11.]]]])"
            ]
          },
          "metadata": {},
          "execution_count": 49
        }
      ]
    },
    {
      "cell_type": "markdown",
      "source": [
        "`-` Squeeze & Unsqueeze"
      ],
      "metadata": {
        "id": "N_yhgs6wDouJ"
      }
    },
    {
      "cell_type": "code",
      "source": [
        "ft = torch.FloatTensor([[0], [1], [2]])\n",
        "print(ft)\n",
        "print(ft.shape)"
      ],
      "metadata": {
        "colab": {
          "base_uri": "https://localhost:8080/"
        },
        "id": "kp4YMQ8-DBL3",
        "outputId": "68e022ef-e8c2-4930-8802-86cbd2324104"
      },
      "execution_count": 50,
      "outputs": [
        {
          "output_type": "stream",
          "name": "stdout",
          "text": [
            "tensor([[0.],\n",
            "        [1.],\n",
            "        [2.]])\n",
            "torch.Size([3, 1])\n"
          ]
        }
      ]
    },
    {
      "cell_type": "code",
      "source": [
        "print(ft.squeeze())\n",
        "print(ft.squeeze().shape)"
      ],
      "metadata": {
        "colab": {
          "base_uri": "https://localhost:8080/"
        },
        "id": "_MuHb-oMDufy",
        "outputId": "b71de4a3-fb68-4b7c-ce06-b483d588fcdf"
      },
      "execution_count": 51,
      "outputs": [
        {
          "output_type": "stream",
          "name": "stdout",
          "text": [
            "tensor([0., 1., 2.])\n",
            "torch.Size([3])\n"
          ]
        }
      ]
    },
    {
      "cell_type": "code",
      "source": [
        "ft = torch.Tensor([0, 1, 2])\n",
        "print(ft.shape)"
      ],
      "metadata": {
        "colab": {
          "base_uri": "https://localhost:8080/"
        },
        "id": "1NhtYciJDwv2",
        "outputId": "e9459a40-c8e2-484c-d885-7f9ff23e6e9b"
      },
      "execution_count": 52,
      "outputs": [
        {
          "output_type": "stream",
          "name": "stdout",
          "text": [
            "torch.Size([3])\n"
          ]
        }
      ]
    },
    {
      "cell_type": "code",
      "source": [
        "ft.unsqueeze(0), ft.unsqueeze(0).shape"
      ],
      "metadata": {
        "colab": {
          "base_uri": "https://localhost:8080/"
        },
        "id": "gk4D4wMQD37J",
        "outputId": "8a2ed108-51a1-4a2d-a031-6a15417b8d5b"
      },
      "execution_count": 61,
      "outputs": [
        {
          "output_type": "execute_result",
          "data": {
            "text/plain": [
              "(tensor([[0., 1., 2.]]), torch.Size([1, 3]))"
            ]
          },
          "metadata": {},
          "execution_count": 61
        }
      ]
    },
    {
      "cell_type": "code",
      "source": [
        "ft.unsqueeze(1), ft.unsqueeze(1).shape"
      ],
      "metadata": {
        "colab": {
          "base_uri": "https://localhost:8080/"
        },
        "id": "gYcSbmWQD6-7",
        "outputId": "bb947e9d-1c4a-44bc-fdad-64c957267542"
      },
      "execution_count": 62,
      "outputs": [
        {
          "output_type": "execute_result",
          "data": {
            "text/plain": [
              "(tensor([[0.],\n",
              "         [1.],\n",
              "         [2.]]), torch.Size([3, 1]))"
            ]
          },
          "metadata": {},
          "execution_count": 62
        }
      ]
    },
    {
      "cell_type": "code",
      "source": [
        "lt = torch.LongTensor([1, 2, 3, 4]) #정수형\n",
        "lt.float()"
      ],
      "metadata": {
        "colab": {
          "base_uri": "https://localhost:8080/"
        },
        "id": "ViWGwPTYETvo",
        "outputId": "8bb67a85-8c05-4b16-dfc4-295225a59c44"
      },
      "execution_count": 63,
      "outputs": [
        {
          "output_type": "execute_result",
          "data": {
            "text/plain": [
              "tensor([1., 2., 3., 4.])"
            ]
          },
          "metadata": {},
          "execution_count": 63
        }
      ]
    },
    {
      "cell_type": "code",
      "source": [
        "bt = torch.ByteTensor([True, False, False, True])\n",
        "print(bt)"
      ],
      "metadata": {
        "colab": {
          "base_uri": "https://localhost:8080/"
        },
        "id": "kxCgM7wPErF7",
        "outputId": "15bc0dca-76d0-4e1d-e538-0072338aea75"
      },
      "execution_count": 64,
      "outputs": [
        {
          "output_type": "stream",
          "name": "stdout",
          "text": [
            "tensor([1, 0, 0, 1], dtype=torch.uint8)\n"
          ]
        }
      ]
    },
    {
      "cell_type": "code",
      "source": [
        "bt.long(), bt.float()"
      ],
      "metadata": {
        "colab": {
          "base_uri": "https://localhost:8080/"
        },
        "id": "SM0hbn8TEzDI",
        "outputId": "173ef4fb-0e28-446a-f46e-9d3e6a72d5b1"
      },
      "execution_count": 67,
      "outputs": [
        {
          "output_type": "execute_result",
          "data": {
            "text/plain": [
              "(tensor([1, 0, 0, 1]), tensor([1., 0., 0., 1.]))"
            ]
          },
          "metadata": {},
          "execution_count": 67
        }
      ]
    },
    {
      "cell_type": "markdown",
      "source": [
        "`-` 연결 & stack"
      ],
      "metadata": {
        "id": "0M5idilgE72L"
      }
    },
    {
      "cell_type": "code",
      "source": [
        "x = torch.FloatTensor([[1, 2], [3, 4]])\n",
        "y = torch.FloatTensor([[5, 6], [7, 8]])"
      ],
      "metadata": {
        "id": "oUOjxNEcE2S-"
      },
      "execution_count": 68,
      "outputs": []
    },
    {
      "cell_type": "code",
      "source": [
        "torch.cat([x,y], axis=1)"
      ],
      "metadata": {
        "colab": {
          "base_uri": "https://localhost:8080/"
        },
        "id": "DjtKOH2BE9cS",
        "outputId": "cf726e52-1b86-4b12-9068-af8a9e8eb640"
      },
      "execution_count": 78,
      "outputs": [
        {
          "output_type": "execute_result",
          "data": {
            "text/plain": [
              "tensor([[1., 2., 5., 6.],\n",
              "        [3., 4., 7., 8.]])"
            ]
          },
          "metadata": {},
          "execution_count": 78
        }
      ]
    },
    {
      "cell_type": "code",
      "source": [
        "torch.stack([x,y], axis=2)"
      ],
      "metadata": {
        "colab": {
          "base_uri": "https://localhost:8080/"
        },
        "id": "4wrhflzrFEYe",
        "outputId": "4d703492-87f7-4f7f-dc55-26e5055b529e"
      },
      "execution_count": 80,
      "outputs": [
        {
          "output_type": "execute_result",
          "data": {
            "text/plain": [
              "tensor([[[1., 5.],\n",
              "         [2., 6.]],\n",
              "\n",
              "        [[3., 7.],\n",
              "         [4., 8.]]])"
            ]
          },
          "metadata": {},
          "execution_count": 80
        }
      ]
    },
    {
      "cell_type": "markdown",
      "source": [
        "`-` 기타 연산"
      ],
      "metadata": {
        "id": "qodDKCM_FhU8"
      }
    },
    {
      "cell_type": "code",
      "source": [
        "x = torch.FloatTensor([[0, 1, 2], [2, 1, 0]])"
      ],
      "metadata": {
        "id": "b-5oLdl-FY4h"
      },
      "execution_count": 81,
      "outputs": []
    },
    {
      "cell_type": "code",
      "source": [
        "torch.ones_like(x)"
      ],
      "metadata": {
        "colab": {
          "base_uri": "https://localhost:8080/"
        },
        "id": "Q42OzK9uFkg-",
        "outputId": "08e84e49-3d8e-4cfb-bcf6-1bf10482dea1"
      },
      "execution_count": 82,
      "outputs": [
        {
          "output_type": "execute_result",
          "data": {
            "text/plain": [
              "tensor([[1., 1., 1.],\n",
              "        [1., 1., 1.]])"
            ]
          },
          "metadata": {},
          "execution_count": 82
        }
      ]
    },
    {
      "cell_type": "code",
      "source": [
        "torch.zeros_like(x)"
      ],
      "metadata": {
        "colab": {
          "base_uri": "https://localhost:8080/"
        },
        "id": "CEawJWo_Fmet",
        "outputId": "25c8399a-eb35-4b7e-f6e4-4112a45b8a1a"
      },
      "execution_count": 83,
      "outputs": [
        {
          "output_type": "execute_result",
          "data": {
            "text/plain": [
              "tensor([[0., 0., 0.],\n",
              "        [0., 0., 0.]])"
            ]
          },
          "metadata": {},
          "execution_count": 83
        }
      ]
    },
    {
      "cell_type": "code",
      "source": [
        "torch.FloatTensor(np.zeros(10).reshape(2,5))"
      ],
      "metadata": {
        "colab": {
          "base_uri": "https://localhost:8080/"
        },
        "id": "Fbh1Imi2FpZu",
        "outputId": "190b9b26-37ab-43c9-c3d4-f511fe69b245"
      },
      "execution_count": 85,
      "outputs": [
        {
          "output_type": "execute_result",
          "data": {
            "text/plain": [
              "tensor([[0., 0., 0., 0., 0.],\n",
              "        [0., 0., 0., 0., 0.]])"
            ]
          },
          "metadata": {},
          "execution_count": 85
        }
      ]
    },
    {
      "cell_type": "code",
      "source": [
        "x = torch.FloatTensor([[1, 2], [3, 4]])"
      ],
      "metadata": {
        "id": "w2SJzkp9FwNX"
      },
      "execution_count": 87,
      "outputs": []
    },
    {
      "cell_type": "code",
      "source": [
        "print(x.mul(2.))\n",
        "print(x)"
      ],
      "metadata": {
        "colab": {
          "base_uri": "https://localhost:8080/"
        },
        "id": "GylJN_8EF1aK",
        "outputId": "418aa1d7-4759-461e-a436-a26a00dbd46b"
      },
      "execution_count": 90,
      "outputs": [
        {
          "output_type": "stream",
          "name": "stdout",
          "text": [
            "tensor([[2., 4.],\n",
            "        [6., 8.]])\n",
            "tensor([[1., 2.],\n",
            "        [3., 4.]])\n"
          ]
        }
      ]
    },
    {
      "cell_type": "code",
      "source": [
        "print(x.mul_(2.))  # 곱하기 2를 수행한 결과를 변수 x에 값을 저장하면서 결과를 출력\n",
        "print(x) # 기존의 값 출력"
      ],
      "metadata": {
        "colab": {
          "base_uri": "https://localhost:8080/"
        },
        "id": "dKYiDBCwF5a5",
        "outputId": "91a43f18-f211-42e2-dc2a-7a151cf0da09"
      },
      "execution_count": 91,
      "outputs": [
        {
          "output_type": "stream",
          "name": "stdout",
          "text": [
            "tensor([[2., 4.],\n",
            "        [6., 8.]])\n",
            "tensor([[2., 4.],\n",
            "        [6., 8.]])\n"
          ]
        }
      ]
    },
    {
      "cell_type": "markdown",
      "source": [
        "### *Class"
      ],
      "metadata": {
        "id": "b0wOriP4G1RP"
      }
    },
    {
      "cell_type": "code",
      "source": [
        "# add 함수 구현\n",
        "result = 0\n",
        "\n",
        "def add_m(num):\n",
        "  global result\n",
        "  result += num\n",
        "  return result"
      ],
      "metadata": {
        "id": "12A5wCIVGDzu"
      },
      "execution_count": 92,
      "outputs": []
    },
    {
      "cell_type": "code",
      "source": [
        "add_m(4)"
      ],
      "metadata": {
        "colab": {
          "base_uri": "https://localhost:8080/"
        },
        "id": "nzAM8WEYHM6e",
        "outputId": "9e67ddb5-d2c3-47c2-f3de-30b77bc20e0f"
      },
      "execution_count": 93,
      "outputs": [
        {
          "output_type": "execute_result",
          "data": {
            "text/plain": [
              "4"
            ]
          },
          "metadata": {},
          "execution_count": 93
        }
      ]
    },
    {
      "cell_type": "code",
      "source": [
        "add_m(5)"
      ],
      "metadata": {
        "colab": {
          "base_uri": "https://localhost:8080/"
        },
        "id": "AWcx0Zy1HPgW",
        "outputId": "353f86ab-541a-4a74-ec1d-53765e71ba9e"
      },
      "execution_count": 95,
      "outputs": [
        {
          "output_type": "execute_result",
          "data": {
            "text/plain": [
              "9"
            ]
          },
          "metadata": {},
          "execution_count": 95
        }
      ]
    },
    {
      "cell_type": "code",
      "source": [
        "class Calculator:\n",
        "  def __init__(self): #실행될때 초기화\n",
        "    self.result = 0\n",
        "\n",
        "  def add_m(self, num):\n",
        "    self.result += num\n",
        "    return self.result"
      ],
      "metadata": {
        "id": "VZfOE5RIHSF8"
      },
      "execution_count": 96,
      "outputs": []
    },
    {
      "cell_type": "code",
      "source": [
        "call = Calculator()"
      ],
      "metadata": {
        "id": "lPJ1eOAeHy7C"
      },
      "execution_count": 98,
      "outputs": []
    },
    {
      "cell_type": "code",
      "source": [
        "call.add_m(5)"
      ],
      "metadata": {
        "colab": {
          "base_uri": "https://localhost:8080/"
        },
        "id": "ny6JlLn5H1L9",
        "outputId": "6edffe51-8ce1-446a-b3f8-86e013dfe40e"
      },
      "execution_count": 99,
      "outputs": [
        {
          "output_type": "execute_result",
          "data": {
            "text/plain": [
              "5"
            ]
          },
          "metadata": {},
          "execution_count": 99
        }
      ]
    },
    {
      "cell_type": "code",
      "source": [
        "call.add_m(5)"
      ],
      "metadata": {
        "colab": {
          "base_uri": "https://localhost:8080/"
        },
        "id": "eWkmMU3jH6eM",
        "outputId": "d240c06c-ad22-44ec-d2c8-a884e1de7927"
      },
      "execution_count": 100,
      "outputs": [
        {
          "output_type": "execute_result",
          "data": {
            "text/plain": [
              "10"
            ]
          },
          "metadata": {},
          "execution_count": 100
        }
      ]
    },
    {
      "cell_type": "code",
      "source": [
        "call.__init__()"
      ],
      "metadata": {
        "id": "qJxKkKXQH8QM"
      },
      "execution_count": 103,
      "outputs": []
    },
    {
      "cell_type": "code",
      "source": [
        "call.add_m(4)"
      ],
      "metadata": {
        "colab": {
          "base_uri": "https://localhost:8080/"
        },
        "id": "4U6ioy92IEmv",
        "outputId": "506c6d26-8b8b-4458-ecec-57259f1b6acc"
      },
      "execution_count": 104,
      "outputs": [
        {
          "output_type": "execute_result",
          "data": {
            "text/plain": [
              "4"
            ]
          },
          "metadata": {},
          "execution_count": 104
        }
      ]
    },
    {
      "cell_type": "markdown",
      "source": [
        "### #1 선형회귀"
      ],
      "metadata": {
        "id": "QwNX9UYxIMrK"
      }
    },
    {
      "cell_type": "markdown",
      "source": [
        "`-` 선형회귀 : 관측치가 주어져있을때 데이터 간의 관계를 선형으로 나타내는 것\n",
        "\n",
        "`-` 비용함수 : 손실함수, 오차함수. 목적함수로도 불리며 종류는 매우 다양할 수 있음, 가장 흔히 최소제곱법이라고 불리는 `MSE` 사용\n",
        "\n",
        "`-` 경사하강법 : 비용함수의 값을 최소화하는(오차최소화)하는 방식으로 학습을 진행하는 최적화 기법, 즉 cost(비용)이 최소화된 parameter를 찾는 기법\n",
        "-  비용이 최소화된 지점은 비용함수의 미분값이 0이되는 값.\n",
        "- 비용함수를 미분하여 현재 지점에서의 접선의 기울기를 구하고 적절한 α를 곱해 가중치를 업데이트 \n",
        "-α: 학습률이라고도 불리며 클수록 더 빠르게 업데이트, BUT 너무 크면 기울기가 수렴하지않고 발산하므로 적절한 학습률을 설정할 필요가 있음"
      ],
      "metadata": {
        "id": "koTxp8lGJ7IP"
      }
    },
    {
      "cell_type": "code",
      "source": [
        "import torch\n",
        "import torch.nn as nn\n",
        "import torch.nn.functional as F\n",
        "import torch.optim as optim"
      ],
      "metadata": {
        "id": "DUg4L8f1IWa3"
      },
      "execution_count": 106,
      "outputs": []
    },
    {
      "cell_type": "code",
      "source": [
        "x_train = torch.FloatTensor([[1], [2], [3]])\n",
        "y_train = torch.FloatTensor([[2], [4], [6]])"
      ],
      "metadata": {
        "id": "wxDWqNErLudD"
      },
      "execution_count": 107,
      "outputs": []
    },
    {
      "cell_type": "code",
      "source": [
        "x_train.shape, y_train.shape"
      ],
      "metadata": {
        "colab": {
          "base_uri": "https://localhost:8080/"
        },
        "id": "QabHfuCDLxVE",
        "outputId": "908cfe3c-c00f-409a-c4f3-fec967ca29d8"
      },
      "execution_count": 108,
      "outputs": [
        {
          "output_type": "execute_result",
          "data": {
            "text/plain": [
              "(torch.Size([3, 1]), torch.Size([3, 1]))"
            ]
          },
          "metadata": {},
          "execution_count": 108
        }
      ]
    },
    {
      "cell_type": "code",
      "source": [
        "# 가중치 W를 0으로 초기화\n",
        "## *reauires_grad는 계속해서 값이 변하는 변수임을 선언\n",
        "\n",
        "W = torch.zeros(1, requires_grad=True)"
      ],
      "metadata": {
        "id": "DAcKVZ7KL1n5"
      },
      "execution_count": 110,
      "outputs": []
    },
    {
      "cell_type": "code",
      "source": [
        "b = torch.zeros(1, requires_grad=True)"
      ],
      "metadata": {
        "id": "5xYUe77WMC4b"
      },
      "execution_count": 111,
      "outputs": []
    },
    {
      "cell_type": "code",
      "source": [
        "f = b + W*x_train"
      ],
      "metadata": {
        "id": "X5VyyK65MOVF"
      },
      "execution_count": 112,
      "outputs": []
    },
    {
      "cell_type": "code",
      "source": [
        "print(f)\n",
        "print(y_train)"
      ],
      "metadata": {
        "colab": {
          "base_uri": "https://localhost:8080/"
        },
        "id": "vUf6oAWmMTaz",
        "outputId": "5391fb60-8538-41b3-80c8-b1d090b0b50b"
      },
      "execution_count": 113,
      "outputs": [
        {
          "output_type": "stream",
          "name": "stdout",
          "text": [
            "tensor([[0.],\n",
            "        [0.],\n",
            "        [0.]], grad_fn=<AddBackward0>)\n",
            "tensor([[2.],\n",
            "        [4.],\n",
            "        [6.]])\n"
          ]
        }
      ]
    },
    {
      "cell_type": "markdown",
      "source": [
        "초기값이기 때문에 아직 값이 많이 다름 -> 비용함수 필요"
      ],
      "metadata": {
        "id": "ChH-M5WcMcH6"
      }
    },
    {
      "cell_type": "code",
      "source": [
        "loss = torch.mean((f-y_train)**2)\n",
        "loss"
      ],
      "metadata": {
        "colab": {
          "base_uri": "https://localhost:8080/"
        },
        "id": "R7o6S0NIMWtR",
        "outputId": "975636c4-b92b-4c28-fa74-c7c3b3fbdce4"
      },
      "execution_count": 114,
      "outputs": [
        {
          "output_type": "execute_result",
          "data": {
            "text/plain": [
              "tensor(18.6667, grad_fn=<MeanBackward0>)"
            ]
          },
          "metadata": {},
          "execution_count": 114
        }
      ]
    },
    {
      "cell_type": "markdown",
      "source": [
        "`-` 경사하강법 구현"
      ],
      "metadata": {
        "id": "LeRLUie6M1Yn"
      }
    },
    {
      "cell_type": "code",
      "source": [
        "optimizer = torch.optim.SGD([W,b], lr = 0.01)"
      ],
      "metadata": {
        "id": "HKcZMtv6Mwmi"
      },
      "execution_count": 119,
      "outputs": []
    },
    {
      "cell_type": "code",
      "source": [
        "optimizer.zero_grad()"
      ],
      "metadata": {
        "id": "7Kp68cFLNJV7"
      },
      "execution_count": 120,
      "outputs": []
    },
    {
      "cell_type": "code",
      "source": [
        "loss.backward()"
      ],
      "metadata": {
        "id": "NDv8Tn48NPLo"
      },
      "execution_count": 121,
      "outputs": []
    },
    {
      "cell_type": "code",
      "source": [
        "loss"
      ],
      "metadata": {
        "colab": {
          "base_uri": "https://localhost:8080/"
        },
        "id": "JuVtCcw1Nac9",
        "outputId": "58e97055-bab5-437e-ef81-79cd2d926ee8"
      },
      "execution_count": 122,
      "outputs": [
        {
          "output_type": "execute_result",
          "data": {
            "text/plain": [
              "tensor(18.6667, grad_fn=<MeanBackward0>)"
            ]
          },
          "metadata": {},
          "execution_count": 122
        }
      ]
    },
    {
      "cell_type": "code",
      "source": [
        "optimizer.step()"
      ],
      "metadata": {
        "id": "BHXxEZ9ANbGW"
      },
      "execution_count": 123,
      "outputs": []
    },
    {
      "cell_type": "code",
      "source": [
        "nb_epochs = 1999 # 원하는만큼 경사 하강법을 반복\n",
        "for epoch in range(nb_epochs + 1):\n",
        "\n",
        "    # H(x) 계산\n",
        "    hypothesis = x_train * W + b\n",
        "\n",
        "    # cost 계산\n",
        "    cost = torch.mean((hypothesis - y_train) ** 2)\n",
        "\n",
        "    # cost로 H(x) 개선\n",
        "    optimizer.zero_grad()\n",
        "    cost.backward()\n",
        "    optimizer.step() ## W와 b의 값이 업데이트 됨\n",
        "\n",
        "    # 100번마다 로그 출력\n",
        "    if epoch % 100 == 0:\n",
        "        print('Epoch {:4d}/{} W: {:.3f}, b: {:.3f} Cost: {:.6f}'.format(\n",
        "            epoch, nb_epochs, W.item(), b.item(), cost.item()\n",
        "        ))"
      ],
      "metadata": {
        "colab": {
          "base_uri": "https://localhost:8080/"
        },
        "id": "pAynwfSSNdjj",
        "outputId": "f59ab58d-c996-4554-c5c1-978be1cbe0b2"
      },
      "execution_count": 129,
      "outputs": [
        {
          "output_type": "stream",
          "name": "stdout",
          "text": [
            "Epoch    0/1999 W: 0.353, b: 0.151 Cost: 14.770963\n",
            "Epoch  100/1999 W: 1.746, b: 0.577 Cost: 0.047939\n",
            "Epoch  200/1999 W: 1.801, b: 0.453 Cost: 0.029624\n",
            "Epoch  300/1999 W: 1.843, b: 0.356 Cost: 0.018306\n",
            "Epoch  400/1999 W: 1.877, b: 0.280 Cost: 0.011312\n",
            "Epoch  500/1999 W: 1.903, b: 0.220 Cost: 0.006990\n",
            "Epoch  600/1999 W: 1.924, b: 0.173 Cost: 0.004319\n",
            "Epoch  700/1999 W: 1.940, b: 0.136 Cost: 0.002669\n",
            "Epoch  800/1999 W: 1.953, b: 0.107 Cost: 0.001649\n",
            "Epoch  900/1999 W: 1.963, b: 0.084 Cost: 0.001019\n",
            "Epoch 1000/1999 W: 1.971, b: 0.066 Cost: 0.000630\n",
            "Epoch 1100/1999 W: 1.977, b: 0.052 Cost: 0.000389\n",
            "Epoch 1200/1999 W: 1.982, b: 0.041 Cost: 0.000240\n",
            "Epoch 1300/1999 W: 1.986, b: 0.032 Cost: 0.000149\n",
            "Epoch 1400/1999 W: 1.989, b: 0.025 Cost: 0.000092\n",
            "Epoch 1500/1999 W: 1.991, b: 0.020 Cost: 0.000057\n",
            "Epoch 1600/1999 W: 1.993, b: 0.016 Cost: 0.000035\n",
            "Epoch 1700/1999 W: 1.995, b: 0.012 Cost: 0.000022\n",
            "Epoch 1800/1999 W: 1.996, b: 0.010 Cost: 0.000013\n",
            "Epoch 1900/1999 W: 1.997, b: 0.008 Cost: 0.000008\n"
          ]
        }
      ]
    },
    {
      "cell_type": "markdown",
      "source": [
        "- 파이토치는 이전 값을 누적해서 저장하기때문에 새로 계산하는 값이 필요하다면 반드시 초기화 시켜줘야함\n",
        "```\n",
        "optimizer.zero_grad()\n",
        "```\n",
        "\n",
        "- 데이터 개수가 늘어나면 하나하나 계산하기 어렵기 때문에 `자동미분` 이용"
      ],
      "metadata": {
        "id": "HJeNgzEYOdEc"
      }
    },
    {
      "cell_type": "markdown",
      "source": [
        "`-` 다중회귀"
      ],
      "metadata": {
        "id": "ZbSsj-v7PAlg"
      }
    },
    {
      "cell_type": "code",
      "source": [
        "# 훈련 데이터\n",
        "x1_train = torch.FloatTensor([[73], [93], [89], [96], [73]])\n",
        "x2_train = torch.FloatTensor([[80], [88], [91], [98], [66]])\n",
        "x3_train = torch.FloatTensor([[75], [93], [90], [100], [70]])\n",
        "y_train = torch.FloatTensor([[152], [185], [180], [196], [142]])"
      ],
      "metadata": {
        "id": "9xIld8QGNesu"
      },
      "execution_count": 131,
      "outputs": []
    },
    {
      "cell_type": "code",
      "source": [
        "# 가중치 w와 편향 b 초기화\n",
        "w1 = torch.zeros(1, requires_grad=True)\n",
        "w2 = torch.zeros(1, requires_grad=True)\n",
        "w3 = torch.zeros(1, requires_grad=True)\n",
        "b = torch.zeros(1, requires_grad=True)"
      ],
      "metadata": {
        "id": "TJz1AyD0PYdJ"
      },
      "execution_count": 144,
      "outputs": []
    },
    {
      "cell_type": "code",
      "source": [
        "optimizer = optim.SGD([w1, w2, w3, b], lr = 0.00001)\n",
        "nb_epochs = 1000\n",
        "\n",
        "for i in range(nb_epochs + 1):\n",
        "  y = b + w1*x1_train + w2*x2_train + w3*x3_train\n",
        "\n",
        "  cost = torch.mean((y_train - y)**2)\n",
        "\n",
        "  optimizer.zero_grad()\n",
        "  cost.backward()\n",
        "  optimizer.step() \n",
        "\n",
        "    # 100번마다 로그 출력\n",
        "  if epoch % 100 == 0:\n",
        "    print('Epoch {:4d}/{} w1: {:.3f} w2: {:.3f} w3: {:.3f} b: {:.3f} Cost: {:.6f}'.format(epoch, nb_epochs, w1.item(), w2.item(), w3.item(), b.item(), cost.item()))"
      ],
      "metadata": {
        "colab": {
          "base_uri": "https://localhost:8080/"
        },
        "id": "TruIyVR4QDsi",
        "outputId": "049df907-54a7-4f02-e99b-da53d4d89ecf"
      },
      "execution_count": 145,
      "outputs": [
        {
          "output_type": "stream",
          "name": "stdout",
          "text": [
            "Epoch 1000/1000 w1: 0.294 w2: 0.294 w3: 0.297 b: 0.003 Cost: 29661.800781\n",
            "Epoch 1000/1000 w1: 0.459 w2: 0.458 w3: 0.464 b: 0.005 Cost: 9298.520508\n",
            "Epoch 1000/1000 w1: 0.551 w2: 0.550 w3: 0.557 b: 0.006 Cost: 2915.712402\n",
            "Epoch 1000/1000 w1: 0.602 w2: 0.601 w3: 0.609 b: 0.007 Cost: 915.040527\n",
            "Epoch 1000/1000 w1: 0.631 w2: 0.630 w3: 0.639 b: 0.007 Cost: 287.935944\n",
            "Epoch 1000/1000 w1: 0.648 w2: 0.646 w3: 0.655 b: 0.008 Cost: 91.371300\n",
            "Epoch 1000/1000 w1: 0.657 w2: 0.655 w3: 0.664 b: 0.008 Cost: 29.758276\n",
            "Epoch 1000/1000 w1: 0.662 w2: 0.660 w3: 0.669 b: 0.008 Cost: 10.445292\n",
            "Epoch 1000/1000 w1: 0.665 w2: 0.663 w3: 0.672 b: 0.008 Cost: 4.391232\n",
            "Epoch 1000/1000 w1: 0.666 w2: 0.665 w3: 0.674 b: 0.008 Cost: 2.493121\n",
            "Epoch 1000/1000 w1: 0.667 w2: 0.665 w3: 0.675 b: 0.008 Cost: 1.897676\n",
            "Epoch 1000/1000 w1: 0.668 w2: 0.666 w3: 0.675 b: 0.008 Cost: 1.710553\n",
            "Epoch 1000/1000 w1: 0.668 w2: 0.666 w3: 0.675 b: 0.008 Cost: 1.651389\n",
            "Epoch 1000/1000 w1: 0.668 w2: 0.666 w3: 0.676 b: 0.008 Cost: 1.632369\n",
            "Epoch 1000/1000 w1: 0.669 w2: 0.666 w3: 0.676 b: 0.008 Cost: 1.625927\n",
            "Epoch 1000/1000 w1: 0.669 w2: 0.666 w3: 0.676 b: 0.008 Cost: 1.623416\n",
            "Epoch 1000/1000 w1: 0.669 w2: 0.666 w3: 0.676 b: 0.008 Cost: 1.622143\n",
            "Epoch 1000/1000 w1: 0.669 w2: 0.666 w3: 0.676 b: 0.008 Cost: 1.621258\n",
            "Epoch 1000/1000 w1: 0.669 w2: 0.666 w3: 0.676 b: 0.008 Cost: 1.620495\n",
            "Epoch 1000/1000 w1: 0.669 w2: 0.666 w3: 0.676 b: 0.008 Cost: 1.619765\n",
            "Epoch 1000/1000 w1: 0.669 w2: 0.666 w3: 0.676 b: 0.008 Cost: 1.619057\n",
            "Epoch 1000/1000 w1: 0.669 w2: 0.666 w3: 0.676 b: 0.008 Cost: 1.618354\n",
            "Epoch 1000/1000 w1: 0.669 w2: 0.666 w3: 0.676 b: 0.008 Cost: 1.617623\n",
            "Epoch 1000/1000 w1: 0.669 w2: 0.666 w3: 0.676 b: 0.008 Cost: 1.616929\n",
            "Epoch 1000/1000 w1: 0.669 w2: 0.666 w3: 0.676 b: 0.008 Cost: 1.616219\n",
            "Epoch 1000/1000 w1: 0.669 w2: 0.666 w3: 0.676 b: 0.008 Cost: 1.615513\n",
            "Epoch 1000/1000 w1: 0.669 w2: 0.666 w3: 0.676 b: 0.008 Cost: 1.614810\n",
            "Epoch 1000/1000 w1: 0.669 w2: 0.665 w3: 0.676 b: 0.008 Cost: 1.614085\n",
            "Epoch 1000/1000 w1: 0.670 w2: 0.665 w3: 0.676 b: 0.008 Cost: 1.613412\n",
            "Epoch 1000/1000 w1: 0.670 w2: 0.665 w3: 0.676 b: 0.008 Cost: 1.612696\n",
            "Epoch 1000/1000 w1: 0.670 w2: 0.665 w3: 0.676 b: 0.008 Cost: 1.611987\n",
            "Epoch 1000/1000 w1: 0.670 w2: 0.665 w3: 0.676 b: 0.008 Cost: 1.611289\n",
            "Epoch 1000/1000 w1: 0.670 w2: 0.665 w3: 0.676 b: 0.008 Cost: 1.610582\n",
            "Epoch 1000/1000 w1: 0.670 w2: 0.665 w3: 0.676 b: 0.008 Cost: 1.609889\n",
            "Epoch 1000/1000 w1: 0.670 w2: 0.665 w3: 0.676 b: 0.008 Cost: 1.609185\n",
            "Epoch 1000/1000 w1: 0.670 w2: 0.665 w3: 0.676 b: 0.008 Cost: 1.608489\n",
            "Epoch 1000/1000 w1: 0.670 w2: 0.665 w3: 0.676 b: 0.008 Cost: 1.607757\n",
            "Epoch 1000/1000 w1: 0.670 w2: 0.665 w3: 0.676 b: 0.008 Cost: 1.607063\n",
            "Epoch 1000/1000 w1: 0.670 w2: 0.665 w3: 0.676 b: 0.008 Cost: 1.606381\n",
            "Epoch 1000/1000 w1: 0.670 w2: 0.665 w3: 0.676 b: 0.008 Cost: 1.605673\n",
            "Epoch 1000/1000 w1: 0.670 w2: 0.665 w3: 0.676 b: 0.008 Cost: 1.604966\n",
            "Epoch 1000/1000 w1: 0.670 w2: 0.665 w3: 0.676 b: 0.008 Cost: 1.604265\n",
            "Epoch 1000/1000 w1: 0.670 w2: 0.665 w3: 0.676 b: 0.008 Cost: 1.603565\n",
            "Epoch 1000/1000 w1: 0.670 w2: 0.664 w3: 0.676 b: 0.008 Cost: 1.602873\n",
            "Epoch 1000/1000 w1: 0.670 w2: 0.664 w3: 0.676 b: 0.008 Cost: 1.602178\n",
            "Epoch 1000/1000 w1: 0.670 w2: 0.664 w3: 0.676 b: 0.008 Cost: 1.601460\n",
            "Epoch 1000/1000 w1: 0.671 w2: 0.664 w3: 0.676 b: 0.008 Cost: 1.600781\n",
            "Epoch 1000/1000 w1: 0.671 w2: 0.664 w3: 0.676 b: 0.008 Cost: 1.600081\n",
            "Epoch 1000/1000 w1: 0.671 w2: 0.664 w3: 0.676 b: 0.008 Cost: 1.599388\n",
            "Epoch 1000/1000 w1: 0.671 w2: 0.664 w3: 0.676 b: 0.008 Cost: 1.598690\n",
            "Epoch 1000/1000 w1: 0.671 w2: 0.664 w3: 0.676 b: 0.008 Cost: 1.598004\n",
            "Epoch 1000/1000 w1: 0.671 w2: 0.664 w3: 0.676 b: 0.008 Cost: 1.597292\n",
            "Epoch 1000/1000 w1: 0.671 w2: 0.664 w3: 0.676 b: 0.008 Cost: 1.596586\n",
            "Epoch 1000/1000 w1: 0.671 w2: 0.664 w3: 0.676 b: 0.008 Cost: 1.595886\n",
            "Epoch 1000/1000 w1: 0.671 w2: 0.664 w3: 0.676 b: 0.008 Cost: 1.595210\n",
            "Epoch 1000/1000 w1: 0.671 w2: 0.664 w3: 0.676 b: 0.008 Cost: 1.594513\n",
            "Epoch 1000/1000 w1: 0.671 w2: 0.664 w3: 0.676 b: 0.008 Cost: 1.593833\n",
            "Epoch 1000/1000 w1: 0.671 w2: 0.664 w3: 0.676 b: 0.008 Cost: 1.593125\n",
            "Epoch 1000/1000 w1: 0.671 w2: 0.664 w3: 0.676 b: 0.008 Cost: 1.592426\n",
            "Epoch 1000/1000 w1: 0.671 w2: 0.663 w3: 0.676 b: 0.008 Cost: 1.591730\n",
            "Epoch 1000/1000 w1: 0.671 w2: 0.663 w3: 0.676 b: 0.008 Cost: 1.591044\n",
            "Epoch 1000/1000 w1: 0.671 w2: 0.663 w3: 0.676 b: 0.008 Cost: 1.590348\n",
            "Epoch 1000/1000 w1: 0.671 w2: 0.663 w3: 0.676 b: 0.008 Cost: 1.589645\n",
            "Epoch 1000/1000 w1: 0.671 w2: 0.663 w3: 0.676 b: 0.008 Cost: 1.588956\n",
            "Epoch 1000/1000 w1: 0.672 w2: 0.663 w3: 0.676 b: 0.008 Cost: 1.588279\n",
            "Epoch 1000/1000 w1: 0.672 w2: 0.663 w3: 0.676 b: 0.008 Cost: 1.587575\n",
            "Epoch 1000/1000 w1: 0.672 w2: 0.663 w3: 0.676 b: 0.008 Cost: 1.586887\n",
            "Epoch 1000/1000 w1: 0.672 w2: 0.663 w3: 0.676 b: 0.008 Cost: 1.586192\n",
            "Epoch 1000/1000 w1: 0.672 w2: 0.663 w3: 0.676 b: 0.008 Cost: 1.585516\n",
            "Epoch 1000/1000 w1: 0.672 w2: 0.663 w3: 0.676 b: 0.008 Cost: 1.584821\n",
            "Epoch 1000/1000 w1: 0.672 w2: 0.663 w3: 0.676 b: 0.008 Cost: 1.584131\n",
            "Epoch 1000/1000 w1: 0.672 w2: 0.663 w3: 0.676 b: 0.008 Cost: 1.583444\n",
            "Epoch 1000/1000 w1: 0.672 w2: 0.663 w3: 0.676 b: 0.008 Cost: 1.582747\n",
            "Epoch 1000/1000 w1: 0.672 w2: 0.663 w3: 0.676 b: 0.008 Cost: 1.582077\n",
            "Epoch 1000/1000 w1: 0.672 w2: 0.663 w3: 0.676 b: 0.008 Cost: 1.581389\n",
            "Epoch 1000/1000 w1: 0.672 w2: 0.662 w3: 0.676 b: 0.008 Cost: 1.580688\n",
            "Epoch 1000/1000 w1: 0.672 w2: 0.662 w3: 0.676 b: 0.008 Cost: 1.580002\n",
            "Epoch 1000/1000 w1: 0.672 w2: 0.662 w3: 0.676 b: 0.008 Cost: 1.579317\n",
            "Epoch 1000/1000 w1: 0.672 w2: 0.662 w3: 0.676 b: 0.008 Cost: 1.578632\n",
            "Epoch 1000/1000 w1: 0.672 w2: 0.662 w3: 0.676 b: 0.008 Cost: 1.577945\n",
            "Epoch 1000/1000 w1: 0.672 w2: 0.662 w3: 0.676 b: 0.008 Cost: 1.577250\n",
            "Epoch 1000/1000 w1: 0.672 w2: 0.662 w3: 0.676 b: 0.008 Cost: 1.576578\n",
            "Epoch 1000/1000 w1: 0.673 w2: 0.662 w3: 0.676 b: 0.008 Cost: 1.575896\n",
            "Epoch 1000/1000 w1: 0.673 w2: 0.662 w3: 0.676 b: 0.008 Cost: 1.575207\n",
            "Epoch 1000/1000 w1: 0.673 w2: 0.662 w3: 0.676 b: 0.008 Cost: 1.574524\n",
            "Epoch 1000/1000 w1: 0.673 w2: 0.662 w3: 0.676 b: 0.008 Cost: 1.573836\n",
            "Epoch 1000/1000 w1: 0.673 w2: 0.662 w3: 0.676 b: 0.008 Cost: 1.573163\n",
            "Epoch 1000/1000 w1: 0.673 w2: 0.662 w3: 0.676 b: 0.008 Cost: 1.572465\n",
            "Epoch 1000/1000 w1: 0.673 w2: 0.662 w3: 0.676 b: 0.008 Cost: 1.571799\n",
            "Epoch 1000/1000 w1: 0.673 w2: 0.662 w3: 0.676 b: 0.008 Cost: 1.571108\n",
            "Epoch 1000/1000 w1: 0.673 w2: 0.662 w3: 0.676 b: 0.008 Cost: 1.570435\n",
            "Epoch 1000/1000 w1: 0.673 w2: 0.662 w3: 0.676 b: 0.008 Cost: 1.569754\n",
            "Epoch 1000/1000 w1: 0.673 w2: 0.661 w3: 0.676 b: 0.008 Cost: 1.569064\n",
            "Epoch 1000/1000 w1: 0.673 w2: 0.661 w3: 0.676 b: 0.008 Cost: 1.568383\n",
            "Epoch 1000/1000 w1: 0.673 w2: 0.661 w3: 0.676 b: 0.008 Cost: 1.567711\n",
            "Epoch 1000/1000 w1: 0.673 w2: 0.661 w3: 0.676 b: 0.008 Cost: 1.567021\n",
            "Epoch 1000/1000 w1: 0.673 w2: 0.661 w3: 0.676 b: 0.008 Cost: 1.566342\n",
            "Epoch 1000/1000 w1: 0.673 w2: 0.661 w3: 0.676 b: 0.008 Cost: 1.565658\n",
            "Epoch 1000/1000 w1: 0.673 w2: 0.661 w3: 0.676 b: 0.008 Cost: 1.564987\n",
            "Epoch 1000/1000 w1: 0.673 w2: 0.661 w3: 0.676 b: 0.008 Cost: 1.564311\n",
            "Epoch 1000/1000 w1: 0.674 w2: 0.661 w3: 0.676 b: 0.008 Cost: 1.563632\n",
            "Epoch 1000/1000 w1: 0.674 w2: 0.661 w3: 0.676 b: 0.008 Cost: 1.562950\n",
            "Epoch 1000/1000 w1: 0.674 w2: 0.661 w3: 0.676 b: 0.008 Cost: 1.562267\n",
            "Epoch 1000/1000 w1: 0.674 w2: 0.661 w3: 0.676 b: 0.008 Cost: 1.561589\n",
            "Epoch 1000/1000 w1: 0.674 w2: 0.661 w3: 0.676 b: 0.008 Cost: 1.560919\n",
            "Epoch 1000/1000 w1: 0.674 w2: 0.661 w3: 0.676 b: 0.008 Cost: 1.560242\n",
            "Epoch 1000/1000 w1: 0.674 w2: 0.661 w3: 0.676 b: 0.008 Cost: 1.559550\n",
            "Epoch 1000/1000 w1: 0.674 w2: 0.661 w3: 0.676 b: 0.008 Cost: 1.558885\n",
            "Epoch 1000/1000 w1: 0.674 w2: 0.660 w3: 0.676 b: 0.008 Cost: 1.558209\n",
            "Epoch 1000/1000 w1: 0.674 w2: 0.660 w3: 0.676 b: 0.008 Cost: 1.557538\n",
            "Epoch 1000/1000 w1: 0.674 w2: 0.660 w3: 0.676 b: 0.008 Cost: 1.556856\n",
            "Epoch 1000/1000 w1: 0.674 w2: 0.660 w3: 0.676 b: 0.008 Cost: 1.556186\n",
            "Epoch 1000/1000 w1: 0.674 w2: 0.660 w3: 0.676 b: 0.008 Cost: 1.555500\n",
            "Epoch 1000/1000 w1: 0.674 w2: 0.660 w3: 0.676 b: 0.008 Cost: 1.554848\n",
            "Epoch 1000/1000 w1: 0.674 w2: 0.660 w3: 0.676 b: 0.008 Cost: 1.554173\n",
            "Epoch 1000/1000 w1: 0.674 w2: 0.660 w3: 0.676 b: 0.008 Cost: 1.553496\n",
            "Epoch 1000/1000 w1: 0.674 w2: 0.660 w3: 0.676 b: 0.008 Cost: 1.552822\n",
            "Epoch 1000/1000 w1: 0.674 w2: 0.660 w3: 0.676 b: 0.008 Cost: 1.552148\n",
            "Epoch 1000/1000 w1: 0.674 w2: 0.660 w3: 0.676 b: 0.008 Cost: 1.551486\n",
            "Epoch 1000/1000 w1: 0.675 w2: 0.660 w3: 0.676 b: 0.008 Cost: 1.550801\n",
            "Epoch 1000/1000 w1: 0.675 w2: 0.660 w3: 0.676 b: 0.008 Cost: 1.550138\n",
            "Epoch 1000/1000 w1: 0.675 w2: 0.660 w3: 0.676 b: 0.008 Cost: 1.549453\n",
            "Epoch 1000/1000 w1: 0.675 w2: 0.660 w3: 0.676 b: 0.008 Cost: 1.548791\n",
            "Epoch 1000/1000 w1: 0.675 w2: 0.660 w3: 0.676 b: 0.008 Cost: 1.548124\n",
            "Epoch 1000/1000 w1: 0.675 w2: 0.660 w3: 0.676 b: 0.008 Cost: 1.547463\n",
            "Epoch 1000/1000 w1: 0.675 w2: 0.659 w3: 0.676 b: 0.008 Cost: 1.546790\n",
            "Epoch 1000/1000 w1: 0.675 w2: 0.659 w3: 0.676 b: 0.008 Cost: 1.546123\n",
            "Epoch 1000/1000 w1: 0.675 w2: 0.659 w3: 0.676 b: 0.008 Cost: 1.545444\n",
            "Epoch 1000/1000 w1: 0.675 w2: 0.659 w3: 0.676 b: 0.008 Cost: 1.544771\n",
            "Epoch 1000/1000 w1: 0.675 w2: 0.659 w3: 0.676 b: 0.008 Cost: 1.544124\n",
            "Epoch 1000/1000 w1: 0.675 w2: 0.659 w3: 0.676 b: 0.008 Cost: 1.543458\n",
            "Epoch 1000/1000 w1: 0.675 w2: 0.659 w3: 0.676 b: 0.008 Cost: 1.542774\n",
            "Epoch 1000/1000 w1: 0.675 w2: 0.659 w3: 0.676 b: 0.008 Cost: 1.542120\n",
            "Epoch 1000/1000 w1: 0.675 w2: 0.659 w3: 0.676 b: 0.008 Cost: 1.541448\n",
            "Epoch 1000/1000 w1: 0.675 w2: 0.659 w3: 0.676 b: 0.008 Cost: 1.540784\n",
            "Epoch 1000/1000 w1: 0.675 w2: 0.659 w3: 0.676 b: 0.008 Cost: 1.540110\n",
            "Epoch 1000/1000 w1: 0.675 w2: 0.659 w3: 0.676 b: 0.008 Cost: 1.539444\n",
            "Epoch 1000/1000 w1: 0.676 w2: 0.659 w3: 0.676 b: 0.008 Cost: 1.538775\n",
            "Epoch 1000/1000 w1: 0.676 w2: 0.659 w3: 0.676 b: 0.008 Cost: 1.538136\n",
            "Epoch 1000/1000 w1: 0.676 w2: 0.659 w3: 0.676 b: 0.008 Cost: 1.537452\n",
            "Epoch 1000/1000 w1: 0.676 w2: 0.659 w3: 0.676 b: 0.008 Cost: 1.536798\n",
            "Epoch 1000/1000 w1: 0.676 w2: 0.658 w3: 0.676 b: 0.008 Cost: 1.536123\n",
            "Epoch 1000/1000 w1: 0.676 w2: 0.658 w3: 0.676 b: 0.008 Cost: 1.535465\n",
            "Epoch 1000/1000 w1: 0.676 w2: 0.658 w3: 0.676 b: 0.008 Cost: 1.534808\n",
            "Epoch 1000/1000 w1: 0.676 w2: 0.658 w3: 0.676 b: 0.008 Cost: 1.534151\n",
            "Epoch 1000/1000 w1: 0.676 w2: 0.658 w3: 0.676 b: 0.008 Cost: 1.533473\n",
            "Epoch 1000/1000 w1: 0.676 w2: 0.658 w3: 0.676 b: 0.008 Cost: 1.532817\n",
            "Epoch 1000/1000 w1: 0.676 w2: 0.658 w3: 0.676 b: 0.008 Cost: 1.532159\n",
            "Epoch 1000/1000 w1: 0.676 w2: 0.658 w3: 0.677 b: 0.008 Cost: 1.531491\n",
            "Epoch 1000/1000 w1: 0.676 w2: 0.658 w3: 0.677 b: 0.008 Cost: 1.530827\n",
            "Epoch 1000/1000 w1: 0.676 w2: 0.658 w3: 0.677 b: 0.008 Cost: 1.530177\n",
            "Epoch 1000/1000 w1: 0.676 w2: 0.658 w3: 0.677 b: 0.008 Cost: 1.529508\n",
            "Epoch 1000/1000 w1: 0.676 w2: 0.658 w3: 0.677 b: 0.008 Cost: 1.528859\n",
            "Epoch 1000/1000 w1: 0.676 w2: 0.658 w3: 0.677 b: 0.008 Cost: 1.528187\n",
            "Epoch 1000/1000 w1: 0.676 w2: 0.658 w3: 0.677 b: 0.008 Cost: 1.527546\n",
            "Epoch 1000/1000 w1: 0.677 w2: 0.658 w3: 0.677 b: 0.008 Cost: 1.526883\n",
            "Epoch 1000/1000 w1: 0.677 w2: 0.658 w3: 0.677 b: 0.008 Cost: 1.526216\n",
            "Epoch 1000/1000 w1: 0.677 w2: 0.658 w3: 0.677 b: 0.008 Cost: 1.525554\n",
            "Epoch 1000/1000 w1: 0.677 w2: 0.657 w3: 0.677 b: 0.008 Cost: 1.524900\n",
            "Epoch 1000/1000 w1: 0.677 w2: 0.657 w3: 0.677 b: 0.008 Cost: 1.524257\n",
            "Epoch 1000/1000 w1: 0.677 w2: 0.657 w3: 0.677 b: 0.008 Cost: 1.523607\n",
            "Epoch 1000/1000 w1: 0.677 w2: 0.657 w3: 0.677 b: 0.008 Cost: 1.522929\n",
            "Epoch 1000/1000 w1: 0.677 w2: 0.657 w3: 0.677 b: 0.008 Cost: 1.522279\n",
            "Epoch 1000/1000 w1: 0.677 w2: 0.657 w3: 0.677 b: 0.008 Cost: 1.521619\n",
            "Epoch 1000/1000 w1: 0.677 w2: 0.657 w3: 0.677 b: 0.008 Cost: 1.520971\n",
            "Epoch 1000/1000 w1: 0.677 w2: 0.657 w3: 0.677 b: 0.008 Cost: 1.520316\n",
            "Epoch 1000/1000 w1: 0.677 w2: 0.657 w3: 0.677 b: 0.008 Cost: 1.519649\n",
            "Epoch 1000/1000 w1: 0.677 w2: 0.657 w3: 0.677 b: 0.008 Cost: 1.519009\n",
            "Epoch 1000/1000 w1: 0.677 w2: 0.657 w3: 0.677 b: 0.008 Cost: 1.518346\n",
            "Epoch 1000/1000 w1: 0.677 w2: 0.657 w3: 0.677 b: 0.008 Cost: 1.517690\n",
            "Epoch 1000/1000 w1: 0.677 w2: 0.657 w3: 0.677 b: 0.008 Cost: 1.517036\n",
            "Epoch 1000/1000 w1: 0.677 w2: 0.657 w3: 0.677 b: 0.008 Cost: 1.516394\n",
            "Epoch 1000/1000 w1: 0.677 w2: 0.657 w3: 0.677 b: 0.008 Cost: 1.515729\n",
            "Epoch 1000/1000 w1: 0.677 w2: 0.657 w3: 0.677 b: 0.008 Cost: 1.515094\n",
            "Epoch 1000/1000 w1: 0.678 w2: 0.657 w3: 0.677 b: 0.008 Cost: 1.514434\n",
            "Epoch 1000/1000 w1: 0.678 w2: 0.656 w3: 0.677 b: 0.008 Cost: 1.513779\n",
            "Epoch 1000/1000 w1: 0.678 w2: 0.656 w3: 0.677 b: 0.008 Cost: 1.513113\n",
            "Epoch 1000/1000 w1: 0.678 w2: 0.656 w3: 0.677 b: 0.008 Cost: 1.512484\n",
            "Epoch 1000/1000 w1: 0.678 w2: 0.656 w3: 0.677 b: 0.008 Cost: 1.511834\n",
            "Epoch 1000/1000 w1: 0.678 w2: 0.656 w3: 0.677 b: 0.008 Cost: 1.511194\n",
            "Epoch 1000/1000 w1: 0.678 w2: 0.656 w3: 0.677 b: 0.008 Cost: 1.510536\n",
            "Epoch 1000/1000 w1: 0.678 w2: 0.656 w3: 0.677 b: 0.008 Cost: 1.509876\n",
            "Epoch 1000/1000 w1: 0.678 w2: 0.656 w3: 0.677 b: 0.008 Cost: 1.509226\n",
            "Epoch 1000/1000 w1: 0.678 w2: 0.656 w3: 0.677 b: 0.008 Cost: 1.508577\n",
            "Epoch 1000/1000 w1: 0.678 w2: 0.656 w3: 0.677 b: 0.008 Cost: 1.507938\n",
            "Epoch 1000/1000 w1: 0.678 w2: 0.656 w3: 0.677 b: 0.008 Cost: 1.507292\n",
            "Epoch 1000/1000 w1: 0.678 w2: 0.656 w3: 0.677 b: 0.008 Cost: 1.506642\n",
            "Epoch 1000/1000 w1: 0.678 w2: 0.656 w3: 0.677 b: 0.008 Cost: 1.505985\n",
            "Epoch 1000/1000 w1: 0.678 w2: 0.656 w3: 0.677 b: 0.008 Cost: 1.505341\n",
            "Epoch 1000/1000 w1: 0.678 w2: 0.656 w3: 0.677 b: 0.008 Cost: 1.504684\n",
            "Epoch 1000/1000 w1: 0.678 w2: 0.656 w3: 0.677 b: 0.008 Cost: 1.504045\n",
            "Epoch 1000/1000 w1: 0.678 w2: 0.655 w3: 0.677 b: 0.008 Cost: 1.503402\n",
            "Epoch 1000/1000 w1: 0.679 w2: 0.655 w3: 0.677 b: 0.008 Cost: 1.502764\n",
            "Epoch 1000/1000 w1: 0.679 w2: 0.655 w3: 0.677 b: 0.008 Cost: 1.502108\n",
            "Epoch 1000/1000 w1: 0.679 w2: 0.655 w3: 0.677 b: 0.008 Cost: 1.501452\n",
            "Epoch 1000/1000 w1: 0.679 w2: 0.655 w3: 0.677 b: 0.008 Cost: 1.500816\n",
            "Epoch 1000/1000 w1: 0.679 w2: 0.655 w3: 0.677 b: 0.008 Cost: 1.500173\n",
            "Epoch 1000/1000 w1: 0.679 w2: 0.655 w3: 0.677 b: 0.008 Cost: 1.499532\n",
            "Epoch 1000/1000 w1: 0.679 w2: 0.655 w3: 0.677 b: 0.008 Cost: 1.498891\n",
            "Epoch 1000/1000 w1: 0.679 w2: 0.655 w3: 0.677 b: 0.008 Cost: 1.498241\n",
            "Epoch 1000/1000 w1: 0.679 w2: 0.655 w3: 0.677 b: 0.008 Cost: 1.497616\n",
            "Epoch 1000/1000 w1: 0.679 w2: 0.655 w3: 0.677 b: 0.008 Cost: 1.496963\n",
            "Epoch 1000/1000 w1: 0.679 w2: 0.655 w3: 0.677 b: 0.008 Cost: 1.496321\n",
            "Epoch 1000/1000 w1: 0.679 w2: 0.655 w3: 0.677 b: 0.008 Cost: 1.495678\n",
            "Epoch 1000/1000 w1: 0.679 w2: 0.655 w3: 0.677 b: 0.008 Cost: 1.495030\n",
            "Epoch 1000/1000 w1: 0.679 w2: 0.655 w3: 0.677 b: 0.008 Cost: 1.494414\n",
            "Epoch 1000/1000 w1: 0.679 w2: 0.655 w3: 0.677 b: 0.008 Cost: 1.493760\n",
            "Epoch 1000/1000 w1: 0.679 w2: 0.655 w3: 0.677 b: 0.008 Cost: 1.493106\n",
            "Epoch 1000/1000 w1: 0.679 w2: 0.654 w3: 0.677 b: 0.008 Cost: 1.492470\n",
            "Epoch 1000/1000 w1: 0.679 w2: 0.654 w3: 0.677 b: 0.008 Cost: 1.491827\n",
            "Epoch 1000/1000 w1: 0.679 w2: 0.654 w3: 0.677 b: 0.008 Cost: 1.491196\n",
            "Epoch 1000/1000 w1: 0.680 w2: 0.654 w3: 0.677 b: 0.008 Cost: 1.490556\n",
            "Epoch 1000/1000 w1: 0.680 w2: 0.654 w3: 0.677 b: 0.008 Cost: 1.489914\n",
            "Epoch 1000/1000 w1: 0.680 w2: 0.654 w3: 0.677 b: 0.008 Cost: 1.489290\n",
            "Epoch 1000/1000 w1: 0.680 w2: 0.654 w3: 0.677 b: 0.008 Cost: 1.488633\n",
            "Epoch 1000/1000 w1: 0.680 w2: 0.654 w3: 0.677 b: 0.008 Cost: 1.488011\n",
            "Epoch 1000/1000 w1: 0.680 w2: 0.654 w3: 0.677 b: 0.008 Cost: 1.487362\n",
            "Epoch 1000/1000 w1: 0.680 w2: 0.654 w3: 0.677 b: 0.008 Cost: 1.486745\n",
            "Epoch 1000/1000 w1: 0.680 w2: 0.654 w3: 0.677 b: 0.008 Cost: 1.486105\n",
            "Epoch 1000/1000 w1: 0.680 w2: 0.654 w3: 0.677 b: 0.008 Cost: 1.485453\n",
            "Epoch 1000/1000 w1: 0.680 w2: 0.654 w3: 0.677 b: 0.008 Cost: 1.484821\n",
            "Epoch 1000/1000 w1: 0.680 w2: 0.654 w3: 0.677 b: 0.008 Cost: 1.484189\n",
            "Epoch 1000/1000 w1: 0.680 w2: 0.654 w3: 0.677 b: 0.008 Cost: 1.483544\n",
            "Epoch 1000/1000 w1: 0.680 w2: 0.654 w3: 0.677 b: 0.008 Cost: 1.482906\n",
            "Epoch 1000/1000 w1: 0.680 w2: 0.654 w3: 0.677 b: 0.008 Cost: 1.482283\n",
            "Epoch 1000/1000 w1: 0.680 w2: 0.653 w3: 0.677 b: 0.008 Cost: 1.481652\n",
            "Epoch 1000/1000 w1: 0.680 w2: 0.653 w3: 0.677 b: 0.008 Cost: 1.481019\n",
            "Epoch 1000/1000 w1: 0.680 w2: 0.653 w3: 0.677 b: 0.008 Cost: 1.480382\n",
            "Epoch 1000/1000 w1: 0.680 w2: 0.653 w3: 0.677 b: 0.008 Cost: 1.479738\n",
            "Epoch 1000/1000 w1: 0.680 w2: 0.653 w3: 0.677 b: 0.008 Cost: 1.479110\n",
            "Epoch 1000/1000 w1: 0.681 w2: 0.653 w3: 0.677 b: 0.008 Cost: 1.478475\n",
            "Epoch 1000/1000 w1: 0.681 w2: 0.653 w3: 0.677 b: 0.008 Cost: 1.477849\n",
            "Epoch 1000/1000 w1: 0.681 w2: 0.653 w3: 0.677 b: 0.008 Cost: 1.477214\n",
            "Epoch 1000/1000 w1: 0.681 w2: 0.653 w3: 0.677 b: 0.008 Cost: 1.476594\n",
            "Epoch 1000/1000 w1: 0.681 w2: 0.653 w3: 0.677 b: 0.008 Cost: 1.475953\n",
            "Epoch 1000/1000 w1: 0.681 w2: 0.653 w3: 0.677 b: 0.008 Cost: 1.475315\n",
            "Epoch 1000/1000 w1: 0.681 w2: 0.653 w3: 0.677 b: 0.008 Cost: 1.474690\n",
            "Epoch 1000/1000 w1: 0.681 w2: 0.653 w3: 0.677 b: 0.008 Cost: 1.474081\n",
            "Epoch 1000/1000 w1: 0.681 w2: 0.653 w3: 0.677 b: 0.008 Cost: 1.473429\n",
            "Epoch 1000/1000 w1: 0.681 w2: 0.653 w3: 0.677 b: 0.008 Cost: 1.472801\n",
            "Epoch 1000/1000 w1: 0.681 w2: 0.653 w3: 0.677 b: 0.008 Cost: 1.472172\n",
            "Epoch 1000/1000 w1: 0.681 w2: 0.653 w3: 0.677 b: 0.008 Cost: 1.471560\n",
            "Epoch 1000/1000 w1: 0.681 w2: 0.652 w3: 0.677 b: 0.008 Cost: 1.470915\n",
            "Epoch 1000/1000 w1: 0.681 w2: 0.652 w3: 0.677 b: 0.008 Cost: 1.470287\n",
            "Epoch 1000/1000 w1: 0.681 w2: 0.652 w3: 0.677 b: 0.008 Cost: 1.469664\n",
            "Epoch 1000/1000 w1: 0.681 w2: 0.652 w3: 0.677 b: 0.008 Cost: 1.469030\n",
            "Epoch 1000/1000 w1: 0.681 w2: 0.652 w3: 0.677 b: 0.008 Cost: 1.468412\n",
            "Epoch 1000/1000 w1: 0.681 w2: 0.652 w3: 0.677 b: 0.008 Cost: 1.467776\n",
            "Epoch 1000/1000 w1: 0.682 w2: 0.652 w3: 0.677 b: 0.008 Cost: 1.467148\n",
            "Epoch 1000/1000 w1: 0.682 w2: 0.652 w3: 0.677 b: 0.008 Cost: 1.466532\n",
            "Epoch 1000/1000 w1: 0.682 w2: 0.652 w3: 0.677 b: 0.008 Cost: 1.465901\n",
            "Epoch 1000/1000 w1: 0.682 w2: 0.652 w3: 0.677 b: 0.008 Cost: 1.465281\n",
            "Epoch 1000/1000 w1: 0.682 w2: 0.652 w3: 0.677 b: 0.008 Cost: 1.464653\n",
            "Epoch 1000/1000 w1: 0.682 w2: 0.652 w3: 0.677 b: 0.008 Cost: 1.464015\n",
            "Epoch 1000/1000 w1: 0.682 w2: 0.652 w3: 0.677 b: 0.008 Cost: 1.463401\n",
            "Epoch 1000/1000 w1: 0.682 w2: 0.652 w3: 0.677 b: 0.008 Cost: 1.462778\n",
            "Epoch 1000/1000 w1: 0.682 w2: 0.652 w3: 0.677 b: 0.008 Cost: 1.462161\n",
            "Epoch 1000/1000 w1: 0.682 w2: 0.652 w3: 0.677 b: 0.008 Cost: 1.461533\n",
            "Epoch 1000/1000 w1: 0.682 w2: 0.652 w3: 0.677 b: 0.008 Cost: 1.460919\n",
            "Epoch 1000/1000 w1: 0.682 w2: 0.651 w3: 0.677 b: 0.008 Cost: 1.460292\n",
            "Epoch 1000/1000 w1: 0.682 w2: 0.651 w3: 0.677 b: 0.008 Cost: 1.459671\n",
            "Epoch 1000/1000 w1: 0.682 w2: 0.651 w3: 0.677 b: 0.008 Cost: 1.459040\n",
            "Epoch 1000/1000 w1: 0.682 w2: 0.651 w3: 0.677 b: 0.008 Cost: 1.458425\n",
            "Epoch 1000/1000 w1: 0.682 w2: 0.651 w3: 0.677 b: 0.008 Cost: 1.457802\n",
            "Epoch 1000/1000 w1: 0.682 w2: 0.651 w3: 0.677 b: 0.008 Cost: 1.457190\n",
            "Epoch 1000/1000 w1: 0.682 w2: 0.651 w3: 0.677 b: 0.008 Cost: 1.456558\n",
            "Epoch 1000/1000 w1: 0.682 w2: 0.651 w3: 0.677 b: 0.008 Cost: 1.455931\n",
            "Epoch 1000/1000 w1: 0.683 w2: 0.651 w3: 0.677 b: 0.008 Cost: 1.455316\n",
            "Epoch 1000/1000 w1: 0.683 w2: 0.651 w3: 0.677 b: 0.008 Cost: 1.454692\n",
            "Epoch 1000/1000 w1: 0.683 w2: 0.651 w3: 0.677 b: 0.008 Cost: 1.454073\n",
            "Epoch 1000/1000 w1: 0.683 w2: 0.651 w3: 0.677 b: 0.008 Cost: 1.453453\n",
            "Epoch 1000/1000 w1: 0.683 w2: 0.651 w3: 0.677 b: 0.008 Cost: 1.452842\n",
            "Epoch 1000/1000 w1: 0.683 w2: 0.651 w3: 0.677 b: 0.008 Cost: 1.452227\n",
            "Epoch 1000/1000 w1: 0.683 w2: 0.651 w3: 0.677 b: 0.008 Cost: 1.451593\n",
            "Epoch 1000/1000 w1: 0.683 w2: 0.651 w3: 0.677 b: 0.008 Cost: 1.450991\n",
            "Epoch 1000/1000 w1: 0.683 w2: 0.651 w3: 0.677 b: 0.008 Cost: 1.450374\n",
            "Epoch 1000/1000 w1: 0.683 w2: 0.651 w3: 0.677 b: 0.008 Cost: 1.449743\n",
            "Epoch 1000/1000 w1: 0.683 w2: 0.650 w3: 0.677 b: 0.008 Cost: 1.449126\n",
            "Epoch 1000/1000 w1: 0.683 w2: 0.650 w3: 0.677 b: 0.008 Cost: 1.448506\n",
            "Epoch 1000/1000 w1: 0.683 w2: 0.650 w3: 0.677 b: 0.008 Cost: 1.447893\n",
            "Epoch 1000/1000 w1: 0.683 w2: 0.650 w3: 0.677 b: 0.008 Cost: 1.447289\n",
            "Epoch 1000/1000 w1: 0.683 w2: 0.650 w3: 0.677 b: 0.008 Cost: 1.446653\n",
            "Epoch 1000/1000 w1: 0.683 w2: 0.650 w3: 0.677 b: 0.008 Cost: 1.446048\n",
            "Epoch 1000/1000 w1: 0.683 w2: 0.650 w3: 0.677 b: 0.008 Cost: 1.445430\n",
            "Epoch 1000/1000 w1: 0.683 w2: 0.650 w3: 0.677 b: 0.008 Cost: 1.444818\n",
            "Epoch 1000/1000 w1: 0.683 w2: 0.650 w3: 0.677 b: 0.008 Cost: 1.444209\n",
            "Epoch 1000/1000 w1: 0.684 w2: 0.650 w3: 0.677 b: 0.008 Cost: 1.443597\n",
            "Epoch 1000/1000 w1: 0.684 w2: 0.650 w3: 0.677 b: 0.008 Cost: 1.442983\n",
            "Epoch 1000/1000 w1: 0.684 w2: 0.650 w3: 0.677 b: 0.008 Cost: 1.442371\n",
            "Epoch 1000/1000 w1: 0.684 w2: 0.650 w3: 0.677 b: 0.008 Cost: 1.441761\n",
            "Epoch 1000/1000 w1: 0.684 w2: 0.650 w3: 0.677 b: 0.008 Cost: 1.441132\n",
            "Epoch 1000/1000 w1: 0.684 w2: 0.650 w3: 0.677 b: 0.008 Cost: 1.440532\n",
            "Epoch 1000/1000 w1: 0.684 w2: 0.650 w3: 0.677 b: 0.008 Cost: 1.439912\n",
            "Epoch 1000/1000 w1: 0.684 w2: 0.650 w3: 0.677 b: 0.008 Cost: 1.439312\n",
            "Epoch 1000/1000 w1: 0.684 w2: 0.649 w3: 0.677 b: 0.008 Cost: 1.438695\n",
            "Epoch 1000/1000 w1: 0.684 w2: 0.649 w3: 0.677 b: 0.008 Cost: 1.438087\n",
            "Epoch 1000/1000 w1: 0.684 w2: 0.649 w3: 0.677 b: 0.008 Cost: 1.437482\n",
            "Epoch 1000/1000 w1: 0.684 w2: 0.649 w3: 0.677 b: 0.008 Cost: 1.436854\n",
            "Epoch 1000/1000 w1: 0.684 w2: 0.649 w3: 0.677 b: 0.008 Cost: 1.436257\n",
            "Epoch 1000/1000 w1: 0.684 w2: 0.649 w3: 0.677 b: 0.008 Cost: 1.435650\n",
            "Epoch 1000/1000 w1: 0.684 w2: 0.649 w3: 0.677 b: 0.008 Cost: 1.435029\n",
            "Epoch 1000/1000 w1: 0.684 w2: 0.649 w3: 0.677 b: 0.008 Cost: 1.434421\n",
            "Epoch 1000/1000 w1: 0.684 w2: 0.649 w3: 0.677 b: 0.008 Cost: 1.433798\n",
            "Epoch 1000/1000 w1: 0.684 w2: 0.649 w3: 0.677 b: 0.008 Cost: 1.433192\n",
            "Epoch 1000/1000 w1: 0.684 w2: 0.649 w3: 0.677 b: 0.008 Cost: 1.432596\n",
            "Epoch 1000/1000 w1: 0.685 w2: 0.649 w3: 0.677 b: 0.008 Cost: 1.431999\n",
            "Epoch 1000/1000 w1: 0.685 w2: 0.649 w3: 0.677 b: 0.008 Cost: 1.431386\n",
            "Epoch 1000/1000 w1: 0.685 w2: 0.649 w3: 0.677 b: 0.008 Cost: 1.430777\n",
            "Epoch 1000/1000 w1: 0.685 w2: 0.649 w3: 0.677 b: 0.008 Cost: 1.430172\n",
            "Epoch 1000/1000 w1: 0.685 w2: 0.649 w3: 0.677 b: 0.008 Cost: 1.429569\n",
            "Epoch 1000/1000 w1: 0.685 w2: 0.649 w3: 0.677 b: 0.008 Cost: 1.428958\n",
            "Epoch 1000/1000 w1: 0.685 w2: 0.648 w3: 0.677 b: 0.008 Cost: 1.428351\n",
            "Epoch 1000/1000 w1: 0.685 w2: 0.648 w3: 0.677 b: 0.008 Cost: 1.427747\n",
            "Epoch 1000/1000 w1: 0.685 w2: 0.648 w3: 0.677 b: 0.008 Cost: 1.427136\n",
            "Epoch 1000/1000 w1: 0.685 w2: 0.648 w3: 0.677 b: 0.008 Cost: 1.426541\n",
            "Epoch 1000/1000 w1: 0.685 w2: 0.648 w3: 0.677 b: 0.008 Cost: 1.425924\n",
            "Epoch 1000/1000 w1: 0.685 w2: 0.648 w3: 0.677 b: 0.008 Cost: 1.425330\n",
            "Epoch 1000/1000 w1: 0.685 w2: 0.648 w3: 0.677 b: 0.008 Cost: 1.424730\n",
            "Epoch 1000/1000 w1: 0.685 w2: 0.648 w3: 0.677 b: 0.008 Cost: 1.424125\n",
            "Epoch 1000/1000 w1: 0.685 w2: 0.648 w3: 0.677 b: 0.008 Cost: 1.423523\n",
            "Epoch 1000/1000 w1: 0.685 w2: 0.648 w3: 0.677 b: 0.008 Cost: 1.422914\n",
            "Epoch 1000/1000 w1: 0.685 w2: 0.648 w3: 0.677 b: 0.008 Cost: 1.422302\n",
            "Epoch 1000/1000 w1: 0.685 w2: 0.648 w3: 0.677 b: 0.008 Cost: 1.421705\n",
            "Epoch 1000/1000 w1: 0.685 w2: 0.648 w3: 0.677 b: 0.008 Cost: 1.421102\n",
            "Epoch 1000/1000 w1: 0.686 w2: 0.648 w3: 0.677 b: 0.008 Cost: 1.420514\n",
            "Epoch 1000/1000 w1: 0.686 w2: 0.648 w3: 0.677 b: 0.008 Cost: 1.419904\n",
            "Epoch 1000/1000 w1: 0.686 w2: 0.648 w3: 0.677 b: 0.008 Cost: 1.419300\n",
            "Epoch 1000/1000 w1: 0.686 w2: 0.648 w3: 0.677 b: 0.008 Cost: 1.418711\n",
            "Epoch 1000/1000 w1: 0.686 w2: 0.648 w3: 0.677 b: 0.008 Cost: 1.418107\n",
            "Epoch 1000/1000 w1: 0.686 w2: 0.647 w3: 0.677 b: 0.008 Cost: 1.417506\n",
            "Epoch 1000/1000 w1: 0.686 w2: 0.647 w3: 0.677 b: 0.008 Cost: 1.416918\n",
            "Epoch 1000/1000 w1: 0.686 w2: 0.647 w3: 0.677 b: 0.008 Cost: 1.416302\n",
            "Epoch 1000/1000 w1: 0.686 w2: 0.647 w3: 0.677 b: 0.008 Cost: 1.415692\n",
            "Epoch 1000/1000 w1: 0.686 w2: 0.647 w3: 0.677 b: 0.008 Cost: 1.415106\n",
            "Epoch 1000/1000 w1: 0.686 w2: 0.647 w3: 0.677 b: 0.008 Cost: 1.414517\n",
            "Epoch 1000/1000 w1: 0.686 w2: 0.647 w3: 0.677 b: 0.008 Cost: 1.413900\n",
            "Epoch 1000/1000 w1: 0.686 w2: 0.647 w3: 0.677 b: 0.008 Cost: 1.413327\n",
            "Epoch 1000/1000 w1: 0.686 w2: 0.647 w3: 0.677 b: 0.008 Cost: 1.412706\n",
            "Epoch 1000/1000 w1: 0.686 w2: 0.647 w3: 0.677 b: 0.008 Cost: 1.412120\n",
            "Epoch 1000/1000 w1: 0.686 w2: 0.647 w3: 0.677 b: 0.008 Cost: 1.411505\n",
            "Epoch 1000/1000 w1: 0.686 w2: 0.647 w3: 0.678 b: 0.008 Cost: 1.410919\n",
            "Epoch 1000/1000 w1: 0.686 w2: 0.647 w3: 0.678 b: 0.008 Cost: 1.410317\n",
            "Epoch 1000/1000 w1: 0.686 w2: 0.647 w3: 0.678 b: 0.008 Cost: 1.409733\n",
            "Epoch 1000/1000 w1: 0.686 w2: 0.647 w3: 0.678 b: 0.008 Cost: 1.409156\n",
            "Epoch 1000/1000 w1: 0.687 w2: 0.647 w3: 0.678 b: 0.008 Cost: 1.408537\n",
            "Epoch 1000/1000 w1: 0.687 w2: 0.647 w3: 0.678 b: 0.008 Cost: 1.407944\n",
            "Epoch 1000/1000 w1: 0.687 w2: 0.646 w3: 0.678 b: 0.008 Cost: 1.407345\n",
            "Epoch 1000/1000 w1: 0.687 w2: 0.646 w3: 0.678 b: 0.008 Cost: 1.406763\n",
            "Epoch 1000/1000 w1: 0.687 w2: 0.646 w3: 0.678 b: 0.008 Cost: 1.406163\n",
            "Epoch 1000/1000 w1: 0.687 w2: 0.646 w3: 0.678 b: 0.008 Cost: 1.405574\n",
            "Epoch 1000/1000 w1: 0.687 w2: 0.646 w3: 0.678 b: 0.008 Cost: 1.404979\n",
            "Epoch 1000/1000 w1: 0.687 w2: 0.646 w3: 0.678 b: 0.008 Cost: 1.404392\n",
            "Epoch 1000/1000 w1: 0.687 w2: 0.646 w3: 0.678 b: 0.008 Cost: 1.403798\n",
            "Epoch 1000/1000 w1: 0.687 w2: 0.646 w3: 0.678 b: 0.008 Cost: 1.403213\n",
            "Epoch 1000/1000 w1: 0.687 w2: 0.646 w3: 0.678 b: 0.008 Cost: 1.402612\n",
            "Epoch 1000/1000 w1: 0.687 w2: 0.646 w3: 0.678 b: 0.008 Cost: 1.402019\n",
            "Epoch 1000/1000 w1: 0.687 w2: 0.646 w3: 0.678 b: 0.008 Cost: 1.401429\n",
            "Epoch 1000/1000 w1: 0.687 w2: 0.646 w3: 0.678 b: 0.008 Cost: 1.400836\n",
            "Epoch 1000/1000 w1: 0.687 w2: 0.646 w3: 0.678 b: 0.008 Cost: 1.400242\n",
            "Epoch 1000/1000 w1: 0.687 w2: 0.646 w3: 0.678 b: 0.008 Cost: 1.399648\n",
            "Epoch 1000/1000 w1: 0.687 w2: 0.646 w3: 0.678 b: 0.008 Cost: 1.399073\n",
            "Epoch 1000/1000 w1: 0.687 w2: 0.646 w3: 0.678 b: 0.008 Cost: 1.398467\n",
            "Epoch 1000/1000 w1: 0.687 w2: 0.646 w3: 0.678 b: 0.008 Cost: 1.397875\n",
            "Epoch 1000/1000 w1: 0.688 w2: 0.646 w3: 0.678 b: 0.008 Cost: 1.397290\n",
            "Epoch 1000/1000 w1: 0.688 w2: 0.645 w3: 0.678 b: 0.008 Cost: 1.396708\n",
            "Epoch 1000/1000 w1: 0.688 w2: 0.645 w3: 0.678 b: 0.008 Cost: 1.396135\n",
            "Epoch 1000/1000 w1: 0.688 w2: 0.645 w3: 0.678 b: 0.008 Cost: 1.395524\n",
            "Epoch 1000/1000 w1: 0.688 w2: 0.645 w3: 0.678 b: 0.008 Cost: 1.394949\n",
            "Epoch 1000/1000 w1: 0.688 w2: 0.645 w3: 0.678 b: 0.008 Cost: 1.394355\n",
            "Epoch 1000/1000 w1: 0.688 w2: 0.645 w3: 0.678 b: 0.008 Cost: 1.393775\n",
            "Epoch 1000/1000 w1: 0.688 w2: 0.645 w3: 0.678 b: 0.008 Cost: 1.393195\n",
            "Epoch 1000/1000 w1: 0.688 w2: 0.645 w3: 0.678 b: 0.008 Cost: 1.392587\n",
            "Epoch 1000/1000 w1: 0.688 w2: 0.645 w3: 0.678 b: 0.008 Cost: 1.392001\n",
            "Epoch 1000/1000 w1: 0.688 w2: 0.645 w3: 0.678 b: 0.008 Cost: 1.391425\n",
            "Epoch 1000/1000 w1: 0.688 w2: 0.645 w3: 0.678 b: 0.008 Cost: 1.390829\n",
            "Epoch 1000/1000 w1: 0.688 w2: 0.645 w3: 0.678 b: 0.008 Cost: 1.390260\n",
            "Epoch 1000/1000 w1: 0.688 w2: 0.645 w3: 0.678 b: 0.008 Cost: 1.389685\n",
            "Epoch 1000/1000 w1: 0.688 w2: 0.645 w3: 0.678 b: 0.008 Cost: 1.389082\n",
            "Epoch 1000/1000 w1: 0.688 w2: 0.645 w3: 0.678 b: 0.008 Cost: 1.388498\n",
            "Epoch 1000/1000 w1: 0.688 w2: 0.645 w3: 0.678 b: 0.008 Cost: 1.387908\n",
            "Epoch 1000/1000 w1: 0.688 w2: 0.645 w3: 0.678 b: 0.008 Cost: 1.387329\n",
            "Epoch 1000/1000 w1: 0.688 w2: 0.645 w3: 0.678 b: 0.008 Cost: 1.386733\n",
            "Epoch 1000/1000 w1: 0.689 w2: 0.644 w3: 0.678 b: 0.008 Cost: 1.386164\n",
            "Epoch 1000/1000 w1: 0.689 w2: 0.644 w3: 0.678 b: 0.008 Cost: 1.385581\n",
            "Epoch 1000/1000 w1: 0.689 w2: 0.644 w3: 0.678 b: 0.008 Cost: 1.385007\n",
            "Epoch 1000/1000 w1: 0.689 w2: 0.644 w3: 0.678 b: 0.008 Cost: 1.384423\n",
            "Epoch 1000/1000 w1: 0.689 w2: 0.644 w3: 0.678 b: 0.008 Cost: 1.383840\n",
            "Epoch 1000/1000 w1: 0.689 w2: 0.644 w3: 0.678 b: 0.008 Cost: 1.383256\n",
            "Epoch 1000/1000 w1: 0.689 w2: 0.644 w3: 0.678 b: 0.008 Cost: 1.382672\n",
            "Epoch 1000/1000 w1: 0.689 w2: 0.644 w3: 0.678 b: 0.008 Cost: 1.382087\n",
            "Epoch 1000/1000 w1: 0.689 w2: 0.644 w3: 0.678 b: 0.008 Cost: 1.381520\n",
            "Epoch 1000/1000 w1: 0.689 w2: 0.644 w3: 0.678 b: 0.008 Cost: 1.380920\n",
            "Epoch 1000/1000 w1: 0.689 w2: 0.644 w3: 0.678 b: 0.008 Cost: 1.380352\n",
            "Epoch 1000/1000 w1: 0.689 w2: 0.644 w3: 0.678 b: 0.008 Cost: 1.379774\n",
            "Epoch 1000/1000 w1: 0.689 w2: 0.644 w3: 0.678 b: 0.008 Cost: 1.379195\n",
            "Epoch 1000/1000 w1: 0.689 w2: 0.644 w3: 0.678 b: 0.008 Cost: 1.378607\n",
            "Epoch 1000/1000 w1: 0.689 w2: 0.644 w3: 0.678 b: 0.008 Cost: 1.378037\n",
            "Epoch 1000/1000 w1: 0.689 w2: 0.644 w3: 0.678 b: 0.008 Cost: 1.377460\n",
            "Epoch 1000/1000 w1: 0.689 w2: 0.644 w3: 0.678 b: 0.008 Cost: 1.376885\n",
            "Epoch 1000/1000 w1: 0.689 w2: 0.644 w3: 0.678 b: 0.008 Cost: 1.376308\n",
            "Epoch 1000/1000 w1: 0.689 w2: 0.643 w3: 0.678 b: 0.008 Cost: 1.375726\n",
            "Epoch 1000/1000 w1: 0.689 w2: 0.643 w3: 0.678 b: 0.008 Cost: 1.375130\n",
            "Epoch 1000/1000 w1: 0.690 w2: 0.643 w3: 0.678 b: 0.008 Cost: 1.374567\n",
            "Epoch 1000/1000 w1: 0.690 w2: 0.643 w3: 0.678 b: 0.008 Cost: 1.373979\n",
            "Epoch 1000/1000 w1: 0.690 w2: 0.643 w3: 0.678 b: 0.008 Cost: 1.373425\n",
            "Epoch 1000/1000 w1: 0.690 w2: 0.643 w3: 0.678 b: 0.008 Cost: 1.372836\n",
            "Epoch 1000/1000 w1: 0.690 w2: 0.643 w3: 0.678 b: 0.008 Cost: 1.372263\n",
            "Epoch 1000/1000 w1: 0.690 w2: 0.643 w3: 0.678 b: 0.008 Cost: 1.371701\n",
            "Epoch 1000/1000 w1: 0.690 w2: 0.643 w3: 0.678 b: 0.008 Cost: 1.371105\n",
            "Epoch 1000/1000 w1: 0.690 w2: 0.643 w3: 0.678 b: 0.008 Cost: 1.370551\n",
            "Epoch 1000/1000 w1: 0.690 w2: 0.643 w3: 0.678 b: 0.008 Cost: 1.369970\n",
            "Epoch 1000/1000 w1: 0.690 w2: 0.643 w3: 0.678 b: 0.008 Cost: 1.369384\n",
            "Epoch 1000/1000 w1: 0.690 w2: 0.643 w3: 0.678 b: 0.008 Cost: 1.368821\n",
            "Epoch 1000/1000 w1: 0.690 w2: 0.643 w3: 0.678 b: 0.008 Cost: 1.368247\n",
            "Epoch 1000/1000 w1: 0.690 w2: 0.643 w3: 0.678 b: 0.008 Cost: 1.367673\n",
            "Epoch 1000/1000 w1: 0.690 w2: 0.643 w3: 0.678 b: 0.008 Cost: 1.367099\n",
            "Epoch 1000/1000 w1: 0.690 w2: 0.643 w3: 0.678 b: 0.008 Cost: 1.366525\n",
            "Epoch 1000/1000 w1: 0.690 w2: 0.642 w3: 0.678 b: 0.008 Cost: 1.365962\n",
            "Epoch 1000/1000 w1: 0.690 w2: 0.642 w3: 0.678 b: 0.008 Cost: 1.365376\n",
            "Epoch 1000/1000 w1: 0.690 w2: 0.642 w3: 0.678 b: 0.008 Cost: 1.364816\n",
            "Epoch 1000/1000 w1: 0.690 w2: 0.642 w3: 0.678 b: 0.008 Cost: 1.364241\n",
            "Epoch 1000/1000 w1: 0.690 w2: 0.642 w3: 0.678 b: 0.008 Cost: 1.363662\n",
            "Epoch 1000/1000 w1: 0.691 w2: 0.642 w3: 0.678 b: 0.008 Cost: 1.363091\n",
            "Epoch 1000/1000 w1: 0.691 w2: 0.642 w3: 0.678 b: 0.008 Cost: 1.362523\n",
            "Epoch 1000/1000 w1: 0.691 w2: 0.642 w3: 0.678 b: 0.008 Cost: 1.361961\n",
            "Epoch 1000/1000 w1: 0.691 w2: 0.642 w3: 0.678 b: 0.008 Cost: 1.361390\n",
            "Epoch 1000/1000 w1: 0.691 w2: 0.642 w3: 0.678 b: 0.008 Cost: 1.360812\n",
            "Epoch 1000/1000 w1: 0.691 w2: 0.642 w3: 0.678 b: 0.008 Cost: 1.360248\n",
            "Epoch 1000/1000 w1: 0.691 w2: 0.642 w3: 0.678 b: 0.008 Cost: 1.359683\n",
            "Epoch 1000/1000 w1: 0.691 w2: 0.642 w3: 0.678 b: 0.008 Cost: 1.359113\n",
            "Epoch 1000/1000 w1: 0.691 w2: 0.642 w3: 0.678 b: 0.008 Cost: 1.358545\n",
            "Epoch 1000/1000 w1: 0.691 w2: 0.642 w3: 0.678 b: 0.008 Cost: 1.357969\n",
            "Epoch 1000/1000 w1: 0.691 w2: 0.642 w3: 0.678 b: 0.008 Cost: 1.357409\n",
            "Epoch 1000/1000 w1: 0.691 w2: 0.642 w3: 0.678 b: 0.008 Cost: 1.356845\n",
            "Epoch 1000/1000 w1: 0.691 w2: 0.642 w3: 0.678 b: 0.008 Cost: 1.356261\n",
            "Epoch 1000/1000 w1: 0.691 w2: 0.641 w3: 0.678 b: 0.008 Cost: 1.355696\n",
            "Epoch 1000/1000 w1: 0.691 w2: 0.641 w3: 0.678 b: 0.008 Cost: 1.355129\n",
            "Epoch 1000/1000 w1: 0.691 w2: 0.641 w3: 0.678 b: 0.008 Cost: 1.354559\n",
            "Epoch 1000/1000 w1: 0.691 w2: 0.641 w3: 0.678 b: 0.008 Cost: 1.354006\n",
            "Epoch 1000/1000 w1: 0.691 w2: 0.641 w3: 0.678 b: 0.008 Cost: 1.353434\n",
            "Epoch 1000/1000 w1: 0.691 w2: 0.641 w3: 0.678 b: 0.008 Cost: 1.352876\n",
            "Epoch 1000/1000 w1: 0.692 w2: 0.641 w3: 0.678 b: 0.008 Cost: 1.352317\n",
            "Epoch 1000/1000 w1: 0.692 w2: 0.641 w3: 0.678 b: 0.008 Cost: 1.351741\n",
            "Epoch 1000/1000 w1: 0.692 w2: 0.641 w3: 0.678 b: 0.008 Cost: 1.351175\n",
            "Epoch 1000/1000 w1: 0.692 w2: 0.641 w3: 0.678 b: 0.008 Cost: 1.350607\n",
            "Epoch 1000/1000 w1: 0.692 w2: 0.641 w3: 0.678 b: 0.008 Cost: 1.350050\n",
            "Epoch 1000/1000 w1: 0.692 w2: 0.641 w3: 0.678 b: 0.008 Cost: 1.349482\n",
            "Epoch 1000/1000 w1: 0.692 w2: 0.641 w3: 0.678 b: 0.008 Cost: 1.348924\n",
            "Epoch 1000/1000 w1: 0.692 w2: 0.641 w3: 0.678 b: 0.008 Cost: 1.348368\n",
            "Epoch 1000/1000 w1: 0.692 w2: 0.641 w3: 0.678 b: 0.008 Cost: 1.347788\n",
            "Epoch 1000/1000 w1: 0.692 w2: 0.641 w3: 0.678 b: 0.008 Cost: 1.347232\n",
            "Epoch 1000/1000 w1: 0.692 w2: 0.641 w3: 0.678 b: 0.008 Cost: 1.346677\n",
            "Epoch 1000/1000 w1: 0.692 w2: 0.641 w3: 0.678 b: 0.008 Cost: 1.346128\n",
            "Epoch 1000/1000 w1: 0.692 w2: 0.640 w3: 0.678 b: 0.008 Cost: 1.345551\n",
            "Epoch 1000/1000 w1: 0.692 w2: 0.640 w3: 0.678 b: 0.008 Cost: 1.344999\n",
            "Epoch 1000/1000 w1: 0.692 w2: 0.640 w3: 0.678 b: 0.008 Cost: 1.344432\n",
            "Epoch 1000/1000 w1: 0.692 w2: 0.640 w3: 0.678 b: 0.008 Cost: 1.343869\n",
            "Epoch 1000/1000 w1: 0.692 w2: 0.640 w3: 0.678 b: 0.008 Cost: 1.343302\n",
            "Epoch 1000/1000 w1: 0.692 w2: 0.640 w3: 0.678 b: 0.008 Cost: 1.342751\n",
            "Epoch 1000/1000 w1: 0.692 w2: 0.640 w3: 0.678 b: 0.008 Cost: 1.342195\n",
            "Epoch 1000/1000 w1: 0.692 w2: 0.640 w3: 0.678 b: 0.008 Cost: 1.341632\n",
            "Epoch 1000/1000 w1: 0.693 w2: 0.640 w3: 0.678 b: 0.008 Cost: 1.341064\n",
            "Epoch 1000/1000 w1: 0.693 w2: 0.640 w3: 0.678 b: 0.008 Cost: 1.340513\n",
            "Epoch 1000/1000 w1: 0.693 w2: 0.640 w3: 0.678 b: 0.008 Cost: 1.339958\n",
            "Epoch 1000/1000 w1: 0.693 w2: 0.640 w3: 0.678 b: 0.008 Cost: 1.339387\n",
            "Epoch 1000/1000 w1: 0.693 w2: 0.640 w3: 0.678 b: 0.008 Cost: 1.338841\n",
            "Epoch 1000/1000 w1: 0.693 w2: 0.640 w3: 0.678 b: 0.008 Cost: 1.338287\n",
            "Epoch 1000/1000 w1: 0.693 w2: 0.640 w3: 0.678 b: 0.008 Cost: 1.337726\n",
            "Epoch 1000/1000 w1: 0.693 w2: 0.640 w3: 0.678 b: 0.008 Cost: 1.337166\n",
            "Epoch 1000/1000 w1: 0.693 w2: 0.640 w3: 0.678 b: 0.008 Cost: 1.336614\n",
            "Epoch 1000/1000 w1: 0.693 w2: 0.640 w3: 0.678 b: 0.008 Cost: 1.336066\n",
            "Epoch 1000/1000 w1: 0.693 w2: 0.640 w3: 0.678 b: 0.008 Cost: 1.335502\n",
            "Epoch 1000/1000 w1: 0.693 w2: 0.639 w3: 0.678 b: 0.008 Cost: 1.334945\n",
            "Epoch 1000/1000 w1: 0.693 w2: 0.639 w3: 0.678 b: 0.008 Cost: 1.334381\n",
            "Epoch 1000/1000 w1: 0.693 w2: 0.639 w3: 0.678 b: 0.008 Cost: 1.333838\n",
            "Epoch 1000/1000 w1: 0.693 w2: 0.639 w3: 0.678 b: 0.008 Cost: 1.333284\n",
            "Epoch 1000/1000 w1: 0.693 w2: 0.639 w3: 0.678 b: 0.008 Cost: 1.332718\n",
            "Epoch 1000/1000 w1: 0.693 w2: 0.639 w3: 0.678 b: 0.008 Cost: 1.332171\n",
            "Epoch 1000/1000 w1: 0.693 w2: 0.639 w3: 0.678 b: 0.008 Cost: 1.331627\n",
            "Epoch 1000/1000 w1: 0.693 w2: 0.639 w3: 0.678 b: 0.008 Cost: 1.331060\n",
            "Epoch 1000/1000 w1: 0.693 w2: 0.639 w3: 0.678 b: 0.008 Cost: 1.330519\n",
            "Epoch 1000/1000 w1: 0.694 w2: 0.639 w3: 0.678 b: 0.008 Cost: 1.329956\n",
            "Epoch 1000/1000 w1: 0.694 w2: 0.639 w3: 0.678 b: 0.008 Cost: 1.329407\n",
            "Epoch 1000/1000 w1: 0.694 w2: 0.639 w3: 0.678 b: 0.008 Cost: 1.328855\n",
            "Epoch 1000/1000 w1: 0.694 w2: 0.639 w3: 0.678 b: 0.008 Cost: 1.328303\n",
            "Epoch 1000/1000 w1: 0.694 w2: 0.639 w3: 0.678 b: 0.008 Cost: 1.327755\n",
            "Epoch 1000/1000 w1: 0.694 w2: 0.639 w3: 0.678 b: 0.008 Cost: 1.327202\n",
            "Epoch 1000/1000 w1: 0.694 w2: 0.639 w3: 0.678 b: 0.008 Cost: 1.326633\n",
            "Epoch 1000/1000 w1: 0.694 w2: 0.639 w3: 0.678 b: 0.008 Cost: 1.326087\n",
            "Epoch 1000/1000 w1: 0.694 w2: 0.639 w3: 0.678 b: 0.008 Cost: 1.325545\n",
            "Epoch 1000/1000 w1: 0.694 w2: 0.638 w3: 0.678 b: 0.008 Cost: 1.324989\n",
            "Epoch 1000/1000 w1: 0.694 w2: 0.638 w3: 0.678 b: 0.009 Cost: 1.324447\n",
            "Epoch 1000/1000 w1: 0.694 w2: 0.638 w3: 0.678 b: 0.009 Cost: 1.323890\n",
            "Epoch 1000/1000 w1: 0.694 w2: 0.638 w3: 0.678 b: 0.009 Cost: 1.323339\n",
            "Epoch 1000/1000 w1: 0.694 w2: 0.638 w3: 0.678 b: 0.009 Cost: 1.322781\n",
            "Epoch 1000/1000 w1: 0.694 w2: 0.638 w3: 0.678 b: 0.009 Cost: 1.322248\n",
            "Epoch 1000/1000 w1: 0.694 w2: 0.638 w3: 0.678 b: 0.009 Cost: 1.321694\n",
            "Epoch 1000/1000 w1: 0.694 w2: 0.638 w3: 0.678 b: 0.009 Cost: 1.321154\n",
            "Epoch 1000/1000 w1: 0.694 w2: 0.638 w3: 0.678 b: 0.009 Cost: 1.320604\n",
            "Epoch 1000/1000 w1: 0.694 w2: 0.638 w3: 0.678 b: 0.009 Cost: 1.320053\n",
            "Epoch 1000/1000 w1: 0.694 w2: 0.638 w3: 0.678 b: 0.009 Cost: 1.319497\n",
            "Epoch 1000/1000 w1: 0.695 w2: 0.638 w3: 0.678 b: 0.009 Cost: 1.318958\n",
            "Epoch 1000/1000 w1: 0.695 w2: 0.638 w3: 0.678 b: 0.009 Cost: 1.318415\n",
            "Epoch 1000/1000 w1: 0.695 w2: 0.638 w3: 0.678 b: 0.009 Cost: 1.317873\n",
            "Epoch 1000/1000 w1: 0.695 w2: 0.638 w3: 0.678 b: 0.009 Cost: 1.317313\n",
            "Epoch 1000/1000 w1: 0.695 w2: 0.638 w3: 0.678 b: 0.009 Cost: 1.316763\n",
            "Epoch 1000/1000 w1: 0.695 w2: 0.638 w3: 0.678 b: 0.009 Cost: 1.316223\n",
            "Epoch 1000/1000 w1: 0.695 w2: 0.638 w3: 0.678 b: 0.009 Cost: 1.315692\n",
            "Epoch 1000/1000 w1: 0.695 w2: 0.637 w3: 0.678 b: 0.009 Cost: 1.315136\n",
            "Epoch 1000/1000 w1: 0.695 w2: 0.637 w3: 0.678 b: 0.009 Cost: 1.314580\n",
            "Epoch 1000/1000 w1: 0.695 w2: 0.637 w3: 0.678 b: 0.009 Cost: 1.314050\n",
            "Epoch 1000/1000 w1: 0.695 w2: 0.637 w3: 0.678 b: 0.009 Cost: 1.313504\n",
            "Epoch 1000/1000 w1: 0.695 w2: 0.637 w3: 0.678 b: 0.009 Cost: 1.312951\n",
            "Epoch 1000/1000 w1: 0.695 w2: 0.637 w3: 0.678 b: 0.009 Cost: 1.312403\n",
            "Epoch 1000/1000 w1: 0.695 w2: 0.637 w3: 0.678 b: 0.009 Cost: 1.311863\n",
            "Epoch 1000/1000 w1: 0.695 w2: 0.637 w3: 0.678 b: 0.009 Cost: 1.311338\n",
            "Epoch 1000/1000 w1: 0.695 w2: 0.637 w3: 0.678 b: 0.009 Cost: 1.310776\n",
            "Epoch 1000/1000 w1: 0.695 w2: 0.637 w3: 0.678 b: 0.009 Cost: 1.310247\n",
            "Epoch 1000/1000 w1: 0.695 w2: 0.637 w3: 0.678 b: 0.009 Cost: 1.309706\n",
            "Epoch 1000/1000 w1: 0.695 w2: 0.637 w3: 0.678 b: 0.009 Cost: 1.309163\n",
            "Epoch 1000/1000 w1: 0.695 w2: 0.637 w3: 0.678 b: 0.009 Cost: 1.308616\n",
            "Epoch 1000/1000 w1: 0.696 w2: 0.637 w3: 0.678 b: 0.009 Cost: 1.308086\n",
            "Epoch 1000/1000 w1: 0.696 w2: 0.637 w3: 0.678 b: 0.009 Cost: 1.307530\n",
            "Epoch 1000/1000 w1: 0.696 w2: 0.637 w3: 0.678 b: 0.009 Cost: 1.306997\n",
            "Epoch 1000/1000 w1: 0.696 w2: 0.637 w3: 0.678 b: 0.009 Cost: 1.306449\n",
            "Epoch 1000/1000 w1: 0.696 w2: 0.637 w3: 0.678 b: 0.009 Cost: 1.305914\n",
            "Epoch 1000/1000 w1: 0.696 w2: 0.637 w3: 0.678 b: 0.009 Cost: 1.305374\n",
            "Epoch 1000/1000 w1: 0.696 w2: 0.636 w3: 0.678 b: 0.009 Cost: 1.304842\n",
            "Epoch 1000/1000 w1: 0.696 w2: 0.636 w3: 0.678 b: 0.009 Cost: 1.304296\n",
            "Epoch 1000/1000 w1: 0.696 w2: 0.636 w3: 0.678 b: 0.009 Cost: 1.303770\n",
            "Epoch 1000/1000 w1: 0.696 w2: 0.636 w3: 0.678 b: 0.009 Cost: 1.303214\n",
            "Epoch 1000/1000 w1: 0.696 w2: 0.636 w3: 0.678 b: 0.009 Cost: 1.302683\n",
            "Epoch 1000/1000 w1: 0.696 w2: 0.636 w3: 0.678 b: 0.009 Cost: 1.302145\n",
            "Epoch 1000/1000 w1: 0.696 w2: 0.636 w3: 0.678 b: 0.009 Cost: 1.301593\n",
            "Epoch 1000/1000 w1: 0.696 w2: 0.636 w3: 0.678 b: 0.009 Cost: 1.301073\n",
            "Epoch 1000/1000 w1: 0.696 w2: 0.636 w3: 0.678 b: 0.009 Cost: 1.300529\n",
            "Epoch 1000/1000 w1: 0.696 w2: 0.636 w3: 0.678 b: 0.009 Cost: 1.300000\n",
            "Epoch 1000/1000 w1: 0.696 w2: 0.636 w3: 0.678 b: 0.009 Cost: 1.299453\n",
            "Epoch 1000/1000 w1: 0.696 w2: 0.636 w3: 0.678 b: 0.009 Cost: 1.298926\n",
            "Epoch 1000/1000 w1: 0.696 w2: 0.636 w3: 0.678 b: 0.009 Cost: 1.298384\n",
            "Epoch 1000/1000 w1: 0.696 w2: 0.636 w3: 0.678 b: 0.009 Cost: 1.297852\n",
            "Epoch 1000/1000 w1: 0.697 w2: 0.636 w3: 0.678 b: 0.009 Cost: 1.297317\n",
            "Epoch 1000/1000 w1: 0.697 w2: 0.636 w3: 0.678 b: 0.009 Cost: 1.296784\n",
            "Epoch 1000/1000 w1: 0.697 w2: 0.636 w3: 0.678 b: 0.009 Cost: 1.296238\n",
            "Epoch 1000/1000 w1: 0.697 w2: 0.636 w3: 0.678 b: 0.009 Cost: 1.295721\n",
            "Epoch 1000/1000 w1: 0.697 w2: 0.635 w3: 0.678 b: 0.009 Cost: 1.295165\n",
            "Epoch 1000/1000 w1: 0.697 w2: 0.635 w3: 0.678 b: 0.009 Cost: 1.294627\n",
            "Epoch 1000/1000 w1: 0.697 w2: 0.635 w3: 0.678 b: 0.009 Cost: 1.294111\n",
            "Epoch 1000/1000 w1: 0.697 w2: 0.635 w3: 0.678 b: 0.009 Cost: 1.293578\n",
            "Epoch 1000/1000 w1: 0.697 w2: 0.635 w3: 0.678 b: 0.009 Cost: 1.293022\n",
            "Epoch 1000/1000 w1: 0.697 w2: 0.635 w3: 0.678 b: 0.009 Cost: 1.292501\n",
            "Epoch 1000/1000 w1: 0.697 w2: 0.635 w3: 0.678 b: 0.009 Cost: 1.291992\n",
            "Epoch 1000/1000 w1: 0.697 w2: 0.635 w3: 0.678 b: 0.009 Cost: 1.291437\n",
            "Epoch 1000/1000 w1: 0.697 w2: 0.635 w3: 0.678 b: 0.009 Cost: 1.290911\n",
            "Epoch 1000/1000 w1: 0.697 w2: 0.635 w3: 0.678 b: 0.009 Cost: 1.290377\n",
            "Epoch 1000/1000 w1: 0.697 w2: 0.635 w3: 0.678 b: 0.009 Cost: 1.289846\n",
            "Epoch 1000/1000 w1: 0.697 w2: 0.635 w3: 0.678 b: 0.009 Cost: 1.289308\n",
            "Epoch 1000/1000 w1: 0.697 w2: 0.635 w3: 0.679 b: 0.009 Cost: 1.288789\n",
            "Epoch 1000/1000 w1: 0.697 w2: 0.635 w3: 0.679 b: 0.009 Cost: 1.288248\n",
            "Epoch 1000/1000 w1: 0.697 w2: 0.635 w3: 0.679 b: 0.009 Cost: 1.287708\n",
            "Epoch 1000/1000 w1: 0.697 w2: 0.635 w3: 0.679 b: 0.009 Cost: 1.287187\n",
            "Epoch 1000/1000 w1: 0.697 w2: 0.635 w3: 0.679 b: 0.009 Cost: 1.286662\n",
            "Epoch 1000/1000 w1: 0.698 w2: 0.635 w3: 0.679 b: 0.009 Cost: 1.286122\n",
            "Epoch 1000/1000 w1: 0.698 w2: 0.635 w3: 0.679 b: 0.009 Cost: 1.285602\n",
            "Epoch 1000/1000 w1: 0.698 w2: 0.634 w3: 0.679 b: 0.009 Cost: 1.285071\n",
            "Epoch 1000/1000 w1: 0.698 w2: 0.634 w3: 0.679 b: 0.009 Cost: 1.284526\n",
            "Epoch 1000/1000 w1: 0.698 w2: 0.634 w3: 0.679 b: 0.009 Cost: 1.284017\n",
            "Epoch 1000/1000 w1: 0.698 w2: 0.634 w3: 0.679 b: 0.009 Cost: 1.283492\n",
            "Epoch 1000/1000 w1: 0.698 w2: 0.634 w3: 0.679 b: 0.009 Cost: 1.282965\n",
            "Epoch 1000/1000 w1: 0.698 w2: 0.634 w3: 0.679 b: 0.009 Cost: 1.282431\n",
            "Epoch 1000/1000 w1: 0.698 w2: 0.634 w3: 0.679 b: 0.009 Cost: 1.281908\n",
            "Epoch 1000/1000 w1: 0.698 w2: 0.634 w3: 0.679 b: 0.009 Cost: 1.281371\n",
            "Epoch 1000/1000 w1: 0.698 w2: 0.634 w3: 0.679 b: 0.009 Cost: 1.280858\n",
            "Epoch 1000/1000 w1: 0.698 w2: 0.634 w3: 0.679 b: 0.009 Cost: 1.280329\n",
            "Epoch 1000/1000 w1: 0.698 w2: 0.634 w3: 0.679 b: 0.009 Cost: 1.279788\n",
            "Epoch 1000/1000 w1: 0.698 w2: 0.634 w3: 0.679 b: 0.009 Cost: 1.279277\n",
            "Epoch 1000/1000 w1: 0.698 w2: 0.634 w3: 0.679 b: 0.009 Cost: 1.278749\n",
            "Epoch 1000/1000 w1: 0.698 w2: 0.634 w3: 0.679 b: 0.009 Cost: 1.278216\n",
            "Epoch 1000/1000 w1: 0.698 w2: 0.634 w3: 0.679 b: 0.009 Cost: 1.277689\n",
            "Epoch 1000/1000 w1: 0.698 w2: 0.634 w3: 0.679 b: 0.009 Cost: 1.277173\n",
            "Epoch 1000/1000 w1: 0.698 w2: 0.634 w3: 0.679 b: 0.009 Cost: 1.276648\n",
            "Epoch 1000/1000 w1: 0.698 w2: 0.634 w3: 0.679 b: 0.009 Cost: 1.276119\n",
            "Epoch 1000/1000 w1: 0.699 w2: 0.634 w3: 0.679 b: 0.009 Cost: 1.275601\n",
            "Epoch 1000/1000 w1: 0.699 w2: 0.633 w3: 0.679 b: 0.009 Cost: 1.275077\n",
            "Epoch 1000/1000 w1: 0.699 w2: 0.633 w3: 0.679 b: 0.009 Cost: 1.274561\n",
            "Epoch 1000/1000 w1: 0.699 w2: 0.633 w3: 0.679 b: 0.009 Cost: 1.274022\n",
            "Epoch 1000/1000 w1: 0.699 w2: 0.633 w3: 0.679 b: 0.009 Cost: 1.273505\n",
            "Epoch 1000/1000 w1: 0.699 w2: 0.633 w3: 0.679 b: 0.009 Cost: 1.272987\n",
            "Epoch 1000/1000 w1: 0.699 w2: 0.633 w3: 0.679 b: 0.009 Cost: 1.272449\n",
            "Epoch 1000/1000 w1: 0.699 w2: 0.633 w3: 0.679 b: 0.009 Cost: 1.271937\n",
            "Epoch 1000/1000 w1: 0.699 w2: 0.633 w3: 0.679 b: 0.009 Cost: 1.271422\n",
            "Epoch 1000/1000 w1: 0.699 w2: 0.633 w3: 0.679 b: 0.009 Cost: 1.270901\n",
            "Epoch 1000/1000 w1: 0.699 w2: 0.633 w3: 0.679 b: 0.009 Cost: 1.270366\n",
            "Epoch 1000/1000 w1: 0.699 w2: 0.633 w3: 0.679 b: 0.009 Cost: 1.269855\n",
            "Epoch 1000/1000 w1: 0.699 w2: 0.633 w3: 0.679 b: 0.009 Cost: 1.269339\n",
            "Epoch 1000/1000 w1: 0.699 w2: 0.633 w3: 0.679 b: 0.009 Cost: 1.268814\n",
            "Epoch 1000/1000 w1: 0.699 w2: 0.633 w3: 0.679 b: 0.009 Cost: 1.268293\n",
            "Epoch 1000/1000 w1: 0.699 w2: 0.633 w3: 0.679 b: 0.009 Cost: 1.267770\n",
            "Epoch 1000/1000 w1: 0.699 w2: 0.633 w3: 0.679 b: 0.009 Cost: 1.267255\n",
            "Epoch 1000/1000 w1: 0.699 w2: 0.633 w3: 0.679 b: 0.009 Cost: 1.266737\n",
            "Epoch 1000/1000 w1: 0.699 w2: 0.633 w3: 0.679 b: 0.009 Cost: 1.266220\n",
            "Epoch 1000/1000 w1: 0.699 w2: 0.633 w3: 0.679 b: 0.009 Cost: 1.265705\n",
            "Epoch 1000/1000 w1: 0.699 w2: 0.632 w3: 0.679 b: 0.009 Cost: 1.265185\n",
            "Epoch 1000/1000 w1: 0.700 w2: 0.632 w3: 0.679 b: 0.009 Cost: 1.264663\n",
            "Epoch 1000/1000 w1: 0.700 w2: 0.632 w3: 0.679 b: 0.009 Cost: 1.264136\n",
            "Epoch 1000/1000 w1: 0.700 w2: 0.632 w3: 0.679 b: 0.009 Cost: 1.263613\n",
            "Epoch 1000/1000 w1: 0.700 w2: 0.632 w3: 0.679 b: 0.009 Cost: 1.263103\n",
            "Epoch 1000/1000 w1: 0.700 w2: 0.632 w3: 0.679 b: 0.009 Cost: 1.262596\n",
            "Epoch 1000/1000 w1: 0.700 w2: 0.632 w3: 0.679 b: 0.009 Cost: 1.262073\n",
            "Epoch 1000/1000 w1: 0.700 w2: 0.632 w3: 0.679 b: 0.009 Cost: 1.261567\n",
            "Epoch 1000/1000 w1: 0.700 w2: 0.632 w3: 0.679 b: 0.009 Cost: 1.261044\n",
            "Epoch 1000/1000 w1: 0.700 w2: 0.632 w3: 0.679 b: 0.009 Cost: 1.260527\n",
            "Epoch 1000/1000 w1: 0.700 w2: 0.632 w3: 0.679 b: 0.009 Cost: 1.260020\n",
            "Epoch 1000/1000 w1: 0.700 w2: 0.632 w3: 0.679 b: 0.009 Cost: 1.259506\n",
            "Epoch 1000/1000 w1: 0.700 w2: 0.632 w3: 0.679 b: 0.009 Cost: 1.258979\n",
            "Epoch 1000/1000 w1: 0.700 w2: 0.632 w3: 0.679 b: 0.009 Cost: 1.258462\n",
            "Epoch 1000/1000 w1: 0.700 w2: 0.632 w3: 0.679 b: 0.009 Cost: 1.257956\n",
            "Epoch 1000/1000 w1: 0.700 w2: 0.632 w3: 0.679 b: 0.009 Cost: 1.257430\n",
            "Epoch 1000/1000 w1: 0.700 w2: 0.632 w3: 0.679 b: 0.009 Cost: 1.256921\n",
            "Epoch 1000/1000 w1: 0.700 w2: 0.632 w3: 0.679 b: 0.009 Cost: 1.256411\n",
            "Epoch 1000/1000 w1: 0.700 w2: 0.632 w3: 0.679 b: 0.009 Cost: 1.255895\n",
            "Epoch 1000/1000 w1: 0.700 w2: 0.631 w3: 0.679 b: 0.009 Cost: 1.255387\n",
            "Epoch 1000/1000 w1: 0.700 w2: 0.631 w3: 0.679 b: 0.009 Cost: 1.254865\n",
            "Epoch 1000/1000 w1: 0.701 w2: 0.631 w3: 0.679 b: 0.009 Cost: 1.254363\n",
            "Epoch 1000/1000 w1: 0.701 w2: 0.631 w3: 0.679 b: 0.009 Cost: 1.253841\n",
            "Epoch 1000/1000 w1: 0.701 w2: 0.631 w3: 0.679 b: 0.009 Cost: 1.253334\n",
            "Epoch 1000/1000 w1: 0.701 w2: 0.631 w3: 0.679 b: 0.009 Cost: 1.252834\n",
            "Epoch 1000/1000 w1: 0.701 w2: 0.631 w3: 0.679 b: 0.009 Cost: 1.252304\n",
            "Epoch 1000/1000 w1: 0.701 w2: 0.631 w3: 0.679 b: 0.009 Cost: 1.251792\n",
            "Epoch 1000/1000 w1: 0.701 w2: 0.631 w3: 0.679 b: 0.009 Cost: 1.251288\n",
            "Epoch 1000/1000 w1: 0.701 w2: 0.631 w3: 0.679 b: 0.009 Cost: 1.250780\n",
            "Epoch 1000/1000 w1: 0.701 w2: 0.631 w3: 0.679 b: 0.009 Cost: 1.250264\n",
            "Epoch 1000/1000 w1: 0.701 w2: 0.631 w3: 0.679 b: 0.009 Cost: 1.249760\n",
            "Epoch 1000/1000 w1: 0.701 w2: 0.631 w3: 0.679 b: 0.009 Cost: 1.249251\n",
            "Epoch 1000/1000 w1: 0.701 w2: 0.631 w3: 0.679 b: 0.009 Cost: 1.248749\n",
            "Epoch 1000/1000 w1: 0.701 w2: 0.631 w3: 0.679 b: 0.009 Cost: 1.248226\n",
            "Epoch 1000/1000 w1: 0.701 w2: 0.631 w3: 0.679 b: 0.009 Cost: 1.247714\n",
            "Epoch 1000/1000 w1: 0.701 w2: 0.631 w3: 0.679 b: 0.009 Cost: 1.247209\n",
            "Epoch 1000/1000 w1: 0.701 w2: 0.631 w3: 0.679 b: 0.009 Cost: 1.246707\n",
            "Epoch 1000/1000 w1: 0.701 w2: 0.631 w3: 0.679 b: 0.009 Cost: 1.246186\n",
            "Epoch 1000/1000 w1: 0.701 w2: 0.630 w3: 0.679 b: 0.009 Cost: 1.245681\n",
            "Epoch 1000/1000 w1: 0.701 w2: 0.630 w3: 0.679 b: 0.009 Cost: 1.245171\n",
            "Epoch 1000/1000 w1: 0.701 w2: 0.630 w3: 0.679 b: 0.009 Cost: 1.244662\n",
            "Epoch 1000/1000 w1: 0.701 w2: 0.630 w3: 0.679 b: 0.009 Cost: 1.244161\n",
            "Epoch 1000/1000 w1: 0.702 w2: 0.630 w3: 0.679 b: 0.009 Cost: 1.243653\n",
            "Epoch 1000/1000 w1: 0.702 w2: 0.630 w3: 0.679 b: 0.009 Cost: 1.243153\n",
            "Epoch 1000/1000 w1: 0.702 w2: 0.630 w3: 0.679 b: 0.009 Cost: 1.242638\n",
            "Epoch 1000/1000 w1: 0.702 w2: 0.630 w3: 0.679 b: 0.009 Cost: 1.242136\n",
            "Epoch 1000/1000 w1: 0.702 w2: 0.630 w3: 0.679 b: 0.009 Cost: 1.241637\n",
            "Epoch 1000/1000 w1: 0.702 w2: 0.630 w3: 0.679 b: 0.009 Cost: 1.241117\n",
            "Epoch 1000/1000 w1: 0.702 w2: 0.630 w3: 0.679 b: 0.009 Cost: 1.240618\n",
            "Epoch 1000/1000 w1: 0.702 w2: 0.630 w3: 0.679 b: 0.009 Cost: 1.240117\n",
            "Epoch 1000/1000 w1: 0.702 w2: 0.630 w3: 0.679 b: 0.009 Cost: 1.239608\n",
            "Epoch 1000/1000 w1: 0.702 w2: 0.630 w3: 0.679 b: 0.009 Cost: 1.239110\n",
            "Epoch 1000/1000 w1: 0.702 w2: 0.630 w3: 0.679 b: 0.009 Cost: 1.238601\n",
            "Epoch 1000/1000 w1: 0.702 w2: 0.630 w3: 0.679 b: 0.009 Cost: 1.238105\n",
            "Epoch 1000/1000 w1: 0.702 w2: 0.630 w3: 0.679 b: 0.009 Cost: 1.237592\n",
            "Epoch 1000/1000 w1: 0.702 w2: 0.630 w3: 0.679 b: 0.009 Cost: 1.237098\n",
            "Epoch 1000/1000 w1: 0.702 w2: 0.630 w3: 0.679 b: 0.009 Cost: 1.236597\n",
            "Epoch 1000/1000 w1: 0.702 w2: 0.629 w3: 0.679 b: 0.009 Cost: 1.236075\n",
            "Epoch 1000/1000 w1: 0.702 w2: 0.629 w3: 0.679 b: 0.009 Cost: 1.235590\n",
            "Epoch 1000/1000 w1: 0.702 w2: 0.629 w3: 0.679 b: 0.009 Cost: 1.235075\n",
            "Epoch 1000/1000 w1: 0.702 w2: 0.629 w3: 0.679 b: 0.009 Cost: 1.234574\n",
            "Epoch 1000/1000 w1: 0.702 w2: 0.629 w3: 0.679 b: 0.009 Cost: 1.234075\n",
            "Epoch 1000/1000 w1: 0.702 w2: 0.629 w3: 0.679 b: 0.009 Cost: 1.233584\n",
            "Epoch 1000/1000 w1: 0.703 w2: 0.629 w3: 0.679 b: 0.009 Cost: 1.233068\n",
            "Epoch 1000/1000 w1: 0.703 w2: 0.629 w3: 0.679 b: 0.009 Cost: 1.232566\n",
            "Epoch 1000/1000 w1: 0.703 w2: 0.629 w3: 0.679 b: 0.009 Cost: 1.232082\n",
            "Epoch 1000/1000 w1: 0.703 w2: 0.629 w3: 0.679 b: 0.009 Cost: 1.231566\n",
            "Epoch 1000/1000 w1: 0.703 w2: 0.629 w3: 0.679 b: 0.009 Cost: 1.231068\n",
            "Epoch 1000/1000 w1: 0.703 w2: 0.629 w3: 0.679 b: 0.009 Cost: 1.230572\n",
            "Epoch 1000/1000 w1: 0.703 w2: 0.629 w3: 0.679 b: 0.009 Cost: 1.230076\n",
            "Epoch 1000/1000 w1: 0.703 w2: 0.629 w3: 0.679 b: 0.009 Cost: 1.229572\n",
            "Epoch 1000/1000 w1: 0.703 w2: 0.629 w3: 0.679 b: 0.009 Cost: 1.229076\n",
            "Epoch 1000/1000 w1: 0.703 w2: 0.629 w3: 0.679 b: 0.009 Cost: 1.228570\n",
            "Epoch 1000/1000 w1: 0.703 w2: 0.629 w3: 0.679 b: 0.009 Cost: 1.228070\n",
            "Epoch 1000/1000 w1: 0.703 w2: 0.629 w3: 0.679 b: 0.009 Cost: 1.227572\n",
            "Epoch 1000/1000 w1: 0.703 w2: 0.629 w3: 0.679 b: 0.009 Cost: 1.227076\n",
            "Epoch 1000/1000 w1: 0.703 w2: 0.628 w3: 0.679 b: 0.009 Cost: 1.226592\n",
            "Epoch 1000/1000 w1: 0.703 w2: 0.628 w3: 0.679 b: 0.009 Cost: 1.226087\n",
            "Epoch 1000/1000 w1: 0.703 w2: 0.628 w3: 0.679 b: 0.009 Cost: 1.225582\n",
            "Epoch 1000/1000 w1: 0.703 w2: 0.628 w3: 0.679 b: 0.009 Cost: 1.225095\n",
            "Epoch 1000/1000 w1: 0.703 w2: 0.628 w3: 0.679 b: 0.009 Cost: 1.224590\n",
            "Epoch 1000/1000 w1: 0.703 w2: 0.628 w3: 0.679 b: 0.009 Cost: 1.224106\n",
            "Epoch 1000/1000 w1: 0.703 w2: 0.628 w3: 0.679 b: 0.009 Cost: 1.223605\n",
            "Epoch 1000/1000 w1: 0.703 w2: 0.628 w3: 0.679 b: 0.009 Cost: 1.223118\n",
            "Epoch 1000/1000 w1: 0.704 w2: 0.628 w3: 0.679 b: 0.009 Cost: 1.222619\n",
            "Epoch 1000/1000 w1: 0.704 w2: 0.628 w3: 0.679 b: 0.009 Cost: 1.222112\n",
            "Epoch 1000/1000 w1: 0.704 w2: 0.628 w3: 0.679 b: 0.009 Cost: 1.221618\n",
            "Epoch 1000/1000 w1: 0.704 w2: 0.628 w3: 0.679 b: 0.009 Cost: 1.221126\n",
            "Epoch 1000/1000 w1: 0.704 w2: 0.628 w3: 0.679 b: 0.009 Cost: 1.220638\n",
            "Epoch 1000/1000 w1: 0.704 w2: 0.628 w3: 0.679 b: 0.009 Cost: 1.220145\n",
            "Epoch 1000/1000 w1: 0.704 w2: 0.628 w3: 0.679 b: 0.009 Cost: 1.219645\n",
            "Epoch 1000/1000 w1: 0.704 w2: 0.628 w3: 0.679 b: 0.009 Cost: 1.219146\n",
            "Epoch 1000/1000 w1: 0.704 w2: 0.628 w3: 0.679 b: 0.009 Cost: 1.218669\n",
            "Epoch 1000/1000 w1: 0.704 w2: 0.628 w3: 0.679 b: 0.009 Cost: 1.218167\n",
            "Epoch 1000/1000 w1: 0.704 w2: 0.628 w3: 0.679 b: 0.009 Cost: 1.217669\n",
            "Epoch 1000/1000 w1: 0.704 w2: 0.627 w3: 0.679 b: 0.009 Cost: 1.217174\n",
            "Epoch 1000/1000 w1: 0.704 w2: 0.627 w3: 0.679 b: 0.009 Cost: 1.216692\n",
            "Epoch 1000/1000 w1: 0.704 w2: 0.627 w3: 0.679 b: 0.009 Cost: 1.216200\n",
            "Epoch 1000/1000 w1: 0.704 w2: 0.627 w3: 0.679 b: 0.009 Cost: 1.215718\n",
            "Epoch 1000/1000 w1: 0.704 w2: 0.627 w3: 0.679 b: 0.009 Cost: 1.215204\n",
            "Epoch 1000/1000 w1: 0.704 w2: 0.627 w3: 0.679 b: 0.009 Cost: 1.214719\n",
            "Epoch 1000/1000 w1: 0.704 w2: 0.627 w3: 0.679 b: 0.009 Cost: 1.214229\n",
            "Epoch 1000/1000 w1: 0.704 w2: 0.627 w3: 0.679 b: 0.009 Cost: 1.213734\n",
            "Epoch 1000/1000 w1: 0.704 w2: 0.627 w3: 0.679 b: 0.009 Cost: 1.213257\n",
            "Epoch 1000/1000 w1: 0.704 w2: 0.627 w3: 0.679 b: 0.009 Cost: 1.212754\n",
            "Epoch 1000/1000 w1: 0.705 w2: 0.627 w3: 0.679 b: 0.009 Cost: 1.212262\n",
            "Epoch 1000/1000 w1: 0.705 w2: 0.627 w3: 0.679 b: 0.009 Cost: 1.211783\n",
            "Epoch 1000/1000 w1: 0.705 w2: 0.627 w3: 0.679 b: 0.009 Cost: 1.211281\n",
            "Epoch 1000/1000 w1: 0.705 w2: 0.627 w3: 0.679 b: 0.009 Cost: 1.210795\n",
            "Epoch 1000/1000 w1: 0.705 w2: 0.627 w3: 0.679 b: 0.009 Cost: 1.210312\n",
            "Epoch 1000/1000 w1: 0.705 w2: 0.627 w3: 0.679 b: 0.009 Cost: 1.209815\n",
            "Epoch 1000/1000 w1: 0.705 w2: 0.627 w3: 0.679 b: 0.009 Cost: 1.209343\n",
            "Epoch 1000/1000 w1: 0.705 w2: 0.627 w3: 0.679 b: 0.009 Cost: 1.208846\n",
            "Epoch 1000/1000 w1: 0.705 w2: 0.627 w3: 0.679 b: 0.009 Cost: 1.208357\n",
            "Epoch 1000/1000 w1: 0.705 w2: 0.627 w3: 0.679 b: 0.009 Cost: 1.207864\n",
            "Epoch 1000/1000 w1: 0.705 w2: 0.626 w3: 0.679 b: 0.009 Cost: 1.207371\n",
            "Epoch 1000/1000 w1: 0.705 w2: 0.626 w3: 0.679 b: 0.009 Cost: 1.206908\n",
            "Epoch 1000/1000 w1: 0.705 w2: 0.626 w3: 0.679 b: 0.009 Cost: 1.206390\n",
            "Epoch 1000/1000 w1: 0.705 w2: 0.626 w3: 0.679 b: 0.009 Cost: 1.205908\n",
            "Epoch 1000/1000 w1: 0.705 w2: 0.626 w3: 0.679 b: 0.009 Cost: 1.205425\n",
            "Epoch 1000/1000 w1: 0.705 w2: 0.626 w3: 0.679 b: 0.009 Cost: 1.204946\n",
            "Epoch 1000/1000 w1: 0.705 w2: 0.626 w3: 0.679 b: 0.009 Cost: 1.204467\n",
            "Epoch 1000/1000 w1: 0.705 w2: 0.626 w3: 0.679 b: 0.009 Cost: 1.203973\n",
            "Epoch 1000/1000 w1: 0.705 w2: 0.626 w3: 0.679 b: 0.009 Cost: 1.203485\n",
            "Epoch 1000/1000 w1: 0.705 w2: 0.626 w3: 0.679 b: 0.009 Cost: 1.203009\n",
            "Epoch 1000/1000 w1: 0.705 w2: 0.626 w3: 0.679 b: 0.009 Cost: 1.202525\n",
            "Epoch 1000/1000 w1: 0.706 w2: 0.626 w3: 0.679 b: 0.009 Cost: 1.202024\n",
            "Epoch 1000/1000 w1: 0.706 w2: 0.626 w3: 0.679 b: 0.009 Cost: 1.201552\n",
            "Epoch 1000/1000 w1: 0.706 w2: 0.626 w3: 0.679 b: 0.009 Cost: 1.201071\n",
            "Epoch 1000/1000 w1: 0.706 w2: 0.626 w3: 0.679 b: 0.009 Cost: 1.200583\n",
            "Epoch 1000/1000 w1: 0.706 w2: 0.626 w3: 0.679 b: 0.009 Cost: 1.200093\n",
            "Epoch 1000/1000 w1: 0.706 w2: 0.626 w3: 0.679 b: 0.009 Cost: 1.199605\n",
            "Epoch 1000/1000 w1: 0.706 w2: 0.626 w3: 0.679 b: 0.009 Cost: 1.199133\n",
            "Epoch 1000/1000 w1: 0.706 w2: 0.626 w3: 0.679 b: 0.009 Cost: 1.198650\n",
            "Epoch 1000/1000 w1: 0.706 w2: 0.625 w3: 0.679 b: 0.009 Cost: 1.198170\n",
            "Epoch 1000/1000 w1: 0.706 w2: 0.625 w3: 0.679 b: 0.009 Cost: 1.197680\n",
            "Epoch 1000/1000 w1: 0.706 w2: 0.625 w3: 0.679 b: 0.009 Cost: 1.197193\n",
            "Epoch 1000/1000 w1: 0.706 w2: 0.625 w3: 0.679 b: 0.009 Cost: 1.196710\n",
            "Epoch 1000/1000 w1: 0.706 w2: 0.625 w3: 0.679 b: 0.009 Cost: 1.196230\n",
            "Epoch 1000/1000 w1: 0.706 w2: 0.625 w3: 0.679 b: 0.009 Cost: 1.195767\n",
            "Epoch 1000/1000 w1: 0.706 w2: 0.625 w3: 0.679 b: 0.009 Cost: 1.195276\n",
            "Epoch 1000/1000 w1: 0.706 w2: 0.625 w3: 0.679 b: 0.009 Cost: 1.194801\n",
            "Epoch 1000/1000 w1: 0.706 w2: 0.625 w3: 0.679 b: 0.009 Cost: 1.194323\n",
            "Epoch 1000/1000 w1: 0.706 w2: 0.625 w3: 0.679 b: 0.009 Cost: 1.193829\n",
            "Epoch 1000/1000 w1: 0.706 w2: 0.625 w3: 0.679 b: 0.009 Cost: 1.193345\n",
            "Epoch 1000/1000 w1: 0.706 w2: 0.625 w3: 0.679 b: 0.009 Cost: 1.192885\n",
            "Epoch 1000/1000 w1: 0.706 w2: 0.625 w3: 0.679 b: 0.009 Cost: 1.192399\n",
            "Epoch 1000/1000 w1: 0.707 w2: 0.625 w3: 0.679 b: 0.009 Cost: 1.191918\n",
            "Epoch 1000/1000 w1: 0.707 w2: 0.625 w3: 0.679 b: 0.009 Cost: 1.191439\n",
            "Epoch 1000/1000 w1: 0.707 w2: 0.625 w3: 0.679 b: 0.009 Cost: 1.190956\n",
            "Epoch 1000/1000 w1: 0.707 w2: 0.625 w3: 0.679 b: 0.009 Cost: 1.190477\n",
            "Epoch 1000/1000 w1: 0.707 w2: 0.625 w3: 0.679 b: 0.009 Cost: 1.190002\n",
            "Epoch 1000/1000 w1: 0.707 w2: 0.625 w3: 0.679 b: 0.009 Cost: 1.189527\n",
            "Epoch 1000/1000 w1: 0.707 w2: 0.625 w3: 0.679 b: 0.009 Cost: 1.189060\n",
            "Epoch 1000/1000 w1: 0.707 w2: 0.624 w3: 0.679 b: 0.009 Cost: 1.188573\n",
            "Epoch 1000/1000 w1: 0.707 w2: 0.624 w3: 0.679 b: 0.009 Cost: 1.188094\n",
            "Epoch 1000/1000 w1: 0.707 w2: 0.624 w3: 0.679 b: 0.009 Cost: 1.187614\n",
            "Epoch 1000/1000 w1: 0.707 w2: 0.624 w3: 0.679 b: 0.009 Cost: 1.187146\n",
            "Epoch 1000/1000 w1: 0.707 w2: 0.624 w3: 0.679 b: 0.009 Cost: 1.186656\n",
            "Epoch 1000/1000 w1: 0.707 w2: 0.624 w3: 0.679 b: 0.009 Cost: 1.186197\n",
            "Epoch 1000/1000 w1: 0.707 w2: 0.624 w3: 0.679 b: 0.009 Cost: 1.185711\n",
            "Epoch 1000/1000 w1: 0.707 w2: 0.624 w3: 0.679 b: 0.009 Cost: 1.185235\n",
            "Epoch 1000/1000 w1: 0.707 w2: 0.624 w3: 0.679 b: 0.009 Cost: 1.184755\n",
            "Epoch 1000/1000 w1: 0.707 w2: 0.624 w3: 0.679 b: 0.009 Cost: 1.184281\n",
            "Epoch 1000/1000 w1: 0.707 w2: 0.624 w3: 0.679 b: 0.009 Cost: 1.183815\n",
            "Epoch 1000/1000 w1: 0.707 w2: 0.624 w3: 0.679 b: 0.009 Cost: 1.183338\n",
            "Epoch 1000/1000 w1: 0.707 w2: 0.624 w3: 0.679 b: 0.009 Cost: 1.182858\n",
            "Epoch 1000/1000 w1: 0.707 w2: 0.624 w3: 0.679 b: 0.009 Cost: 1.182380\n",
            "Epoch 1000/1000 w1: 0.707 w2: 0.624 w3: 0.679 b: 0.009 Cost: 1.181899\n",
            "Epoch 1000/1000 w1: 0.708 w2: 0.624 w3: 0.679 b: 0.009 Cost: 1.181435\n",
            "Epoch 1000/1000 w1: 0.708 w2: 0.624 w3: 0.679 b: 0.009 Cost: 1.180967\n",
            "Epoch 1000/1000 w1: 0.708 w2: 0.624 w3: 0.679 b: 0.009 Cost: 1.180495\n",
            "Epoch 1000/1000 w1: 0.708 w2: 0.624 w3: 0.679 b: 0.009 Cost: 1.180022\n",
            "Epoch 1000/1000 w1: 0.708 w2: 0.624 w3: 0.679 b: 0.009 Cost: 1.179550\n",
            "Epoch 1000/1000 w1: 0.708 w2: 0.623 w3: 0.679 b: 0.009 Cost: 1.179077\n",
            "Epoch 1000/1000 w1: 0.708 w2: 0.623 w3: 0.679 b: 0.009 Cost: 1.178606\n",
            "Epoch 1000/1000 w1: 0.708 w2: 0.623 w3: 0.679 b: 0.009 Cost: 1.178128\n",
            "Epoch 1000/1000 w1: 0.708 w2: 0.623 w3: 0.679 b: 0.009 Cost: 1.177656\n",
            "Epoch 1000/1000 w1: 0.708 w2: 0.623 w3: 0.679 b: 0.009 Cost: 1.177190\n",
            "Epoch 1000/1000 w1: 0.708 w2: 0.623 w3: 0.679 b: 0.009 Cost: 1.176719\n",
            "Epoch 1000/1000 w1: 0.708 w2: 0.623 w3: 0.679 b: 0.009 Cost: 1.176243\n",
            "Epoch 1000/1000 w1: 0.708 w2: 0.623 w3: 0.679 b: 0.009 Cost: 1.175777\n",
            "Epoch 1000/1000 w1: 0.708 w2: 0.623 w3: 0.679 b: 0.009 Cost: 1.175299\n",
            "Epoch 1000/1000 w1: 0.708 w2: 0.623 w3: 0.679 b: 0.009 Cost: 1.174840\n",
            "Epoch 1000/1000 w1: 0.708 w2: 0.623 w3: 0.679 b: 0.009 Cost: 1.174359\n",
            "Epoch 1000/1000 w1: 0.708 w2: 0.623 w3: 0.679 b: 0.009 Cost: 1.173903\n",
            "Epoch 1000/1000 w1: 0.708 w2: 0.623 w3: 0.679 b: 0.009 Cost: 1.173416\n",
            "Epoch 1000/1000 w1: 0.708 w2: 0.623 w3: 0.679 b: 0.009 Cost: 1.172967\n",
            "Epoch 1000/1000 w1: 0.708 w2: 0.623 w3: 0.679 b: 0.009 Cost: 1.172480\n",
            "Epoch 1000/1000 w1: 0.708 w2: 0.623 w3: 0.679 b: 0.009 Cost: 1.172015\n",
            "Epoch 1000/1000 w1: 0.709 w2: 0.623 w3: 0.679 b: 0.009 Cost: 1.171558\n",
            "Epoch 1000/1000 w1: 0.709 w2: 0.623 w3: 0.679 b: 0.009 Cost: 1.171098\n",
            "Epoch 1000/1000 w1: 0.709 w2: 0.623 w3: 0.679 b: 0.009 Cost: 1.170616\n",
            "Epoch 1000/1000 w1: 0.709 w2: 0.623 w3: 0.679 b: 0.009 Cost: 1.170145\n",
            "Epoch 1000/1000 w1: 0.709 w2: 0.622 w3: 0.679 b: 0.009 Cost: 1.169692\n",
            "Epoch 1000/1000 w1: 0.709 w2: 0.622 w3: 0.679 b: 0.009 Cost: 1.169212\n",
            "Epoch 1000/1000 w1: 0.709 w2: 0.622 w3: 0.679 b: 0.009 Cost: 1.168753\n",
            "Epoch 1000/1000 w1: 0.709 w2: 0.622 w3: 0.679 b: 0.009 Cost: 1.168274\n",
            "Epoch 1000/1000 w1: 0.709 w2: 0.622 w3: 0.679 b: 0.009 Cost: 1.167801\n",
            "Epoch 1000/1000 w1: 0.709 w2: 0.622 w3: 0.679 b: 0.009 Cost: 1.167354\n",
            "Epoch 1000/1000 w1: 0.709 w2: 0.622 w3: 0.679 b: 0.009 Cost: 1.166886\n",
            "Epoch 1000/1000 w1: 0.709 w2: 0.622 w3: 0.679 b: 0.009 Cost: 1.166434\n",
            "Epoch 1000/1000 w1: 0.709 w2: 0.622 w3: 0.679 b: 0.009 Cost: 1.165948\n",
            "Epoch 1000/1000 w1: 0.709 w2: 0.622 w3: 0.679 b: 0.009 Cost: 1.165490\n",
            "Epoch 1000/1000 w1: 0.709 w2: 0.622 w3: 0.679 b: 0.009 Cost: 1.165017\n",
            "Epoch 1000/1000 w1: 0.709 w2: 0.622 w3: 0.679 b: 0.009 Cost: 1.164567\n",
            "Epoch 1000/1000 w1: 0.709 w2: 0.622 w3: 0.679 b: 0.009 Cost: 1.164096\n",
            "Epoch 1000/1000 w1: 0.709 w2: 0.622 w3: 0.679 b: 0.009 Cost: 1.163622\n",
            "Epoch 1000/1000 w1: 0.709 w2: 0.622 w3: 0.679 b: 0.009 Cost: 1.163167\n",
            "Epoch 1000/1000 w1: 0.709 w2: 0.622 w3: 0.680 b: 0.009 Cost: 1.162706\n",
            "Epoch 1000/1000 w1: 0.709 w2: 0.622 w3: 0.680 b: 0.009 Cost: 1.162243\n",
            "Epoch 1000/1000 w1: 0.709 w2: 0.622 w3: 0.680 b: 0.009 Cost: 1.161777\n",
            "Epoch 1000/1000 w1: 0.710 w2: 0.622 w3: 0.680 b: 0.009 Cost: 1.161307\n",
            "Epoch 1000/1000 w1: 0.710 w2: 0.622 w3: 0.680 b: 0.009 Cost: 1.160843\n",
            "Epoch 1000/1000 w1: 0.710 w2: 0.621 w3: 0.680 b: 0.009 Cost: 1.160384\n",
            "Epoch 1000/1000 w1: 0.710 w2: 0.621 w3: 0.680 b: 0.009 Cost: 1.159923\n",
            "Epoch 1000/1000 w1: 0.710 w2: 0.621 w3: 0.680 b: 0.009 Cost: 1.159477\n",
            "Epoch 1000/1000 w1: 0.710 w2: 0.621 w3: 0.680 b: 0.009 Cost: 1.159002\n",
            "Epoch 1000/1000 w1: 0.710 w2: 0.621 w3: 0.680 b: 0.009 Cost: 1.158557\n",
            "Epoch 1000/1000 w1: 0.710 w2: 0.621 w3: 0.680 b: 0.009 Cost: 1.158085\n",
            "Epoch 1000/1000 w1: 0.710 w2: 0.621 w3: 0.680 b: 0.009 Cost: 1.157612\n",
            "Epoch 1000/1000 w1: 0.710 w2: 0.621 w3: 0.680 b: 0.009 Cost: 1.157165\n",
            "Epoch 1000/1000 w1: 0.710 w2: 0.621 w3: 0.680 b: 0.009 Cost: 1.156696\n",
            "Epoch 1000/1000 w1: 0.710 w2: 0.621 w3: 0.680 b: 0.009 Cost: 1.156240\n",
            "Epoch 1000/1000 w1: 0.710 w2: 0.621 w3: 0.680 b: 0.009 Cost: 1.155782\n",
            "Epoch 1000/1000 w1: 0.710 w2: 0.621 w3: 0.680 b: 0.009 Cost: 1.155317\n",
            "Epoch 1000/1000 w1: 0.710 w2: 0.621 w3: 0.680 b: 0.009 Cost: 1.154852\n",
            "Epoch 1000/1000 w1: 0.710 w2: 0.621 w3: 0.680 b: 0.009 Cost: 1.154404\n",
            "Epoch 1000/1000 w1: 0.710 w2: 0.621 w3: 0.680 b: 0.009 Cost: 1.153942\n",
            "Epoch 1000/1000 w1: 0.710 w2: 0.621 w3: 0.680 b: 0.009 Cost: 1.153486\n",
            "Epoch 1000/1000 w1: 0.710 w2: 0.621 w3: 0.680 b: 0.009 Cost: 1.153026\n",
            "Epoch 1000/1000 w1: 0.710 w2: 0.621 w3: 0.680 b: 0.009 Cost: 1.152570\n",
            "Epoch 1000/1000 w1: 0.710 w2: 0.621 w3: 0.680 b: 0.009 Cost: 1.152099\n",
            "Epoch 1000/1000 w1: 0.711 w2: 0.621 w3: 0.680 b: 0.009 Cost: 1.151649\n",
            "Epoch 1000/1000 w1: 0.711 w2: 0.620 w3: 0.680 b: 0.009 Cost: 1.151193\n",
            "Epoch 1000/1000 w1: 0.711 w2: 0.620 w3: 0.680 b: 0.009 Cost: 1.150742\n",
            "Epoch 1000/1000 w1: 0.711 w2: 0.620 w3: 0.680 b: 0.009 Cost: 1.150279\n",
            "Epoch 1000/1000 w1: 0.711 w2: 0.620 w3: 0.680 b: 0.009 Cost: 1.149821\n",
            "Epoch 1000/1000 w1: 0.711 w2: 0.620 w3: 0.680 b: 0.009 Cost: 1.149367\n",
            "Epoch 1000/1000 w1: 0.711 w2: 0.620 w3: 0.680 b: 0.009 Cost: 1.148907\n",
            "Epoch 1000/1000 w1: 0.711 w2: 0.620 w3: 0.680 b: 0.009 Cost: 1.148461\n",
            "Epoch 1000/1000 w1: 0.711 w2: 0.620 w3: 0.680 b: 0.009 Cost: 1.148000\n",
            "Epoch 1000/1000 w1: 0.711 w2: 0.620 w3: 0.680 b: 0.009 Cost: 1.147546\n",
            "Epoch 1000/1000 w1: 0.711 w2: 0.620 w3: 0.680 b: 0.009 Cost: 1.147089\n",
            "Epoch 1000/1000 w1: 0.711 w2: 0.620 w3: 0.680 b: 0.009 Cost: 1.146632\n",
            "Epoch 1000/1000 w1: 0.711 w2: 0.620 w3: 0.680 b: 0.009 Cost: 1.146178\n",
            "Epoch 1000/1000 w1: 0.711 w2: 0.620 w3: 0.680 b: 0.009 Cost: 1.145730\n",
            "Epoch 1000/1000 w1: 0.711 w2: 0.620 w3: 0.680 b: 0.009 Cost: 1.145255\n",
            "Epoch 1000/1000 w1: 0.711 w2: 0.620 w3: 0.680 b: 0.009 Cost: 1.144809\n",
            "Epoch 1000/1000 w1: 0.711 w2: 0.620 w3: 0.680 b: 0.009 Cost: 1.144363\n",
            "Epoch 1000/1000 w1: 0.711 w2: 0.620 w3: 0.680 b: 0.009 Cost: 1.143909\n",
            "Epoch 1000/1000 w1: 0.711 w2: 0.620 w3: 0.680 b: 0.009 Cost: 1.143449\n",
            "Epoch 1000/1000 w1: 0.711 w2: 0.620 w3: 0.680 b: 0.009 Cost: 1.143003\n",
            "Epoch 1000/1000 w1: 0.711 w2: 0.620 w3: 0.680 b: 0.009 Cost: 1.142550\n",
            "Epoch 1000/1000 w1: 0.711 w2: 0.619 w3: 0.680 b: 0.009 Cost: 1.142103\n",
            "Epoch 1000/1000 w1: 0.712 w2: 0.619 w3: 0.680 b: 0.009 Cost: 1.141646\n",
            "Epoch 1000/1000 w1: 0.712 w2: 0.619 w3: 0.680 b: 0.009 Cost: 1.141193\n",
            "Epoch 1000/1000 w1: 0.712 w2: 0.619 w3: 0.680 b: 0.009 Cost: 1.140741\n",
            "Epoch 1000/1000 w1: 0.712 w2: 0.619 w3: 0.680 b: 0.009 Cost: 1.140293\n",
            "Epoch 1000/1000 w1: 0.712 w2: 0.619 w3: 0.680 b: 0.009 Cost: 1.139835\n",
            "Epoch 1000/1000 w1: 0.712 w2: 0.619 w3: 0.680 b: 0.009 Cost: 1.139385\n",
            "Epoch 1000/1000 w1: 0.712 w2: 0.619 w3: 0.680 b: 0.009 Cost: 1.138938\n",
            "Epoch 1000/1000 w1: 0.712 w2: 0.619 w3: 0.680 b: 0.009 Cost: 1.138496\n",
            "Epoch 1000/1000 w1: 0.712 w2: 0.619 w3: 0.680 b: 0.009 Cost: 1.138044\n",
            "Epoch 1000/1000 w1: 0.712 w2: 0.619 w3: 0.680 b: 0.009 Cost: 1.137592\n",
            "Epoch 1000/1000 w1: 0.712 w2: 0.619 w3: 0.680 b: 0.009 Cost: 1.137144\n",
            "Epoch 1000/1000 w1: 0.712 w2: 0.619 w3: 0.680 b: 0.009 Cost: 1.136680\n",
            "Epoch 1000/1000 w1: 0.712 w2: 0.619 w3: 0.680 b: 0.009 Cost: 1.136238\n",
            "Epoch 1000/1000 w1: 0.712 w2: 0.619 w3: 0.680 b: 0.009 Cost: 1.135787\n",
            "Epoch 1000/1000 w1: 0.712 w2: 0.619 w3: 0.680 b: 0.009 Cost: 1.135340\n",
            "Epoch 1000/1000 w1: 0.712 w2: 0.619 w3: 0.680 b: 0.009 Cost: 1.134887\n",
            "Epoch 1000/1000 w1: 0.712 w2: 0.619 w3: 0.680 b: 0.009 Cost: 1.134436\n",
            "Epoch 1000/1000 w1: 0.712 w2: 0.619 w3: 0.680 b: 0.009 Cost: 1.133997\n",
            "Epoch 1000/1000 w1: 0.712 w2: 0.619 w3: 0.680 b: 0.009 Cost: 1.133546\n",
            "Epoch 1000/1000 w1: 0.712 w2: 0.619 w3: 0.680 b: 0.009 Cost: 1.133107\n",
            "Epoch 1000/1000 w1: 0.712 w2: 0.618 w3: 0.680 b: 0.009 Cost: 1.132653\n",
            "Epoch 1000/1000 w1: 0.712 w2: 0.618 w3: 0.680 b: 0.009 Cost: 1.132195\n",
            "Epoch 1000/1000 w1: 0.713 w2: 0.618 w3: 0.680 b: 0.009 Cost: 1.131760\n",
            "Epoch 1000/1000 w1: 0.713 w2: 0.618 w3: 0.680 b: 0.009 Cost: 1.131296\n",
            "Epoch 1000/1000 w1: 0.713 w2: 0.618 w3: 0.680 b: 0.009 Cost: 1.130850\n",
            "Epoch 1000/1000 w1: 0.713 w2: 0.618 w3: 0.680 b: 0.009 Cost: 1.130433\n",
            "Epoch 1000/1000 w1: 0.713 w2: 0.618 w3: 0.680 b: 0.009 Cost: 1.129968\n",
            "Epoch 1000/1000 w1: 0.713 w2: 0.618 w3: 0.680 b: 0.009 Cost: 1.129522\n",
            "Epoch 1000/1000 w1: 0.713 w2: 0.618 w3: 0.680 b: 0.009 Cost: 1.129075\n",
            "Epoch 1000/1000 w1: 0.713 w2: 0.618 w3: 0.680 b: 0.009 Cost: 1.128629\n",
            "Epoch 1000/1000 w1: 0.713 w2: 0.618 w3: 0.680 b: 0.009 Cost: 1.128179\n",
            "Epoch 1000/1000 w1: 0.713 w2: 0.618 w3: 0.680 b: 0.009 Cost: 1.127747\n",
            "Epoch 1000/1000 w1: 0.713 w2: 0.618 w3: 0.680 b: 0.009 Cost: 1.127292\n",
            "Epoch 1000/1000 w1: 0.713 w2: 0.618 w3: 0.680 b: 0.009 Cost: 1.126849\n",
            "Epoch 1000/1000 w1: 0.713 w2: 0.618 w3: 0.680 b: 0.009 Cost: 1.126415\n",
            "Epoch 1000/1000 w1: 0.713 w2: 0.618 w3: 0.680 b: 0.009 Cost: 1.125965\n",
            "Epoch 1000/1000 w1: 0.713 w2: 0.618 w3: 0.680 b: 0.009 Cost: 1.125529\n",
            "Epoch 1000/1000 w1: 0.713 w2: 0.618 w3: 0.680 b: 0.009 Cost: 1.125088\n",
            "Epoch 1000/1000 w1: 0.713 w2: 0.618 w3: 0.680 b: 0.009 Cost: 1.124633\n",
            "Epoch 1000/1000 w1: 0.713 w2: 0.618 w3: 0.680 b: 0.009 Cost: 1.124189\n",
            "Epoch 1000/1000 w1: 0.713 w2: 0.617 w3: 0.680 b: 0.009 Cost: 1.123753\n",
            "Epoch 1000/1000 w1: 0.713 w2: 0.617 w3: 0.680 b: 0.009 Cost: 1.123315\n",
            "Epoch 1000/1000 w1: 0.713 w2: 0.617 w3: 0.680 b: 0.009 Cost: 1.122868\n",
            "Epoch 1000/1000 w1: 0.713 w2: 0.617 w3: 0.680 b: 0.009 Cost: 1.122415\n",
            "Epoch 1000/1000 w1: 0.714 w2: 0.617 w3: 0.680 b: 0.009 Cost: 1.121974\n",
            "Epoch 1000/1000 w1: 0.714 w2: 0.617 w3: 0.680 b: 0.009 Cost: 1.121545\n",
            "Epoch 1000/1000 w1: 0.714 w2: 0.617 w3: 0.680 b: 0.009 Cost: 1.121096\n",
            "Epoch 1000/1000 w1: 0.714 w2: 0.617 w3: 0.680 b: 0.009 Cost: 1.120654\n",
            "Epoch 1000/1000 w1: 0.714 w2: 0.617 w3: 0.680 b: 0.009 Cost: 1.120213\n",
            "Epoch 1000/1000 w1: 0.714 w2: 0.617 w3: 0.680 b: 0.009 Cost: 1.119774\n",
            "Epoch 1000/1000 w1: 0.714 w2: 0.617 w3: 0.680 b: 0.009 Cost: 1.119333\n",
            "Epoch 1000/1000 w1: 0.714 w2: 0.617 w3: 0.680 b: 0.009 Cost: 1.118892\n",
            "Epoch 1000/1000 w1: 0.714 w2: 0.617 w3: 0.680 b: 0.009 Cost: 1.118457\n",
            "Epoch 1000/1000 w1: 0.714 w2: 0.617 w3: 0.680 b: 0.009 Cost: 1.118003\n",
            "Epoch 1000/1000 w1: 0.714 w2: 0.617 w3: 0.680 b: 0.009 Cost: 1.117580\n",
            "Epoch 1000/1000 w1: 0.714 w2: 0.617 w3: 0.680 b: 0.009 Cost: 1.117137\n",
            "Epoch 1000/1000 w1: 0.714 w2: 0.617 w3: 0.680 b: 0.009 Cost: 1.116692\n",
            "Epoch 1000/1000 w1: 0.714 w2: 0.617 w3: 0.680 b: 0.009 Cost: 1.116248\n",
            "Epoch 1000/1000 w1: 0.714 w2: 0.617 w3: 0.680 b: 0.009 Cost: 1.115820\n",
            "Epoch 1000/1000 w1: 0.714 w2: 0.617 w3: 0.680 b: 0.009 Cost: 1.115368\n",
            "Epoch 1000/1000 w1: 0.714 w2: 0.617 w3: 0.680 b: 0.009 Cost: 1.114952\n",
            "Epoch 1000/1000 w1: 0.714 w2: 0.616 w3: 0.680 b: 0.009 Cost: 1.114498\n",
            "Epoch 1000/1000 w1: 0.714 w2: 0.616 w3: 0.680 b: 0.009 Cost: 1.114062\n",
            "Epoch 1000/1000 w1: 0.714 w2: 0.616 w3: 0.680 b: 0.009 Cost: 1.113622\n",
            "Epoch 1000/1000 w1: 0.714 w2: 0.616 w3: 0.680 b: 0.009 Cost: 1.113192\n",
            "Epoch 1000/1000 w1: 0.714 w2: 0.616 w3: 0.680 b: 0.009 Cost: 1.112768\n",
            "Epoch 1000/1000 w1: 0.714 w2: 0.616 w3: 0.680 b: 0.009 Cost: 1.112315\n",
            "Epoch 1000/1000 w1: 0.715 w2: 0.616 w3: 0.680 b: 0.009 Cost: 1.111882\n",
            "Epoch 1000/1000 w1: 0.715 w2: 0.616 w3: 0.680 b: 0.009 Cost: 1.111440\n",
            "Epoch 1000/1000 w1: 0.715 w2: 0.616 w3: 0.680 b: 0.009 Cost: 1.110998\n",
            "Epoch 1000/1000 w1: 0.715 w2: 0.616 w3: 0.680 b: 0.009 Cost: 1.110571\n",
            "Epoch 1000/1000 w1: 0.715 w2: 0.616 w3: 0.680 b: 0.009 Cost: 1.110134\n",
            "Epoch 1000/1000 w1: 0.715 w2: 0.616 w3: 0.680 b: 0.009 Cost: 1.109698\n",
            "Epoch 1000/1000 w1: 0.715 w2: 0.616 w3: 0.680 b: 0.009 Cost: 1.109276\n",
            "Epoch 1000/1000 w1: 0.715 w2: 0.616 w3: 0.680 b: 0.009 Cost: 1.108836\n",
            "Epoch 1000/1000 w1: 0.715 w2: 0.616 w3: 0.680 b: 0.009 Cost: 1.108392\n",
            "Epoch 1000/1000 w1: 0.715 w2: 0.616 w3: 0.680 b: 0.009 Cost: 1.107957\n",
            "Epoch 1000/1000 w1: 0.715 w2: 0.616 w3: 0.680 b: 0.009 Cost: 1.107532\n",
            "Epoch 1000/1000 w1: 0.715 w2: 0.616 w3: 0.680 b: 0.009 Cost: 1.107088\n",
            "Epoch 1000/1000 w1: 0.715 w2: 0.616 w3: 0.680 b: 0.009 Cost: 1.106661\n",
            "Epoch 1000/1000 w1: 0.715 w2: 0.616 w3: 0.680 b: 0.009 Cost: 1.106229\n",
            "Epoch 1000/1000 w1: 0.715 w2: 0.615 w3: 0.680 b: 0.009 Cost: 1.105800\n",
            "Epoch 1000/1000 w1: 0.715 w2: 0.615 w3: 0.680 b: 0.009 Cost: 1.105360\n",
            "Epoch 1000/1000 w1: 0.715 w2: 0.615 w3: 0.680 b: 0.009 Cost: 1.104927\n",
            "Epoch 1000/1000 w1: 0.715 w2: 0.615 w3: 0.680 b: 0.009 Cost: 1.104497\n",
            "Epoch 1000/1000 w1: 0.715 w2: 0.615 w3: 0.680 b: 0.009 Cost: 1.104066\n",
            "Epoch 1000/1000 w1: 0.715 w2: 0.615 w3: 0.680 b: 0.009 Cost: 1.103640\n",
            "Epoch 1000/1000 w1: 0.715 w2: 0.615 w3: 0.680 b: 0.009 Cost: 1.103208\n",
            "Epoch 1000/1000 w1: 0.715 w2: 0.615 w3: 0.680 b: 0.009 Cost: 1.102781\n",
            "Epoch 1000/1000 w1: 0.716 w2: 0.615 w3: 0.680 b: 0.009 Cost: 1.102339\n",
            "Epoch 1000/1000 w1: 0.716 w2: 0.615 w3: 0.680 b: 0.009 Cost: 1.101900\n",
            "Epoch 1000/1000 w1: 0.716 w2: 0.615 w3: 0.680 b: 0.009 Cost: 1.101473\n",
            "Epoch 1000/1000 w1: 0.716 w2: 0.615 w3: 0.680 b: 0.009 Cost: 1.101059\n",
            "Epoch 1000/1000 w1: 0.716 w2: 0.615 w3: 0.680 b: 0.009 Cost: 1.100618\n",
            "Epoch 1000/1000 w1: 0.716 w2: 0.615 w3: 0.680 b: 0.009 Cost: 1.100185\n",
            "Epoch 1000/1000 w1: 0.716 w2: 0.615 w3: 0.680 b: 0.009 Cost: 1.099759\n",
            "Epoch 1000/1000 w1: 0.716 w2: 0.615 w3: 0.680 b: 0.009 Cost: 1.099328\n",
            "Epoch 1000/1000 w1: 0.716 w2: 0.615 w3: 0.680 b: 0.009 Cost: 1.098900\n",
            "Epoch 1000/1000 w1: 0.716 w2: 0.615 w3: 0.680 b: 0.009 Cost: 1.098473\n",
            "Epoch 1000/1000 w1: 0.716 w2: 0.615 w3: 0.680 b: 0.009 Cost: 1.098044\n",
            "Epoch 1000/1000 w1: 0.716 w2: 0.615 w3: 0.680 b: 0.009 Cost: 1.097605\n",
            "Epoch 1000/1000 w1: 0.716 w2: 0.615 w3: 0.680 b: 0.009 Cost: 1.097186\n",
            "Epoch 1000/1000 w1: 0.716 w2: 0.614 w3: 0.680 b: 0.009 Cost: 1.096754\n",
            "Epoch 1000/1000 w1: 0.716 w2: 0.614 w3: 0.680 b: 0.009 Cost: 1.096328\n",
            "Epoch 1000/1000 w1: 0.716 w2: 0.614 w3: 0.680 b: 0.009 Cost: 1.095892\n",
            "Epoch 1000/1000 w1: 0.716 w2: 0.614 w3: 0.680 b: 0.009 Cost: 1.095469\n",
            "Epoch 1000/1000 w1: 0.716 w2: 0.614 w3: 0.680 b: 0.009 Cost: 1.095036\n",
            "Epoch 1000/1000 w1: 0.716 w2: 0.614 w3: 0.680 b: 0.009 Cost: 1.094616\n",
            "Epoch 1000/1000 w1: 0.716 w2: 0.614 w3: 0.680 b: 0.009 Cost: 1.094178\n",
            "Epoch 1000/1000 w1: 0.716 w2: 0.614 w3: 0.680 b: 0.009 Cost: 1.093755\n",
            "Epoch 1000/1000 w1: 0.716 w2: 0.614 w3: 0.680 b: 0.009 Cost: 1.093345\n",
            "Epoch 1000/1000 w1: 0.717 w2: 0.614 w3: 0.680 b: 0.009 Cost: 1.092903\n",
            "Epoch 1000/1000 w1: 0.717 w2: 0.614 w3: 0.680 b: 0.009 Cost: 1.092485\n",
            "Epoch 1000/1000 w1: 0.717 w2: 0.614 w3: 0.680 b: 0.009 Cost: 1.092049\n",
            "Epoch 1000/1000 w1: 0.717 w2: 0.614 w3: 0.680 b: 0.009 Cost: 1.091620\n",
            "Epoch 1000/1000 w1: 0.717 w2: 0.614 w3: 0.680 b: 0.009 Cost: 1.091211\n",
            "Epoch 1000/1000 w1: 0.717 w2: 0.614 w3: 0.680 b: 0.009 Cost: 1.090768\n",
            "Epoch 1000/1000 w1: 0.717 w2: 0.614 w3: 0.680 b: 0.009 Cost: 1.090355\n",
            "Epoch 1000/1000 w1: 0.717 w2: 0.614 w3: 0.680 b: 0.009 Cost: 1.089931\n",
            "Epoch 1000/1000 w1: 0.717 w2: 0.614 w3: 0.680 b: 0.009 Cost: 1.089502\n",
            "Epoch 1000/1000 w1: 0.717 w2: 0.614 w3: 0.680 b: 0.009 Cost: 1.089084\n",
            "Epoch 1000/1000 w1: 0.717 w2: 0.614 w3: 0.680 b: 0.009 Cost: 1.088657\n",
            "Epoch 1000/1000 w1: 0.717 w2: 0.614 w3: 0.680 b: 0.009 Cost: 1.088240\n",
            "Epoch 1000/1000 w1: 0.717 w2: 0.613 w3: 0.680 b: 0.009 Cost: 1.087816\n",
            "Epoch 1000/1000 w1: 0.717 w2: 0.613 w3: 0.680 b: 0.009 Cost: 1.087387\n",
            "Epoch 1000/1000 w1: 0.717 w2: 0.613 w3: 0.680 b: 0.009 Cost: 1.086961\n",
            "Epoch 1000/1000 w1: 0.717 w2: 0.613 w3: 0.680 b: 0.009 Cost: 1.086541\n",
            "Epoch 1000/1000 w1: 0.717 w2: 0.613 w3: 0.680 b: 0.009 Cost: 1.086110\n",
            "Epoch 1000/1000 w1: 0.717 w2: 0.613 w3: 0.680 b: 0.009 Cost: 1.085704\n",
            "Epoch 1000/1000 w1: 0.717 w2: 0.613 w3: 0.680 b: 0.009 Cost: 1.085277\n",
            "Epoch 1000/1000 w1: 0.717 w2: 0.613 w3: 0.680 b: 0.009 Cost: 1.084856\n",
            "Epoch 1000/1000 w1: 0.717 w2: 0.613 w3: 0.680 b: 0.009 Cost: 1.084432\n",
            "Epoch 1000/1000 w1: 0.717 w2: 0.613 w3: 0.680 b: 0.009 Cost: 1.084002\n",
            "Epoch 1000/1000 w1: 0.717 w2: 0.613 w3: 0.680 b: 0.009 Cost: 1.083583\n",
            "Epoch 1000/1000 w1: 0.718 w2: 0.613 w3: 0.680 b: 0.009 Cost: 1.083171\n",
            "Epoch 1000/1000 w1: 0.718 w2: 0.613 w3: 0.680 b: 0.009 Cost: 1.082745\n",
            "Epoch 1000/1000 w1: 0.718 w2: 0.613 w3: 0.680 b: 0.009 Cost: 1.082319\n",
            "Epoch 1000/1000 w1: 0.718 w2: 0.613 w3: 0.680 b: 0.009 Cost: 1.081895\n",
            "Epoch 1000/1000 w1: 0.718 w2: 0.613 w3: 0.680 b: 0.009 Cost: 1.081480\n",
            "Epoch 1000/1000 w1: 0.718 w2: 0.613 w3: 0.680 b: 0.009 Cost: 1.081061\n",
            "Epoch 1000/1000 w1: 0.718 w2: 0.613 w3: 0.680 b: 0.009 Cost: 1.080640\n",
            "Epoch 1000/1000 w1: 0.718 w2: 0.613 w3: 0.680 b: 0.009 Cost: 1.080223\n",
            "Epoch 1000/1000 w1: 0.718 w2: 0.613 w3: 0.680 b: 0.009 Cost: 1.079796\n",
            "Epoch 1000/1000 w1: 0.718 w2: 0.613 w3: 0.680 b: 0.009 Cost: 1.079383\n"
          ]
        }
      ]
    },
    {
      "cell_type": "code",
      "source": [
        "w1, w2, w3, b"
      ],
      "metadata": {
        "colab": {
          "base_uri": "https://localhost:8080/"
        },
        "id": "TtibrsDtQ58u",
        "outputId": "a757f21b-cb15-4198-d127-e3555d061be2"
      },
      "execution_count": 146,
      "outputs": [
        {
          "output_type": "execute_result",
          "data": {
            "text/plain": [
              "(tensor([0.7179], requires_grad=True),\n",
              " tensor([0.6125], requires_grad=True),\n",
              " tensor([0.6801], requires_grad=True),\n",
              " tensor([0.0092], requires_grad=True))"
            ]
          },
          "metadata": {},
          "execution_count": 146
        }
      ]
    },
    {
      "cell_type": "markdown",
      "source": [
        "- 처음에 학습률을 0.01로 설정했더니 발산했다 -> 학습률을 잘 설정하는게 중요하다!..."
      ],
      "metadata": {
        "id": "G5SP_THkRyUH"
      }
    }
  ]
}