{
  "nbformat": 4,
  "nbformat_minor": 0,
  "metadata": {
    "colab": {
      "name": "tensor5.23 convolution",
      "provenance": [],
      "authorship_tag": "ABX9TyNkVA/BAasPLj8gjOtAXBem",
      "include_colab_link": true
    },
    "kernelspec": {
      "name": "python3",
      "display_name": "Python 3"
    },
    "language_info": {
      "name": "python"
    }
  },
  "cells": [
    {
      "cell_type": "markdown",
      "metadata": {
        "id": "view-in-github",
        "colab_type": "text"
      },
      "source": [
        "<a href=\"https://colab.research.google.com/github/hsh6449/TIL/blob/main/tensor5_23_convolution.ipynb\" target=\"_parent\"><img src=\"https://colab.research.google.com/assets/colab-badge.svg\" alt=\"Open In Colab\"/></a>"
      ]
    },
    {
      "cell_type": "code",
      "execution_count": 1,
      "metadata": {
        "id": "bAAFWWQD0MDJ"
      },
      "outputs": [],
      "source": [
        "import tensorflow as tf \n",
        "import tensorflow.experimental.numpy as tnp "
      ]
    },
    {
      "cell_type": "code",
      "source": [
        "import numpy as np\n",
        "tf.experimental.numpy.experimental_enable_numpy_behavior()"
      ],
      "metadata": {
        "id": "QWxdIh5Y2js4"
      },
      "execution_count": 2,
      "outputs": []
    },
    {
      "cell_type": "code",
      "source": [
        "import matplotlib.pyplot as plt"
      ],
      "metadata": {
        "id": "8xeWb19g2m9U"
      },
      "execution_count": 3,
      "outputs": []
    },
    {
      "cell_type": "markdown",
      "source": [
        "`-` 데이터 입력"
      ],
      "metadata": {
        "id": "GUhqH5TE4N5Z"
      }
    },
    {
      "cell_type": "code",
      "source": [
        "_X1 = tnp.zeros([6,3])\n",
        "_X1"
      ],
      "metadata": {
        "colab": {
          "base_uri": "https://localhost:8080/"
        },
        "id": "WQUhROPR3TOR",
        "outputId": "b363dc3a-3871-4c7e-95e8-e68bbd355ccb"
      },
      "execution_count": 8,
      "outputs": [
        {
          "output_type": "execute_result",
          "data": {
            "text/plain": [
              "<tf.Tensor: shape=(6, 3), dtype=float64, numpy=\n",
              "array([[0., 0., 0.],\n",
              "       [0., 0., 0.],\n",
              "       [0., 0., 0.],\n",
              "       [0., 0., 0.],\n",
              "       [0., 0., 0.],\n",
              "       [0., 0., 0.]])>"
            ]
          },
          "metadata": {},
          "execution_count": 8
        }
      ]
    },
    {
      "cell_type": "code",
      "source": [
        "_X2 = tnp.ones([6,3])\n",
        "_X2"
      ],
      "metadata": {
        "colab": {
          "base_uri": "https://localhost:8080/"
        },
        "id": "knnjt3Yn3ctS",
        "outputId": "f277ca5c-838d-432c-f02d-e7f1002c4770"
      },
      "execution_count": 7,
      "outputs": [
        {
          "output_type": "execute_result",
          "data": {
            "text/plain": [
              "<tf.Tensor: shape=(6, 3), dtype=float64, numpy=\n",
              "array([[1., 1., 1.],\n",
              "       [1., 1., 1.],\n",
              "       [1., 1., 1.],\n",
              "       [1., 1., 1.],\n",
              "       [1., 1., 1.],\n",
              "       [1., 1., 1.]])>"
            ]
          },
          "metadata": {},
          "execution_count": 7
        }
      ]
    },
    {
      "cell_type": "code",
      "source": [
        "data = tf.concat([_X1,_X2], axis = 1)\n",
        "data"
      ],
      "metadata": {
        "colab": {
          "base_uri": "https://localhost:8080/"
        },
        "id": "0RLayfP43i25",
        "outputId": "78e40042-18cd-4877-d841-ba0a8e91b654"
      },
      "execution_count": 12,
      "outputs": [
        {
          "output_type": "execute_result",
          "data": {
            "text/plain": [
              "<tf.Tensor: shape=(6, 6), dtype=float64, numpy=\n",
              "array([[0., 0., 0., 1., 1., 1.],\n",
              "       [0., 0., 0., 1., 1., 1.],\n",
              "       [0., 0., 0., 1., 1., 1.],\n",
              "       [0., 0., 0., 1., 1., 1.],\n",
              "       [0., 0., 0., 1., 1., 1.],\n",
              "       [0., 0., 0., 1., 1., 1.]])>"
            ]
          },
          "metadata": {},
          "execution_count": 12
        }
      ]
    },
    {
      "cell_type": "code",
      "source": [
        "plt.imshow(data)"
      ],
      "metadata": {
        "colab": {
          "base_uri": "https://localhost:8080/",
          "height": 283
        },
        "id": "kHPGCXCv309I",
        "outputId": "99d351f1-3042-406a-e7f6-a6261e820fec"
      },
      "execution_count": 11,
      "outputs": [
        {
          "output_type": "execute_result",
          "data": {
            "text/plain": [
              "<matplotlib.image.AxesImage at 0x7f86cd359a50>"
            ]
          },
          "metadata": {},
          "execution_count": 11
        },
        {
          "output_type": "display_data",
          "data": {
            "text/plain": [
              "<Figure size 432x288 with 1 Axes>"
            ],
            "image/png": "[encoded data removed]"
          },
          "metadata": {
            "needs_background": "light"
          }
        }
      ]
    },
    {
      "cell_type": "code",
      "source": [
        "dt = data.reshape(1,6,6,1)"
      ],
      "metadata": {
        "id": "rIGBcW-g5dBn"
      },
      "execution_count": 19,
      "outputs": []
    },
    {
      "cell_type": "markdown",
      "source": [
        "`-` conv layers 생성"
      ],
      "metadata": {
        "id": "otQMvFCH4Jw0"
      }
    },
    {
      "cell_type": "code",
      "source": [
        "conv = tf.keras.layers.Conv2D(1,(2,2))"
      ],
      "metadata": {
        "id": "O8cliK1437VT"
      },
      "execution_count": 16,
      "outputs": []
    },
    {
      "cell_type": "code",
      "source": [
        "conv(dt)\n",
        "conv.weights"
      ],
      "metadata": {
        "colab": {
          "base_uri": "https://localhost:8080/"
        },
        "id": "UewF4bG34c4T",
        "outputId": "fea0e527-9f5a-4664-d4ed-2346513e8bf6"
      },
      "execution_count": 20,
      "outputs": [
        {
          "output_type": "execute_result",
          "data": {
            "text/plain": [
              "[<tf.Variable 'conv2d_1/kernel:0' shape=(2, 2, 1, 1) dtype=float32, numpy=\n",
              " array([[[[ 0.11027873]],\n",
              " \n",
              "         [[-0.6478313 ]]],\n",
              " \n",
              " \n",
              "        [[[-0.2981965 ]],\n",
              " \n",
              "         [[ 0.42219824]]]], dtype=float32)>,\n",
              " <tf.Variable 'conv2d_1/bias:0' shape=(1,) dtype=float32, numpy=array([0.], dtype=float32)>]"
            ]
          },
          "metadata": {},
          "execution_count": 20
        }
      ]
    },
    {
      "cell_type": "code",
      "source": [
        "conv.weights[0].shape"
      ],
      "metadata": {
        "colab": {
          "base_uri": "https://localhost:8080/"
        },
        "id": "ndyhGo6y4vLM",
        "outputId": "5e31bcd6-5ae6-4041-e131-3efd11b6d880"
      },
      "execution_count": 23,
      "outputs": [
        {
          "output_type": "execute_result",
          "data": {
            "text/plain": [
              "TensorShape([2, 2, 1, 1])"
            ]
          },
          "metadata": {},
          "execution_count": 23
        }
      ]
    },
    {
      "cell_type": "code",
      "source": [
        "w = tnp.array([-1,1,-1,1], dtype= np.float32).reshape(2,2,1,1)"
      ],
      "metadata": {
        "id": "xxRmxOq950Kn"
      },
      "execution_count": 29,
      "outputs": []
    },
    {
      "cell_type": "code",
      "source": [
        "w"
      ],
      "metadata": {
        "colab": {
          "base_uri": "https://localhost:8080/"
        },
        "id": "Olm_yKiI6HwI",
        "outputId": "e29cf8f0-08ab-48cc-f8db-817b5a00634b"
      },
      "execution_count": 30,
      "outputs": [
        {
          "output_type": "execute_result",
          "data": {
            "text/plain": [
              "<tf.Tensor: shape=(2, 2, 1, 1), dtype=float32, numpy=\n",
              "array([[[[-1.]],\n",
              "\n",
              "        [[ 1.]]],\n",
              "\n",
              "\n",
              "       [[[-1.]],\n",
              "\n",
              "        [[ 1.]]]], dtype=float32)>"
            ]
          },
          "metadata": {},
          "execution_count": 30
        }
      ]
    },
    {
      "cell_type": "code",
      "source": [
        "tf.reshape(w,(2,2))"
      ],
      "metadata": {
        "colab": {
          "base_uri": "https://localhost:8080/"
        },
        "id": "uQuo8A1p6Qt_",
        "outputId": "0ccab6a4-f20f-46b0-c61f-231052853f13"
      },
      "execution_count": 31,
      "outputs": [
        {
          "output_type": "execute_result",
          "data": {
            "text/plain": [
              "<tf.Tensor: shape=(2, 2), dtype=float32, numpy=\n",
              "array([[-1.,  1.],\n",
              "       [-1.,  1.]], dtype=float32)>"
            ]
          },
          "metadata": {},
          "execution_count": 31
        }
      ]
    },
    {
      "cell_type": "code",
      "source": [
        "b= np.array([0.0],dtype=np.float32)"
      ],
      "metadata": {
        "id": "Vde6Bh8u6nl0"
      },
      "execution_count": 33,
      "outputs": []
    },
    {
      "cell_type": "code",
      "source": [
        "conv.set_weights([w,b])"
      ],
      "metadata": {
        "id": "5plrEQS16X5j"
      },
      "execution_count": 34,
      "outputs": []
    },
    {
      "cell_type": "code",
      "source": [
        "print(dt.reshape(1,6,6))\n",
        "print(conv(dt).reshape(1,5,5))"
      ],
      "metadata": {
        "colab": {
          "base_uri": "https://localhost:8080/"
        },
        "id": "2JaYkJY16jL6",
        "outputId": "36e5e079-db1a-47e1-c0a4-16d2b9c2aff9"
      },
      "execution_count": 38,
      "outputs": [
        {
          "output_type": "stream",
          "name": "stdout",
          "text": [
            "tf.Tensor(\n",
            "[[[0. 0. 0. 1. 1. 1.]\n",
            "  [0. 0. 0. 1. 1. 1.]\n",
            "  [0. 0. 0. 1. 1. 1.]\n",
            "  [0. 0. 0. 1. 1. 1.]\n",
            "  [0. 0. 0. 1. 1. 1.]\n",
            "  [0. 0. 0. 1. 1. 1.]]], shape=(1, 6, 6), dtype=float64)\n",
            "tf.Tensor(\n",
            "[[[0. 0. 2. 0. 0.]\n",
            "  [0. 0. 2. 0. 0.]\n",
            "  [0. 0. 2. 0. 0.]\n",
            "  [0. 0. 2. 0. 0.]\n",
            "  [0. 0. 2. 0. 0.]]], shape=(1, 5, 5), dtype=float32)\n"
          ]
        }
      ]
    },
    {
      "cell_type": "code",
      "source": [
        ""
      ],
      "metadata": {
        "id": "LUvB_4wj6vT-"
      },
      "execution_count": null,
      "outputs": []
    }
  ]
}