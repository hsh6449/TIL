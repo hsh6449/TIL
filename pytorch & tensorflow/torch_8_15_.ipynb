{
  "nbformat": 4,
  "nbformat_minor": 0,
  "metadata": {
    "colab": {
      "name": "torch.8.15 .ipynb",
      "provenance": [],
      "collapsed_sections": [],
      "authorship_tag": "ABX9TyOoga4QQDaI9Yn36837C1MZ",
      "include_colab_link": true
    },
    "kernelspec": {
      "name": "python3",
      "display_name": "Python 3"
    },
    "language_info": {
      "name": "python"
    },
    "accelerator": "GPU",
    "gpuClass": "standard"
  },
  "cells": [
    {
      "cell_type": "markdown",
      "metadata": {
        "id": "view-in-github",
        "colab_type": "text"
      },
      "source": [
        "<a href=\"https://colab.research.google.com/github/hsh6449/TIL/blob/main/pytorch%20%26%20tensorflow/torch_8_15_.ipynb\" target=\"_parent\"><img src=\"https://colab.research.google.com/assets/colab-badge.svg\" alt=\"Open In Colab\"/></a>"
      ]
    },
    {
      "cell_type": "code",
      "execution_count": 6,
      "metadata": {
        "id": "pk8r4wWqotaZ"
      },
      "outputs": [],
      "source": [
        "import torch\n",
        "import torch.nn as nn\n",
        "import torch.nn.functional as F\n",
        "import torch.optim as optim"
      ]
    },
    {
      "cell_type": "markdown",
      "source": [
        "# 단층 퍼셉트론 구현( XOR Gate )"
      ],
      "metadata": {
        "id": "sjlzfDH6zOtj"
      }
    },
    {
      "cell_type": "code",
      "source": [
        "device = 'cuda' if torch.cuda.is_available() else 'cpu'\n",
        "torch.manual_seed(777)\n",
        "if device == 'cuda':\n",
        "    torch.cuda.manual_seed_all(777)"
      ],
      "metadata": {
        "id": "10xAq_5qzS9W"
      },
      "execution_count": 2,
      "outputs": []
    },
    {
      "cell_type": "code",
      "source": [
        "X = torch.FloatTensor([[0, 0], [0, 1], [1, 0], [1, 1]]).to(device) # 입력층\n",
        "Y = torch.FloatTensor([[0], [1], [1], [0]]).to(device)# 정답층"
      ],
      "metadata": {
        "id": "oltjNu0GzXQl"
      },
      "execution_count": 5,
      "outputs": []
    },
    {
      "cell_type": "code",
      "source": [
        "linear = nn.Linear(2,1,bias = True)\n",
        "sigmoid = nn.Sigmoid()\n",
        "model = nn.Sequential(linear, sigmoid).to(device)"
      ],
      "metadata": {
        "id": "Yb1a9ScIzesZ"
      },
      "execution_count": 10,
      "outputs": []
    },
    {
      "cell_type": "code",
      "source": [
        "# 비용 함수와 옵티마이저 정의\n",
        "criterion = torch.nn.BCELoss().to(device) # 크로스 엔트로피\n",
        "optimizer = torch.optim.SGD(model.parameters(), lr=1)"
      ],
      "metadata": {
        "id": "E86u39kazgTy"
      },
      "execution_count": 11,
      "outputs": []
    },
    {
      "cell_type": "code",
      "source": [
        "#0번 에포크부터 10,000번 에포크까지.\n",
        "for step in range(10001): \n",
        "    optimizer.zero_grad()\n",
        "    hypothesis = model(X)\n",
        "\n",
        "    # 비용 함수\n",
        "    cost = criterion(hypothesis, Y)\n",
        "    cost.backward()\n",
        "    optimizer.step()\n",
        "\n",
        "    if step % 100 == 0: # 100번째 에포크마다 비용 출력\n",
        "        print(step, cost.item())"
      ],
      "metadata": {
        "colab": {
          "base_uri": "https://localhost:8080/"
        },
        "id": "VH-qzUrR0sB8",
        "outputId": "ce4d0e00-785f-4781-cf6e-aeb699799746"
      },
      "execution_count": 12,
      "outputs": [
        {
          "output_type": "stream",
          "name": "stdout",
          "text": [
            "0 0.7666423320770264\n",
            "100 0.6931473016738892\n",
            "200 0.6931471824645996\n",
            "300 0.6931471228599548\n",
            "400 0.6931471824645996\n",
            "500 0.6931471824645996\n",
            "600 0.6931471824645996\n",
            "700 0.6931471824645996\n",
            "800 0.6931471824645996\n",
            "900 0.6931471824645996\n",
            "1000 0.6931471824645996\n",
            "1100 0.6931471824645996\n",
            "1200 0.6931471824645996\n",
            "1300 0.6931471824645996\n",
            "1400 0.6931471824645996\n",
            "1500 0.6931471824645996\n",
            "1600 0.6931471824645996\n",
            "1700 0.6931471824645996\n",
            "1800 0.6931471824645996\n",
            "1900 0.6931471824645996\n",
            "2000 0.6931471824645996\n",
            "2100 0.6931471824645996\n",
            "2200 0.6931471824645996\n",
            "2300 0.6931471824645996\n",
            "2400 0.6931471824645996\n",
            "2500 0.6931471824645996\n",
            "2600 0.6931471824645996\n",
            "2700 0.6931471824645996\n",
            "2800 0.6931471824645996\n",
            "2900 0.6931471824645996\n",
            "3000 0.6931471824645996\n",
            "3100 0.6931471824645996\n",
            "3200 0.6931471824645996\n",
            "3300 0.6931471824645996\n",
            "3400 0.6931471824645996\n",
            "3500 0.6931471824645996\n",
            "3600 0.6931471824645996\n",
            "3700 0.6931471824645996\n",
            "3800 0.6931471824645996\n",
            "3900 0.6931471824645996\n",
            "4000 0.6931471824645996\n",
            "4100 0.6931471824645996\n",
            "4200 0.6931471824645996\n",
            "4300 0.6931471824645996\n",
            "4400 0.6931471824645996\n",
            "4500 0.6931471824645996\n",
            "4600 0.6931471824645996\n",
            "4700 0.6931471824645996\n",
            "4800 0.6931471824645996\n",
            "4900 0.6931471824645996\n",
            "5000 0.6931471824645996\n",
            "5100 0.6931471824645996\n",
            "5200 0.6931471824645996\n",
            "5300 0.6931471824645996\n",
            "5400 0.6931471824645996\n",
            "5500 0.6931471824645996\n",
            "5600 0.6931471824645996\n",
            "5700 0.6931471824645996\n",
            "5800 0.6931471824645996\n",
            "5900 0.6931471824645996\n",
            "6000 0.6931471824645996\n",
            "6100 0.6931471824645996\n",
            "6200 0.6931471824645996\n",
            "6300 0.6931471824645996\n",
            "6400 0.6931471824645996\n",
            "6500 0.6931471824645996\n",
            "6600 0.6931471824645996\n",
            "6700 0.6931471824645996\n",
            "6800 0.6931471824645996\n",
            "6900 0.6931471824645996\n",
            "7000 0.6931471824645996\n",
            "7100 0.6931471824645996\n",
            "7200 0.6931471824645996\n",
            "7300 0.6931471824645996\n",
            "7400 0.6931471824645996\n",
            "7500 0.6931471824645996\n",
            "7600 0.6931471824645996\n",
            "7700 0.6931471824645996\n",
            "7800 0.6931471824645996\n",
            "7900 0.6931471824645996\n",
            "8000 0.6931471824645996\n",
            "8100 0.6931471824645996\n",
            "8200 0.6931471824645996\n",
            "8300 0.6931471824645996\n",
            "8400 0.6931471824645996\n",
            "8500 0.6931471824645996\n",
            "8600 0.6931471824645996\n",
            "8700 0.6931471824645996\n",
            "8800 0.6931471824645996\n",
            "8900 0.6931471824645996\n",
            "9000 0.6931471824645996\n",
            "9100 0.6931471824645996\n",
            "9200 0.6931471824645996\n",
            "9300 0.6931471824645996\n",
            "9400 0.6931471824645996\n",
            "9500 0.6931471824645996\n",
            "9600 0.6931471824645996\n",
            "9700 0.6931471824645996\n",
            "9800 0.6931471824645996\n",
            "9900 0.6931471824645996\n",
            "10000 0.6931471824645996\n"
          ]
        }
      ]
    },
    {
      "cell_type": "markdown",
      "source": [
        "- 단층 퍼셉트론은 XOR 문제를 풀 수 없기때문에 cost가 줄질 않음"
      ],
      "metadata": {
        "id": "FaFLG9y_09NL"
      }
    },
    {
      "cell_type": "markdown",
      "source": [
        "# 다층 퍼셉트론으로 구현"
      ],
      "metadata": {
        "id": "gepvnXxe1EYu"
      }
    },
    {
      "cell_type": "code",
      "source": [
        "X = torch.FloatTensor([[0, 0], [0, 1], [1, 0], [1, 1]]).to(device)\n",
        "Y = torch.FloatTensor([[0], [1], [1], [0]]).to(device)"
      ],
      "metadata": {
        "id": "Jja0eJys03cG"
      },
      "execution_count": 13,
      "outputs": []
    },
    {
      "cell_type": "code",
      "source": [
        "model = nn.Sequential(\n",
        "          nn.Linear(2, 10, bias=True), # input_layer = 2, hidden_layer1 = 10\n",
        "          nn.Sigmoid(),\n",
        "          nn.Linear(10, 10, bias=True), # hidden_layer1 = 10, hidden_layer2 = 10\n",
        "          nn.Sigmoid(),\n",
        "          nn.Linear(10, 10, bias=True), # hidden_layer2 = 10, hidden_layer3 = 10\n",
        "          nn.Sigmoid(),\n",
        "          nn.Linear(10, 1, bias=True), # hidden_layer3 = 10, output_layer = 1\n",
        "          nn.Sigmoid()\n",
        "          ).to(device)"
      ],
      "metadata": {
        "id": "YjJm3yEO7gIT"
      },
      "execution_count": 14,
      "outputs": []
    },
    {
      "cell_type": "code",
      "source": [
        "criterion = torch.nn.BCELoss().to(device)\n",
        "optimizer = torch.optim.SGD(model.parameters(), lr=1)  # modified learning rate from 0.1 to 1"
      ],
      "metadata": {
        "id": "Rr0o-pgG7lwO"
      },
      "execution_count": 15,
      "outputs": []
    },
    {
      "cell_type": "code",
      "source": [
        "for epoch in range(10001):\n",
        "    optimizer.zero_grad()\n",
        "    # forward 연산\n",
        "    hypothesis = model(X)\n",
        "\n",
        "    # 비용 함수\n",
        "    cost = criterion(hypothesis, Y)\n",
        "    cost.backward()\n",
        "    optimizer.step()\n",
        "\n",
        "    # 100의 배수에 해당되는 에포크마다 비용을 출력\n",
        "    if epoch % 100 == 0:\n",
        "        print(epoch, cost.item())"
      ],
      "metadata": {
        "colab": {
          "base_uri": "https://localhost:8080/"
        },
        "id": "476IvNqB7n8z",
        "outputId": "3ecf0fe0-f292-499a-de4e-b918fbc2d47d"
      },
      "execution_count": 16,
      "outputs": [
        {
          "output_type": "stream",
          "name": "stdout",
          "text": [
            "0 0.7059202194213867\n",
            "100 0.6931471228599548\n",
            "200 0.6931437253952026\n",
            "300 0.6931402683258057\n",
            "400 0.6931365728378296\n",
            "500 0.693132758140564\n",
            "600 0.6931287050247192\n",
            "700 0.6931244134902954\n",
            "800 0.6931198239326477\n",
            "900 0.6931148767471313\n",
            "1000 0.693109393119812\n",
            "1100 0.6931033730506897\n",
            "1200 0.6930967569351196\n",
            "1300 0.6930892467498779\n",
            "1400 0.693080723285675\n",
            "1500 0.6930710077285767\n",
            "1600 0.6930599212646484\n",
            "1700 0.6930468082427979\n",
            "1800 0.6930314302444458\n",
            "1900 0.693013072013855\n",
            "2000 0.692990779876709\n",
            "2100 0.6929634809494019\n",
            "2200 0.6929293274879456\n",
            "2300 0.69288569688797\n",
            "2400 0.6928286552429199\n",
            "2500 0.6927520036697388\n",
            "2600 0.6926453709602356\n",
            "2700 0.6924903392791748\n",
            "2800 0.6922522783279419\n",
            "2900 0.6918579339981079\n",
            "3000 0.6911311149597168\n",
            "3100 0.6895527243614197\n",
            "3200 0.6849967837333679\n",
            "3300 0.6616365909576416\n",
            "3400 0.5509381890296936\n",
            "3500 0.05275718867778778\n",
            "3600 0.010732224211096764\n",
            "3700 0.005380050279200077\n",
            "3800 0.003482339670881629\n",
            "3900 0.002539175795391202\n",
            "4000 0.0019827992655336857\n",
            "4100 0.0016187008004635572\n",
            "4200 0.0013631631154567003\n",
            "4300 0.0011746210511773825\n",
            "4400 0.0010301063302904367\n",
            "4500 0.0009160258923657238\n",
            "4600 0.0008238527225330472\n",
            "4700 0.0007478687912225723\n",
            "4800 0.0006842527072876692\n",
            "4900 0.0006302286055870354\n",
            "5000 0.0005838267388753593\n",
            "5100 0.0005435549537651241\n",
            "5200 0.000508309225551784\n",
            "5300 0.0004771944659296423\n",
            "5400 0.00044956919737160206\n",
            "5500 0.0004248368786647916\n",
            "5600 0.00040257981163449585\n",
            "5700 0.0003824699087999761\n",
            "5800 0.00036422378616407514\n",
            "5900 0.0003475580597296357\n",
            "6000 0.00033232365967705846\n",
            "6100 0.0003183118242304772\n",
            "6200 0.0003053883265238255\n",
            "6300 0.00029347854433581233\n",
            "6400 0.00028240366373211145\n",
            "6500 0.00027210399275645614\n",
            "6600 0.0002625347697176039\n",
            "6700 0.0002535618550609797\n",
            "6800 0.00024514051619917154\n",
            "6900 0.00023730052635073662\n",
            "7000 0.00022990774596109986\n",
            "7100 0.00022294727386906743\n",
            "7200 0.00021640415070578456\n",
            "7300 0.00021018896950408816\n",
            "7400 0.0002043315616901964\n",
            "7500 0.00019877226441167295\n",
            "7600 0.00019352597882971168\n",
            "7700 0.0001885181845864281\n",
            "7800 0.00018373399507254362\n",
            "7900 0.00017918826779350638\n",
            "8000 0.00017486614524386823\n",
            "8100 0.00017076756921596825\n",
            "8200 0.00016683299327269197\n",
            "8300 0.00016306234465446323\n",
            "8400 0.00015947055362630635\n",
            "8500 0.00015599801554344594\n",
            "8600 0.0001526745327282697\n",
            "8700 0.00014950009062886238\n",
            "8800 0.00014644487237092108\n",
            "8900 0.000143508892506361\n",
            "9000 0.00014070706674829125\n",
            "9100 0.00013797974679619074\n",
            "9200 0.000135341877466999\n",
            "9300 0.00013282321742735803\n",
            "9400 0.00013039400801062584\n",
            "9500 0.00012802440323866904\n",
            "9600 0.00012577403686009347\n",
            "9700 0.0001235832751262933\n",
            "9800 0.0001214670337503776\n",
            "9900 0.00011944022844545543\n",
            "10000 0.0001174283170257695\n"
          ]
        }
      ]
    },
    {
      "cell_type": "code",
      "source": [
        "with torch.no_grad():\n",
        "    hypothesis = model(X)\n",
        "    predicted = (hypothesis > 0.5).float()\n",
        "    accuracy = (predicted == Y).float().mean()\n",
        "    print('모델의 출력값(Hypothesis): ', hypothesis.detach().cpu().numpy())\n",
        "    print('모델의 예측값(Predicted): ', predicted.detach().cpu().numpy())\n",
        "    print('실제값(Y): ', Y.cpu().numpy())\n",
        "    print('정확도(Accuracy): ', accuracy.item())"
      ],
      "metadata": {
        "colab": {
          "base_uri": "https://localhost:8080/"
        },
        "id": "-Iw2gT-g7qLm",
        "outputId": "4c2d91ad-0e8c-442a-96c9-778d89932bcc"
      },
      "execution_count": 17,
      "outputs": [
        {
          "output_type": "stream",
          "name": "stdout",
          "text": [
            "모델의 출력값(Hypothesis):  [[9.6639094e-05]\n",
            " [9.9990034e-01]\n",
            " [9.9988222e-01]\n",
            " [1.5555993e-04]]\n",
            "모델의 예측값(Predicted):  [[0.]\n",
            " [1.]\n",
            " [1.]\n",
            " [0.]]\n",
            "실제값(Y):  [[0.]\n",
            " [1.]\n",
            " [1.]\n",
            " [0.]]\n",
            "정확도(Accuracy):  1.0\n"
          ]
        }
      ]
    },
    {
      "cell_type": "markdown",
      "source": [
        "# 다층 퍼셉트론으로 손글씨 분류하기"
      ],
      "metadata": {
        "id": "EUxsyUSn9klO"
      }
    },
    {
      "cell_type": "code",
      "source": [
        "%matplotlib inline\n",
        "import matplotlib.pyplot as plt # 시각화를 위한 맷플롯립\n",
        "from sklearn.datasets import load_digits\n",
        "digits = load_digits() # 1,979개의 이미지 데이터 로드"
      ],
      "metadata": {
        "id": "uTsJJ9Ml7vxH"
      },
      "execution_count": 18,
      "outputs": []
    },
    {
      "cell_type": "code",
      "source": [
        "print(digits.images[0])\n"
      ],
      "metadata": {
        "colab": {
          "base_uri": "https://localhost:8080/"
        },
        "id": "Lzdg1g2k9msK",
        "outputId": "6f487c13-142e-4aae-ad62-d29790e6e4e4"
      },
      "execution_count": 19,
      "outputs": [
        {
          "output_type": "stream",
          "name": "stdout",
          "text": [
            "[[ 0.  0.  5. 13.  9.  1.  0.  0.]\n",
            " [ 0.  0. 13. 15. 10. 15.  5.  0.]\n",
            " [ 0.  3. 15.  2.  0. 11.  8.  0.]\n",
            " [ 0.  4. 12.  0.  0.  8.  8.  0.]\n",
            " [ 0.  5.  8.  0.  0.  9.  8.  0.]\n",
            " [ 0.  4. 11.  0.  1. 12.  7.  0.]\n",
            " [ 0.  2. 14.  5. 10. 12.  0.  0.]\n",
            " [ 0.  0.  6. 13. 10.  0.  0.  0.]]\n"
          ]
        }
      ]
    },
    {
      "cell_type": "code",
      "source": [
        "print(digits.target[0])"
      ],
      "metadata": {
        "colab": {
          "base_uri": "https://localhost:8080/"
        },
        "id": "KWaSOCBW9oZd",
        "outputId": "08283966-361e-441a-92ef-dc1be4010ce3"
      },
      "execution_count": 20,
      "outputs": [
        {
          "output_type": "stream",
          "name": "stdout",
          "text": [
            "0\n"
          ]
        }
      ]
    },
    {
      "cell_type": "code",
      "source": [
        "print('전체 샘플의 수 : {}'.format(len(digits.images)))"
      ],
      "metadata": {
        "colab": {
          "base_uri": "https://localhost:8080/"
        },
        "id": "ohwXSQGz9rJE",
        "outputId": "07ccd589-f3ac-4ec6-da28-513481fb804c"
      },
      "execution_count": 21,
      "outputs": [
        {
          "output_type": "stream",
          "name": "stdout",
          "text": [
            "전체 샘플의 수 : 1797\n"
          ]
        }
      ]
    },
    {
      "cell_type": "code",
      "source": [
        "images_and_labels = list(zip(digits.images, digits.target))\n",
        "for index, (image, label) in enumerate(images_and_labels[:5]): # 5개의 샘플만 출력\n",
        "    plt.subplot(2, 5, index + 1)\n",
        "    plt.axis('off')\n",
        "    plt.imshow(image, cmap=plt.cm.gray_r, interpolation='nearest')\n",
        "    plt.title('sample: %i' % label)"
      ],
      "metadata": {
        "colab": {
          "base_uri": "https://localhost:8080/",
          "height": 105
        },
        "id": "-MZU6kho9s8L",
        "outputId": "a5d17a5d-ce73-416f-f3c1-04ee6e72046d"
      },
      "execution_count": 22,
      "outputs": [
        {
          "output_type": "display_data",
          "data": {
            "text/plain": [
              "<Figure size 432x288 with 5 Axes>"
            ],
            "image/png": "[encoded data removed]"
          },
          "metadata": {
            "needs_background": "light"
          }
        }
      ]
    },
    {
      "cell_type": "code",
      "source": [
        "for i in range(5):\n",
        "  print(i,'번 인덱스 샘플의 레이블 : ',digits.target[i])"
      ],
      "metadata": {
        "colab": {
          "base_uri": "https://localhost:8080/"
        },
        "id": "8mnRWUAV9xHr",
        "outputId": "3354dbe6-1adb-4a91-8fee-121538e0975f"
      },
      "execution_count": 23,
      "outputs": [
        {
          "output_type": "stream",
          "name": "stdout",
          "text": [
            "0 번 인덱스 샘플의 레이블 :  0\n",
            "1 번 인덱스 샘플의 레이블 :  1\n",
            "2 번 인덱스 샘플의 레이블 :  2\n",
            "3 번 인덱스 샘플의 레이블 :  3\n",
            "4 번 인덱스 샘플의 레이블 :  4\n"
          ]
        }
      ]
    },
    {
      "cell_type": "code",
      "source": [
        "print(digits.data[0])"
      ],
      "metadata": {
        "colab": {
          "base_uri": "https://localhost:8080/"
        },
        "id": "qpQdfWZ490NP",
        "outputId": "031ff82d-73e0-4a77-f51e-f516000a6bb9"
      },
      "execution_count": 24,
      "outputs": [
        {
          "output_type": "stream",
          "name": "stdout",
          "text": [
            "[ 0.  0.  5. 13.  9.  1.  0.  0.  0.  0. 13. 15. 10. 15.  5.  0.  0.  3.\n",
            " 15.  2.  0. 11.  8.  0.  0.  4. 12.  0.  0.  8.  8.  0.  0.  5.  8.  0.\n",
            "  0.  9.  8.  0.  0.  4. 11.  0.  1. 12.  7.  0.  0.  2. 14.  5. 10. 12.\n",
            "  0.  0.  0.  0.  6. 13. 10.  0.  0.  0.]\n"
          ]
        }
      ]
    },
    {
      "cell_type": "code",
      "source": [
        "X = digits.data # 이미지. 즉, 특성 행렬\n",
        "Y = digits.target # 각 이미지에 대한 레이블"
      ],
      "metadata": {
        "id": "evMSaP5091-S"
      },
      "execution_count": 25,
      "outputs": []
    },
    {
      "cell_type": "code",
      "source": [
        "model = nn.Sequential(\n",
        "    nn.Linear(64, 32), # input_layer = 64, hidden_layer1 = 32\n",
        "    nn.ReLU(),\n",
        "    nn.Linear(32, 16), # hidden_layer2 = 32, hidden_layer3 = 16\n",
        "    nn.ReLU(),\n",
        "    nn.Linear(16, 10) # hidden_layer3 = 16, output_layer = 10\n",
        ")"
      ],
      "metadata": {
        "id": "1utu9NsY9-ea"
      },
      "execution_count": 26,
      "outputs": []
    },
    {
      "cell_type": "code",
      "source": [
        "X = torch.tensor(X, dtype=torch.float32)\n",
        "Y = torch.tensor(Y, dtype=torch.int64)"
      ],
      "metadata": {
        "id": "cnxZVTkF-AoW"
      },
      "execution_count": 27,
      "outputs": []
    },
    {
      "cell_type": "code",
      "source": [
        "loss_fn = nn.CrossEntropyLoss() # 이 비용 함수는 소프트맥스 함수를 포함하고 있음."
      ],
      "metadata": {
        "id": "mhf44wak-Dhi"
      },
      "execution_count": 28,
      "outputs": []
    },
    {
      "cell_type": "code",
      "source": [
        "optimizer = optim.Adam(model.parameters())"
      ],
      "metadata": {
        "id": "hPrUjwBJ-Ftq"
      },
      "execution_count": 29,
      "outputs": []
    },
    {
      "cell_type": "code",
      "source": [
        "losses = []\n",
        "\n",
        "for epoch in range(100):\n",
        "  optimizer.zero_grad()\n",
        "  y_pred = model(X) # forwar 연산\n",
        "  loss = loss_fn(y_pred, Y)\n",
        "  loss.backward()\n",
        "  optimizer.step()\n",
        "\n",
        "  if epoch % 10 == 0:\n",
        "    print('Epoch {:4d}/{} Cost: {:.6f}'.format(\n",
        "            epoch, 100, loss.item()\n",
        "        ))\n",
        "\n",
        "  losses.append(loss.item())"
      ],
      "metadata": {
        "colab": {
          "base_uri": "https://localhost:8080/"
        },
        "id": "3_wPZQLQ-HdE",
        "outputId": "a6380524-818b-45d0-f060-bda93796706a"
      },
      "execution_count": 30,
      "outputs": [
        {
          "output_type": "stream",
          "name": "stdout",
          "text": [
            "Epoch    0/100 Cost: 2.481981\n",
            "Epoch   10/100 Cost: 2.035308\n",
            "Epoch   20/100 Cost: 1.765336\n",
            "Epoch   30/100 Cost: 1.463662\n",
            "Epoch   40/100 Cost: 1.185027\n",
            "Epoch   50/100 Cost: 0.941986\n",
            "Epoch   60/100 Cost: 0.728752\n",
            "Epoch   70/100 Cost: 0.550009\n",
            "Epoch   80/100 Cost: 0.422659\n",
            "Epoch   90/100 Cost: 0.335791\n"
          ]
        }
      ]
    },
    {
      "cell_type": "code",
      "source": [
        "plt.plot(losses)"
      ],
      "metadata": {
        "colab": {
          "base_uri": "https://localhost:8080/",
          "height": 283
        },
        "id": "Dk6j2d-f-Px5",
        "outputId": "3888a0ae-5962-41e9-d48f-43b6fbec539a"
      },
      "execution_count": 31,
      "outputs": [
        {
          "output_type": "execute_result",
          "data": {
            "text/plain": [
              "[<matplotlib.lines.Line2D at 0x7fe1e898ac90>]"
            ]
          },
          "metadata": {},
          "execution_count": 31
        },
        {
          "output_type": "display_data",
          "data": {
            "text/plain": [
              "<Figure size 432x288 with 1 Axes>"
            ],
            "image/png": "[encoded data removed]"
          },
          "metadata": {
            "needs_background": "light"
          }
        }
      ]
    },
    {
      "cell_type": "markdown",
      "source": [
        "# 과제 : MNIST 다층퍼셉트론으로 분류해보기"
      ],
      "metadata": {
        "id": "zhUHcBPa-Yyu"
      }
    },
    {
      "cell_type": "code",
      "source": [
        ""
      ],
      "metadata": {
        "id": "DmyVFJtQ-SOd"
      },
      "execution_count": null,
      "outputs": []
    }
  ]
}